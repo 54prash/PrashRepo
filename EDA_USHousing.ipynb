{
  "nbformat": 4,
  "nbformat_minor": 0,
  "metadata": {
    "colab": {
      "provenance": []
    },
    "kernelspec": {
      "name": "python3",
      "display_name": "Python 3"
    },
    "language_info": {
      "name": "python"
    }
  },
  "cells": [
    {
      "cell_type": "markdown",
      "source": [
        "## Installing and importing libraries, downloading dataset\n",
        "\n",
        "\n"
      ],
      "metadata": {
        "id": "yrB3bDxODHWk"
      }
    },
    {
      "cell_type": "code",
      "execution_count": 1,
      "metadata": {
        "id": "xDbU-YMcr_PU"
      },
      "outputs": [],
      "source": [
        "!pip install opendatasets --quiet     #installing opendatasets"
      ]
    },
    {
      "cell_type": "code",
      "source": [
        "!pip install jovian --upgrade --quiet    #installing jovian"
      ],
      "metadata": {
        "id": "LIHJ8CENuOyQ"
      },
      "execution_count": 2,
      "outputs": []
    },
    {
      "cell_type": "code",
      "source": [
        "#downloading datasets from kaggle using opendatasets\n",
        "\n",
        "import opendatasets as od\n",
        "download_url='https://www.kaggle.com/datasets/austinreese/usa-housing-listings'\n",
        "od.download(download_url)"
      ],
      "metadata": {
        "colab": {
          "base_uri": "https://localhost:8080/"
        },
        "id": "qkjKsM6yt0Wt",
        "outputId": "572772c9-dd05-427e-dfdb-6a1f495f0b36"
      },
      "execution_count": 3,
      "outputs": [
        {
          "output_type": "stream",
          "name": "stdout",
          "text": [
            "Skipping, found downloaded files in \"./usa-housing-listings\" (use force=True to force download)\n"
          ]
        }
      ]
    },
    {
      "cell_type": "markdown",
      "source": [
        "###**About the dataset:**\n",
        "The dataset is the collection of privately sold housing options in the USA. It consists of data for about more than 300k properties. The data includes information about the region, state, type, number of bedrooms, no of bathrooms, price, area, whether furnished or not, latitudes and longitudes etc. of the properties."
      ],
      "metadata": {
        "id": "O1P2Au5FHdRx"
      }
    },
    {
      "cell_type": "markdown",
      "source": [
        "## Data Preparation"
      ],
      "metadata": {
        "id": "hnhfjM7NGuLn"
      }
    },
    {
      "cell_type": "code",
      "source": [
        "#importing libraries\n",
        "\n",
        "import pandas as pd\n",
        "import numpy as np\n",
        "import matplotlib.pyplot as plt\n",
        "import seaborn as sns\n",
        "import plotly.express as px\n",
        "import jovian"
      ],
      "metadata": {
        "id": "_V-fVPL2t-Kx"
      },
      "execution_count": 4,
      "outputs": []
    },
    {
      "cell_type": "code",
      "source": [
        "download_file='/content/usa-housing-listings/housing.csv'\n",
        "housing_df = pd.read_csv(download_file)\n",
        "housing_df.head(10)"
      ],
      "metadata": {
        "colab": {
          "base_uri": "https://localhost:8080/",
          "height": 890
        },
        "id": "D7Oc9XGCufQ3",
        "outputId": "322e009b-5e57-4b83-e9b1-5bbe9fd193a5"
      },
      "execution_count": 5,
      "outputs": [
        {
          "output_type": "execute_result",
          "data": {
            "text/plain": [
              "           id                                                url  \\\n",
              "0  7049044568  https://reno.craigslist.org/apa/d/reno-beautif...   \n",
              "1  7049047186  https://reno.craigslist.org/apa/d/reno-reduced...   \n",
              "2  7043634882  https://reno.craigslist.org/apa/d/sparks-state...   \n",
              "3  7049045324  https://reno.craigslist.org/apa/d/reno-1x1-fir...   \n",
              "4  7049043759  https://reno.craigslist.org/apa/d/reno-no-long...   \n",
              "5  7046327064  https://reno.craigslist.org/apa/d/reno-walk-in...   \n",
              "6  7049020738  https://reno.craigslist.org/apa/d/1-bedroom-av...   \n",
              "7  7049041899  https://reno.craigslist.org/apa/d/reno-1x1-fir...   \n",
              "8  7049041451  https://reno.craigslist.org/apa/d/sparks-bouti...   \n",
              "9  7049041434  https://reno.craigslist.org/apa/d/reno-6850-sh...   \n",
              "\n",
              "         region                   region_url  price       type  sqfeet  beds  \\\n",
              "0  reno / tahoe  https://reno.craigslist.org   1148  apartment    1078     3   \n",
              "1  reno / tahoe  https://reno.craigslist.org   1200      condo    1001     2   \n",
              "2  reno / tahoe  https://reno.craigslist.org   1813  apartment    1683     2   \n",
              "3  reno / tahoe  https://reno.craigslist.org   1095  apartment     708     1   \n",
              "4  reno / tahoe  https://reno.craigslist.org    289  apartment     250     0   \n",
              "5  reno / tahoe  https://reno.craigslist.org   1093  apartment     720     1   \n",
              "6  reno / tahoe  https://reno.craigslist.org    935  apartment     661     1   \n",
              "7  reno / tahoe  https://reno.craigslist.org   1095  apartment     708     1   \n",
              "8  reno / tahoe  https://reno.craigslist.org   1525  apartment    1053     2   \n",
              "9  reno / tahoe  https://reno.craigslist.org   1295      condo     930     2   \n",
              "\n",
              "   baths  cats_allowed  ...  wheelchair_access  electric_vehicle_charge  \\\n",
              "0    2.0             1  ...                  0                        0   \n",
              "1    2.0             0  ...                  0                        0   \n",
              "2    2.0             1  ...                  0                        0   \n",
              "3    1.0             1  ...                  0                        0   \n",
              "4    1.0             1  ...                  1                        0   \n",
              "5    1.0             1  ...                  0                        0   \n",
              "6    1.0             1  ...                  0                        0   \n",
              "7    1.0             1  ...                  0                        0   \n",
              "8    2.0             1  ...                  0                        0   \n",
              "9    2.0             0  ...                  0                        0   \n",
              "\n",
              "   comes_furnished  laundry_options     parking_options  \\\n",
              "0                0      w/d in unit             carport   \n",
              "1                0      w/d hookups             carport   \n",
              "2                0      w/d in unit     attached garage   \n",
              "3                0      w/d in unit             carport   \n",
              "4                1  laundry on site                 NaN   \n",
              "5                0  laundry in bldg                 NaN   \n",
              "6                0  laundry on site  off-street parking   \n",
              "7                0      w/d in unit             carport   \n",
              "8                0      w/d in unit             carport   \n",
              "9                0      w/d in unit             carport   \n",
              "\n",
              "                                           image_url  \\\n",
              "0  https://images.craigslist.org/01616_daghmBUvTC...   \n",
              "1  https://images.craigslist.org/00V0V_5va0MkgO9q...   \n",
              "2  https://images.craigslist.org/00t0t_erYqC6LgB8...   \n",
              "3  https://images.craigslist.org/00303_3HSJz75zlI...   \n",
              "4  https://images.craigslist.org/01616_fALAWFV8zQ...   \n",
              "5  https://images.craigslist.org/00808_1EfWoZv4NX...   \n",
              "6  https://images.craigslist.org/00C0C_i1DJWxfSZC...   \n",
              "7  https://images.craigslist.org/00303_3HSJz75zlI...   \n",
              "8  https://images.craigslist.org/00W0W_aMt5LvqkQh...   \n",
              "9  https://images.craigslist.org/01313_8AoC9NJZWA...   \n",
              "\n",
              "                                         description      lat     long  state  \n",
              "0  Ridgeview by Vintage is where you will find al...  39.5483 -119.796     ca  \n",
              "1  Conveniently located in the middle town of Ren...  39.5026 -119.789     ca  \n",
              "2  2BD | 2BA | 1683SQFTDiscover exceptional servi...  39.6269 -119.708     ca  \n",
              "3  MOVE IN SPECIAL FREE WASHER/DRYER WITH 6 OR 12...  39.4477 -119.771     ca  \n",
              "4  Move In Today: Reno Low-Cost, Clean & Furnishe...  39.5357 -119.805     ca  \n",
              "5  1BD | 1BA | 720SQFTIn addition to attractive, ...  39.4572 -119.776     ca  \n",
              "6  Tucked away in a park-like setting on the edge...  39.5118 -119.802     ca  \n",
              "7  MOVE IN SPECIAL FREE WASHER/DRYER WITH 6 OR 12...  39.4477 -119.771     ca  \n",
              "8  BRAND NEW APARTMENT HOMES, NOW OPEN!  **GET 1 ...  39.6185 -119.672     ca  \n",
              "9  6850 Sharlands Ave E-1021 Reno NV 89523       ...  39.5193 -119.897     ca  \n",
              "\n",
              "[10 rows x 22 columns]"
            ],
            "text/html": [
              "\n",
              "  <div id=\"df-b5b893c4-cb36-480e-9ccd-2a0b06ff7455\">\n",
              "    <div class=\"colab-df-container\">\n",
              "      <div>\n",
              "<style scoped>\n",
              "    .dataframe tbody tr th:only-of-type {\n",
              "        vertical-align: middle;\n",
              "    }\n",
              "\n",
              "    .dataframe tbody tr th {\n",
              "        vertical-align: top;\n",
              "    }\n",
              "\n",
              "    .dataframe thead th {\n",
              "        text-align: right;\n",
              "    }\n",
              "</style>\n",
              "<table border=\"1\" class=\"dataframe\">\n",
              "  <thead>\n",
              "    <tr style=\"text-align: right;\">\n",
              "      <th></th>\n",
              "      <th>id</th>\n",
              "      <th>url</th>\n",
              "      <th>region</th>\n",
              "      <th>region_url</th>\n",
              "      <th>price</th>\n",
              "      <th>type</th>\n",
              "      <th>sqfeet</th>\n",
              "      <th>beds</th>\n",
              "      <th>baths</th>\n",
              "      <th>cats_allowed</th>\n",
              "      <th>...</th>\n",
              "      <th>wheelchair_access</th>\n",
              "      <th>electric_vehicle_charge</th>\n",
              "      <th>comes_furnished</th>\n",
              "      <th>laundry_options</th>\n",
              "      <th>parking_options</th>\n",
              "      <th>image_url</th>\n",
              "      <th>description</th>\n",
              "      <th>lat</th>\n",
              "      <th>long</th>\n",
              "      <th>state</th>\n",
              "    </tr>\n",
              "  </thead>\n",
              "  <tbody>\n",
              "    <tr>\n",
              "      <th>0</th>\n",
              "      <td>7049044568</td>\n",
              "      <td>https://reno.craigslist.org/apa/d/reno-beautif...</td>\n",
              "      <td>reno / tahoe</td>\n",
              "      <td>https://reno.craigslist.org</td>\n",
              "      <td>1148</td>\n",
              "      <td>apartment</td>\n",
              "      <td>1078</td>\n",
              "      <td>3</td>\n",
              "      <td>2.0</td>\n",
              "      <td>1</td>\n",
              "      <td>...</td>\n",
              "      <td>0</td>\n",
              "      <td>0</td>\n",
              "      <td>0</td>\n",
              "      <td>w/d in unit</td>\n",
              "      <td>carport</td>\n",
              "      <td>https://images.craigslist.org/01616_daghmBUvTC...</td>\n",
              "      <td>Ridgeview by Vintage is where you will find al...</td>\n",
              "      <td>39.5483</td>\n",
              "      <td>-119.796</td>\n",
              "      <td>ca</td>\n",
              "    </tr>\n",
              "    <tr>\n",
              "      <th>1</th>\n",
              "      <td>7049047186</td>\n",
              "      <td>https://reno.craigslist.org/apa/d/reno-reduced...</td>\n",
              "      <td>reno / tahoe</td>\n",
              "      <td>https://reno.craigslist.org</td>\n",
              "      <td>1200</td>\n",
              "      <td>condo</td>\n",
              "      <td>1001</td>\n",
              "      <td>2</td>\n",
              "      <td>2.0</td>\n",
              "      <td>0</td>\n",
              "      <td>...</td>\n",
              "      <td>0</td>\n",
              "      <td>0</td>\n",
              "      <td>0</td>\n",
              "      <td>w/d hookups</td>\n",
              "      <td>carport</td>\n",
              "      <td>https://images.craigslist.org/00V0V_5va0MkgO9q...</td>\n",
              "      <td>Conveniently located in the middle town of Ren...</td>\n",
              "      <td>39.5026</td>\n",
              "      <td>-119.789</td>\n",
              "      <td>ca</td>\n",
              "    </tr>\n",
              "    <tr>\n",
              "      <th>2</th>\n",
              "      <td>7043634882</td>\n",
              "      <td>https://reno.craigslist.org/apa/d/sparks-state...</td>\n",
              "      <td>reno / tahoe</td>\n",
              "      <td>https://reno.craigslist.org</td>\n",
              "      <td>1813</td>\n",
              "      <td>apartment</td>\n",
              "      <td>1683</td>\n",
              "      <td>2</td>\n",
              "      <td>2.0</td>\n",
              "      <td>1</td>\n",
              "      <td>...</td>\n",
              "      <td>0</td>\n",
              "      <td>0</td>\n",
              "      <td>0</td>\n",
              "      <td>w/d in unit</td>\n",
              "      <td>attached garage</td>\n",
              "      <td>https://images.craigslist.org/00t0t_erYqC6LgB8...</td>\n",
              "      <td>2BD | 2BA | 1683SQFTDiscover exceptional servi...</td>\n",
              "      <td>39.6269</td>\n",
              "      <td>-119.708</td>\n",
              "      <td>ca</td>\n",
              "    </tr>\n",
              "    <tr>\n",
              "      <th>3</th>\n",
              "      <td>7049045324</td>\n",
              "      <td>https://reno.craigslist.org/apa/d/reno-1x1-fir...</td>\n",
              "      <td>reno / tahoe</td>\n",
              "      <td>https://reno.craigslist.org</td>\n",
              "      <td>1095</td>\n",
              "      <td>apartment</td>\n",
              "      <td>708</td>\n",
              "      <td>1</td>\n",
              "      <td>1.0</td>\n",
              "      <td>1</td>\n",
              "      <td>...</td>\n",
              "      <td>0</td>\n",
              "      <td>0</td>\n",
              "      <td>0</td>\n",
              "      <td>w/d in unit</td>\n",
              "      <td>carport</td>\n",
              "      <td>https://images.craigslist.org/00303_3HSJz75zlI...</td>\n",
              "      <td>MOVE IN SPECIAL FREE WASHER/DRYER WITH 6 OR 12...</td>\n",
              "      <td>39.4477</td>\n",
              "      <td>-119.771</td>\n",
              "      <td>ca</td>\n",
              "    </tr>\n",
              "    <tr>\n",
              "      <th>4</th>\n",
              "      <td>7049043759</td>\n",
              "      <td>https://reno.craigslist.org/apa/d/reno-no-long...</td>\n",
              "      <td>reno / tahoe</td>\n",
              "      <td>https://reno.craigslist.org</td>\n",
              "      <td>289</td>\n",
              "      <td>apartment</td>\n",
              "      <td>250</td>\n",
              "      <td>0</td>\n",
              "      <td>1.0</td>\n",
              "      <td>1</td>\n",
              "      <td>...</td>\n",
              "      <td>1</td>\n",
              "      <td>0</td>\n",
              "      <td>1</td>\n",
              "      <td>laundry on site</td>\n",
              "      <td>NaN</td>\n",
              "      <td>https://images.craigslist.org/01616_fALAWFV8zQ...</td>\n",
              "      <td>Move In Today: Reno Low-Cost, Clean &amp; Furnishe...</td>\n",
              "      <td>39.5357</td>\n",
              "      <td>-119.805</td>\n",
              "      <td>ca</td>\n",
              "    </tr>\n",
              "    <tr>\n",
              "      <th>5</th>\n",
              "      <td>7046327064</td>\n",
              "      <td>https://reno.craigslist.org/apa/d/reno-walk-in...</td>\n",
              "      <td>reno / tahoe</td>\n",
              "      <td>https://reno.craigslist.org</td>\n",
              "      <td>1093</td>\n",
              "      <td>apartment</td>\n",
              "      <td>720</td>\n",
              "      <td>1</td>\n",
              "      <td>1.0</td>\n",
              "      <td>1</td>\n",
              "      <td>...</td>\n",
              "      <td>0</td>\n",
              "      <td>0</td>\n",
              "      <td>0</td>\n",
              "      <td>laundry in bldg</td>\n",
              "      <td>NaN</td>\n",
              "      <td>https://images.craigslist.org/00808_1EfWoZv4NX...</td>\n",
              "      <td>1BD | 1BA | 720SQFTIn addition to attractive, ...</td>\n",
              "      <td>39.4572</td>\n",
              "      <td>-119.776</td>\n",
              "      <td>ca</td>\n",
              "    </tr>\n",
              "    <tr>\n",
              "      <th>6</th>\n",
              "      <td>7049020738</td>\n",
              "      <td>https://reno.craigslist.org/apa/d/1-bedroom-av...</td>\n",
              "      <td>reno / tahoe</td>\n",
              "      <td>https://reno.craigslist.org</td>\n",
              "      <td>935</td>\n",
              "      <td>apartment</td>\n",
              "      <td>661</td>\n",
              "      <td>1</td>\n",
              "      <td>1.0</td>\n",
              "      <td>1</td>\n",
              "      <td>...</td>\n",
              "      <td>0</td>\n",
              "      <td>0</td>\n",
              "      <td>0</td>\n",
              "      <td>laundry on site</td>\n",
              "      <td>off-street parking</td>\n",
              "      <td>https://images.craigslist.org/00C0C_i1DJWxfSZC...</td>\n",
              "      <td>Tucked away in a park-like setting on the edge...</td>\n",
              "      <td>39.5118</td>\n",
              "      <td>-119.802</td>\n",
              "      <td>ca</td>\n",
              "    </tr>\n",
              "    <tr>\n",
              "      <th>7</th>\n",
              "      <td>7049041899</td>\n",
              "      <td>https://reno.craigslist.org/apa/d/reno-1x1-fir...</td>\n",
              "      <td>reno / tahoe</td>\n",
              "      <td>https://reno.craigslist.org</td>\n",
              "      <td>1095</td>\n",
              "      <td>apartment</td>\n",
              "      <td>708</td>\n",
              "      <td>1</td>\n",
              "      <td>1.0</td>\n",
              "      <td>1</td>\n",
              "      <td>...</td>\n",
              "      <td>0</td>\n",
              "      <td>0</td>\n",
              "      <td>0</td>\n",
              "      <td>w/d in unit</td>\n",
              "      <td>carport</td>\n",
              "      <td>https://images.craigslist.org/00303_3HSJz75zlI...</td>\n",
              "      <td>MOVE IN SPECIAL FREE WASHER/DRYER WITH 6 OR 12...</td>\n",
              "      <td>39.4477</td>\n",
              "      <td>-119.771</td>\n",
              "      <td>ca</td>\n",
              "    </tr>\n",
              "    <tr>\n",
              "      <th>8</th>\n",
              "      <td>7049041451</td>\n",
              "      <td>https://reno.craigslist.org/apa/d/sparks-bouti...</td>\n",
              "      <td>reno / tahoe</td>\n",
              "      <td>https://reno.craigslist.org</td>\n",
              "      <td>1525</td>\n",
              "      <td>apartment</td>\n",
              "      <td>1053</td>\n",
              "      <td>2</td>\n",
              "      <td>2.0</td>\n",
              "      <td>1</td>\n",
              "      <td>...</td>\n",
              "      <td>0</td>\n",
              "      <td>0</td>\n",
              "      <td>0</td>\n",
              "      <td>w/d in unit</td>\n",
              "      <td>carport</td>\n",
              "      <td>https://images.craigslist.org/00W0W_aMt5LvqkQh...</td>\n",
              "      <td>BRAND NEW APARTMENT HOMES, NOW OPEN!  **GET 1 ...</td>\n",
              "      <td>39.6185</td>\n",
              "      <td>-119.672</td>\n",
              "      <td>ca</td>\n",
              "    </tr>\n",
              "    <tr>\n",
              "      <th>9</th>\n",
              "      <td>7049041434</td>\n",
              "      <td>https://reno.craigslist.org/apa/d/reno-6850-sh...</td>\n",
              "      <td>reno / tahoe</td>\n",
              "      <td>https://reno.craigslist.org</td>\n",
              "      <td>1295</td>\n",
              "      <td>condo</td>\n",
              "      <td>930</td>\n",
              "      <td>2</td>\n",
              "      <td>2.0</td>\n",
              "      <td>0</td>\n",
              "      <td>...</td>\n",
              "      <td>0</td>\n",
              "      <td>0</td>\n",
              "      <td>0</td>\n",
              "      <td>w/d in unit</td>\n",
              "      <td>carport</td>\n",
              "      <td>https://images.craigslist.org/01313_8AoC9NJZWA...</td>\n",
              "      <td>6850 Sharlands Ave E-1021 Reno NV 89523       ...</td>\n",
              "      <td>39.5193</td>\n",
              "      <td>-119.897</td>\n",
              "      <td>ca</td>\n",
              "    </tr>\n",
              "  </tbody>\n",
              "</table>\n",
              "<p>10 rows × 22 columns</p>\n",
              "</div>\n",
              "      <button class=\"colab-df-convert\" onclick=\"convertToInteractive('df-b5b893c4-cb36-480e-9ccd-2a0b06ff7455')\"\n",
              "              title=\"Convert this dataframe to an interactive table.\"\n",
              "              style=\"display:none;\">\n",
              "        \n",
              "  <svg xmlns=\"http://www.w3.org/2000/svg\" height=\"24px\"viewBox=\"0 0 24 24\"\n",
              "       width=\"24px\">\n",
              "    <path d=\"M0 0h24v24H0V0z\" fill=\"none\"/>\n",
              "    <path d=\"M18.56 5.44l.94 2.06.94-2.06 2.06-.94-2.06-.94-.94-2.06-.94 2.06-2.06.94zm-11 1L8.5 8.5l.94-2.06 2.06-.94-2.06-.94L8.5 2.5l-.94 2.06-2.06.94zm10 10l.94 2.06.94-2.06 2.06-.94-2.06-.94-.94-2.06-.94 2.06-2.06.94z\"/><path d=\"M17.41 7.96l-1.37-1.37c-.4-.4-.92-.59-1.43-.59-.52 0-1.04.2-1.43.59L10.3 9.45l-7.72 7.72c-.78.78-.78 2.05 0 2.83L4 21.41c.39.39.9.59 1.41.59.51 0 1.02-.2 1.41-.59l7.78-7.78 2.81-2.81c.8-.78.8-2.07 0-2.86zM5.41 20L4 18.59l7.72-7.72 1.47 1.35L5.41 20z\"/>\n",
              "  </svg>\n",
              "      </button>\n",
              "      \n",
              "  <style>\n",
              "    .colab-df-container {\n",
              "      display:flex;\n",
              "      flex-wrap:wrap;\n",
              "      gap: 12px;\n",
              "    }\n",
              "\n",
              "    .colab-df-convert {\n",
              "      background-color: #E8F0FE;\n",
              "      border: none;\n",
              "      border-radius: 50%;\n",
              "      cursor: pointer;\n",
              "      display: none;\n",
              "      fill: #1967D2;\n",
              "      height: 32px;\n",
              "      padding: 0 0 0 0;\n",
              "      width: 32px;\n",
              "    }\n",
              "\n",
              "    .colab-df-convert:hover {\n",
              "      background-color: #E2EBFA;\n",
              "      box-shadow: 0px 1px 2px rgba(60, 64, 67, 0.3), 0px 1px 3px 1px rgba(60, 64, 67, 0.15);\n",
              "      fill: #174EA6;\n",
              "    }\n",
              "\n",
              "    [theme=dark] .colab-df-convert {\n",
              "      background-color: #3B4455;\n",
              "      fill: #D2E3FC;\n",
              "    }\n",
              "\n",
              "    [theme=dark] .colab-df-convert:hover {\n",
              "      background-color: #434B5C;\n",
              "      box-shadow: 0px 1px 3px 1px rgba(0, 0, 0, 0.15);\n",
              "      filter: drop-shadow(0px 1px 2px rgba(0, 0, 0, 0.3));\n",
              "      fill: #FFFFFF;\n",
              "    }\n",
              "  </style>\n",
              "\n",
              "      <script>\n",
              "        const buttonEl =\n",
              "          document.querySelector('#df-b5b893c4-cb36-480e-9ccd-2a0b06ff7455 button.colab-df-convert');\n",
              "        buttonEl.style.display =\n",
              "          google.colab.kernel.accessAllowed ? 'block' : 'none';\n",
              "\n",
              "        async function convertToInteractive(key) {\n",
              "          const element = document.querySelector('#df-b5b893c4-cb36-480e-9ccd-2a0b06ff7455');\n",
              "          const dataTable =\n",
              "            await google.colab.kernel.invokeFunction('convertToInteractive',\n",
              "                                                     [key], {});\n",
              "          if (!dataTable) return;\n",
              "\n",
              "          const docLinkHtml = 'Like what you see? Visit the ' +\n",
              "            '<a target=\"_blank\" href=https://colab.research.google.com/notebooks/data_table.ipynb>data table notebook</a>'\n",
              "            + ' to learn more about interactive tables.';\n",
              "          element.innerHTML = '';\n",
              "          dataTable['output_type'] = 'display_data';\n",
              "          await google.colab.output.renderOutput(dataTable, element);\n",
              "          const docLink = document.createElement('div');\n",
              "          docLink.innerHTML = docLinkHtml;\n",
              "          element.appendChild(docLink);\n",
              "        }\n",
              "      </script>\n",
              "    </div>\n",
              "  </div>\n",
              "  "
            ]
          },
          "metadata": {},
          "execution_count": 5
        }
      ]
    },
    {
      "cell_type": "markdown",
      "source": [
        "## Exploring Dataset"
      ],
      "metadata": {
        "id": "K_v825-5ZdGd"
      }
    },
    {
      "cell_type": "code",
      "source": [
        "# no of rows in the dataset\n",
        "len(housing_df)"
      ],
      "metadata": {
        "colab": {
          "base_uri": "https://localhost:8080/"
        },
        "id": "TygU5lGsFbLu",
        "outputId": "d8ff222f-be24-4709-f56f-1e00d0c136de"
      },
      "execution_count": 6,
      "outputs": [
        {
          "output_type": "execute_result",
          "data": {
            "text/plain": [
              "384977"
            ]
          },
          "metadata": {},
          "execution_count": 6
        }
      ]
    },
    {
      "cell_type": "code",
      "source": [
        "# column names\n",
        "housing_df.columns"
      ],
      "metadata": {
        "colab": {
          "base_uri": "https://localhost:8080/"
        },
        "id": "fCCvCFu8ufT_",
        "outputId": "a826f61b-c9e8-42c2-cd8c-c14c3f6fb2a8"
      },
      "execution_count": 7,
      "outputs": [
        {
          "output_type": "execute_result",
          "data": {
            "text/plain": [
              "Index(['id', 'url', 'region', 'region_url', 'price', 'type', 'sqfeet', 'beds',\n",
              "       'baths', 'cats_allowed', 'dogs_allowed', 'smoking_allowed',\n",
              "       'wheelchair_access', 'electric_vehicle_charge', 'comes_furnished',\n",
              "       'laundry_options', 'parking_options', 'image_url', 'description', 'lat',\n",
              "       'long', 'state'],\n",
              "      dtype='object')"
            ]
          },
          "metadata": {},
          "execution_count": 7
        }
      ]
    },
    {
      "cell_type": "code",
      "source": [
        "# column information\n",
        "housing_df.info()"
      ],
      "metadata": {
        "colab": {
          "base_uri": "https://localhost:8080/"
        },
        "id": "E4iUxQpbwqSI",
        "outputId": "0c28560c-6214-4a40-9b97-2b63d2b17b98"
      },
      "execution_count": 8,
      "outputs": [
        {
          "output_type": "stream",
          "name": "stdout",
          "text": [
            "<class 'pandas.core.frame.DataFrame'>\n",
            "RangeIndex: 384977 entries, 0 to 384976\n",
            "Data columns (total 22 columns):\n",
            " #   Column                   Non-Null Count   Dtype  \n",
            "---  ------                   --------------   -----  \n",
            " 0   id                       384977 non-null  int64  \n",
            " 1   url                      384977 non-null  object \n",
            " 2   region                   384977 non-null  object \n",
            " 3   region_url               384977 non-null  object \n",
            " 4   price                    384977 non-null  int64  \n",
            " 5   type                     384977 non-null  object \n",
            " 6   sqfeet                   384977 non-null  int64  \n",
            " 7   beds                     384977 non-null  int64  \n",
            " 8   baths                    384977 non-null  float64\n",
            " 9   cats_allowed             384977 non-null  int64  \n",
            " 10  dogs_allowed             384977 non-null  int64  \n",
            " 11  smoking_allowed          384977 non-null  int64  \n",
            " 12  wheelchair_access        384977 non-null  int64  \n",
            " 13  electric_vehicle_charge  384977 non-null  int64  \n",
            " 14  comes_furnished          384977 non-null  int64  \n",
            " 15  laundry_options          305951 non-null  object \n",
            " 16  parking_options          244290 non-null  object \n",
            " 17  image_url                384977 non-null  object \n",
            " 18  description              384975 non-null  object \n",
            " 19  lat                      383059 non-null  float64\n",
            " 20  long                     383059 non-null  float64\n",
            " 21  state                    384977 non-null  object \n",
            "dtypes: float64(3), int64(10), object(9)\n",
            "memory usage: 64.6+ MB\n"
          ]
        }
      ]
    },
    {
      "cell_type": "markdown",
      "source": [
        "## Data cleaning"
      ],
      "metadata": {
        "id": "TKF0_ra3Z89K"
      }
    },
    {
      "cell_type": "code",
      "source": [
        "#counting null values\n",
        "housing_df.isna().sum()"
      ],
      "metadata": {
        "colab": {
          "base_uri": "https://localhost:8080/"
        },
        "id": "9CBdofgaufWn",
        "outputId": "e300987c-aedc-4b43-8bf2-3dde2a536ca1"
      },
      "execution_count": 9,
      "outputs": [
        {
          "output_type": "execute_result",
          "data": {
            "text/plain": [
              "id                              0\n",
              "url                             0\n",
              "region                          0\n",
              "region_url                      0\n",
              "price                           0\n",
              "type                            0\n",
              "sqfeet                          0\n",
              "beds                            0\n",
              "baths                           0\n",
              "cats_allowed                    0\n",
              "dogs_allowed                    0\n",
              "smoking_allowed                 0\n",
              "wheelchair_access               0\n",
              "electric_vehicle_charge         0\n",
              "comes_furnished                 0\n",
              "laundry_options             79026\n",
              "parking_options            140687\n",
              "image_url                       0\n",
              "description                     2\n",
              "lat                          1918\n",
              "long                         1918\n",
              "state                           0\n",
              "dtype: int64"
            ]
          },
          "metadata": {},
          "execution_count": 9
        }
      ]
    },
    {
      "cell_type": "code",
      "source": [
        "# selecting useful columns\n",
        "columns=['region', 'price', 'type', 'sqfeet', 'beds',\n",
        "       'baths','comes_furnished','lat',\n",
        "       'long', 'state']\n",
        "housing_data = housing_df[columns]"
      ],
      "metadata": {
        "id": "t4Z6dOSC24Iz"
      },
      "execution_count": 10,
      "outputs": []
    },
    {
      "cell_type": "code",
      "source": [
        "len(housing_data)"
      ],
      "metadata": {
        "colab": {
          "base_uri": "https://localhost:8080/"
        },
        "id": "nYcLUXEyzbdp",
        "outputId": "683cf014-9fed-488a-d99f-8a562125f680"
      },
      "execution_count": 11,
      "outputs": [
        {
          "output_type": "execute_result",
          "data": {
            "text/plain": [
              "384977"
            ]
          },
          "metadata": {},
          "execution_count": 11
        }
      ]
    },
    {
      "cell_type": "code",
      "source": [
        "housing_data.info()"
      ],
      "metadata": {
        "colab": {
          "base_uri": "https://localhost:8080/"
        },
        "id": "Z2-lLVWTGMCO",
        "outputId": "29a6cb29-b3f5-46e5-a9c2-27931b3d3d8f"
      },
      "execution_count": 12,
      "outputs": [
        {
          "output_type": "stream",
          "name": "stdout",
          "text": [
            "<class 'pandas.core.frame.DataFrame'>\n",
            "RangeIndex: 384977 entries, 0 to 384976\n",
            "Data columns (total 10 columns):\n",
            " #   Column           Non-Null Count   Dtype  \n",
            "---  ------           --------------   -----  \n",
            " 0   region           384977 non-null  object \n",
            " 1   price            384977 non-null  int64  \n",
            " 2   type             384977 non-null  object \n",
            " 3   sqfeet           384977 non-null  int64  \n",
            " 4   beds             384977 non-null  int64  \n",
            " 5   baths            384977 non-null  float64\n",
            " 6   comes_furnished  384977 non-null  int64  \n",
            " 7   lat              383059 non-null  float64\n",
            " 8   long             383059 non-null  float64\n",
            " 9   state            384977 non-null  object \n",
            "dtypes: float64(3), int64(4), object(3)\n",
            "memory usage: 29.4+ MB\n"
          ]
        }
      ]
    },
    {
      "cell_type": "code",
      "source": [
        "# counting null values\n",
        "housing_data.isna().sum()"
      ],
      "metadata": {
        "colab": {
          "base_uri": "https://localhost:8080/"
        },
        "id": "fAJ9KwLnGEvX",
        "outputId": "768805e6-853c-41d9-c0db-2093a319bbd3"
      },
      "execution_count": 13,
      "outputs": [
        {
          "output_type": "execute_result",
          "data": {
            "text/plain": [
              "region                0\n",
              "price                 0\n",
              "type                  0\n",
              "sqfeet                0\n",
              "beds                  0\n",
              "baths                 0\n",
              "comes_furnished       0\n",
              "lat                1918\n",
              "long               1918\n",
              "state                 0\n",
              "dtype: int64"
            ]
          },
          "metadata": {},
          "execution_count": 13
        }
      ]
    },
    {
      "cell_type": "code",
      "source": [
        "# dropping rows with null values\n",
        "housing_data.dropna(inplace=True)"
      ],
      "metadata": {
        "colab": {
          "base_uri": "https://localhost:8080/"
        },
        "id": "8hy9vOafGR-2",
        "outputId": "4b83d652-6bbb-40c9-8a59-5bd942da1d0d"
      },
      "execution_count": 14,
      "outputs": [
        {
          "output_type": "stream",
          "name": "stderr",
          "text": [
            "<ipython-input-14-bfc68a1b9d4d>:2: SettingWithCopyWarning: \n",
            "A value is trying to be set on a copy of a slice from a DataFrame\n",
            "\n",
            "See the caveats in the documentation: https://pandas.pydata.org/pandas-docs/stable/user_guide/indexing.html#returning-a-view-versus-a-copy\n",
            "  housing_data.dropna(inplace=True)\n"
          ]
        }
      ]
    },
    {
      "cell_type": "code",
      "source": [
        "housing_data"
      ],
      "metadata": {
        "colab": {
          "base_uri": "https://localhost:8080/",
          "height": 423
        },
        "id": "23sgOu8LGbKV",
        "outputId": "1955b308-7f86-4ebd-aa13-42b8e55919f9"
      },
      "execution_count": 15,
      "outputs": [
        {
          "output_type": "execute_result",
          "data": {
            "text/plain": [
              "              region  price       type  sqfeet  beds  baths  comes_furnished  \\\n",
              "0       reno / tahoe   1148  apartment    1078     3    2.0                0   \n",
              "1       reno / tahoe   1200      condo    1001     2    2.0                0   \n",
              "2       reno / tahoe   1813  apartment    1683     2    2.0                0   \n",
              "3       reno / tahoe   1095  apartment     708     1    1.0                0   \n",
              "4       reno / tahoe    289  apartment     250     0    1.0                1   \n",
              "...              ...    ...        ...     ...   ...    ...              ...   \n",
              "384972  reno / tahoe   1295  apartment     957     2    2.0                0   \n",
              "384973  reno / tahoe   1549  apartment    1034     2    2.0                0   \n",
              "384974  reno / tahoe   1249  apartment     840     2    1.0                0   \n",
              "384975  reno / tahoe   1429  apartment     976     2    2.0                0   \n",
              "384976  reno / tahoe   1295  apartment     957     2    2.0                0   \n",
              "\n",
              "            lat     long state  \n",
              "0       39.5483 -119.796    ca  \n",
              "1       39.5026 -119.789    ca  \n",
              "2       39.6269 -119.708    ca  \n",
              "3       39.4477 -119.771    ca  \n",
              "4       39.5357 -119.805    ca  \n",
              "...         ...      ...   ...  \n",
              "384972  39.4477 -119.771    ca  \n",
              "384973  39.6269 -119.708    ca  \n",
              "384974  39.5358 -119.746    ca  \n",
              "384975  39.5585 -119.703    ca  \n",
              "384976  39.4477 -119.771    ca  \n",
              "\n",
              "[383059 rows x 10 columns]"
            ],
            "text/html": [
              "\n",
              "  <div id=\"df-a35558f4-28cb-401c-8566-d531730e9b2e\">\n",
              "    <div class=\"colab-df-container\">\n",
              "      <div>\n",
              "<style scoped>\n",
              "    .dataframe tbody tr th:only-of-type {\n",
              "        vertical-align: middle;\n",
              "    }\n",
              "\n",
              "    .dataframe tbody tr th {\n",
              "        vertical-align: top;\n",
              "    }\n",
              "\n",
              "    .dataframe thead th {\n",
              "        text-align: right;\n",
              "    }\n",
              "</style>\n",
              "<table border=\"1\" class=\"dataframe\">\n",
              "  <thead>\n",
              "    <tr style=\"text-align: right;\">\n",
              "      <th></th>\n",
              "      <th>region</th>\n",
              "      <th>price</th>\n",
              "      <th>type</th>\n",
              "      <th>sqfeet</th>\n",
              "      <th>beds</th>\n",
              "      <th>baths</th>\n",
              "      <th>comes_furnished</th>\n",
              "      <th>lat</th>\n",
              "      <th>long</th>\n",
              "      <th>state</th>\n",
              "    </tr>\n",
              "  </thead>\n",
              "  <tbody>\n",
              "    <tr>\n",
              "      <th>0</th>\n",
              "      <td>reno / tahoe</td>\n",
              "      <td>1148</td>\n",
              "      <td>apartment</td>\n",
              "      <td>1078</td>\n",
              "      <td>3</td>\n",
              "      <td>2.0</td>\n",
              "      <td>0</td>\n",
              "      <td>39.5483</td>\n",
              "      <td>-119.796</td>\n",
              "      <td>ca</td>\n",
              "    </tr>\n",
              "    <tr>\n",
              "      <th>1</th>\n",
              "      <td>reno / tahoe</td>\n",
              "      <td>1200</td>\n",
              "      <td>condo</td>\n",
              "      <td>1001</td>\n",
              "      <td>2</td>\n",
              "      <td>2.0</td>\n",
              "      <td>0</td>\n",
              "      <td>39.5026</td>\n",
              "      <td>-119.789</td>\n",
              "      <td>ca</td>\n",
              "    </tr>\n",
              "    <tr>\n",
              "      <th>2</th>\n",
              "      <td>reno / tahoe</td>\n",
              "      <td>1813</td>\n",
              "      <td>apartment</td>\n",
              "      <td>1683</td>\n",
              "      <td>2</td>\n",
              "      <td>2.0</td>\n",
              "      <td>0</td>\n",
              "      <td>39.6269</td>\n",
              "      <td>-119.708</td>\n",
              "      <td>ca</td>\n",
              "    </tr>\n",
              "    <tr>\n",
              "      <th>3</th>\n",
              "      <td>reno / tahoe</td>\n",
              "      <td>1095</td>\n",
              "      <td>apartment</td>\n",
              "      <td>708</td>\n",
              "      <td>1</td>\n",
              "      <td>1.0</td>\n",
              "      <td>0</td>\n",
              "      <td>39.4477</td>\n",
              "      <td>-119.771</td>\n",
              "      <td>ca</td>\n",
              "    </tr>\n",
              "    <tr>\n",
              "      <th>4</th>\n",
              "      <td>reno / tahoe</td>\n",
              "      <td>289</td>\n",
              "      <td>apartment</td>\n",
              "      <td>250</td>\n",
              "      <td>0</td>\n",
              "      <td>1.0</td>\n",
              "      <td>1</td>\n",
              "      <td>39.5357</td>\n",
              "      <td>-119.805</td>\n",
              "      <td>ca</td>\n",
              "    </tr>\n",
              "    <tr>\n",
              "      <th>...</th>\n",
              "      <td>...</td>\n",
              "      <td>...</td>\n",
              "      <td>...</td>\n",
              "      <td>...</td>\n",
              "      <td>...</td>\n",
              "      <td>...</td>\n",
              "      <td>...</td>\n",
              "      <td>...</td>\n",
              "      <td>...</td>\n",
              "      <td>...</td>\n",
              "    </tr>\n",
              "    <tr>\n",
              "      <th>384972</th>\n",
              "      <td>reno / tahoe</td>\n",
              "      <td>1295</td>\n",
              "      <td>apartment</td>\n",
              "      <td>957</td>\n",
              "      <td>2</td>\n",
              "      <td>2.0</td>\n",
              "      <td>0</td>\n",
              "      <td>39.4477</td>\n",
              "      <td>-119.771</td>\n",
              "      <td>ca</td>\n",
              "    </tr>\n",
              "    <tr>\n",
              "      <th>384973</th>\n",
              "      <td>reno / tahoe</td>\n",
              "      <td>1549</td>\n",
              "      <td>apartment</td>\n",
              "      <td>1034</td>\n",
              "      <td>2</td>\n",
              "      <td>2.0</td>\n",
              "      <td>0</td>\n",
              "      <td>39.6269</td>\n",
              "      <td>-119.708</td>\n",
              "      <td>ca</td>\n",
              "    </tr>\n",
              "    <tr>\n",
              "      <th>384974</th>\n",
              "      <td>reno / tahoe</td>\n",
              "      <td>1249</td>\n",
              "      <td>apartment</td>\n",
              "      <td>840</td>\n",
              "      <td>2</td>\n",
              "      <td>1.0</td>\n",
              "      <td>0</td>\n",
              "      <td>39.5358</td>\n",
              "      <td>-119.746</td>\n",
              "      <td>ca</td>\n",
              "    </tr>\n",
              "    <tr>\n",
              "      <th>384975</th>\n",
              "      <td>reno / tahoe</td>\n",
              "      <td>1429</td>\n",
              "      <td>apartment</td>\n",
              "      <td>976</td>\n",
              "      <td>2</td>\n",
              "      <td>2.0</td>\n",
              "      <td>0</td>\n",
              "      <td>39.5585</td>\n",
              "      <td>-119.703</td>\n",
              "      <td>ca</td>\n",
              "    </tr>\n",
              "    <tr>\n",
              "      <th>384976</th>\n",
              "      <td>reno / tahoe</td>\n",
              "      <td>1295</td>\n",
              "      <td>apartment</td>\n",
              "      <td>957</td>\n",
              "      <td>2</td>\n",
              "      <td>2.0</td>\n",
              "      <td>0</td>\n",
              "      <td>39.4477</td>\n",
              "      <td>-119.771</td>\n",
              "      <td>ca</td>\n",
              "    </tr>\n",
              "  </tbody>\n",
              "</table>\n",
              "<p>383059 rows × 10 columns</p>\n",
              "</div>\n",
              "      <button class=\"colab-df-convert\" onclick=\"convertToInteractive('df-a35558f4-28cb-401c-8566-d531730e9b2e')\"\n",
              "              title=\"Convert this dataframe to an interactive table.\"\n",
              "              style=\"display:none;\">\n",
              "        \n",
              "  <svg xmlns=\"http://www.w3.org/2000/svg\" height=\"24px\"viewBox=\"0 0 24 24\"\n",
              "       width=\"24px\">\n",
              "    <path d=\"M0 0h24v24H0V0z\" fill=\"none\"/>\n",
              "    <path d=\"M18.56 5.44l.94 2.06.94-2.06 2.06-.94-2.06-.94-.94-2.06-.94 2.06-2.06.94zm-11 1L8.5 8.5l.94-2.06 2.06-.94-2.06-.94L8.5 2.5l-.94 2.06-2.06.94zm10 10l.94 2.06.94-2.06 2.06-.94-2.06-.94-.94-2.06-.94 2.06-2.06.94z\"/><path d=\"M17.41 7.96l-1.37-1.37c-.4-.4-.92-.59-1.43-.59-.52 0-1.04.2-1.43.59L10.3 9.45l-7.72 7.72c-.78.78-.78 2.05 0 2.83L4 21.41c.39.39.9.59 1.41.59.51 0 1.02-.2 1.41-.59l7.78-7.78 2.81-2.81c.8-.78.8-2.07 0-2.86zM5.41 20L4 18.59l7.72-7.72 1.47 1.35L5.41 20z\"/>\n",
              "  </svg>\n",
              "      </button>\n",
              "      \n",
              "  <style>\n",
              "    .colab-df-container {\n",
              "      display:flex;\n",
              "      flex-wrap:wrap;\n",
              "      gap: 12px;\n",
              "    }\n",
              "\n",
              "    .colab-df-convert {\n",
              "      background-color: #E8F0FE;\n",
              "      border: none;\n",
              "      border-radius: 50%;\n",
              "      cursor: pointer;\n",
              "      display: none;\n",
              "      fill: #1967D2;\n",
              "      height: 32px;\n",
              "      padding: 0 0 0 0;\n",
              "      width: 32px;\n",
              "    }\n",
              "\n",
              "    .colab-df-convert:hover {\n",
              "      background-color: #E2EBFA;\n",
              "      box-shadow: 0px 1px 2px rgba(60, 64, 67, 0.3), 0px 1px 3px 1px rgba(60, 64, 67, 0.15);\n",
              "      fill: #174EA6;\n",
              "    }\n",
              "\n",
              "    [theme=dark] .colab-df-convert {\n",
              "      background-color: #3B4455;\n",
              "      fill: #D2E3FC;\n",
              "    }\n",
              "\n",
              "    [theme=dark] .colab-df-convert:hover {\n",
              "      background-color: #434B5C;\n",
              "      box-shadow: 0px 1px 3px 1px rgba(0, 0, 0, 0.15);\n",
              "      filter: drop-shadow(0px 1px 2px rgba(0, 0, 0, 0.3));\n",
              "      fill: #FFFFFF;\n",
              "    }\n",
              "  </style>\n",
              "\n",
              "      <script>\n",
              "        const buttonEl =\n",
              "          document.querySelector('#df-a35558f4-28cb-401c-8566-d531730e9b2e button.colab-df-convert');\n",
              "        buttonEl.style.display =\n",
              "          google.colab.kernel.accessAllowed ? 'block' : 'none';\n",
              "\n",
              "        async function convertToInteractive(key) {\n",
              "          const element = document.querySelector('#df-a35558f4-28cb-401c-8566-d531730e9b2e');\n",
              "          const dataTable =\n",
              "            await google.colab.kernel.invokeFunction('convertToInteractive',\n",
              "                                                     [key], {});\n",
              "          if (!dataTable) return;\n",
              "\n",
              "          const docLinkHtml = 'Like what you see? Visit the ' +\n",
              "            '<a target=\"_blank\" href=https://colab.research.google.com/notebooks/data_table.ipynb>data table notebook</a>'\n",
              "            + ' to learn more about interactive tables.';\n",
              "          element.innerHTML = '';\n",
              "          dataTable['output_type'] = 'display_data';\n",
              "          await google.colab.output.renderOutput(dataTable, element);\n",
              "          const docLink = document.createElement('div');\n",
              "          docLink.innerHTML = docLinkHtml;\n",
              "          element.appendChild(docLink);\n",
              "        }\n",
              "      </script>\n",
              "    </div>\n",
              "  </div>\n",
              "  "
            ]
          },
          "metadata": {},
          "execution_count": 15
        }
      ]
    },
    {
      "cell_type": "code",
      "source": [
        "# resetting index\n",
        "housing_data.reset_index(inplace= True)"
      ],
      "metadata": {
        "id": "SeEDFRZT24Qd"
      },
      "execution_count": 16,
      "outputs": []
    },
    {
      "cell_type": "code",
      "source": [
        "housing_data.drop(columns='index', inplace= True)"
      ],
      "metadata": {
        "colab": {
          "base_uri": "https://localhost:8080/"
        },
        "id": "LmwnT51AGoDt",
        "outputId": "1ca8f9c0-20da-420f-8a57-326cd53e2431"
      },
      "execution_count": 17,
      "outputs": [
        {
          "output_type": "stream",
          "name": "stderr",
          "text": [
            "<ipython-input-17-c7c73a873d68>:1: SettingWithCopyWarning: \n",
            "A value is trying to be set on a copy of a slice from a DataFrame\n",
            "\n",
            "See the caveats in the documentation: https://pandas.pydata.org/pandas-docs/stable/user_guide/indexing.html#returning-a-view-versus-a-copy\n",
            "  housing_data.drop(columns='index', inplace= True)\n"
          ]
        }
      ]
    },
    {
      "cell_type": "code",
      "source": [
        "# identifying the ouliers\n",
        "housing_data.quantile(q=0.99)"
      ],
      "metadata": {
        "colab": {
          "base_uri": "https://localhost:8080/"
        },
        "id": "UuxrCbPXYj2c",
        "outputId": "654b3873-4fe3-425f-f7e2-0ab94eb1d4ee"
      },
      "execution_count": 18,
      "outputs": [
        {
          "output_type": "stream",
          "name": "stderr",
          "text": [
            "<ipython-input-18-4eb8039975a9>:2: FutureWarning: The default value of numeric_only in DataFrame.quantile is deprecated. In a future version, it will default to False. Select only valid columns or specify the value of numeric_only to silence this warning.\n",
            "  housing_data.quantile(q=0.99)\n"
          ]
        },
        {
          "output_type": "execute_result",
          "data": {
            "text/plain": [
              "price              3395.0000\n",
              "sqfeet             2400.0000\n",
              "beds                  4.0000\n",
              "baths                 3.0000\n",
              "comes_furnished       1.0000\n",
              "lat                  48.2038\n",
              "long                -71.3034\n",
              "Name: 0.99, dtype: float64"
            ]
          },
          "metadata": {},
          "execution_count": 18
        }
      ]
    },
    {
      "cell_type": "code",
      "source": [
        "# dealing with outliers\n",
        "price_range = (housing_data.price > 100)&(housing_data.price < 3500)\n",
        "area_range = (housing_data.sqfeet > 80) & (housing_data.sqfeet < 2500)\n",
        "bedroom_range = (housing_data.beds < 10) \n",
        "bathroom_range = (housing_data.baths < 10) \n",
        "house = housing_data.loc[price_range & area_range & bedroom_range & bathroom_range]"
      ],
      "metadata": {
        "id": "Geyi4AMEv96N"
      },
      "execution_count": 19,
      "outputs": []
    },
    {
      "cell_type": "code",
      "source": [
        "house.info()"
      ],
      "metadata": {
        "colab": {
          "base_uri": "https://localhost:8080/"
        },
        "id": "gp1Fny6DDunE",
        "outputId": "a739ad7d-6ab0-41fa-fa95-b6d1353038c8"
      },
      "execution_count": 20,
      "outputs": [
        {
          "output_type": "stream",
          "name": "stdout",
          "text": [
            "<class 'pandas.core.frame.DataFrame'>\n",
            "Int64Index: 373644 entries, 0 to 383058\n",
            "Data columns (total 10 columns):\n",
            " #   Column           Non-Null Count   Dtype  \n",
            "---  ------           --------------   -----  \n",
            " 0   region           373644 non-null  object \n",
            " 1   price            373644 non-null  int64  \n",
            " 2   type             373644 non-null  object \n",
            " 3   sqfeet           373644 non-null  int64  \n",
            " 4   beds             373644 non-null  int64  \n",
            " 5   baths            373644 non-null  float64\n",
            " 6   comes_furnished  373644 non-null  int64  \n",
            " 7   lat              373644 non-null  float64\n",
            " 8   long             373644 non-null  float64\n",
            " 9   state            373644 non-null  object \n",
            "dtypes: float64(3), int64(4), object(3)\n",
            "memory usage: 31.4+ MB\n"
          ]
        }
      ]
    },
    {
      "cell_type": "code",
      "source": [
        "# showing the number of unique states\n",
        "house['state code'] = house['state']\n",
        "house['state'].unique()\n"
      ],
      "metadata": {
        "colab": {
          "base_uri": "https://localhost:8080/"
        },
        "id": "k8--L4XUxcox",
        "outputId": "5873afb8-6c2e-4cb9-f4af-69a8d9166648"
      },
      "execution_count": 21,
      "outputs": [
        {
          "output_type": "stream",
          "name": "stderr",
          "text": [
            "<ipython-input-21-12554f886833>:2: SettingWithCopyWarning: \n",
            "A value is trying to be set on a copy of a slice from a DataFrame.\n",
            "Try using .loc[row_indexer,col_indexer] = value instead\n",
            "\n",
            "See the caveats in the documentation: https://pandas.pydata.org/pandas-docs/stable/user_guide/indexing.html#returning-a-view-versus-a-copy\n",
            "  house['state code'] = house['state']\n"
          ]
        },
        {
          "output_type": "execute_result",
          "data": {
            "text/plain": [
              "array(['ca', 'co', 'ct', 'dc', 'fl', 'de', 'ga', 'hi', 'id', 'il', 'in',\n",
              "       'ia', 'ks', 'ky', 'la', 'me', 'mi', 'md', 'ma', 'mn', 'ms', 'nc',\n",
              "       'mo', 'mt', 'ne', 'nv', 'nj', 'nm', 'ny', 'nh', 'oh', 'nd', 'ok',\n",
              "       'or', 'pa', 'ri', 'sc', 'tn', 'sd', 'tx', 'ut', 'va', 'vt', 'wa',\n",
              "       'wv', 'wi', 'wy', 'al', 'az', 'ak', 'ar'], dtype=object)"
            ]
          },
          "metadata": {},
          "execution_count": 21
        }
      ]
    },
    {
      "cell_type": "code",
      "source": [
        "house['state'] = house['state'].replace(\n",
        "    {'al':\"Alabama\",'ak':\"Alaska\",'az':\"Arizona\",'ar':\"Arkansas\",'ca':\"California\", 'co':\"Colorado\",'ct':\"Connecticut\",'de':\"Delaware\",\n",
        "     'fl':\"Florida\",'ga':\"Georgia\",'hi':\"Hawaii\",'id':\"Idaho\",'il':\"Illinois\",'in':\"Indiana\",'ia':\"Iowa\",'ks':\"Kansas\",'ky':\"Kentucky\",\n",
        "     'la':\"Louisiana\",'me':\"Maine\",'md':\"Maryland\",'ma':\"Massachusetts\",'mi':\"Michigan\",'mn':\"Minnesota\",'ms':\"Mississippi\",\n",
        "     'mo':\"Missouri\",'mt':\"Montana\",'ne':\"Nebraska\",'nv':\"Nevada\",'nh':\"New Hampshire\", 'nj':\"New Jersey\",'nm':\"New Mexico\",'ny':\"New York\",\n",
        "     'nc':\"North Carolina\",'nd':\"North Dakota\",'oh':\"Ohio\",'ok':\"Oklahoma\",'or':\"Oregon\",'pa':\"Pennsylvania\",'ri':\"Rhode Island\",\n",
        "     'sc':\"South Carolina\",'sd':\"South Dakota\",'tn':\"Tennessee\",'tx':\"Texas\",'ut':\"Utah\",'vt':\"Vermont\",\n",
        "     'va':\"Virginia\",'wa':\"Washington\",'wv':\"West Virginia\",'wi':\"Wisconsin\",'wy':\"Wyoming\",'dc':\"District of Columbia\"})"
      ],
      "metadata": {
        "colab": {
          "base_uri": "https://localhost:8080/"
        },
        "id": "LFWt85LZxkQG",
        "outputId": "918c89a6-8caf-4a99-bdc9-c2989b071d79"
      },
      "execution_count": 22,
      "outputs": [
        {
          "output_type": "stream",
          "name": "stderr",
          "text": [
            "<ipython-input-22-5fbb9fe64862>:1: SettingWithCopyWarning: \n",
            "A value is trying to be set on a copy of a slice from a DataFrame.\n",
            "Try using .loc[row_indexer,col_indexer] = value instead\n",
            "\n",
            "See the caveats in the documentation: https://pandas.pydata.org/pandas-docs/stable/user_guide/indexing.html#returning-a-view-versus-a-copy\n",
            "  house['state'] = house['state'].replace({'al':\"Alabama\",\n"
          ]
        }
      ]
    },
    {
      "cell_type": "code",
      "source": [
        "house.head()"
      ],
      "metadata": {
        "colab": {
          "base_uri": "https://localhost:8080/",
          "height": 206
        },
        "id": "2VRX-nfj0Kdf",
        "outputId": "e6210f3d-06f8-4b7c-fd78-ad7124212a37"
      },
      "execution_count": 23,
      "outputs": [
        {
          "output_type": "execute_result",
          "data": {
            "text/plain": [
              "         region  price       type  sqfeet  beds  baths  comes_furnished  \\\n",
              "0  reno / tahoe   1148  apartment    1078     3    2.0                0   \n",
              "1  reno / tahoe   1200      condo    1001     2    2.0                0   \n",
              "2  reno / tahoe   1813  apartment    1683     2    2.0                0   \n",
              "3  reno / tahoe   1095  apartment     708     1    1.0                0   \n",
              "4  reno / tahoe    289  apartment     250     0    1.0                1   \n",
              "\n",
              "       lat     long       state state code  \n",
              "0  39.5483 -119.796  California         ca  \n",
              "1  39.5026 -119.789  California         ca  \n",
              "2  39.6269 -119.708  California         ca  \n",
              "3  39.4477 -119.771  California         ca  \n",
              "4  39.5357 -119.805  California         ca  "
            ],
            "text/html": [
              "\n",
              "  <div id=\"df-238bd01f-a308-407e-9e6a-dc757ec1c468\">\n",
              "    <div class=\"colab-df-container\">\n",
              "      <div>\n",
              "<style scoped>\n",
              "    .dataframe tbody tr th:only-of-type {\n",
              "        vertical-align: middle;\n",
              "    }\n",
              "\n",
              "    .dataframe tbody tr th {\n",
              "        vertical-align: top;\n",
              "    }\n",
              "\n",
              "    .dataframe thead th {\n",
              "        text-align: right;\n",
              "    }\n",
              "</style>\n",
              "<table border=\"1\" class=\"dataframe\">\n",
              "  <thead>\n",
              "    <tr style=\"text-align: right;\">\n",
              "      <th></th>\n",
              "      <th>region</th>\n",
              "      <th>price</th>\n",
              "      <th>type</th>\n",
              "      <th>sqfeet</th>\n",
              "      <th>beds</th>\n",
              "      <th>baths</th>\n",
              "      <th>comes_furnished</th>\n",
              "      <th>lat</th>\n",
              "      <th>long</th>\n",
              "      <th>state</th>\n",
              "      <th>state code</th>\n",
              "    </tr>\n",
              "  </thead>\n",
              "  <tbody>\n",
              "    <tr>\n",
              "      <th>0</th>\n",
              "      <td>reno / tahoe</td>\n",
              "      <td>1148</td>\n",
              "      <td>apartment</td>\n",
              "      <td>1078</td>\n",
              "      <td>3</td>\n",
              "      <td>2.0</td>\n",
              "      <td>0</td>\n",
              "      <td>39.5483</td>\n",
              "      <td>-119.796</td>\n",
              "      <td>California</td>\n",
              "      <td>ca</td>\n",
              "    </tr>\n",
              "    <tr>\n",
              "      <th>1</th>\n",
              "      <td>reno / tahoe</td>\n",
              "      <td>1200</td>\n",
              "      <td>condo</td>\n",
              "      <td>1001</td>\n",
              "      <td>2</td>\n",
              "      <td>2.0</td>\n",
              "      <td>0</td>\n",
              "      <td>39.5026</td>\n",
              "      <td>-119.789</td>\n",
              "      <td>California</td>\n",
              "      <td>ca</td>\n",
              "    </tr>\n",
              "    <tr>\n",
              "      <th>2</th>\n",
              "      <td>reno / tahoe</td>\n",
              "      <td>1813</td>\n",
              "      <td>apartment</td>\n",
              "      <td>1683</td>\n",
              "      <td>2</td>\n",
              "      <td>2.0</td>\n",
              "      <td>0</td>\n",
              "      <td>39.6269</td>\n",
              "      <td>-119.708</td>\n",
              "      <td>California</td>\n",
              "      <td>ca</td>\n",
              "    </tr>\n",
              "    <tr>\n",
              "      <th>3</th>\n",
              "      <td>reno / tahoe</td>\n",
              "      <td>1095</td>\n",
              "      <td>apartment</td>\n",
              "      <td>708</td>\n",
              "      <td>1</td>\n",
              "      <td>1.0</td>\n",
              "      <td>0</td>\n",
              "      <td>39.4477</td>\n",
              "      <td>-119.771</td>\n",
              "      <td>California</td>\n",
              "      <td>ca</td>\n",
              "    </tr>\n",
              "    <tr>\n",
              "      <th>4</th>\n",
              "      <td>reno / tahoe</td>\n",
              "      <td>289</td>\n",
              "      <td>apartment</td>\n",
              "      <td>250</td>\n",
              "      <td>0</td>\n",
              "      <td>1.0</td>\n",
              "      <td>1</td>\n",
              "      <td>39.5357</td>\n",
              "      <td>-119.805</td>\n",
              "      <td>California</td>\n",
              "      <td>ca</td>\n",
              "    </tr>\n",
              "  </tbody>\n",
              "</table>\n",
              "</div>\n",
              "      <button class=\"colab-df-convert\" onclick=\"convertToInteractive('df-238bd01f-a308-407e-9e6a-dc757ec1c468')\"\n",
              "              title=\"Convert this dataframe to an interactive table.\"\n",
              "              style=\"display:none;\">\n",
              "        \n",
              "  <svg xmlns=\"http://www.w3.org/2000/svg\" height=\"24px\"viewBox=\"0 0 24 24\"\n",
              "       width=\"24px\">\n",
              "    <path d=\"M0 0h24v24H0V0z\" fill=\"none\"/>\n",
              "    <path d=\"M18.56 5.44l.94 2.06.94-2.06 2.06-.94-2.06-.94-.94-2.06-.94 2.06-2.06.94zm-11 1L8.5 8.5l.94-2.06 2.06-.94-2.06-.94L8.5 2.5l-.94 2.06-2.06.94zm10 10l.94 2.06.94-2.06 2.06-.94-2.06-.94-.94-2.06-.94 2.06-2.06.94z\"/><path d=\"M17.41 7.96l-1.37-1.37c-.4-.4-.92-.59-1.43-.59-.52 0-1.04.2-1.43.59L10.3 9.45l-7.72 7.72c-.78.78-.78 2.05 0 2.83L4 21.41c.39.39.9.59 1.41.59.51 0 1.02-.2 1.41-.59l7.78-7.78 2.81-2.81c.8-.78.8-2.07 0-2.86zM5.41 20L4 18.59l7.72-7.72 1.47 1.35L5.41 20z\"/>\n",
              "  </svg>\n",
              "      </button>\n",
              "      \n",
              "  <style>\n",
              "    .colab-df-container {\n",
              "      display:flex;\n",
              "      flex-wrap:wrap;\n",
              "      gap: 12px;\n",
              "    }\n",
              "\n",
              "    .colab-df-convert {\n",
              "      background-color: #E8F0FE;\n",
              "      border: none;\n",
              "      border-radius: 50%;\n",
              "      cursor: pointer;\n",
              "      display: none;\n",
              "      fill: #1967D2;\n",
              "      height: 32px;\n",
              "      padding: 0 0 0 0;\n",
              "      width: 32px;\n",
              "    }\n",
              "\n",
              "    .colab-df-convert:hover {\n",
              "      background-color: #E2EBFA;\n",
              "      box-shadow: 0px 1px 2px rgba(60, 64, 67, 0.3), 0px 1px 3px 1px rgba(60, 64, 67, 0.15);\n",
              "      fill: #174EA6;\n",
              "    }\n",
              "\n",
              "    [theme=dark] .colab-df-convert {\n",
              "      background-color: #3B4455;\n",
              "      fill: #D2E3FC;\n",
              "    }\n",
              "\n",
              "    [theme=dark] .colab-df-convert:hover {\n",
              "      background-color: #434B5C;\n",
              "      box-shadow: 0px 1px 3px 1px rgba(0, 0, 0, 0.15);\n",
              "      filter: drop-shadow(0px 1px 2px rgba(0, 0, 0, 0.3));\n",
              "      fill: #FFFFFF;\n",
              "    }\n",
              "  </style>\n",
              "\n",
              "      <script>\n",
              "        const buttonEl =\n",
              "          document.querySelector('#df-238bd01f-a308-407e-9e6a-dc757ec1c468 button.colab-df-convert');\n",
              "        buttonEl.style.display =\n",
              "          google.colab.kernel.accessAllowed ? 'block' : 'none';\n",
              "\n",
              "        async function convertToInteractive(key) {\n",
              "          const element = document.querySelector('#df-238bd01f-a308-407e-9e6a-dc757ec1c468');\n",
              "          const dataTable =\n",
              "            await google.colab.kernel.invokeFunction('convertToInteractive',\n",
              "                                                     [key], {});\n",
              "          if (!dataTable) return;\n",
              "\n",
              "          const docLinkHtml = 'Like what you see? Visit the ' +\n",
              "            '<a target=\"_blank\" href=https://colab.research.google.com/notebooks/data_table.ipynb>data table notebook</a>'\n",
              "            + ' to learn more about interactive tables.';\n",
              "          element.innerHTML = '';\n",
              "          dataTable['output_type'] = 'display_data';\n",
              "          await google.colab.output.renderOutput(dataTable, element);\n",
              "          const docLink = document.createElement('div');\n",
              "          docLink.innerHTML = docLinkHtml;\n",
              "          element.appendChild(docLink);\n",
              "        }\n",
              "      </script>\n",
              "    </div>\n",
              "  </div>\n",
              "  "
            ]
          },
          "metadata": {},
          "execution_count": 23
        }
      ]
    },
    {
      "cell_type": "code",
      "source": [
        "house.describe()"
      ],
      "metadata": {
        "colab": {
          "base_uri": "https://localhost:8080/",
          "height": 300
        },
        "id": "Zjzj509NHczu",
        "outputId": "9094b99e-984a-4cbf-84ba-3ef953e2ba8b"
      },
      "execution_count": 24,
      "outputs": [
        {
          "output_type": "execute_result",
          "data": {
            "text/plain": [
              "               price         sqfeet           beds          baths  \\\n",
              "count  373644.000000  373644.000000  373644.000000  373644.000000   \n",
              "mean     1153.035526     972.956552       1.869718       1.464079   \n",
              "std       490.529468     324.343213       0.849550       0.568749   \n",
              "min       106.000000      85.000000       0.000000       0.000000   \n",
              "25%       809.000000     750.000000       1.000000       1.000000   \n",
              "50%      1030.000000     940.000000       2.000000       1.000000   \n",
              "75%      1380.000000    1134.000000       2.000000       2.000000   \n",
              "max      3499.000000    2499.000000       8.000000       7.500000   \n",
              "\n",
              "       comes_furnished            lat           long  \n",
              "count    373644.000000  373644.000000  373644.000000  \n",
              "mean          0.045388      37.235526     -92.544577  \n",
              "std           0.208154       5.545023      16.410311  \n",
              "min           0.000000     -40.266600    -163.894000  \n",
              "25%           0.000000      33.439050     -98.616900  \n",
              "50%           0.000000      37.658000     -87.660400  \n",
              "75%           0.000000      41.146000     -81.179600  \n",
              "max           1.000000     102.036000      94.156100  "
            ],
            "text/html": [
              "\n",
              "  <div id=\"df-72134658-fc27-45e0-8ac9-915bf2320f84\">\n",
              "    <div class=\"colab-df-container\">\n",
              "      <div>\n",
              "<style scoped>\n",
              "    .dataframe tbody tr th:only-of-type {\n",
              "        vertical-align: middle;\n",
              "    }\n",
              "\n",
              "    .dataframe tbody tr th {\n",
              "        vertical-align: top;\n",
              "    }\n",
              "\n",
              "    .dataframe thead th {\n",
              "        text-align: right;\n",
              "    }\n",
              "</style>\n",
              "<table border=\"1\" class=\"dataframe\">\n",
              "  <thead>\n",
              "    <tr style=\"text-align: right;\">\n",
              "      <th></th>\n",
              "      <th>price</th>\n",
              "      <th>sqfeet</th>\n",
              "      <th>beds</th>\n",
              "      <th>baths</th>\n",
              "      <th>comes_furnished</th>\n",
              "      <th>lat</th>\n",
              "      <th>long</th>\n",
              "    </tr>\n",
              "  </thead>\n",
              "  <tbody>\n",
              "    <tr>\n",
              "      <th>count</th>\n",
              "      <td>373644.000000</td>\n",
              "      <td>373644.000000</td>\n",
              "      <td>373644.000000</td>\n",
              "      <td>373644.000000</td>\n",
              "      <td>373644.000000</td>\n",
              "      <td>373644.000000</td>\n",
              "      <td>373644.000000</td>\n",
              "    </tr>\n",
              "    <tr>\n",
              "      <th>mean</th>\n",
              "      <td>1153.035526</td>\n",
              "      <td>972.956552</td>\n",
              "      <td>1.869718</td>\n",
              "      <td>1.464079</td>\n",
              "      <td>0.045388</td>\n",
              "      <td>37.235526</td>\n",
              "      <td>-92.544577</td>\n",
              "    </tr>\n",
              "    <tr>\n",
              "      <th>std</th>\n",
              "      <td>490.529468</td>\n",
              "      <td>324.343213</td>\n",
              "      <td>0.849550</td>\n",
              "      <td>0.568749</td>\n",
              "      <td>0.208154</td>\n",
              "      <td>5.545023</td>\n",
              "      <td>16.410311</td>\n",
              "    </tr>\n",
              "    <tr>\n",
              "      <th>min</th>\n",
              "      <td>106.000000</td>\n",
              "      <td>85.000000</td>\n",
              "      <td>0.000000</td>\n",
              "      <td>0.000000</td>\n",
              "      <td>0.000000</td>\n",
              "      <td>-40.266600</td>\n",
              "      <td>-163.894000</td>\n",
              "    </tr>\n",
              "    <tr>\n",
              "      <th>25%</th>\n",
              "      <td>809.000000</td>\n",
              "      <td>750.000000</td>\n",
              "      <td>1.000000</td>\n",
              "      <td>1.000000</td>\n",
              "      <td>0.000000</td>\n",
              "      <td>33.439050</td>\n",
              "      <td>-98.616900</td>\n",
              "    </tr>\n",
              "    <tr>\n",
              "      <th>50%</th>\n",
              "      <td>1030.000000</td>\n",
              "      <td>940.000000</td>\n",
              "      <td>2.000000</td>\n",
              "      <td>1.000000</td>\n",
              "      <td>0.000000</td>\n",
              "      <td>37.658000</td>\n",
              "      <td>-87.660400</td>\n",
              "    </tr>\n",
              "    <tr>\n",
              "      <th>75%</th>\n",
              "      <td>1380.000000</td>\n",
              "      <td>1134.000000</td>\n",
              "      <td>2.000000</td>\n",
              "      <td>2.000000</td>\n",
              "      <td>0.000000</td>\n",
              "      <td>41.146000</td>\n",
              "      <td>-81.179600</td>\n",
              "    </tr>\n",
              "    <tr>\n",
              "      <th>max</th>\n",
              "      <td>3499.000000</td>\n",
              "      <td>2499.000000</td>\n",
              "      <td>8.000000</td>\n",
              "      <td>7.500000</td>\n",
              "      <td>1.000000</td>\n",
              "      <td>102.036000</td>\n",
              "      <td>94.156100</td>\n",
              "    </tr>\n",
              "  </tbody>\n",
              "</table>\n",
              "</div>\n",
              "      <button class=\"colab-df-convert\" onclick=\"convertToInteractive('df-72134658-fc27-45e0-8ac9-915bf2320f84')\"\n",
              "              title=\"Convert this dataframe to an interactive table.\"\n",
              "              style=\"display:none;\">\n",
              "        \n",
              "  <svg xmlns=\"http://www.w3.org/2000/svg\" height=\"24px\"viewBox=\"0 0 24 24\"\n",
              "       width=\"24px\">\n",
              "    <path d=\"M0 0h24v24H0V0z\" fill=\"none\"/>\n",
              "    <path d=\"M18.56 5.44l.94 2.06.94-2.06 2.06-.94-2.06-.94-.94-2.06-.94 2.06-2.06.94zm-11 1L8.5 8.5l.94-2.06 2.06-.94-2.06-.94L8.5 2.5l-.94 2.06-2.06.94zm10 10l.94 2.06.94-2.06 2.06-.94-2.06-.94-.94-2.06-.94 2.06-2.06.94z\"/><path d=\"M17.41 7.96l-1.37-1.37c-.4-.4-.92-.59-1.43-.59-.52 0-1.04.2-1.43.59L10.3 9.45l-7.72 7.72c-.78.78-.78 2.05 0 2.83L4 21.41c.39.39.9.59 1.41.59.51 0 1.02-.2 1.41-.59l7.78-7.78 2.81-2.81c.8-.78.8-2.07 0-2.86zM5.41 20L4 18.59l7.72-7.72 1.47 1.35L5.41 20z\"/>\n",
              "  </svg>\n",
              "      </button>\n",
              "      \n",
              "  <style>\n",
              "    .colab-df-container {\n",
              "      display:flex;\n",
              "      flex-wrap:wrap;\n",
              "      gap: 12px;\n",
              "    }\n",
              "\n",
              "    .colab-df-convert {\n",
              "      background-color: #E8F0FE;\n",
              "      border: none;\n",
              "      border-radius: 50%;\n",
              "      cursor: pointer;\n",
              "      display: none;\n",
              "      fill: #1967D2;\n",
              "      height: 32px;\n",
              "      padding: 0 0 0 0;\n",
              "      width: 32px;\n",
              "    }\n",
              "\n",
              "    .colab-df-convert:hover {\n",
              "      background-color: #E2EBFA;\n",
              "      box-shadow: 0px 1px 2px rgba(60, 64, 67, 0.3), 0px 1px 3px 1px rgba(60, 64, 67, 0.15);\n",
              "      fill: #174EA6;\n",
              "    }\n",
              "\n",
              "    [theme=dark] .colab-df-convert {\n",
              "      background-color: #3B4455;\n",
              "      fill: #D2E3FC;\n",
              "    }\n",
              "\n",
              "    [theme=dark] .colab-df-convert:hover {\n",
              "      background-color: #434B5C;\n",
              "      box-shadow: 0px 1px 3px 1px rgba(0, 0, 0, 0.15);\n",
              "      filter: drop-shadow(0px 1px 2px rgba(0, 0, 0, 0.3));\n",
              "      fill: #FFFFFF;\n",
              "    }\n",
              "  </style>\n",
              "\n",
              "      <script>\n",
              "        const buttonEl =\n",
              "          document.querySelector('#df-72134658-fc27-45e0-8ac9-915bf2320f84 button.colab-df-convert');\n",
              "        buttonEl.style.display =\n",
              "          google.colab.kernel.accessAllowed ? 'block' : 'none';\n",
              "\n",
              "        async function convertToInteractive(key) {\n",
              "          const element = document.querySelector('#df-72134658-fc27-45e0-8ac9-915bf2320f84');\n",
              "          const dataTable =\n",
              "            await google.colab.kernel.invokeFunction('convertToInteractive',\n",
              "                                                     [key], {});\n",
              "          if (!dataTable) return;\n",
              "\n",
              "          const docLinkHtml = 'Like what you see? Visit the ' +\n",
              "            '<a target=\"_blank\" href=https://colab.research.google.com/notebooks/data_table.ipynb>data table notebook</a>'\n",
              "            + ' to learn more about interactive tables.';\n",
              "          element.innerHTML = '';\n",
              "          dataTable['output_type'] = 'display_data';\n",
              "          await google.colab.output.renderOutput(dataTable, element);\n",
              "          const docLink = document.createElement('div');\n",
              "          docLink.innerHTML = docLinkHtml;\n",
              "          element.appendChild(docLink);\n",
              "        }\n",
              "      </script>\n",
              "    </div>\n",
              "  </div>\n",
              "  "
            ]
          },
          "metadata": {},
          "execution_count": 24
        }
      ]
    },
    {
      "cell_type": "code",
      "source": [
        "house.price.mean()"
      ],
      "metadata": {
        "colab": {
          "base_uri": "https://localhost:8080/"
        },
        "id": "HGpdf7ilH3yi",
        "outputId": "02391986-e05a-4e85-84e2-dfab3001e442"
      },
      "execution_count": 25,
      "outputs": [
        {
          "output_type": "execute_result",
          "data": {
            "text/plain": [
              "1153.0355257946067"
            ]
          },
          "metadata": {},
          "execution_count": 25
        }
      ]
    },
    {
      "cell_type": "code",
      "source": [
        "house.sqfeet.mean()"
      ],
      "metadata": {
        "colab": {
          "base_uri": "https://localhost:8080/"
        },
        "id": "TPnOiXN3IAzB",
        "outputId": "2a0eff21-e4f0-4603-94af-83b660bdb1ad"
      },
      "execution_count": 26,
      "outputs": [
        {
          "output_type": "execute_result",
          "data": {
            "text/plain": [
              "972.9565522261832"
            ]
          },
          "metadata": {},
          "execution_count": 26
        }
      ]
    },
    {
      "cell_type": "markdown",
      "source": [
        "## Asking and answering questions"
      ],
      "metadata": {
        "id": "1NbykBmcIqus"
      }
    },
    {
      "cell_type": "markdown",
      "source": [
        "#### 1. What are the different types of properties sold ? Which property type is the most preferred ? \n",
        "\n",
        "\n",
        "\n"
      ],
      "metadata": {
        "id": "DISnuTirbWM6"
      }
    },
    {
      "cell_type": "code",
      "source": [
        "# different types of properties\n",
        "house['type'].value_counts()"
      ],
      "metadata": {
        "colab": {
          "base_uri": "https://localhost:8080/"
        },
        "id": "3zucSHWKJ7PG",
        "outputId": "1ebe094d-320f-40a4-fbc4-59dc6ec806a6"
      },
      "execution_count": 27,
      "outputs": [
        {
          "output_type": "execute_result",
          "data": {
            "text/plain": [
              "apartment          312142\n",
              "house               29209\n",
              "townhouse           15423\n",
              "condo                5858\n",
              "duplex               4874\n",
              "manufactured         4092\n",
              "cottage/cabin         694\n",
              "loft                  674\n",
              "flat                  503\n",
              "in-law                168\n",
              "land                    5\n",
              "assisted living         2\n",
              "Name: type, dtype: int64"
            ]
          },
          "metadata": {},
          "execution_count": 27
        }
      ]
    },
    {
      "cell_type": "code",
      "source": [
        "# identifying most popular property type\n",
        "property_type = pd.DataFrame(house.type.value_counts().head(6))\n",
        "property_type\n"
      ],
      "metadata": {
        "colab": {
          "base_uri": "https://localhost:8080/",
          "height": 237
        },
        "id": "6o4PAOj34PsZ",
        "outputId": "8092262b-44e9-4562-d4f2-c6ed781ca2e6"
      },
      "execution_count": 28,
      "outputs": [
        {
          "output_type": "execute_result",
          "data": {
            "text/plain": [
              "                type\n",
              "apartment     312142\n",
              "house          29209\n",
              "townhouse      15423\n",
              "condo           5858\n",
              "duplex          4874\n",
              "manufactured    4092"
            ],
            "text/html": [
              "\n",
              "  <div id=\"df-54feff15-30b6-47b5-960d-dd061d90c66f\">\n",
              "    <div class=\"colab-df-container\">\n",
              "      <div>\n",
              "<style scoped>\n",
              "    .dataframe tbody tr th:only-of-type {\n",
              "        vertical-align: middle;\n",
              "    }\n",
              "\n",
              "    .dataframe tbody tr th {\n",
              "        vertical-align: top;\n",
              "    }\n",
              "\n",
              "    .dataframe thead th {\n",
              "        text-align: right;\n",
              "    }\n",
              "</style>\n",
              "<table border=\"1\" class=\"dataframe\">\n",
              "  <thead>\n",
              "    <tr style=\"text-align: right;\">\n",
              "      <th></th>\n",
              "      <th>type</th>\n",
              "    </tr>\n",
              "  </thead>\n",
              "  <tbody>\n",
              "    <tr>\n",
              "      <th>apartment</th>\n",
              "      <td>312142</td>\n",
              "    </tr>\n",
              "    <tr>\n",
              "      <th>house</th>\n",
              "      <td>29209</td>\n",
              "    </tr>\n",
              "    <tr>\n",
              "      <th>townhouse</th>\n",
              "      <td>15423</td>\n",
              "    </tr>\n",
              "    <tr>\n",
              "      <th>condo</th>\n",
              "      <td>5858</td>\n",
              "    </tr>\n",
              "    <tr>\n",
              "      <th>duplex</th>\n",
              "      <td>4874</td>\n",
              "    </tr>\n",
              "    <tr>\n",
              "      <th>manufactured</th>\n",
              "      <td>4092</td>\n",
              "    </tr>\n",
              "  </tbody>\n",
              "</table>\n",
              "</div>\n",
              "      <button class=\"colab-df-convert\" onclick=\"convertToInteractive('df-54feff15-30b6-47b5-960d-dd061d90c66f')\"\n",
              "              title=\"Convert this dataframe to an interactive table.\"\n",
              "              style=\"display:none;\">\n",
              "        \n",
              "  <svg xmlns=\"http://www.w3.org/2000/svg\" height=\"24px\"viewBox=\"0 0 24 24\"\n",
              "       width=\"24px\">\n",
              "    <path d=\"M0 0h24v24H0V0z\" fill=\"none\"/>\n",
              "    <path d=\"M18.56 5.44l.94 2.06.94-2.06 2.06-.94-2.06-.94-.94-2.06-.94 2.06-2.06.94zm-11 1L8.5 8.5l.94-2.06 2.06-.94-2.06-.94L8.5 2.5l-.94 2.06-2.06.94zm10 10l.94 2.06.94-2.06 2.06-.94-2.06-.94-.94-2.06-.94 2.06-2.06.94z\"/><path d=\"M17.41 7.96l-1.37-1.37c-.4-.4-.92-.59-1.43-.59-.52 0-1.04.2-1.43.59L10.3 9.45l-7.72 7.72c-.78.78-.78 2.05 0 2.83L4 21.41c.39.39.9.59 1.41.59.51 0 1.02-.2 1.41-.59l7.78-7.78 2.81-2.81c.8-.78.8-2.07 0-2.86zM5.41 20L4 18.59l7.72-7.72 1.47 1.35L5.41 20z\"/>\n",
              "  </svg>\n",
              "      </button>\n",
              "      \n",
              "  <style>\n",
              "    .colab-df-container {\n",
              "      display:flex;\n",
              "      flex-wrap:wrap;\n",
              "      gap: 12px;\n",
              "    }\n",
              "\n",
              "    .colab-df-convert {\n",
              "      background-color: #E8F0FE;\n",
              "      border: none;\n",
              "      border-radius: 50%;\n",
              "      cursor: pointer;\n",
              "      display: none;\n",
              "      fill: #1967D2;\n",
              "      height: 32px;\n",
              "      padding: 0 0 0 0;\n",
              "      width: 32px;\n",
              "    }\n",
              "\n",
              "    .colab-df-convert:hover {\n",
              "      background-color: #E2EBFA;\n",
              "      box-shadow: 0px 1px 2px rgba(60, 64, 67, 0.3), 0px 1px 3px 1px rgba(60, 64, 67, 0.15);\n",
              "      fill: #174EA6;\n",
              "    }\n",
              "\n",
              "    [theme=dark] .colab-df-convert {\n",
              "      background-color: #3B4455;\n",
              "      fill: #D2E3FC;\n",
              "    }\n",
              "\n",
              "    [theme=dark] .colab-df-convert:hover {\n",
              "      background-color: #434B5C;\n",
              "      box-shadow: 0px 1px 3px 1px rgba(0, 0, 0, 0.15);\n",
              "      filter: drop-shadow(0px 1px 2px rgba(0, 0, 0, 0.3));\n",
              "      fill: #FFFFFF;\n",
              "    }\n",
              "  </style>\n",
              "\n",
              "      <script>\n",
              "        const buttonEl =\n",
              "          document.querySelector('#df-54feff15-30b6-47b5-960d-dd061d90c66f button.colab-df-convert');\n",
              "        buttonEl.style.display =\n",
              "          google.colab.kernel.accessAllowed ? 'block' : 'none';\n",
              "\n",
              "        async function convertToInteractive(key) {\n",
              "          const element = document.querySelector('#df-54feff15-30b6-47b5-960d-dd061d90c66f');\n",
              "          const dataTable =\n",
              "            await google.colab.kernel.invokeFunction('convertToInteractive',\n",
              "                                                     [key], {});\n",
              "          if (!dataTable) return;\n",
              "\n",
              "          const docLinkHtml = 'Like what you see? Visit the ' +\n",
              "            '<a target=\"_blank\" href=https://colab.research.google.com/notebooks/data_table.ipynb>data table notebook</a>'\n",
              "            + ' to learn more about interactive tables.';\n",
              "          element.innerHTML = '';\n",
              "          dataTable['output_type'] = 'display_data';\n",
              "          await google.colab.output.renderOutput(dataTable, element);\n",
              "          const docLink = document.createElement('div');\n",
              "          docLink.innerHTML = docLinkHtml;\n",
              "          element.appendChild(docLink);\n",
              "        }\n",
              "      </script>\n",
              "    </div>\n",
              "  </div>\n",
              "  "
            ]
          },
          "metadata": {},
          "execution_count": 28
        }
      ]
    },
    {
      "cell_type": "code",
      "source": [
        "sns.set_style('darkgrid')\n",
        "plt.figure(figsize=(6,4))\n",
        "property_type.plot(kind='bar')\n",
        "plt.title('Number of housing properties based on type')\n",
        "plt.xlabel('Property type')\n",
        "plt.ylabel('Number of properties')\n",
        "plt.xticks(rotation=45);"
      ],
      "metadata": {
        "colab": {
          "base_uri": "https://localhost:8080/",
          "height": 554
        },
        "id": "m6LYd4vM4ojr",
        "outputId": "b08f0517-1c1e-4963-f0df-3b25e6949741"
      },
      "execution_count": 29,
      "outputs": [
        {
          "output_type": "display_data",
          "data": {
            "text/plain": [
              "<Figure size 600x400 with 0 Axes>"
            ]
          },
          "metadata": {}
        },
        {
          "output_type": "display_data",
          "data": {
            "text/plain": [
              "<Figure size 640x480 with 1 Axes>"
            ],
            "image/png": "[encoded data removed]"
          },
          "metadata": {}
        }
      ]
    },
    {
      "cell_type": "markdown",
      "source": [
        "There are total 12 types of properties available. More than 90% of all the listed properties are of apartment type. Apartments are the most common type of accomodation in the areas with high population density. \n"
      ],
      "metadata": {
        "id": "gU5mHc_RgDhe"
      }
    },
    {
      "cell_type": "markdown",
      "source": [
        "### 2. What is the most common structure of the sold properties? "
      ],
      "metadata": {
        "id": "KXE5i3Sye9jG"
      }
    },
    {
      "cell_type": "code",
      "source": [
        "# counting number of properties with different numbers of bedrooms\n",
        "house.beds.value_counts()"
      ],
      "metadata": {
        "colab": {
          "base_uri": "https://localhost:8080/"
        },
        "id": "BuWKXSF0IRtU",
        "outputId": "29c9350f-dc55-4bc6-e679-a5cd280638d5"
      },
      "execution_count": 30,
      "outputs": [
        {
          "output_type": "execute_result",
          "data": {
            "text/plain": [
              "2    172102\n",
              "1    115397\n",
              "3     64133\n",
              "0     10769\n",
              "4      9703\n",
              "5      1463\n",
              "6        65\n",
              "8         8\n",
              "7         4\n",
              "Name: beds, dtype: int64"
            ]
          },
          "metadata": {},
          "execution_count": 30
        }
      ]
    },
    {
      "cell_type": "code",
      "source": [
        "house.beds.plot(kind='hist', bins = 10, alpha = 0.8)\n",
        "plt.xlabel('Number of bedrooms')\n",
        "plt.ylabel('Number of properties')\n",
        "plt.title('Frequency distribution of properties based on no of bedrooms');"
      ],
      "metadata": {
        "colab": {
          "base_uri": "https://localhost:8080/",
          "height": 472
        },
        "id": "Xr8HdAnA82bl",
        "outputId": "0f86f8ab-01a3-4004-bedd-86d4b28324ea"
      },
      "execution_count": 31,
      "outputs": [
        {
          "output_type": "display_data",
          "data": {
            "text/plain": [
              "<Figure size 640x480 with 1 Axes>"
            ],
            "image/png": "[encoded data removed]"
          },
          "metadata": {}
        }
      ]
    },
    {
      "cell_type": "code",
      "source": [
        "house.baths.value_counts()"
      ],
      "metadata": {
        "colab": {
          "base_uri": "https://localhost:8080/"
        },
        "id": "gAAUgNTcIVID",
        "outputId": "9af7d94b-b42e-4dcf-e2c5-454c2f8cf601"
      },
      "execution_count": 32,
      "outputs": [
        {
          "output_type": "execute_result",
          "data": {
            "text/plain": [
              "1.0    194618\n",
              "2.0    131042\n",
              "1.5     26954\n",
              "2.5     11939\n",
              "3.0      4162\n",
              "0.0      3012\n",
              "4.0      1172\n",
              "3.5       530\n",
              "4.5       130\n",
              "5.0        43\n",
              "5.5        37\n",
              "6.0         4\n",
              "7.5         1\n",
              "Name: baths, dtype: int64"
            ]
          },
          "metadata": {},
          "execution_count": 32
        }
      ]
    },
    {
      "cell_type": "code",
      "source": [
        "sns.boxplot(house, y='baths')\n",
        "plt.ylabel('No of bathrooms')\n",
        "plt.title('Boxplot distribution based on no of bathrooms')"
      ],
      "metadata": {
        "colab": {
          "base_uri": "https://localhost:8080/",
          "height": 445
        },
        "id": "3EzasQmnA4zA",
        "outputId": "cd1c44aa-bede-48e9-8d23-250050268a16"
      },
      "execution_count": 33,
      "outputs": [
        {
          "output_type": "execute_result",
          "data": {
            "text/plain": [
              "Text(0.5, 1.0, 'Boxplot distribution based on no of bathrooms')"
            ]
          },
          "metadata": {},
          "execution_count": 33
        },
        {
          "output_type": "display_data",
          "data": {
            "text/plain": [
              "<Figure size 640x480 with 1 Axes>"
            ],
            "image/png": "[encoded data removed]"
          },
          "metadata": {}
        }
      ]
    },
    {
      "cell_type": "code",
      "source": [
        "# calculating the number of furnished and unfurnished properties\n",
        "house.comes_furnished.value_counts()"
      ],
      "metadata": {
        "colab": {
          "base_uri": "https://localhost:8080/"
        },
        "id": "oMQgxEG5LDBH",
        "outputId": "fab7f8f0-be36-495d-f15b-97d0af238fde"
      },
      "execution_count": 34,
      "outputs": [
        {
          "output_type": "execute_result",
          "data": {
            "text/plain": [
              "0    356685\n",
              "1     16959\n",
              "Name: comes_furnished, dtype: int64"
            ]
          },
          "metadata": {},
          "execution_count": 34
        }
      ]
    },
    {
      "cell_type": "markdown",
      "source": [
        "Most of the sold properties have 2 bedrooms, followed by a single bedroom and 1 bathroom which usually is the requirement of working singles. Some properties having 3 bedrooms and 2 bathrooms suggests small families. The number of furnished properties is less than 5% of the total properties sold."
      ],
      "metadata": {
        "id": "FZ31rVOPhY6j"
      }
    },
    {
      "cell_type": "markdown",
      "source": [
        "### 3. How does the size of the property impact the price of the property ? What are the other factors that can influence the price? "
      ],
      "metadata": {
        "id": "CwtwPoXdMTO8"
      }
    },
    {
      "cell_type": "code",
      "source": [
        "# making a sample data\n",
        "sample = house.sample(int(0.001*len(house)))\n",
        "\n",
        "# plotting the price and the area of furnished and unfurnished properties on a scatterplot\n",
        "sns.scatterplot(sample,y=sample.price, x = sample.sqfeet, hue =sample.comes_furnished)\n",
        "plt.xlabel('Area in sqft')\n",
        "plt.ylabel('Price in $')\n",
        "plt.title('Relationship between Price and Area ');"
      ],
      "metadata": {
        "colab": {
          "base_uri": "https://localhost:8080/",
          "height": 472
        },
        "id": "RNI0Jn9ZwNe3",
        "outputId": "fa1faf30-9c03-4874-baaa-f4d959ee10fb"
      },
      "execution_count": 35,
      "outputs": [
        {
          "output_type": "display_data",
          "data": {
            "text/plain": [
              "<Figure size 640x480 with 1 Axes>"
            ],
            "image/png": "[encoded data removed]"
          },
          "metadata": {}
        }
      ]
    },
    {
      "cell_type": "markdown",
      "source": [
        "The price and area of a property are correlated. Various other factors like type of locality, proximity to health facilities, airports, educational institutions etc. can contribute to the price of a property.\n"
      ],
      "metadata": {
        "id": "xRw9FsO2LbJu"
      }
    },
    {
      "cell_type": "markdown",
      "source": [
        "### 4. Calculate the top 10 states with highest average price per squarefeet for the properties."
      ],
      "metadata": {
        "id": "nwytPWern5qA"
      }
    },
    {
      "cell_type": "code",
      "source": [
        "# adding a new column to the dataset named 'price per sqft = price/sqft'\n",
        "house['price per sqft'] = house['price']/house['sqfeet']\n",
        "house.head()"
      ],
      "metadata": {
        "colab": {
          "base_uri": "https://localhost:8080/",
          "height": 310
        },
        "id": "NFOD3uWT-SKH",
        "outputId": "492fb20f-5dd1-4aa8-816a-355bb6d108e6"
      },
      "execution_count": 36,
      "outputs": [
        {
          "output_type": "stream",
          "name": "stderr",
          "text": [
            "<ipython-input-36-780f215d000f>:2: SettingWithCopyWarning: \n",
            "A value is trying to be set on a copy of a slice from a DataFrame.\n",
            "Try using .loc[row_indexer,col_indexer] = value instead\n",
            "\n",
            "See the caveats in the documentation: https://pandas.pydata.org/pandas-docs/stable/user_guide/indexing.html#returning-a-view-versus-a-copy\n",
            "  house['price per sqft'] = house['price']/house['sqfeet']\n"
          ]
        },
        {
          "output_type": "execute_result",
          "data": {
            "text/plain": [
              "         region  price       type  sqfeet  beds  baths  comes_furnished  \\\n",
              "0  reno / tahoe   1148  apartment    1078     3    2.0                0   \n",
              "1  reno / tahoe   1200      condo    1001     2    2.0                0   \n",
              "2  reno / tahoe   1813  apartment    1683     2    2.0                0   \n",
              "3  reno / tahoe   1095  apartment     708     1    1.0                0   \n",
              "4  reno / tahoe    289  apartment     250     0    1.0                1   \n",
              "\n",
              "       lat     long       state state code  price per sqft  \n",
              "0  39.5483 -119.796  California         ca        1.064935  \n",
              "1  39.5026 -119.789  California         ca        1.198801  \n",
              "2  39.6269 -119.708  California         ca        1.077243  \n",
              "3  39.4477 -119.771  California         ca        1.546610  \n",
              "4  39.5357 -119.805  California         ca        1.156000  "
            ],
            "text/html": [
              "\n",
              "  <div id=\"df-3a5a14a3-9416-4161-9a96-35fd26b4b674\">\n",
              "    <div class=\"colab-df-container\">\n",
              "      <div>\n",
              "<style scoped>\n",
              "    .dataframe tbody tr th:only-of-type {\n",
              "        vertical-align: middle;\n",
              "    }\n",
              "\n",
              "    .dataframe tbody tr th {\n",
              "        vertical-align: top;\n",
              "    }\n",
              "\n",
              "    .dataframe thead th {\n",
              "        text-align: right;\n",
              "    }\n",
              "</style>\n",
              "<table border=\"1\" class=\"dataframe\">\n",
              "  <thead>\n",
              "    <tr style=\"text-align: right;\">\n",
              "      <th></th>\n",
              "      <th>region</th>\n",
              "      <th>price</th>\n",
              "      <th>type</th>\n",
              "      <th>sqfeet</th>\n",
              "      <th>beds</th>\n",
              "      <th>baths</th>\n",
              "      <th>comes_furnished</th>\n",
              "      <th>lat</th>\n",
              "      <th>long</th>\n",
              "      <th>state</th>\n",
              "      <th>state code</th>\n",
              "      <th>price per sqft</th>\n",
              "    </tr>\n",
              "  </thead>\n",
              "  <tbody>\n",
              "    <tr>\n",
              "      <th>0</th>\n",
              "      <td>reno / tahoe</td>\n",
              "      <td>1148</td>\n",
              "      <td>apartment</td>\n",
              "      <td>1078</td>\n",
              "      <td>3</td>\n",
              "      <td>2.0</td>\n",
              "      <td>0</td>\n",
              "      <td>39.5483</td>\n",
              "      <td>-119.796</td>\n",
              "      <td>California</td>\n",
              "      <td>ca</td>\n",
              "      <td>1.064935</td>\n",
              "    </tr>\n",
              "    <tr>\n",
              "      <th>1</th>\n",
              "      <td>reno / tahoe</td>\n",
              "      <td>1200</td>\n",
              "      <td>condo</td>\n",
              "      <td>1001</td>\n",
              "      <td>2</td>\n",
              "      <td>2.0</td>\n",
              "      <td>0</td>\n",
              "      <td>39.5026</td>\n",
              "      <td>-119.789</td>\n",
              "      <td>California</td>\n",
              "      <td>ca</td>\n",
              "      <td>1.198801</td>\n",
              "    </tr>\n",
              "    <tr>\n",
              "      <th>2</th>\n",
              "      <td>reno / tahoe</td>\n",
              "      <td>1813</td>\n",
              "      <td>apartment</td>\n",
              "      <td>1683</td>\n",
              "      <td>2</td>\n",
              "      <td>2.0</td>\n",
              "      <td>0</td>\n",
              "      <td>39.6269</td>\n",
              "      <td>-119.708</td>\n",
              "      <td>California</td>\n",
              "      <td>ca</td>\n",
              "      <td>1.077243</td>\n",
              "    </tr>\n",
              "    <tr>\n",
              "      <th>3</th>\n",
              "      <td>reno / tahoe</td>\n",
              "      <td>1095</td>\n",
              "      <td>apartment</td>\n",
              "      <td>708</td>\n",
              "      <td>1</td>\n",
              "      <td>1.0</td>\n",
              "      <td>0</td>\n",
              "      <td>39.4477</td>\n",
              "      <td>-119.771</td>\n",
              "      <td>California</td>\n",
              "      <td>ca</td>\n",
              "      <td>1.546610</td>\n",
              "    </tr>\n",
              "    <tr>\n",
              "      <th>4</th>\n",
              "      <td>reno / tahoe</td>\n",
              "      <td>289</td>\n",
              "      <td>apartment</td>\n",
              "      <td>250</td>\n",
              "      <td>0</td>\n",
              "      <td>1.0</td>\n",
              "      <td>1</td>\n",
              "      <td>39.5357</td>\n",
              "      <td>-119.805</td>\n",
              "      <td>California</td>\n",
              "      <td>ca</td>\n",
              "      <td>1.156000</td>\n",
              "    </tr>\n",
              "  </tbody>\n",
              "</table>\n",
              "</div>\n",
              "      <button class=\"colab-df-convert\" onclick=\"convertToInteractive('df-3a5a14a3-9416-4161-9a96-35fd26b4b674')\"\n",
              "              title=\"Convert this dataframe to an interactive table.\"\n",
              "              style=\"display:none;\">\n",
              "        \n",
              "  <svg xmlns=\"http://www.w3.org/2000/svg\" height=\"24px\"viewBox=\"0 0 24 24\"\n",
              "       width=\"24px\">\n",
              "    <path d=\"M0 0h24v24H0V0z\" fill=\"none\"/>\n",
              "    <path d=\"M18.56 5.44l.94 2.06.94-2.06 2.06-.94-2.06-.94-.94-2.06-.94 2.06-2.06.94zm-11 1L8.5 8.5l.94-2.06 2.06-.94-2.06-.94L8.5 2.5l-.94 2.06-2.06.94zm10 10l.94 2.06.94-2.06 2.06-.94-2.06-.94-.94-2.06-.94 2.06-2.06.94z\"/><path d=\"M17.41 7.96l-1.37-1.37c-.4-.4-.92-.59-1.43-.59-.52 0-1.04.2-1.43.59L10.3 9.45l-7.72 7.72c-.78.78-.78 2.05 0 2.83L4 21.41c.39.39.9.59 1.41.59.51 0 1.02-.2 1.41-.59l7.78-7.78 2.81-2.81c.8-.78.8-2.07 0-2.86zM5.41 20L4 18.59l7.72-7.72 1.47 1.35L5.41 20z\"/>\n",
              "  </svg>\n",
              "      </button>\n",
              "      \n",
              "  <style>\n",
              "    .colab-df-container {\n",
              "      display:flex;\n",
              "      flex-wrap:wrap;\n",
              "      gap: 12px;\n",
              "    }\n",
              "\n",
              "    .colab-df-convert {\n",
              "      background-color: #E8F0FE;\n",
              "      border: none;\n",
              "      border-radius: 50%;\n",
              "      cursor: pointer;\n",
              "      display: none;\n",
              "      fill: #1967D2;\n",
              "      height: 32px;\n",
              "      padding: 0 0 0 0;\n",
              "      width: 32px;\n",
              "    }\n",
              "\n",
              "    .colab-df-convert:hover {\n",
              "      background-color: #E2EBFA;\n",
              "      box-shadow: 0px 1px 2px rgba(60, 64, 67, 0.3), 0px 1px 3px 1px rgba(60, 64, 67, 0.15);\n",
              "      fill: #174EA6;\n",
              "    }\n",
              "\n",
              "    [theme=dark] .colab-df-convert {\n",
              "      background-color: #3B4455;\n",
              "      fill: #D2E3FC;\n",
              "    }\n",
              "\n",
              "    [theme=dark] .colab-df-convert:hover {\n",
              "      background-color: #434B5C;\n",
              "      box-shadow: 0px 1px 3px 1px rgba(0, 0, 0, 0.15);\n",
              "      filter: drop-shadow(0px 1px 2px rgba(0, 0, 0, 0.3));\n",
              "      fill: #FFFFFF;\n",
              "    }\n",
              "  </style>\n",
              "\n",
              "      <script>\n",
              "        const buttonEl =\n",
              "          document.querySelector('#df-3a5a14a3-9416-4161-9a96-35fd26b4b674 button.colab-df-convert');\n",
              "        buttonEl.style.display =\n",
              "          google.colab.kernel.accessAllowed ? 'block' : 'none';\n",
              "\n",
              "        async function convertToInteractive(key) {\n",
              "          const element = document.querySelector('#df-3a5a14a3-9416-4161-9a96-35fd26b4b674');\n",
              "          const dataTable =\n",
              "            await google.colab.kernel.invokeFunction('convertToInteractive',\n",
              "                                                     [key], {});\n",
              "          if (!dataTable) return;\n",
              "\n",
              "          const docLinkHtml = 'Like what you see? Visit the ' +\n",
              "            '<a target=\"_blank\" href=https://colab.research.google.com/notebooks/data_table.ipynb>data table notebook</a>'\n",
              "            + ' to learn more about interactive tables.';\n",
              "          element.innerHTML = '';\n",
              "          dataTable['output_type'] = 'display_data';\n",
              "          await google.colab.output.renderOutput(dataTable, element);\n",
              "          const docLink = document.createElement('div');\n",
              "          docLink.innerHTML = docLinkHtml;\n",
              "          element.appendChild(docLink);\n",
              "        }\n",
              "      </script>\n",
              "    </div>\n",
              "  </div>\n",
              "  "
            ]
          },
          "metadata": {},
          "execution_count": 36
        }
      ]
    },
    {
      "cell_type": "code",
      "source": [
        "# getting statistical values for numerical columns\n",
        "house.describe()"
      ],
      "metadata": {
        "colab": {
          "base_uri": "https://localhost:8080/",
          "height": 300
        },
        "id": "2qmrjr98QQIp",
        "outputId": "f948ab85-27bc-42d6-f6ef-478c1b25bd27"
      },
      "execution_count": 37,
      "outputs": [
        {
          "output_type": "execute_result",
          "data": {
            "text/plain": [
              "               price         sqfeet           beds          baths  \\\n",
              "count  373644.000000  373644.000000  373644.000000  373644.000000   \n",
              "mean     1153.035526     972.956552       1.869718       1.464079   \n",
              "std       490.529468     324.343213       0.849550       0.568749   \n",
              "min       106.000000      85.000000       0.000000       0.000000   \n",
              "25%       809.000000     750.000000       1.000000       1.000000   \n",
              "50%      1030.000000     940.000000       2.000000       1.000000   \n",
              "75%      1380.000000    1134.000000       2.000000       2.000000   \n",
              "max      3499.000000    2499.000000       8.000000       7.500000   \n",
              "\n",
              "       comes_furnished            lat           long  price per sqft  \n",
              "count    373644.000000  373644.000000  373644.000000   373644.000000  \n",
              "mean          0.045388      37.235526     -92.544577        1.265238  \n",
              "std           0.208154       5.545023      16.410311        0.617286  \n",
              "min           0.000000     -40.266600    -163.894000        0.060000  \n",
              "25%           0.000000      33.439050     -98.616900        0.888889  \n",
              "50%           0.000000      37.658000     -87.660400        1.121795  \n",
              "75%           0.000000      41.146000     -81.179600        1.470588  \n",
              "max           1.000000     102.036000      94.156100       30.000000  "
            ],
            "text/html": [
              "\n",
              "  <div id=\"df-2f28ce18-d4d7-4a30-8aaf-5fc4e3ff09b7\">\n",
              "    <div class=\"colab-df-container\">\n",
              "      <div>\n",
              "<style scoped>\n",
              "    .dataframe tbody tr th:only-of-type {\n",
              "        vertical-align: middle;\n",
              "    }\n",
              "\n",
              "    .dataframe tbody tr th {\n",
              "        vertical-align: top;\n",
              "    }\n",
              "\n",
              "    .dataframe thead th {\n",
              "        text-align: right;\n",
              "    }\n",
              "</style>\n",
              "<table border=\"1\" class=\"dataframe\">\n",
              "  <thead>\n",
              "    <tr style=\"text-align: right;\">\n",
              "      <th></th>\n",
              "      <th>price</th>\n",
              "      <th>sqfeet</th>\n",
              "      <th>beds</th>\n",
              "      <th>baths</th>\n",
              "      <th>comes_furnished</th>\n",
              "      <th>lat</th>\n",
              "      <th>long</th>\n",
              "      <th>price per sqft</th>\n",
              "    </tr>\n",
              "  </thead>\n",
              "  <tbody>\n",
              "    <tr>\n",
              "      <th>count</th>\n",
              "      <td>373644.000000</td>\n",
              "      <td>373644.000000</td>\n",
              "      <td>373644.000000</td>\n",
              "      <td>373644.000000</td>\n",
              "      <td>373644.000000</td>\n",
              "      <td>373644.000000</td>\n",
              "      <td>373644.000000</td>\n",
              "      <td>373644.000000</td>\n",
              "    </tr>\n",
              "    <tr>\n",
              "      <th>mean</th>\n",
              "      <td>1153.035526</td>\n",
              "      <td>972.956552</td>\n",
              "      <td>1.869718</td>\n",
              "      <td>1.464079</td>\n",
              "      <td>0.045388</td>\n",
              "      <td>37.235526</td>\n",
              "      <td>-92.544577</td>\n",
              "      <td>1.265238</td>\n",
              "    </tr>\n",
              "    <tr>\n",
              "      <th>std</th>\n",
              "      <td>490.529468</td>\n",
              "      <td>324.343213</td>\n",
              "      <td>0.849550</td>\n",
              "      <td>0.568749</td>\n",
              "      <td>0.208154</td>\n",
              "      <td>5.545023</td>\n",
              "      <td>16.410311</td>\n",
              "      <td>0.617286</td>\n",
              "    </tr>\n",
              "    <tr>\n",
              "      <th>min</th>\n",
              "      <td>106.000000</td>\n",
              "      <td>85.000000</td>\n",
              "      <td>0.000000</td>\n",
              "      <td>0.000000</td>\n",
              "      <td>0.000000</td>\n",
              "      <td>-40.266600</td>\n",
              "      <td>-163.894000</td>\n",
              "      <td>0.060000</td>\n",
              "    </tr>\n",
              "    <tr>\n",
              "      <th>25%</th>\n",
              "      <td>809.000000</td>\n",
              "      <td>750.000000</td>\n",
              "      <td>1.000000</td>\n",
              "      <td>1.000000</td>\n",
              "      <td>0.000000</td>\n",
              "      <td>33.439050</td>\n",
              "      <td>-98.616900</td>\n",
              "      <td>0.888889</td>\n",
              "    </tr>\n",
              "    <tr>\n",
              "      <th>50%</th>\n",
              "      <td>1030.000000</td>\n",
              "      <td>940.000000</td>\n",
              "      <td>2.000000</td>\n",
              "      <td>1.000000</td>\n",
              "      <td>0.000000</td>\n",
              "      <td>37.658000</td>\n",
              "      <td>-87.660400</td>\n",
              "      <td>1.121795</td>\n",
              "    </tr>\n",
              "    <tr>\n",
              "      <th>75%</th>\n",
              "      <td>1380.000000</td>\n",
              "      <td>1134.000000</td>\n",
              "      <td>2.000000</td>\n",
              "      <td>2.000000</td>\n",
              "      <td>0.000000</td>\n",
              "      <td>41.146000</td>\n",
              "      <td>-81.179600</td>\n",
              "      <td>1.470588</td>\n",
              "    </tr>\n",
              "    <tr>\n",
              "      <th>max</th>\n",
              "      <td>3499.000000</td>\n",
              "      <td>2499.000000</td>\n",
              "      <td>8.000000</td>\n",
              "      <td>7.500000</td>\n",
              "      <td>1.000000</td>\n",
              "      <td>102.036000</td>\n",
              "      <td>94.156100</td>\n",
              "      <td>30.000000</td>\n",
              "    </tr>\n",
              "  </tbody>\n",
              "</table>\n",
              "</div>\n",
              "      <button class=\"colab-df-convert\" onclick=\"convertToInteractive('df-2f28ce18-d4d7-4a30-8aaf-5fc4e3ff09b7')\"\n",
              "              title=\"Convert this dataframe to an interactive table.\"\n",
              "              style=\"display:none;\">\n",
              "        \n",
              "  <svg xmlns=\"http://www.w3.org/2000/svg\" height=\"24px\"viewBox=\"0 0 24 24\"\n",
              "       width=\"24px\">\n",
              "    <path d=\"M0 0h24v24H0V0z\" fill=\"none\"/>\n",
              "    <path d=\"M18.56 5.44l.94 2.06.94-2.06 2.06-.94-2.06-.94-.94-2.06-.94 2.06-2.06.94zm-11 1L8.5 8.5l.94-2.06 2.06-.94-2.06-.94L8.5 2.5l-.94 2.06-2.06.94zm10 10l.94 2.06.94-2.06 2.06-.94-2.06-.94-.94-2.06-.94 2.06-2.06.94z\"/><path d=\"M17.41 7.96l-1.37-1.37c-.4-.4-.92-.59-1.43-.59-.52 0-1.04.2-1.43.59L10.3 9.45l-7.72 7.72c-.78.78-.78 2.05 0 2.83L4 21.41c.39.39.9.59 1.41.59.51 0 1.02-.2 1.41-.59l7.78-7.78 2.81-2.81c.8-.78.8-2.07 0-2.86zM5.41 20L4 18.59l7.72-7.72 1.47 1.35L5.41 20z\"/>\n",
              "  </svg>\n",
              "      </button>\n",
              "      \n",
              "  <style>\n",
              "    .colab-df-container {\n",
              "      display:flex;\n",
              "      flex-wrap:wrap;\n",
              "      gap: 12px;\n",
              "    }\n",
              "\n",
              "    .colab-df-convert {\n",
              "      background-color: #E8F0FE;\n",
              "      border: none;\n",
              "      border-radius: 50%;\n",
              "      cursor: pointer;\n",
              "      display: none;\n",
              "      fill: #1967D2;\n",
              "      height: 32px;\n",
              "      padding: 0 0 0 0;\n",
              "      width: 32px;\n",
              "    }\n",
              "\n",
              "    .colab-df-convert:hover {\n",
              "      background-color: #E2EBFA;\n",
              "      box-shadow: 0px 1px 2px rgba(60, 64, 67, 0.3), 0px 1px 3px 1px rgba(60, 64, 67, 0.15);\n",
              "      fill: #174EA6;\n",
              "    }\n",
              "\n",
              "    [theme=dark] .colab-df-convert {\n",
              "      background-color: #3B4455;\n",
              "      fill: #D2E3FC;\n",
              "    }\n",
              "\n",
              "    [theme=dark] .colab-df-convert:hover {\n",
              "      background-color: #434B5C;\n",
              "      box-shadow: 0px 1px 3px 1px rgba(0, 0, 0, 0.15);\n",
              "      filter: drop-shadow(0px 1px 2px rgba(0, 0, 0, 0.3));\n",
              "      fill: #FFFFFF;\n",
              "    }\n",
              "  </style>\n",
              "\n",
              "      <script>\n",
              "        const buttonEl =\n",
              "          document.querySelector('#df-2f28ce18-d4d7-4a30-8aaf-5fc4e3ff09b7 button.colab-df-convert');\n",
              "        buttonEl.style.display =\n",
              "          google.colab.kernel.accessAllowed ? 'block' : 'none';\n",
              "\n",
              "        async function convertToInteractive(key) {\n",
              "          const element = document.querySelector('#df-2f28ce18-d4d7-4a30-8aaf-5fc4e3ff09b7');\n",
              "          const dataTable =\n",
              "            await google.colab.kernel.invokeFunction('convertToInteractive',\n",
              "                                                     [key], {});\n",
              "          if (!dataTable) return;\n",
              "\n",
              "          const docLinkHtml = 'Like what you see? Visit the ' +\n",
              "            '<a target=\"_blank\" href=https://colab.research.google.com/notebooks/data_table.ipynb>data table notebook</a>'\n",
              "            + ' to learn more about interactive tables.';\n",
              "          element.innerHTML = '';\n",
              "          dataTable['output_type'] = 'display_data';\n",
              "          await google.colab.output.renderOutput(dataTable, element);\n",
              "          const docLink = document.createElement('div');\n",
              "          docLink.innerHTML = docLinkHtml;\n",
              "          element.appendChild(docLink);\n",
              "        }\n",
              "      </script>\n",
              "    </div>\n",
              "  </div>\n",
              "  "
            ]
          },
          "metadata": {},
          "execution_count": 37
        }
      ]
    },
    {
      "cell_type": "code",
      "source": [
        "# calculating statewise average price per unit area \n",
        "state_avg_price_area = house.groupby('state')['price per sqft'].mean()"
      ],
      "metadata": {
        "id": "s7EUVJwK78pQ"
      },
      "execution_count": 38,
      "outputs": []
    },
    {
      "cell_type": "code",
      "source": [
        "state_avg_price_area.sort_values(ascending = False).head(10).plot(kind='barh')\n",
        "plt.xlabel('Price per unit area in $')\n",
        "plt.ylabel('State')\n",
        "plt.title('Top 10 states with highest price per unit area')\n",
        "plt.legend();"
      ],
      "metadata": {
        "colab": {
          "base_uri": "https://localhost:8080/",
          "height": 472
        },
        "id": "yi078fjwquVB",
        "outputId": "7fc6d216-424e-43be-d985-f9cbf763bbbd"
      },
      "execution_count": 39,
      "outputs": [
        {
          "output_type": "display_data",
          "data": {
            "text/plain": [
              "<Figure size 640x480 with 1 Axes>"
            ],
            "image/png": "[encoded data removed]"
          },
          "metadata": {}
        }
      ]
    },
    {
      "cell_type": "markdown",
      "source": [
        "Hawaii being a tourist destination  island state in the pacific has the highest average price per unit area, followed by the capital city of DC. There are 5 north eastern coastal states in the top 10 states with average price per unit area for a property.  "
      ],
      "metadata": {
        "id": "hOwJTwlX5BLw"
      }
    },
    {
      "cell_type": "markdown",
      "source": [
        "### 5. Which regions have the highest number of housing properties sold ?"
      ],
      "metadata": {
        "id": "kMblnaFZh8y-"
      }
    },
    {
      "cell_type": "code",
      "source": [
        "# Creating a new dataframe by grouping the properties data regionwise and \n",
        "# then aggregating the average values of price, area and price per unit area.\n",
        "\n",
        "region_avg_df = house.groupby(['region','state']).agg({'region':'count',\n",
        "                                            'price':'mean',\n",
        "                                            'sqfeet':'mean',\n",
        "                                            'price per sqft':'mean'})\n",
        "region_avg_df"
      ],
      "metadata": {
        "colab": {
          "base_uri": "https://localhost:8080/",
          "height": 455
        },
        "id": "DmsmO9ygvK4q",
        "outputId": "894f5742-d2c1-40d5-ee6c-aeeacd5200c8"
      },
      "execution_count": 40,
      "outputs": [
        {
          "output_type": "execute_result",
          "data": {
            "text/plain": [
              "                                     region        price       sqfeet  \\\n",
              "region                 state                                            \n",
              "SF bay area            California      1720  2500.254070   833.842442   \n",
              "abilene                Texas            892   792.477578   868.060538   \n",
              "akron / canton         Ohio            1516   846.682058   994.015172   \n",
              "albany                 Georgia          844   698.966825  1030.251185   \n",
              "                       New York        1198  1253.459098  1061.068447   \n",
              "...                                     ...          ...          ...   \n",
              "york                   Pennsylvania     623  1041.605136  1091.332263   \n",
              "youngstown             Ohio             250   737.116000  1160.944000   \n",
              "yuba-sutter            California       143  1447.650350  1263.111888   \n",
              "yuma                   Arizona          212   796.174528   783.849057   \n",
              "zanesville / cambridge Ohio             193   863.378238  1147.611399   \n",
              "\n",
              "                                     price per sqft  \n",
              "region                 state                         \n",
              "SF bay area            California          3.260138  \n",
              "abilene                Texas               0.957534  \n",
              "akron / canton         Ohio                0.901439  \n",
              "albany                 Georgia             0.720068  \n",
              "                       New York            1.249471  \n",
              "...                                             ...  \n",
              "york                   Pennsylvania        1.076597  \n",
              "youngstown             Ohio                0.683795  \n",
              "yuba-sutter            California          1.238950  \n",
              "yuma                   Arizona             1.095765  \n",
              "zanesville / cambridge Ohio                0.773377  \n",
              "\n",
              "[427 rows x 4 columns]"
            ],
            "text/html": [
              "\n",
              "  <div id=\"df-92f362d5-e45c-4d20-9034-23d82f478f31\">\n",
              "    <div class=\"colab-df-container\">\n",
              "      <div>\n",
              "<style scoped>\n",
              "    .dataframe tbody tr th:only-of-type {\n",
              "        vertical-align: middle;\n",
              "    }\n",
              "\n",
              "    .dataframe tbody tr th {\n",
              "        vertical-align: top;\n",
              "    }\n",
              "\n",
              "    .dataframe thead th {\n",
              "        text-align: right;\n",
              "    }\n",
              "</style>\n",
              "<table border=\"1\" class=\"dataframe\">\n",
              "  <thead>\n",
              "    <tr style=\"text-align: right;\">\n",
              "      <th></th>\n",
              "      <th></th>\n",
              "      <th>region</th>\n",
              "      <th>price</th>\n",
              "      <th>sqfeet</th>\n",
              "      <th>price per sqft</th>\n",
              "    </tr>\n",
              "    <tr>\n",
              "      <th>region</th>\n",
              "      <th>state</th>\n",
              "      <th></th>\n",
              "      <th></th>\n",
              "      <th></th>\n",
              "      <th></th>\n",
              "    </tr>\n",
              "  </thead>\n",
              "  <tbody>\n",
              "    <tr>\n",
              "      <th>SF bay area</th>\n",
              "      <th>California</th>\n",
              "      <td>1720</td>\n",
              "      <td>2500.254070</td>\n",
              "      <td>833.842442</td>\n",
              "      <td>3.260138</td>\n",
              "    </tr>\n",
              "    <tr>\n",
              "      <th>abilene</th>\n",
              "      <th>Texas</th>\n",
              "      <td>892</td>\n",
              "      <td>792.477578</td>\n",
              "      <td>868.060538</td>\n",
              "      <td>0.957534</td>\n",
              "    </tr>\n",
              "    <tr>\n",
              "      <th>akron / canton</th>\n",
              "      <th>Ohio</th>\n",
              "      <td>1516</td>\n",
              "      <td>846.682058</td>\n",
              "      <td>994.015172</td>\n",
              "      <td>0.901439</td>\n",
              "    </tr>\n",
              "    <tr>\n",
              "      <th rowspan=\"2\" valign=\"top\">albany</th>\n",
              "      <th>Georgia</th>\n",
              "      <td>844</td>\n",
              "      <td>698.966825</td>\n",
              "      <td>1030.251185</td>\n",
              "      <td>0.720068</td>\n",
              "    </tr>\n",
              "    <tr>\n",
              "      <th>New York</th>\n",
              "      <td>1198</td>\n",
              "      <td>1253.459098</td>\n",
              "      <td>1061.068447</td>\n",
              "      <td>1.249471</td>\n",
              "    </tr>\n",
              "    <tr>\n",
              "      <th>...</th>\n",
              "      <th>...</th>\n",
              "      <td>...</td>\n",
              "      <td>...</td>\n",
              "      <td>...</td>\n",
              "      <td>...</td>\n",
              "    </tr>\n",
              "    <tr>\n",
              "      <th>york</th>\n",
              "      <th>Pennsylvania</th>\n",
              "      <td>623</td>\n",
              "      <td>1041.605136</td>\n",
              "      <td>1091.332263</td>\n",
              "      <td>1.076597</td>\n",
              "    </tr>\n",
              "    <tr>\n",
              "      <th>youngstown</th>\n",
              "      <th>Ohio</th>\n",
              "      <td>250</td>\n",
              "      <td>737.116000</td>\n",
              "      <td>1160.944000</td>\n",
              "      <td>0.683795</td>\n",
              "    </tr>\n",
              "    <tr>\n",
              "      <th>yuba-sutter</th>\n",
              "      <th>California</th>\n",
              "      <td>143</td>\n",
              "      <td>1447.650350</td>\n",
              "      <td>1263.111888</td>\n",
              "      <td>1.238950</td>\n",
              "    </tr>\n",
              "    <tr>\n",
              "      <th>yuma</th>\n",
              "      <th>Arizona</th>\n",
              "      <td>212</td>\n",
              "      <td>796.174528</td>\n",
              "      <td>783.849057</td>\n",
              "      <td>1.095765</td>\n",
              "    </tr>\n",
              "    <tr>\n",
              "      <th>zanesville / cambridge</th>\n",
              "      <th>Ohio</th>\n",
              "      <td>193</td>\n",
              "      <td>863.378238</td>\n",
              "      <td>1147.611399</td>\n",
              "      <td>0.773377</td>\n",
              "    </tr>\n",
              "  </tbody>\n",
              "</table>\n",
              "<p>427 rows × 4 columns</p>\n",
              "</div>\n",
              "      <button class=\"colab-df-convert\" onclick=\"convertToInteractive('df-92f362d5-e45c-4d20-9034-23d82f478f31')\"\n",
              "              title=\"Convert this dataframe to an interactive table.\"\n",
              "              style=\"display:none;\">\n",
              "        \n",
              "  <svg xmlns=\"http://www.w3.org/2000/svg\" height=\"24px\"viewBox=\"0 0 24 24\"\n",
              "       width=\"24px\">\n",
              "    <path d=\"M0 0h24v24H0V0z\" fill=\"none\"/>\n",
              "    <path d=\"M18.56 5.44l.94 2.06.94-2.06 2.06-.94-2.06-.94-.94-2.06-.94 2.06-2.06.94zm-11 1L8.5 8.5l.94-2.06 2.06-.94-2.06-.94L8.5 2.5l-.94 2.06-2.06.94zm10 10l.94 2.06.94-2.06 2.06-.94-2.06-.94-.94-2.06-.94 2.06-2.06.94z\"/><path d=\"M17.41 7.96l-1.37-1.37c-.4-.4-.92-.59-1.43-.59-.52 0-1.04.2-1.43.59L10.3 9.45l-7.72 7.72c-.78.78-.78 2.05 0 2.83L4 21.41c.39.39.9.59 1.41.59.51 0 1.02-.2 1.41-.59l7.78-7.78 2.81-2.81c.8-.78.8-2.07 0-2.86zM5.41 20L4 18.59l7.72-7.72 1.47 1.35L5.41 20z\"/>\n",
              "  </svg>\n",
              "      </button>\n",
              "      \n",
              "  <style>\n",
              "    .colab-df-container {\n",
              "      display:flex;\n",
              "      flex-wrap:wrap;\n",
              "      gap: 12px;\n",
              "    }\n",
              "\n",
              "    .colab-df-convert {\n",
              "      background-color: #E8F0FE;\n",
              "      border: none;\n",
              "      border-radius: 50%;\n",
              "      cursor: pointer;\n",
              "      display: none;\n",
              "      fill: #1967D2;\n",
              "      height: 32px;\n",
              "      padding: 0 0 0 0;\n",
              "      width: 32px;\n",
              "    }\n",
              "\n",
              "    .colab-df-convert:hover {\n",
              "      background-color: #E2EBFA;\n",
              "      box-shadow: 0px 1px 2px rgba(60, 64, 67, 0.3), 0px 1px 3px 1px rgba(60, 64, 67, 0.15);\n",
              "      fill: #174EA6;\n",
              "    }\n",
              "\n",
              "    [theme=dark] .colab-df-convert {\n",
              "      background-color: #3B4455;\n",
              "      fill: #D2E3FC;\n",
              "    }\n",
              "\n",
              "    [theme=dark] .colab-df-convert:hover {\n",
              "      background-color: #434B5C;\n",
              "      box-shadow: 0px 1px 3px 1px rgba(0, 0, 0, 0.15);\n",
              "      filter: drop-shadow(0px 1px 2px rgba(0, 0, 0, 0.3));\n",
              "      fill: #FFFFFF;\n",
              "    }\n",
              "  </style>\n",
              "\n",
              "      <script>\n",
              "        const buttonEl =\n",
              "          document.querySelector('#df-92f362d5-e45c-4d20-9034-23d82f478f31 button.colab-df-convert');\n",
              "        buttonEl.style.display =\n",
              "          google.colab.kernel.accessAllowed ? 'block' : 'none';\n",
              "\n",
              "        async function convertToInteractive(key) {\n",
              "          const element = document.querySelector('#df-92f362d5-e45c-4d20-9034-23d82f478f31');\n",
              "          const dataTable =\n",
              "            await google.colab.kernel.invokeFunction('convertToInteractive',\n",
              "                                                     [key], {});\n",
              "          if (!dataTable) return;\n",
              "\n",
              "          const docLinkHtml = 'Like what you see? Visit the ' +\n",
              "            '<a target=\"_blank\" href=https://colab.research.google.com/notebooks/data_table.ipynb>data table notebook</a>'\n",
              "            + ' to learn more about interactive tables.';\n",
              "          element.innerHTML = '';\n",
              "          dataTable['output_type'] = 'display_data';\n",
              "          await google.colab.output.renderOutput(dataTable, element);\n",
              "          const docLink = document.createElement('div');\n",
              "          docLink.innerHTML = docLinkHtml;\n",
              "          element.appendChild(docLink);\n",
              "        }\n",
              "      </script>\n",
              "    </div>\n",
              "  </div>\n",
              "  "
            ]
          },
          "metadata": {},
          "execution_count": 40
        }
      ]
    },
    {
      "cell_type": "code",
      "source": [
        "region_avg_df.rename(columns={'region':'total_properties'},inplace=True)"
      ],
      "metadata": {
        "id": "Ngt_QylUv8QZ"
      },
      "execution_count": 41,
      "outputs": []
    },
    {
      "cell_type": "code",
      "source": [
        "region_avg_df.reset_index(inplace=True)"
      ],
      "metadata": {
        "id": "j5Ub5LVSwnKW"
      },
      "execution_count": 42,
      "outputs": []
    },
    {
      "cell_type": "code",
      "source": [
        "region_avg_df['region'] = region_avg_df['region'].str.capitalize()\n"
      ],
      "metadata": {
        "id": "8jaAjr1a1idj"
      },
      "execution_count": 43,
      "outputs": []
    },
    {
      "cell_type": "code",
      "source": [
        "# Regions with the highest number of sold properties\n",
        "region_avg_df.sort_values(by=['total_properties'], ascending = False).head(15)"
      ],
      "metadata": {
        "colab": {
          "base_uri": "https://localhost:8080/",
          "height": 519
        },
        "id": "Wei2UJEviJfW",
        "outputId": "9bc7e011-a3e4-4283-cce7-ca34f6c2b37e"
      },
      "execution_count": 44,
      "outputs": [
        {
          "output_type": "execute_result",
          "data": {
            "text/plain": [
              "                      region           state  total_properties        price  \\\n",
              "124           Fredericksburg        Virginia              2726  1294.162142   \n",
              "269   Omaha / council bluffs            Iowa              2703   935.820570   \n",
              "317           Salt lake city            Utah              2653  1222.592537   \n",
              "111             Fayetteville  North Carolina              2612   836.370214   \n",
              "167             Jacksonville         Florida              2571  1089.247375   \n",
              "328    Savannah / hinesville         Georgia              2565  1068.657310   \n",
              "290                 Portland          Oregon              2533  1469.881169   \n",
              "274                  Orlando         Florida              2531  1306.364283   \n",
              "331           Seattle-tacoma      Washington              2523  1789.274673   \n",
              "204                  Lincoln        Nebraska              2522   989.639175   \n",
              "118  Fort collins / north co        Colorado              2521  1368.492265   \n",
              "38                   Boulder        Colorado              2520  1696.680556   \n",
              "161            Inland empire      California              2516  1690.234499   \n",
              "19                   Augusta         Georgia              2513   949.607242   \n",
              "373                 Stockton      California              2507  1509.450339   \n",
              "\n",
              "          sqfeet  price per sqft  \n",
              "124  1102.804109        1.223715  \n",
              "269   939.002960        1.034066  \n",
              "317   934.707124        1.366817  \n",
              "111  1032.147397        0.840868  \n",
              "167   968.857643        1.163625  \n",
              "328   970.644834        1.184329  \n",
              "290   912.795894        1.751862  \n",
              "274   999.745555        1.368778  \n",
              "331   861.076100        2.295109  \n",
              "204  1032.594766        0.993877  \n",
              "118   891.706069        1.632148  \n",
              "38    953.123810        1.873577  \n",
              "161   942.337043        1.943786  \n",
              "19   1034.396339        0.948640  \n",
              "373   875.719585        1.813647  "
            ],
            "text/html": [
              "\n",
              "  <div id=\"df-688d986a-fbde-4c87-8a1a-8e3d8ec9380b\">\n",
              "    <div class=\"colab-df-container\">\n",
              "      <div>\n",
              "<style scoped>\n",
              "    .dataframe tbody tr th:only-of-type {\n",
              "        vertical-align: middle;\n",
              "    }\n",
              "\n",
              "    .dataframe tbody tr th {\n",
              "        vertical-align: top;\n",
              "    }\n",
              "\n",
              "    .dataframe thead th {\n",
              "        text-align: right;\n",
              "    }\n",
              "</style>\n",
              "<table border=\"1\" class=\"dataframe\">\n",
              "  <thead>\n",
              "    <tr style=\"text-align: right;\">\n",
              "      <th></th>\n",
              "      <th>region</th>\n",
              "      <th>state</th>\n",
              "      <th>total_properties</th>\n",
              "      <th>price</th>\n",
              "      <th>sqfeet</th>\n",
              "      <th>price per sqft</th>\n",
              "    </tr>\n",
              "  </thead>\n",
              "  <tbody>\n",
              "    <tr>\n",
              "      <th>124</th>\n",
              "      <td>Fredericksburg</td>\n",
              "      <td>Virginia</td>\n",
              "      <td>2726</td>\n",
              "      <td>1294.162142</td>\n",
              "      <td>1102.804109</td>\n",
              "      <td>1.223715</td>\n",
              "    </tr>\n",
              "    <tr>\n",
              "      <th>269</th>\n",
              "      <td>Omaha / council bluffs</td>\n",
              "      <td>Iowa</td>\n",
              "      <td>2703</td>\n",
              "      <td>935.820570</td>\n",
              "      <td>939.002960</td>\n",
              "      <td>1.034066</td>\n",
              "    </tr>\n",
              "    <tr>\n",
              "      <th>317</th>\n",
              "      <td>Salt lake city</td>\n",
              "      <td>Utah</td>\n",
              "      <td>2653</td>\n",
              "      <td>1222.592537</td>\n",
              "      <td>934.707124</td>\n",
              "      <td>1.366817</td>\n",
              "    </tr>\n",
              "    <tr>\n",
              "      <th>111</th>\n",
              "      <td>Fayetteville</td>\n",
              "      <td>North Carolina</td>\n",
              "      <td>2612</td>\n",
              "      <td>836.370214</td>\n",
              "      <td>1032.147397</td>\n",
              "      <td>0.840868</td>\n",
              "    </tr>\n",
              "    <tr>\n",
              "      <th>167</th>\n",
              "      <td>Jacksonville</td>\n",
              "      <td>Florida</td>\n",
              "      <td>2571</td>\n",
              "      <td>1089.247375</td>\n",
              "      <td>968.857643</td>\n",
              "      <td>1.163625</td>\n",
              "    </tr>\n",
              "    <tr>\n",
              "      <th>328</th>\n",
              "      <td>Savannah / hinesville</td>\n",
              "      <td>Georgia</td>\n",
              "      <td>2565</td>\n",
              "      <td>1068.657310</td>\n",
              "      <td>970.644834</td>\n",
              "      <td>1.184329</td>\n",
              "    </tr>\n",
              "    <tr>\n",
              "      <th>290</th>\n",
              "      <td>Portland</td>\n",
              "      <td>Oregon</td>\n",
              "      <td>2533</td>\n",
              "      <td>1469.881169</td>\n",
              "      <td>912.795894</td>\n",
              "      <td>1.751862</td>\n",
              "    </tr>\n",
              "    <tr>\n",
              "      <th>274</th>\n",
              "      <td>Orlando</td>\n",
              "      <td>Florida</td>\n",
              "      <td>2531</td>\n",
              "      <td>1306.364283</td>\n",
              "      <td>999.745555</td>\n",
              "      <td>1.368778</td>\n",
              "    </tr>\n",
              "    <tr>\n",
              "      <th>331</th>\n",
              "      <td>Seattle-tacoma</td>\n",
              "      <td>Washington</td>\n",
              "      <td>2523</td>\n",
              "      <td>1789.274673</td>\n",
              "      <td>861.076100</td>\n",
              "      <td>2.295109</td>\n",
              "    </tr>\n",
              "    <tr>\n",
              "      <th>204</th>\n",
              "      <td>Lincoln</td>\n",
              "      <td>Nebraska</td>\n",
              "      <td>2522</td>\n",
              "      <td>989.639175</td>\n",
              "      <td>1032.594766</td>\n",
              "      <td>0.993877</td>\n",
              "    </tr>\n",
              "    <tr>\n",
              "      <th>118</th>\n",
              "      <td>Fort collins / north co</td>\n",
              "      <td>Colorado</td>\n",
              "      <td>2521</td>\n",
              "      <td>1368.492265</td>\n",
              "      <td>891.706069</td>\n",
              "      <td>1.632148</td>\n",
              "    </tr>\n",
              "    <tr>\n",
              "      <th>38</th>\n",
              "      <td>Boulder</td>\n",
              "      <td>Colorado</td>\n",
              "      <td>2520</td>\n",
              "      <td>1696.680556</td>\n",
              "      <td>953.123810</td>\n",
              "      <td>1.873577</td>\n",
              "    </tr>\n",
              "    <tr>\n",
              "      <th>161</th>\n",
              "      <td>Inland empire</td>\n",
              "      <td>California</td>\n",
              "      <td>2516</td>\n",
              "      <td>1690.234499</td>\n",
              "      <td>942.337043</td>\n",
              "      <td>1.943786</td>\n",
              "    </tr>\n",
              "    <tr>\n",
              "      <th>19</th>\n",
              "      <td>Augusta</td>\n",
              "      <td>Georgia</td>\n",
              "      <td>2513</td>\n",
              "      <td>949.607242</td>\n",
              "      <td>1034.396339</td>\n",
              "      <td>0.948640</td>\n",
              "    </tr>\n",
              "    <tr>\n",
              "      <th>373</th>\n",
              "      <td>Stockton</td>\n",
              "      <td>California</td>\n",
              "      <td>2507</td>\n",
              "      <td>1509.450339</td>\n",
              "      <td>875.719585</td>\n",
              "      <td>1.813647</td>\n",
              "    </tr>\n",
              "  </tbody>\n",
              "</table>\n",
              "</div>\n",
              "      <button class=\"colab-df-convert\" onclick=\"convertToInteractive('df-688d986a-fbde-4c87-8a1a-8e3d8ec9380b')\"\n",
              "              title=\"Convert this dataframe to an interactive table.\"\n",
              "              style=\"display:none;\">\n",
              "        \n",
              "  <svg xmlns=\"http://www.w3.org/2000/svg\" height=\"24px\"viewBox=\"0 0 24 24\"\n",
              "       width=\"24px\">\n",
              "    <path d=\"M0 0h24v24H0V0z\" fill=\"none\"/>\n",
              "    <path d=\"M18.56 5.44l.94 2.06.94-2.06 2.06-.94-2.06-.94-.94-2.06-.94 2.06-2.06.94zm-11 1L8.5 8.5l.94-2.06 2.06-.94-2.06-.94L8.5 2.5l-.94 2.06-2.06.94zm10 10l.94 2.06.94-2.06 2.06-.94-2.06-.94-.94-2.06-.94 2.06-2.06.94z\"/><path d=\"M17.41 7.96l-1.37-1.37c-.4-.4-.92-.59-1.43-.59-.52 0-1.04.2-1.43.59L10.3 9.45l-7.72 7.72c-.78.78-.78 2.05 0 2.83L4 21.41c.39.39.9.59 1.41.59.51 0 1.02-.2 1.41-.59l7.78-7.78 2.81-2.81c.8-.78.8-2.07 0-2.86zM5.41 20L4 18.59l7.72-7.72 1.47 1.35L5.41 20z\"/>\n",
              "  </svg>\n",
              "      </button>\n",
              "      \n",
              "  <style>\n",
              "    .colab-df-container {\n",
              "      display:flex;\n",
              "      flex-wrap:wrap;\n",
              "      gap: 12px;\n",
              "    }\n",
              "\n",
              "    .colab-df-convert {\n",
              "      background-color: #E8F0FE;\n",
              "      border: none;\n",
              "      border-radius: 50%;\n",
              "      cursor: pointer;\n",
              "      display: none;\n",
              "      fill: #1967D2;\n",
              "      height: 32px;\n",
              "      padding: 0 0 0 0;\n",
              "      width: 32px;\n",
              "    }\n",
              "\n",
              "    .colab-df-convert:hover {\n",
              "      background-color: #E2EBFA;\n",
              "      box-shadow: 0px 1px 2px rgba(60, 64, 67, 0.3), 0px 1px 3px 1px rgba(60, 64, 67, 0.15);\n",
              "      fill: #174EA6;\n",
              "    }\n",
              "\n",
              "    [theme=dark] .colab-df-convert {\n",
              "      background-color: #3B4455;\n",
              "      fill: #D2E3FC;\n",
              "    }\n",
              "\n",
              "    [theme=dark] .colab-df-convert:hover {\n",
              "      background-color: #434B5C;\n",
              "      box-shadow: 0px 1px 3px 1px rgba(0, 0, 0, 0.15);\n",
              "      filter: drop-shadow(0px 1px 2px rgba(0, 0, 0, 0.3));\n",
              "      fill: #FFFFFF;\n",
              "    }\n",
              "  </style>\n",
              "\n",
              "      <script>\n",
              "        const buttonEl =\n",
              "          document.querySelector('#df-688d986a-fbde-4c87-8a1a-8e3d8ec9380b button.colab-df-convert');\n",
              "        buttonEl.style.display =\n",
              "          google.colab.kernel.accessAllowed ? 'block' : 'none';\n",
              "\n",
              "        async function convertToInteractive(key) {\n",
              "          const element = document.querySelector('#df-688d986a-fbde-4c87-8a1a-8e3d8ec9380b');\n",
              "          const dataTable =\n",
              "            await google.colab.kernel.invokeFunction('convertToInteractive',\n",
              "                                                     [key], {});\n",
              "          if (!dataTable) return;\n",
              "\n",
              "          const docLinkHtml = 'Like what you see? Visit the ' +\n",
              "            '<a target=\"_blank\" href=https://colab.research.google.com/notebooks/data_table.ipynb>data table notebook</a>'\n",
              "            + ' to learn more about interactive tables.';\n",
              "          element.innerHTML = '';\n",
              "          dataTable['output_type'] = 'display_data';\n",
              "          await google.colab.output.renderOutput(dataTable, element);\n",
              "          const docLink = document.createElement('div');\n",
              "          docLink.innerHTML = docLinkHtml;\n",
              "          element.appendChild(docLink);\n",
              "        }\n",
              "      </script>\n",
              "    </div>\n",
              "  </div>\n",
              "  "
            ]
          },
          "metadata": {},
          "execution_count": 44
        }
      ]
    },
    {
      "cell_type": "code",
      "source": [
        "import folium\n",
        "m = folium.Map(location=[48,-102], zoom_start=3)"
      ],
      "metadata": {
        "id": "LuXjW8d7R2Ar"
      },
      "execution_count": 45,
      "outputs": []
    },
    {
      "cell_type": "code",
      "source": [
        "lat_lon_pairs = list(zip(list(sample.lat),list(sample.long)))"
      ],
      "metadata": {
        "id": "4rcrBrxBP-R8"
      },
      "execution_count": 46,
      "outputs": []
    },
    {
      "cell_type": "code",
      "source": [
        "from folium import plugins\n",
        "from folium.plugins import HeatMap\n",
        "HeatMap(lat_lon_pairs).add_to(m)\n",
        "m"
      ],
      "metadata": {
        "colab": {
          "base_uri": "https://localhost:8080/",
          "height": 685
        },
        "id": "9D4aErW3UKXl",
        "outputId": "9091704f-81a7-407b-fb61-64135d1ea83c"
      },
      "execution_count": 47,
      "outputs": [
        {
          "output_type": "execute_result",
          "data": {
            "text/plain": [
              "<folium.folium.Map at 0x7f3a896b4cd0>"
            ],
            "text/html": [
              "<div style=\"width:100%;\"><div style=\"position:relative;width:100%;height:0;padding-bottom:60%;\"><span style=\"color:#565656\">Make this Notebook Trusted to load map: File -> Trust Notebook</span><iframe srcdoc=\"&lt;!DOCTYPE html&gt;\n",
              "&lt;html&gt;\n",
              "&lt;head&gt;\n",
              "    \n",
              "    &lt;meta http-equiv=&quot;content-type&quot; content=&quot;text/html; charset=UTF-8&quot; /&gt;\n",
              "    \n",
              "        &lt;script&gt;\n",
              "            L_NO_TOUCH = false;\n",
              "            L_DISABLE_3D = false;\n",
              "        &lt;/script&gt;\n",
              "    \n",
              "    &lt;style&gt;html, body {width: 100%;height: 100%;margin: 0;padding: 0;}&lt;/style&gt;\n",
              "    &lt;style&gt;#map {position:absolute;top:0;bottom:0;right:0;left:0;}&lt;/style&gt;\n",
              "    &lt;script src=&quot;https://cdn.jsdelivr.net/npm/leaflet@1.9.3/dist/leaflet.js&quot;&gt;&lt;/script&gt;\n",
              "    &lt;script src=&quot;https://code.jquery.com/jquery-1.12.4.min.js&quot;&gt;&lt;/script&gt;\n",
              "    &lt;script src=&quot;https://cdn.jsdelivr.net/npm/bootstrap@5.2.2/dist/js/bootstrap.bundle.min.js&quot;&gt;&lt;/script&gt;\n",
              "    &lt;script src=&quot;https://cdnjs.cloudflare.com/ajax/libs/Leaflet.awesome-markers/2.0.2/leaflet.awesome-markers.js&quot;&gt;&lt;/script&gt;\n",
              "    &lt;link rel=&quot;stylesheet&quot; href=&quot;https://cdn.jsdelivr.net/npm/leaflet@1.9.3/dist/leaflet.css&quot;/&gt;\n",
              "    &lt;link rel=&quot;stylesheet&quot; href=&quot;https://cdn.jsdelivr.net/npm/bootstrap@5.2.2/dist/css/bootstrap.min.css&quot;/&gt;\n",
              "    &lt;link rel=&quot;stylesheet&quot; href=&quot;https://netdna.bootstrapcdn.com/bootstrap/3.0.0/css/bootstrap.min.css&quot;/&gt;\n",
              "    &lt;link rel=&quot;stylesheet&quot; href=&quot;https://cdn.jsdelivr.net/npm/@fortawesome/fontawesome-free@6.2.0/css/all.min.css&quot;/&gt;\n",
              "    &lt;link rel=&quot;stylesheet&quot; href=&quot;https://cdnjs.cloudflare.com/ajax/libs/Leaflet.awesome-markers/2.0.2/leaflet.awesome-markers.css&quot;/&gt;\n",
              "    &lt;link rel=&quot;stylesheet&quot; href=&quot;https://cdn.jsdelivr.net/gh/python-visualization/folium/folium/templates/leaflet.awesome.rotate.min.css&quot;/&gt;\n",
              "    \n",
              "            &lt;meta name=&quot;viewport&quot; content=&quot;width=device-width,\n",
              "                initial-scale=1.0, maximum-scale=1.0, user-scalable=no&quot; /&gt;\n",
              "            &lt;style&gt;\n",
              "                #map_087aca063cc907e46d6c6481bb95c62d {\n",
              "                    position: relative;\n",
              "                    width: 100.0%;\n",
              "                    height: 100.0%;\n",
              "                    left: 0.0%;\n",
              "                    top: 0.0%;\n",
              "                }\n",
              "                .leaflet-container { font-size: 1rem; }\n",
              "            &lt;/style&gt;\n",
              "        \n",
              "    &lt;script src=&quot;https://cdn.jsdelivr.net/gh/python-visualization/folium@main/folium/templates/leaflet_heat.min.js&quot;&gt;&lt;/script&gt;\n",
              "&lt;/head&gt;\n",
              "&lt;body&gt;\n",
              "    \n",
              "    \n",
              "            &lt;div class=&quot;folium-map&quot; id=&quot;map_087aca063cc907e46d6c6481bb95c62d&quot; &gt;&lt;/div&gt;\n",
              "        \n",
              "&lt;/body&gt;\n",
              "&lt;script&gt;\n",
              "    \n",
              "    \n",
              "            var map_087aca063cc907e46d6c6481bb95c62d = L.map(\n",
              "                &quot;map_087aca063cc907e46d6c6481bb95c62d&quot;,\n",
              "                {\n",
              "                    center: [48.0, -102.0],\n",
              "                    crs: L.CRS.EPSG3857,\n",
              "                    zoom: 3,\n",
              "                    zoomControl: true,\n",
              "                    preferCanvas: false,\n",
              "                }\n",
              "            );\n",
              "\n",
              "            \n",
              "\n",
              "        \n",
              "    \n",
              "            var tile_layer_9e38609c2edefe691f7c5efaab43eefc = L.tileLayer(\n",
              "                &quot;https://{s}.tile.openstreetmap.org/{z}/{x}/{y}.png&quot;,\n",
              "                {&quot;attribution&quot;: &quot;Data by \\u0026copy; \\u003ca target=\\&quot;_blank\\&quot; href=\\&quot;http://openstreetmap.org\\&quot;\\u003eOpenStreetMap\\u003c/a\\u003e, under \\u003ca target=\\&quot;_blank\\&quot; href=\\&quot;http://www.openstreetmap.org/copyright\\&quot;\\u003eODbL\\u003c/a\\u003e.&quot;, &quot;detectRetina&quot;: false, &quot;maxNativeZoom&quot;: 18, &quot;maxZoom&quot;: 18, &quot;minZoom&quot;: 0, &quot;noWrap&quot;: false, &quot;opacity&quot;: 1, &quot;subdomains&quot;: &quot;abc&quot;, &quot;tms&quot;: false}\n",
              "            ).addTo(map_087aca063cc907e46d6c6481bb95c62d);\n",
              "        \n",
              "    \n",
              "            var heat_map_f5f750116a23268f4516c52371f8d845 = L.heatLayer(\n",
              "                [[27.9986, -81.9355], [32.406, -90.1063], [44.1295, -73.0926], [30.1949, -85.6727], [43.6351, -116.455], [37.6501, -97.2445], [38.7809, -90.3669], [47.8864, -97.0667], [43.921, -70.0298], [34.8661, -82.3198], [38.6616, -90.2819], [41.5186, -71.3032], [36.1448, -95.8866], [30.4445, -90.0795], [29.2833, -81.0882], [33.8924, -98.5421], [43.0972, -106.387], [40.0023, -76.7712], [39.8188, -75.5064], [39.7082, -104.864], [42.0851, -75.914], [36.1337, -115.205], [37.2724, -80.0435], [48.1728, -103.652], [39.9794, -76.7762], [30.2231, -92.0513], [38.1792, -76.9959], [40.7938, -124.157], [35.0834, -79.0098], [35.3501, -119.095], [36.1921, -115.179], [26.1923, -98.2657], [40.5144, -112.033], [37.2926, -79.9063], [41.5112, -74.064], [33.9208, -117.459], [33.5229, -82.0852], [30.6567, -96.2895], [43.0321, -89.4993], [44.0928, -123.061], [33.4326, -86.7055], [43.5885, -116.191], [41.747, -111.823], [30.4445, -90.0795], [33.4723, -82.0829], [46.8394, -100.784], [47.8918, -97.0554], [30.4223, -87.2248], [44.5143, -88.0161], [30.3553, -81.5631], [41.3507, -72.1062], [48.1734, -103.648], [41.4416, -81.5486], [32.425, -84.9505], [29.7229, -98.0742], [43.6376, -84.268], [39.8142, -84.878], [27.9544, -82.805], [45.4402, -122.826], [21.3189, -158.022], [38.9129, -104.773], [36.5993, -121.859], [41.3427, -81.8245], [29.8754, -97.9404], [41.9446, -71.2928], [37.9506, -87.8569], [27.3875, -82.4714], [30.619, -96.3185], [34.7748, -92.3115], [42.2547, -85.1962], [39.4023, -119.743], [42.8135, -86.1426], [33.0185, -80.1756], [47.4094, -120.265], [35.9161, -84.0589], [40.0573, -86.1368], [30.6474, -88.2292], [42.2871, -85.6482], [46.8939, -96.7877], [21.3982, -158.012], [39.5551, -85.7758], [43.0564, -87.9061], [43.2113, -77.9332], [32.2725, -110.973], [42.2875, -71.3574], [40.5225, -78.3729], [41.5816, -72.7665], [42.0628, -70.1916], [29.6513, -95.1889], [35.0114, -81.9078], [30.1892, -81.6077], [37.5538, -122.27], [43.0578, -85.6845], [33.4653, -86.8082], [43.1993, -77.5007], [37.16, -93.2805], [35.1791, -79.4225], [33.3433, -82.0887], [34.0906, -117.37], [29.8754, -97.9404], [33.4818, -112.004], [30.4193, -91.1882], [41.8713, -87.6277], [36.1165, -80.0831], [34.8472, -82.406], [31.5789, -84.2118], [30.2065, -81.5559], [38.9348, -92.3639], [42.2824, -85.6531], [42.988, -71.4592], [27.2889, -80.298], [29.5298, -95.0334], [42.4837, -89.0298], [35.4499, -82.4966], [46.2836, -119.19], [42.9731, -87.8687], [32.6712, -97.1083], [34.4171, -118.453], [42.3331, -85.5194], [36.1497, -95.9054], [38.6865, -121.349], [43.6364, -91.5075], [34.7594, -92.2847], [29.6132, -82.3873], [45.5237, -122.683], [44.0138, -107.956], [39.4534, -82.2263], [43.0934, -89.3636], [33.1567, -117.349], [40.5406, -105.07], [42.8724, -78.7422], [32.2768, -95.3031], [32.8132, -96.8142], [45.7715, -108.572], [33.4701, -82.0669], [36.0036, -80.0036], [24.5996, -81.6716], [33.431, -93.8765], [37.1517, -76.5327], [40.2092, -74.0084], [42.9825, -82.4358], [39.6269, -119.708], [32.4316, -80.6698], [38.4962, -121.53], [39.4242, -77.4597], [37.6455, -97.3526], [41.1586, -81.2678], [32.3435, -111.021], [28.0827, -81.9615], [36.1165, -80.0831], [39.6651, -84.2401], [41.9151, -73.9517], [47.2202, -122.494], [28.0089, -81.9553], [39.4558, -77.9764], [42.8135, -86.1426], [35.0583, -79.008], [32.0055, -102.127], [42.4662, -83.184], [43.625, -116.332], [29.7099, -98.1129], [40.0208, -105.256], [29.8754, -97.9404], [33.7643, -116.423], [42.2968, -71.1484], [38.8539, -76.8891], [39.0398, -95.6956], [39.4095, -76.6158], [41.7351, -73.587], [32.7287, -117.161], [42.112, -76.2089], [26.0426, -81.7182], [38.4586, -77.4306], [41.8814, -71.356], [43.7536, -87.7189], [40.6152, -111.885], [47.6083, -122.321], [39.4226, -77.4486], [30.738, -95.5883], [38.5396, -90.3435], [28.1384, -80.6524], [30.4771, -84.2246], [39.3012, -77.8425], [30.3659, -86.2458], [38.6709, -121.275], [40.689, -75.1554], [43.1624, -87.9898], [42.6438, -83.4076], [28.915, -81.939], [32.9149, -96.6365], [30.4583, -84.3158], [32.2319, -90.2523], [34.3208, -84.6059], [40.5234, -88.9902], [40.6596, -111.919], [39.1233, -84.5371], [33.8657, -117.593], [41.6025, -81.5258], [30.3704, -81.5864], [34.7481, -92.2701], [33.1256, -86.8624], [35.5808, -82.6078], [35.1613, -106.568], [38.4206, -78.8734], [47.7542, -122.247], [32.4245, -84.9481], [29.8986, -97.9606], [34.8472, -82.406], [35.926, -84.0694], [39.0006, -95.6983], [40.6124, -122.38], [38.953, -76.4784], [29.5038, -98.7265], [29.1253, -82.0086], [39.1048, -94.4556], [37.2978, -107.859], [38.2753, -77.5337], [45.7059, -122.541], [38.8961, -76.933], [27.7917, -81.9941], [29.451, -98.6169], [30.0195, -90.2568], [39.7394, -75.5578], [34.8303, -82.3343], [35.9299, -85.8046], [42.9937, -71.4727], [47.5962, -120.661], [29.5855, -98.4071], [38.8936, -104.762], [39.0408, -95.6956], [40.2628, -76.9201], [40.6152, -111.885], [40.6018, -75.5225], [38.0846, -85.851], [40.5775, -73.9552], [28.4944, -81.2902], [35.0589, -79.0061], [28.0338, -82.3659], [42.2486, -83.7629], [32.7015, -114.642], [32.1149, -81.252], [36.2804, -95.8632], [42.928, -85.5483], [38.4184, -96.1871], [29.5943, -90.7548], [38.6276, -121.504], [39.0541, -94.5961], [37.6921, -97.347], [35.3469, -119.06], [40.5823, -74.2313], [35.4032, -119.075], [44.6185, -123.086], [30.007, -90.1977], [34.0158, -118.352], [40.5209, -78.4089], [26.4197, -81.7234], [33.2034, -87.5095], [41.0914, -111.966], [35.6484, -88.7891], [39.699, -104.905], [41.6823, -83.6187], [42.9324, -72.2867], [31.0917, -97.3648], [32.8507, -79.907], [31.7411, -106.302], [33.7089, -116.234], [36.6046, -121.84], [40.2262, -75.2835], [32.2221, -90.2319], [43.072, -83.8424], [44.9568, -93.1252], [41.9457, -83.6844], [30.4583, -91.072], [40.5195, -105.004], [31.5857, -84.258], [29.2012, -81.0371], [36.0606, -95.9117], [48.2602, -101.297], [39.7658, -84.2045], [40.2239, -76.9671], [42.4382, -123.303], [29.8754, -97.9404], [43.6249, -116.334], [39.6573, -77.6921], [30.3938, -91.1587], [41.2769, -95.8583], [38.4882, -90.3488], [35.6174, -97.5583], [42.5338, -96.379], [40.0928, -82.9934], [30.6057, -96.3108], [42.6932, -84.4367], [30.5052, -97.8203], [41.5141, -72.0859], [44.1048, -103.244], [35.2055, -80.7294], [45.8677, -111.348], [41.5348, -93.5967], [38.4586, -77.4306], [40.6596, -111.919], [41.2983, -80.9485], [27.3171, -82.5227], [40.0247, -75.0518], [29.9542, -90.2368], [39.9829, -83.0086], [35.6319, -88.7858], [32.7672, -117.189], [41.4913, -90.5648], [61.2007, -149.889], [30.6762, -88.1844], [33.6825, -117.84], [38.9189, -104.704], [42.9527, -78.7921], [36.8956, -76.2401], [37.6781, -120.94], [33.3265, -111.827], [47.1919, -122.272], [38.0153, -121.295], [38.963, -104.733], [39.6956, -104.934], [34.6862, -86.733], [30.1591, -92.0007], [39.4572, -119.776], [40.6936, -89.589], [36.5445, -82.5103], [42.1953, -83.2987], [34.0091, -81.0483], [36.8466, -119.775], [43.9726, -88.5357], [43.1685, -77.6845], [46.5463, -87.3992], [39.0006, -95.6983], [32.3705, -86.2051], [34.7497, -77.4515], [41.6103, -87.6534], [26.6702, -81.8119], [39.4145, -77.4429], [38.2448, -77.5157], [48.2295, -101.299], [34.7375, -77.4628], [33.8195, -116.528], [31.071, -97.3898], [39.3351, -76.62], [41.1379, -81.5409], [47.6119, -122.201], [30.2059, -81.6031], [32.3094, -86.2209], [32.8602, -79.9114], [32.2898, -95.3277], [33.6416, -112.304], [40.5225, -78.3729], [28.5891, -81.2277], [47.8971, -97.0511], [39.6976, -75.4068], [47.8911, -97.062], [41.0424, -85.1303], [32.0275, -81.1169], [33.476, -82.0726], [38.7707, -121.256], [47.7157, -122.172], [32.5042, -92.0719], [37.6799, -121.723], [35.0312, -89.8124], [37.7174, -89.8737], [41.7101, -85.9729], [44.909, -123.034], [47.9143, -97.0764], [42.3126, -71.1115], [40.7619, -73.4142], [36.0948, -95.9655], [41.3184, -72.9318], [34.2651, -77.867], [30.3071, -97.7244]],\n",
              "                {&quot;blur&quot;: 15, &quot;maxZoom&quot;: 18, &quot;minOpacity&quot;: 0.5, &quot;radius&quot;: 25}\n",
              "            ).addTo(map_087aca063cc907e46d6c6481bb95c62d);\n",
              "        \n",
              "&lt;/script&gt;\n",
              "&lt;/html&gt;\" style=\"position:absolute;width:100%;height:100%;left:0;top:0;border:none !important;\" allowfullscreen webkitallowfullscreen mozallowfullscreen></iframe></div></div>"
            ]
          },
          "metadata": {},
          "execution_count": 47
        }
      ]
    },
    {
      "cell_type": "markdown",
      "source": [
        "The regions with most properties sold have a relatively lower average price per unit area which might have resulted in a relatively larger number of properties sold."
      ],
      "metadata": {
        "id": "XwhZbnaAOguj"
      }
    },
    {
      "cell_type": "markdown",
      "source": [
        "The eastern half of the country has more housing properties sold than the western half. Except for a couple of coastal states of the western USA, most states still lack enough job opportunities for immigrants to i    "
      ],
      "metadata": {
        "id": "J8kGYpuV_aPK"
      }
    },
    {
      "cell_type": "markdown",
      "source": [
        "### 6. What are the top 10 costliest and the cheapest regions to reside in USA? What could be the possible reasons justifying their property rates? "
      ],
      "metadata": {
        "id": "MxFlxMErJRVf"
      }
    },
    {
      "cell_type": "code",
      "source": [
        "# identifying the most common average price per unit area across the regions\n",
        "plt.figure(figsize=(12,6))\n",
        "plt.subplot(1,2,1)\n",
        "sns.histplot(region_avg_df,x='price per sqft',bins = 40)\n",
        "plt.xlabel('Price(in $) per unit area(in sqft)')\n",
        "plt.ylabel('Number of regions')\n",
        "\n",
        "plt.subplot(1,2,2)\n",
        "sns.boxplot(region_avg_df,y='price per sqft' )\n",
        "\n",
        "plt.suptitle('Regionwise distribution of housing properties based on price per unit area');"
      ],
      "metadata": {
        "colab": {
          "base_uri": "https://localhost:8080/",
          "height": 602
        },
        "id": "Pq-GDWGELB-J",
        "outputId": "8c5129c7-4758-4569-d51d-a71d709a7a9d"
      },
      "execution_count": 48,
      "outputs": [
        {
          "output_type": "display_data",
          "data": {
            "text/plain": [
              "<Figure size 1200x600 with 2 Axes>"
            ],
            "image/png": "[encoded data removed]"
          },
          "metadata": {}
        }
      ]
    },
    {
      "cell_type": "code",
      "source": [
        "# Regions with highest avg property price per unit area\n",
        "region_avg_df.sort_values('price per sqft',ascending = False).head(10)"
      ],
      "metadata": {
        "colab": {
          "base_uri": "https://localhost:8080/",
          "height": 363
        },
        "id": "bQGGHZkvdHGy",
        "outputId": "bd61786a-74ef-4b3d-f0b1-94dadbc32369"
      },
      "execution_count": 49,
      "outputs": [
        {
          "output_type": "execute_result",
          "data": {
            "text/plain": [
              "            region          state  total_properties        price      sqfeet  \\\n",
              "0      Sf bay area     California              1720  2500.254070  833.842442   \n",
              "324  Santa barbara     California               388  2464.180412  838.585052   \n",
              "247  New york city       New York               603  2275.315091  863.470978   \n",
              "208    Los angeles     California              1959  2218.847882  845.369576   \n",
              "235   Monterey bay     California              1043  2139.877277  845.575264   \n",
              "145         Hawaii         Hawaii              1677  1941.799642  825.144902   \n",
              "117   Florida keys        Florida               423  2348.664303  942.333333   \n",
              "37          Boston  Massachusetts              1389  2177.179266  969.981281   \n",
              "320      San diego     California              2184  2095.636447  901.828755   \n",
              "272  Orange county     California              2289  2070.250765  874.811271   \n",
              "\n",
              "     price per sqft  \n",
              "0          3.260138  \n",
              "324        3.212818  \n",
              "247        2.953372  \n",
              "208        2.800652  \n",
              "235        2.715979  \n",
              "145        2.656843  \n",
              "117        2.621711  \n",
              "37         2.486655  \n",
              "320        2.472973  \n",
              "272        2.447772  "
            ],
            "text/html": [
              "\n",
              "  <div id=\"df-00227834-a6cb-4ace-8946-0cc46efb0025\">\n",
              "    <div class=\"colab-df-container\">\n",
              "      <div>\n",
              "<style scoped>\n",
              "    .dataframe tbody tr th:only-of-type {\n",
              "        vertical-align: middle;\n",
              "    }\n",
              "\n",
              "    .dataframe tbody tr th {\n",
              "        vertical-align: top;\n",
              "    }\n",
              "\n",
              "    .dataframe thead th {\n",
              "        text-align: right;\n",
              "    }\n",
              "</style>\n",
              "<table border=\"1\" class=\"dataframe\">\n",
              "  <thead>\n",
              "    <tr style=\"text-align: right;\">\n",
              "      <th></th>\n",
              "      <th>region</th>\n",
              "      <th>state</th>\n",
              "      <th>total_properties</th>\n",
              "      <th>price</th>\n",
              "      <th>sqfeet</th>\n",
              "      <th>price per sqft</th>\n",
              "    </tr>\n",
              "  </thead>\n",
              "  <tbody>\n",
              "    <tr>\n",
              "      <th>0</th>\n",
              "      <td>Sf bay area</td>\n",
              "      <td>California</td>\n",
              "      <td>1720</td>\n",
              "      <td>2500.254070</td>\n",
              "      <td>833.842442</td>\n",
              "      <td>3.260138</td>\n",
              "    </tr>\n",
              "    <tr>\n",
              "      <th>324</th>\n",
              "      <td>Santa barbara</td>\n",
              "      <td>California</td>\n",
              "      <td>388</td>\n",
              "      <td>2464.180412</td>\n",
              "      <td>838.585052</td>\n",
              "      <td>3.212818</td>\n",
              "    </tr>\n",
              "    <tr>\n",
              "      <th>247</th>\n",
              "      <td>New york city</td>\n",
              "      <td>New York</td>\n",
              "      <td>603</td>\n",
              "      <td>2275.315091</td>\n",
              "      <td>863.470978</td>\n",
              "      <td>2.953372</td>\n",
              "    </tr>\n",
              "    <tr>\n",
              "      <th>208</th>\n",
              "      <td>Los angeles</td>\n",
              "      <td>California</td>\n",
              "      <td>1959</td>\n",
              "      <td>2218.847882</td>\n",
              "      <td>845.369576</td>\n",
              "      <td>2.800652</td>\n",
              "    </tr>\n",
              "    <tr>\n",
              "      <th>235</th>\n",
              "      <td>Monterey bay</td>\n",
              "      <td>California</td>\n",
              "      <td>1043</td>\n",
              "      <td>2139.877277</td>\n",
              "      <td>845.575264</td>\n",
              "      <td>2.715979</td>\n",
              "    </tr>\n",
              "    <tr>\n",
              "      <th>145</th>\n",
              "      <td>Hawaii</td>\n",
              "      <td>Hawaii</td>\n",
              "      <td>1677</td>\n",
              "      <td>1941.799642</td>\n",
              "      <td>825.144902</td>\n",
              "      <td>2.656843</td>\n",
              "    </tr>\n",
              "    <tr>\n",
              "      <th>117</th>\n",
              "      <td>Florida keys</td>\n",
              "      <td>Florida</td>\n",
              "      <td>423</td>\n",
              "      <td>2348.664303</td>\n",
              "      <td>942.333333</td>\n",
              "      <td>2.621711</td>\n",
              "    </tr>\n",
              "    <tr>\n",
              "      <th>37</th>\n",
              "      <td>Boston</td>\n",
              "      <td>Massachusetts</td>\n",
              "      <td>1389</td>\n",
              "      <td>2177.179266</td>\n",
              "      <td>969.981281</td>\n",
              "      <td>2.486655</td>\n",
              "    </tr>\n",
              "    <tr>\n",
              "      <th>320</th>\n",
              "      <td>San diego</td>\n",
              "      <td>California</td>\n",
              "      <td>2184</td>\n",
              "      <td>2095.636447</td>\n",
              "      <td>901.828755</td>\n",
              "      <td>2.472973</td>\n",
              "    </tr>\n",
              "    <tr>\n",
              "      <th>272</th>\n",
              "      <td>Orange county</td>\n",
              "      <td>California</td>\n",
              "      <td>2289</td>\n",
              "      <td>2070.250765</td>\n",
              "      <td>874.811271</td>\n",
              "      <td>2.447772</td>\n",
              "    </tr>\n",
              "  </tbody>\n",
              "</table>\n",
              "</div>\n",
              "      <button class=\"colab-df-convert\" onclick=\"convertToInteractive('df-00227834-a6cb-4ace-8946-0cc46efb0025')\"\n",
              "              title=\"Convert this dataframe to an interactive table.\"\n",
              "              style=\"display:none;\">\n",
              "        \n",
              "  <svg xmlns=\"http://www.w3.org/2000/svg\" height=\"24px\"viewBox=\"0 0 24 24\"\n",
              "       width=\"24px\">\n",
              "    <path d=\"M0 0h24v24H0V0z\" fill=\"none\"/>\n",
              "    <path d=\"M18.56 5.44l.94 2.06.94-2.06 2.06-.94-2.06-.94-.94-2.06-.94 2.06-2.06.94zm-11 1L8.5 8.5l.94-2.06 2.06-.94-2.06-.94L8.5 2.5l-.94 2.06-2.06.94zm10 10l.94 2.06.94-2.06 2.06-.94-2.06-.94-.94-2.06-.94 2.06-2.06.94z\"/><path d=\"M17.41 7.96l-1.37-1.37c-.4-.4-.92-.59-1.43-.59-.52 0-1.04.2-1.43.59L10.3 9.45l-7.72 7.72c-.78.78-.78 2.05 0 2.83L4 21.41c.39.39.9.59 1.41.59.51 0 1.02-.2 1.41-.59l7.78-7.78 2.81-2.81c.8-.78.8-2.07 0-2.86zM5.41 20L4 18.59l7.72-7.72 1.47 1.35L5.41 20z\"/>\n",
              "  </svg>\n",
              "      </button>\n",
              "      \n",
              "  <style>\n",
              "    .colab-df-container {\n",
              "      display:flex;\n",
              "      flex-wrap:wrap;\n",
              "      gap: 12px;\n",
              "    }\n",
              "\n",
              "    .colab-df-convert {\n",
              "      background-color: #E8F0FE;\n",
              "      border: none;\n",
              "      border-radius: 50%;\n",
              "      cursor: pointer;\n",
              "      display: none;\n",
              "      fill: #1967D2;\n",
              "      height: 32px;\n",
              "      padding: 0 0 0 0;\n",
              "      width: 32px;\n",
              "    }\n",
              "\n",
              "    .colab-df-convert:hover {\n",
              "      background-color: #E2EBFA;\n",
              "      box-shadow: 0px 1px 2px rgba(60, 64, 67, 0.3), 0px 1px 3px 1px rgba(60, 64, 67, 0.15);\n",
              "      fill: #174EA6;\n",
              "    }\n",
              "\n",
              "    [theme=dark] .colab-df-convert {\n",
              "      background-color: #3B4455;\n",
              "      fill: #D2E3FC;\n",
              "    }\n",
              "\n",
              "    [theme=dark] .colab-df-convert:hover {\n",
              "      background-color: #434B5C;\n",
              "      box-shadow: 0px 1px 3px 1px rgba(0, 0, 0, 0.15);\n",
              "      filter: drop-shadow(0px 1px 2px rgba(0, 0, 0, 0.3));\n",
              "      fill: #FFFFFF;\n",
              "    }\n",
              "  </style>\n",
              "\n",
              "      <script>\n",
              "        const buttonEl =\n",
              "          document.querySelector('#df-00227834-a6cb-4ace-8946-0cc46efb0025 button.colab-df-convert');\n",
              "        buttonEl.style.display =\n",
              "          google.colab.kernel.accessAllowed ? 'block' : 'none';\n",
              "\n",
              "        async function convertToInteractive(key) {\n",
              "          const element = document.querySelector('#df-00227834-a6cb-4ace-8946-0cc46efb0025');\n",
              "          const dataTable =\n",
              "            await google.colab.kernel.invokeFunction('convertToInteractive',\n",
              "                                                     [key], {});\n",
              "          if (!dataTable) return;\n",
              "\n",
              "          const docLinkHtml = 'Like what you see? Visit the ' +\n",
              "            '<a target=\"_blank\" href=https://colab.research.google.com/notebooks/data_table.ipynb>data table notebook</a>'\n",
              "            + ' to learn more about interactive tables.';\n",
              "          element.innerHTML = '';\n",
              "          dataTable['output_type'] = 'display_data';\n",
              "          await google.colab.output.renderOutput(dataTable, element);\n",
              "          const docLink = document.createElement('div');\n",
              "          docLink.innerHTML = docLinkHtml;\n",
              "          element.appendChild(docLink);\n",
              "        }\n",
              "      </script>\n",
              "    </div>\n",
              "  </div>\n",
              "  "
            ]
          },
          "metadata": {},
          "execution_count": 49
        }
      ]
    },
    {
      "cell_type": "code",
      "source": [
        "# Regions with lowest avg property price per unit area\n",
        "region_avg_df.sort_values('price per sqft').head(10)"
      ],
      "metadata": {
        "colab": {
          "base_uri": "https://localhost:8080/",
          "height": 363
        },
        "id": "cXMKu7XPj60v",
        "outputId": "4cf97a4b-880c-459c-a952-9fe99bb0dd27"
      },
      "execution_count": 50,
      "outputs": [
        {
          "output_type": "execute_result",
          "data": {
            "text/plain": [
              "             region        state  total_properties       price       sqfeet  \\\n",
              "353    Southwest ks       Kansas                43  600.697674  1058.953488   \n",
              "347    Southeast ks       Kansas                89  588.932584  1038.359551   \n",
              "372      Stillwater     Oklahoma               280  565.778571  1006.153571   \n",
              "121  Fort smith, ar     Oklahoma                 4  467.500000   724.250000   \n",
              "217       Mansfield         Ohio               104  703.076923  1122.865385   \n",
              "355    Southwest ms  Mississippi                11  842.818182  1338.090909   \n",
              "423      Youngstown         Ohio               250  737.116000  1160.944000   \n",
              "409      Western ky     Kentucky                67  693.417910  1104.417910   \n",
              "77         Danville     Virginia               105  777.752381  1173.971429   \n",
              "120      Fort smith     Arkansas               141  870.354610  1328.936170   \n",
              "\n",
              "     price per sqft  \n",
              "353        0.557949  \n",
              "347        0.587957  \n",
              "372        0.609727  \n",
              "121        0.662287  \n",
              "217        0.662953  \n",
              "355        0.671285  \n",
              "423        0.683795  \n",
              "409        0.684980  \n",
              "77         0.687282  \n",
              "120        0.687775  "
            ],
            "text/html": [
              "\n",
              "  <div id=\"df-a97a498c-1933-4777-ad72-b189d3574c52\">\n",
              "    <div class=\"colab-df-container\">\n",
              "      <div>\n",
              "<style scoped>\n",
              "    .dataframe tbody tr th:only-of-type {\n",
              "        vertical-align: middle;\n",
              "    }\n",
              "\n",
              "    .dataframe tbody tr th {\n",
              "        vertical-align: top;\n",
              "    }\n",
              "\n",
              "    .dataframe thead th {\n",
              "        text-align: right;\n",
              "    }\n",
              "</style>\n",
              "<table border=\"1\" class=\"dataframe\">\n",
              "  <thead>\n",
              "    <tr style=\"text-align: right;\">\n",
              "      <th></th>\n",
              "      <th>region</th>\n",
              "      <th>state</th>\n",
              "      <th>total_properties</th>\n",
              "      <th>price</th>\n",
              "      <th>sqfeet</th>\n",
              "      <th>price per sqft</th>\n",
              "    </tr>\n",
              "  </thead>\n",
              "  <tbody>\n",
              "    <tr>\n",
              "      <th>353</th>\n",
              "      <td>Southwest ks</td>\n",
              "      <td>Kansas</td>\n",
              "      <td>43</td>\n",
              "      <td>600.697674</td>\n",
              "      <td>1058.953488</td>\n",
              "      <td>0.557949</td>\n",
              "    </tr>\n",
              "    <tr>\n",
              "      <th>347</th>\n",
              "      <td>Southeast ks</td>\n",
              "      <td>Kansas</td>\n",
              "      <td>89</td>\n",
              "      <td>588.932584</td>\n",
              "      <td>1038.359551</td>\n",
              "      <td>0.587957</td>\n",
              "    </tr>\n",
              "    <tr>\n",
              "      <th>372</th>\n",
              "      <td>Stillwater</td>\n",
              "      <td>Oklahoma</td>\n",
              "      <td>280</td>\n",
              "      <td>565.778571</td>\n",
              "      <td>1006.153571</td>\n",
              "      <td>0.609727</td>\n",
              "    </tr>\n",
              "    <tr>\n",
              "      <th>121</th>\n",
              "      <td>Fort smith, ar</td>\n",
              "      <td>Oklahoma</td>\n",
              "      <td>4</td>\n",
              "      <td>467.500000</td>\n",
              "      <td>724.250000</td>\n",
              "      <td>0.662287</td>\n",
              "    </tr>\n",
              "    <tr>\n",
              "      <th>217</th>\n",
              "      <td>Mansfield</td>\n",
              "      <td>Ohio</td>\n",
              "      <td>104</td>\n",
              "      <td>703.076923</td>\n",
              "      <td>1122.865385</td>\n",
              "      <td>0.662953</td>\n",
              "    </tr>\n",
              "    <tr>\n",
              "      <th>355</th>\n",
              "      <td>Southwest ms</td>\n",
              "      <td>Mississippi</td>\n",
              "      <td>11</td>\n",
              "      <td>842.818182</td>\n",
              "      <td>1338.090909</td>\n",
              "      <td>0.671285</td>\n",
              "    </tr>\n",
              "    <tr>\n",
              "      <th>423</th>\n",
              "      <td>Youngstown</td>\n",
              "      <td>Ohio</td>\n",
              "      <td>250</td>\n",
              "      <td>737.116000</td>\n",
              "      <td>1160.944000</td>\n",
              "      <td>0.683795</td>\n",
              "    </tr>\n",
              "    <tr>\n",
              "      <th>409</th>\n",
              "      <td>Western ky</td>\n",
              "      <td>Kentucky</td>\n",
              "      <td>67</td>\n",
              "      <td>693.417910</td>\n",
              "      <td>1104.417910</td>\n",
              "      <td>0.684980</td>\n",
              "    </tr>\n",
              "    <tr>\n",
              "      <th>77</th>\n",
              "      <td>Danville</td>\n",
              "      <td>Virginia</td>\n",
              "      <td>105</td>\n",
              "      <td>777.752381</td>\n",
              "      <td>1173.971429</td>\n",
              "      <td>0.687282</td>\n",
              "    </tr>\n",
              "    <tr>\n",
              "      <th>120</th>\n",
              "      <td>Fort smith</td>\n",
              "      <td>Arkansas</td>\n",
              "      <td>141</td>\n",
              "      <td>870.354610</td>\n",
              "      <td>1328.936170</td>\n",
              "      <td>0.687775</td>\n",
              "    </tr>\n",
              "  </tbody>\n",
              "</table>\n",
              "</div>\n",
              "      <button class=\"colab-df-convert\" onclick=\"convertToInteractive('df-a97a498c-1933-4777-ad72-b189d3574c52')\"\n",
              "              title=\"Convert this dataframe to an interactive table.\"\n",
              "              style=\"display:none;\">\n",
              "        \n",
              "  <svg xmlns=\"http://www.w3.org/2000/svg\" height=\"24px\"viewBox=\"0 0 24 24\"\n",
              "       width=\"24px\">\n",
              "    <path d=\"M0 0h24v24H0V0z\" fill=\"none\"/>\n",
              "    <path d=\"M18.56 5.44l.94 2.06.94-2.06 2.06-.94-2.06-.94-.94-2.06-.94 2.06-2.06.94zm-11 1L8.5 8.5l.94-2.06 2.06-.94-2.06-.94L8.5 2.5l-.94 2.06-2.06.94zm10 10l.94 2.06.94-2.06 2.06-.94-2.06-.94-.94-2.06-.94 2.06-2.06.94z\"/><path d=\"M17.41 7.96l-1.37-1.37c-.4-.4-.92-.59-1.43-.59-.52 0-1.04.2-1.43.59L10.3 9.45l-7.72 7.72c-.78.78-.78 2.05 0 2.83L4 21.41c.39.39.9.59 1.41.59.51 0 1.02-.2 1.41-.59l7.78-7.78 2.81-2.81c.8-.78.8-2.07 0-2.86zM5.41 20L4 18.59l7.72-7.72 1.47 1.35L5.41 20z\"/>\n",
              "  </svg>\n",
              "      </button>\n",
              "      \n",
              "  <style>\n",
              "    .colab-df-container {\n",
              "      display:flex;\n",
              "      flex-wrap:wrap;\n",
              "      gap: 12px;\n",
              "    }\n",
              "\n",
              "    .colab-df-convert {\n",
              "      background-color: #E8F0FE;\n",
              "      border: none;\n",
              "      border-radius: 50%;\n",
              "      cursor: pointer;\n",
              "      display: none;\n",
              "      fill: #1967D2;\n",
              "      height: 32px;\n",
              "      padding: 0 0 0 0;\n",
              "      width: 32px;\n",
              "    }\n",
              "\n",
              "    .colab-df-convert:hover {\n",
              "      background-color: #E2EBFA;\n",
              "      box-shadow: 0px 1px 2px rgba(60, 64, 67, 0.3), 0px 1px 3px 1px rgba(60, 64, 67, 0.15);\n",
              "      fill: #174EA6;\n",
              "    }\n",
              "\n",
              "    [theme=dark] .colab-df-convert {\n",
              "      background-color: #3B4455;\n",
              "      fill: #D2E3FC;\n",
              "    }\n",
              "\n",
              "    [theme=dark] .colab-df-convert:hover {\n",
              "      background-color: #434B5C;\n",
              "      box-shadow: 0px 1px 3px 1px rgba(0, 0, 0, 0.15);\n",
              "      filter: drop-shadow(0px 1px 2px rgba(0, 0, 0, 0.3));\n",
              "      fill: #FFFFFF;\n",
              "    }\n",
              "  </style>\n",
              "\n",
              "      <script>\n",
              "        const buttonEl =\n",
              "          document.querySelector('#df-a97a498c-1933-4777-ad72-b189d3574c52 button.colab-df-convert');\n",
              "        buttonEl.style.display =\n",
              "          google.colab.kernel.accessAllowed ? 'block' : 'none';\n",
              "\n",
              "        async function convertToInteractive(key) {\n",
              "          const element = document.querySelector('#df-a97a498c-1933-4777-ad72-b189d3574c52');\n",
              "          const dataTable =\n",
              "            await google.colab.kernel.invokeFunction('convertToInteractive',\n",
              "                                                     [key], {});\n",
              "          if (!dataTable) return;\n",
              "\n",
              "          const docLinkHtml = 'Like what you see? Visit the ' +\n",
              "            '<a target=\"_blank\" href=https://colab.research.google.com/notebooks/data_table.ipynb>data table notebook</a>'\n",
              "            + ' to learn more about interactive tables.';\n",
              "          element.innerHTML = '';\n",
              "          dataTable['output_type'] = 'display_data';\n",
              "          await google.colab.output.renderOutput(dataTable, element);\n",
              "          const docLink = document.createElement('div');\n",
              "          docLink.innerHTML = docLinkHtml;\n",
              "          element.appendChild(docLink);\n",
              "        }\n",
              "      </script>\n",
              "    </div>\n",
              "  </div>\n",
              "  "
            ]
          },
          "metadata": {},
          "execution_count": 50
        }
      ]
    },
    {
      "cell_type": "code",
      "source": [
        "px.scatter(region_avg_df, x='sqfeet',y='price',size='price per sqft', color='state', hover_data=['region'],\n",
        "           labels={'price':'Price in $','sqfeet': 'Area in sqft'},\n",
        "           title ='Average price and average area of the properties for different regions')"
      ],
      "metadata": {
        "colab": {
          "base_uri": "https://localhost:8080/",
          "height": 542
        },
        "id": "zoGFojJurjXS",
        "outputId": "2161b9d7-380a-425e-f1e9-9ba19e300335"
      },
      "execution_count": 51,
      "outputs": [
        {
          "output_type": "display_data",
          "data": {
            "text/html": [
              "<html>\n",
              "<head><meta charset=\"utf-8\" /></head>\n",
              "<body>\n",
              "    <div>            <script src=\"https://cdnjs.cloudflare.com/ajax/libs/mathjax/2.7.5/MathJax.js?config=TeX-AMS-MML_SVG\"></script><script type=\"text/javascript\">if (window.MathJax && window.MathJax.Hub && window.MathJax.Hub.Config) {window.MathJax.Hub.Config({SVG: {font: \"STIX-Web\"}});}</script>                <script type=\"text/javascript\">window.PlotlyConfig = {MathJaxConfig: 'local'};</script>\n",
              "        <script src=\"https://cdn.plot.ly/plotly-2.18.2.min.js\"></script>                <div id=\"98c7cf5d-2303-4f66-addb-2d90394e1ef8\" class=\"plotly-graph-div\" style=\"height:525px; width:100%;\"></div>            <script type=\"text/javascript\">                                    window.PLOTLYENV=window.PLOTLYENV || {};                                    if (document.getElementById(\"98c7cf5d-2303-4f66-addb-2d90394e1ef8\")) {                    Plotly.newPlot(                        \"98c7cf5d-2303-4f66-addb-2d90394e1ef8\",                        [{\"customdata\":[[\"Sf bay area\"],[\"Bakersfield\"],[\"Chico\"],[\"Fresno / madera\"],[\"Gold country\"],[\"Hanford-corcoran\"],[\"Humboldt county\"],[\"Imperial county\"],[\"Inland empire\"],[\"Los angeles\"],[\"Mendocino county\"],[\"Merced\"],[\"Modesto\"],[\"Monterey bay\"],[\"Orange county\"],[\"Palm springs\"],[\"Redding\"],[\"Reno / tahoe\"],[\"Sacramento\"],[\"San diego\"],[\"San luis obispo\"],[\"Santa barbara\"],[\"Santa maria\"],[\"Siskiyou county\"],[\"Stockton\"],[\"Susanville\"],[\"Ventura county\"],[\"Visalia-tulare\"],[\"Yuba-sutter\"]],\"hovertemplate\":\"state=California<br>Area in sqft=%{x}<br>Price in $=%{y}<br>price per sqft=%{marker.size}<br>region=%{customdata[0]}<extra></extra>\",\"legendgroup\":\"California\",\"marker\":{\"color\":\"#636efa\",\"size\":[3.2601384304436807,1.1914999830955855,1.3914971523569524,1.269042021848713,1.4909119964515454,1.2489668174637,1.5157408744273075,0.969402616032014,1.9437855241914044,2.800652004427148,1.9665095195841298,1.3306101696186254,1.7443476712737325,2.715978592866188,2.4477717775829815,1.6576878863871203,1.174013774364279,1.4628333189829905,1.811459522633533,2.4729725415666386,2.2522479281004326,3.2128178974700545,1.954629615386118,1.1207340586516124,1.813647016464673,1.0340218422353147,2.310231217235829,1.3589941639099914,1.2389499682234622],\"sizemode\":\"area\",\"sizeref\":0.008150346076109202,\"symbol\":\"circle\"},\"mode\":\"markers\",\"name\":\"California\",\"orientation\":\"v\",\"showlegend\":true,\"x\":[833.8424418604651,1003.3331265508685,1037.366533864542,1007.8172151898734,1218.817391304348,971.6966707768188,1032.107142857143,1010.775,942.3370429252782,845.3695763144461,970.8461538461538,1004.376923076923,937.4247787610619,845.5752636625119,874.8112712975098,972.2742066720912,1154.740088105727,936.815682281059,910.8835324232082,901.8287545787546,1071.7925925925927,838.5850515463917,1029.7164179104477,885.425,875.7195851615477,1128.7333333333333,1001.2737704918032,998.2252252252252,1263.1118881118882],\"xaxis\":\"x\",\"y\":[2500.2540697674417,1144.5099255583127,1364.6693227091635,1245.2769620253164,1623.0217391304348,1175.6892725030825,1391.392857142857,928.175,1690.2344992050873,2218.8478815722306,1629.1346153846155,1218.6115384615384,1526.229283990346,2139.8772770853307,2070.250764525994,1474.6973148901545,1276.9471365638767,1317.0280040733198,1569.6557167235494,2095.6364468864467,2106.395061728395,2464.180412371134,1799.686567164179,951.0,1509.4503390506582,979.4,2231.137704918033,1286.1666666666667,1447.6503496503497],\"yaxis\":\"y\",\"type\":\"scatter\"},{\"customdata\":[[\"Abilene\"],[\"Amarillo\"],[\"Austin\"],[\"Beaumont / port arthur\"],[\"Brownsville\"],[\"College station\"],[\"Corpus christi\"],[\"Dallas / fort worth\"],[\"Deep east texas\"],[\"Del rio / eagle pass\"],[\"El paso\"],[\"Galveston\"],[\"Houston\"],[\"Killeen / temple / ft hood\"],[\"Laredo\"],[\"Lubbock\"],[\"Mcallen / edinburg\"],[\"Odessa / midland\"],[\"San angelo\"],[\"San antonio\"],[\"San marcos\"],[\"Southwest tx\"],[\"Texarkana\"],[\"Tyler / east tx\"],[\"Victoria\"],[\"Waco\"],[\"Wichita falls\"]],\"hovertemplate\":\"state=Texas<br>Area in sqft=%{x}<br>Price in $=%{y}<br>price per sqft=%{marker.size}<br>region=%{customdata[0]}<extra></extra>\",\"legendgroup\":\"Texas\",\"marker\":{\"color\":\"#EF553B\",\"size\":[0.9575343087478707,1.3062100022923908,1.5731224422011727,1.072578885930896,0.8269289233442244,0.9844574676209408,1.1621366465114236,1.3910126561263094,0.9244001537942081,0.8943761893233765,1.007262078745298,1.143739761340096,1.238439092075192,1.018424450285071,1.087747201150473,0.9385987624433385,0.8465025362775029,1.7434580801108999,1.0355682671953312,1.1356827118204365,1.1900629048811997,0.9197209060242459,0.8592032669854164,0.9995578342212945,1.1050497351891524,1.0388668819125284,0.9770569339694567],\"sizemode\":\"area\",\"sizeref\":0.008150346076109202,\"symbol\":\"circle\"},\"mode\":\"markers\",\"name\":\"Texas\",\"orientation\":\"v\",\"showlegend\":true,\"x\":[868.0605381165919,644.5803631472764,918.6151260504201,818.8751229105211,945.8586572438163,853.5480295566502,802.8783036263061,943.2528888888888,863.0627802690583,1115.375,742.8497409326425,954.8853955375254,959.970285021225,852.3226433430515,974.9807692307693,949.0787468247248,1013.6336405529954,904.6605699702254,907.7209302325581,938.5064102564103,876.0225093789079,1423.0,1021.4444444444445,1018.23,903.3561151079136,863.7232142857143,831.9206349206349],\"xaxis\":\"x\",\"y\":[792.4775784753364,665.1620712844654,1354.336974789916,864.0176991150443,741.2685512367491,805.7577996715928,888.5464044253226,1278.0031111111111,759.5829596412556,983.9583333333334,708.8039723661485,1047.497971602434,1146.5197089144935,806.8921282798834,1018.8846153846154,832.5817104149027,815.0679723502304,1541.4831986388772,770.1627906976744,1005.6740631163708,971.6957065443935,1325.4285714285713,862.5555555555555,964.4366666666666,974.1223021582733,846.5382653061224,785.3657694962043],\"yaxis\":\"y\",\"type\":\"scatter\"},{\"customdata\":[[\"Akron / canton\"],[\"Ashtabula\"],[\"Athens\"],[\"Chillicothe\"],[\"Cincinnati\"],[\"Cleveland\"],[\"Columbus\"],[\"Dayton / springfield\"],[\"Lima / findlay\"],[\"Mansfield\"],[\"Northern panhandle\"],[\"Parkersburg-marietta\"],[\"Sandusky\"],[\"Toledo\"],[\"Tuscarawas co\"],[\"Youngstown\"],[\"Zanesville / cambridge\"]],\"hovertemplate\":\"state=Ohio<br>Area in sqft=%{x}<br>Price in $=%{y}<br>price per sqft=%{marker.size}<br>region=%{customdata[0]}<extra></extra>\",\"legendgroup\":\"Ohio\",\"marker\":{\"color\":\"#00cc96\",\"size\":[0.9014388655539441,0.8419448299341618,0.753971654837502,0.8867290563833853,1.0510443321218585,0.9397877768657859,1.1071674731276013,0.8861154275778643,0.766601502449914,0.6629525142262722,0.7998977599146411,0.6986652950826039,0.8199941729448307,0.8537520291513173,0.7618344542527986,0.6837953952409066,0.7733767069101832],\"sizemode\":\"area\",\"sizeref\":0.008150346076109202,\"symbol\":\"circle\"},\"mode\":\"markers\",\"name\":\"Ohio\",\"orientation\":\"v\",\"showlegend\":true,\"x\":[994.0151715039577,1142.3783783783783,1115.4059405940593,1083.6727272727273,944.782982791587,1069.081982399259,983.1548017200191,879.0179153094463,1171.6029411764705,1122.8653846153845,1072.6482758620689,1173.5396825396826,1095.904761904762,919.7045585689556,1024.2173913043478,1160.944,1147.6113989637306],\"xaxis\":\"x\",\"y\":[846.6820580474935,878.9459459459459,739.0693069306931,885.6727272727272,952.4760994263862,959.0194534506716,1032.943143812709,752.200325732899,847.4558823529412,703.0769230769231,813.1793103448276,783.3333333333334,839.031746031746,767.997114829775,732.7826086956521,737.116,863.3782383419689],\"yaxis\":\"y\",\"type\":\"scatter\"},{\"customdata\":[[\"Albany\"],[\"Athens\"],[\"Atlanta\"],[\"Augusta\"],[\"Brunswick\"],[\"Columbus\"],[\"Macon / warner robins\"],[\"Northwest ga\"],[\"Savannah / hinesville\"],[\"Statesboro\"],[\"Valdosta\"]],\"hovertemplate\":\"state=Georgia<br>Area in sqft=%{x}<br>Price in $=%{y}<br>price per sqft=%{marker.size}<br>region=%{customdata[0]}<extra></extra>\",\"legendgroup\":\"Georgia\",\"marker\":{\"color\":\"#ab63fa\",\"size\":[0.7200677190689176,1.0304877564123704,1.2902426464378376,0.9486397385086982,0.9397755113627672,0.7824836433910237,0.8249957227254817,1.077781822428713,1.1843291146054982,0.7504665973546909,0.9006027855608685],\"sizemode\":\"area\",\"sizeref\":0.008150346076109202,\"symbol\":\"circle\"},\"mode\":\"markers\",\"name\":\"Georgia\",\"orientation\":\"v\",\"showlegend\":true,\"x\":[1030.2511848341233,977.6559513466551,1024.4848214285714,1034.3963390370075,1143.8643216080402,957.8247089262613,893.8258928571429,957.0724946695096,970.6448343079923,1267.5833333333333,994.780198019802],\"xaxis\":\"x\",\"y\":[698.9668246445498,941.8175499565596,1251.1794642857142,949.6072423398329,1058.4020100502512,691.6041397153946,694.9591836734694,993.4946695095949,1068.6573099415205,875.8958333333334,840.2059405940594],\"yaxis\":\"y\",\"type\":\"scatter\"},{\"customdata\":[[\"Albany\"],[\"Binghamton\"],[\"Buffalo\"],[\"Catskills\"],[\"Chautauqua\"],[\"Elmira-corning\"],[\"Finger lakes\"],[\"Glens falls\"],[\"Hudson valley\"],[\"Ithaca\"],[\"Long island\"],[\"New york city\"],[\"Oneonta\"],[\"Plattsburgh-adirondacks\"],[\"Potsdam-canton-massena\"],[\"Rochester\"],[\"Syracuse\"],[\"Twin tiers ny/pa\"],[\"Utica-rome-oneida\"],[\"Watertown\"]],\"hovertemplate\":\"state=New York<br>Area in sqft=%{x}<br>Price in $=%{y}<br>price per sqft=%{marker.size}<br>region=%{customdata[0]}<extra></extra>\",\"legendgroup\":\"New York\",\"marker\":{\"color\":\"#FFA15A\",\"size\":[1.2494706840187928,0.8151943661636512,1.074645867579692,1.1874458456241626,0.864363830959303,1.5744556547710282,1.0329607679433621,1.5019653351594648,1.6900014382431154,1.4499059242246775,2.3704568466105673,2.953371698884068,0.9769396922130705,1.2780953457283832,0.7074906044040336,1.14369924281154,1.0575163750733612,1.179135868861101,0.9149202163246444,0.8469245273131703],\"sizemode\":\"area\",\"sizeref\":0.008150346076109202,\"symbol\":\"circle\"},\"mode\":\"markers\",\"name\":\"New York\",\"orientation\":\"v\",\"showlegend\":true,\"x\":[1061.0684474123539,1253.6484375,997.2867593269934,1053.4897959183672,1137.6097560975609,738.5985915492957,1026.8947368421052,867.5213270142181,1024.903735632184,1001.1137440758293,1055.135238095238,863.4709784411277,1176.8684210526317,1094.4444444444443,917.3974358974359,1000.5569084171519,1054.4770436730123,1030.2777777777778,1088.6866666666667,1202.1990049751244],\"xaxis\":\"x\",\"y\":[1253.459098497496,825.5546875,997.0,1143.3265306122448,970.1219512195122,899.5985915492957,1019.2573099415205,1184.6255924170616,1622.212643678161,1350.6176935229068,2283.6990476190476,2275.3150912106134,1079.342105263158,1273.4126984126983,579.0769230769231,1095.291159343568,1031.3740201567748,831.9444444444445,945.1066666666667,967.2537313432836],\"yaxis\":\"y\",\"type\":\"scatter\"},{\"customdata\":[[\"Albuquerque\"],[\"Clovis / portales\"],[\"Farmington\"],[\"Las cruces\"],[\"Roswell / carlsbad\"],[\"Santa fe / taos\"]],\"hovertemplate\":\"state=New Mexico<br>Area in sqft=%{x}<br>Price in $=%{y}<br>price per sqft=%{marker.size}<br>region=%{customdata[0]}<extra></extra>\",\"legendgroup\":\"New Mexico\",\"marker\":{\"color\":\"#19d3f3\",\"size\":[1.0670977037416098,0.8576206247153594,0.9302014580367793,0.9325404624414451,1.6731576726477222,1.5223394464007851],\"sizemode\":\"area\",\"sizeref\":0.008150346076109202,\"symbol\":\"circle\"},\"mode\":\"markers\",\"name\":\"New Mexico\",\"orientation\":\"v\",\"showlegend\":true,\"x\":[857.2636320531058,1176.5555555555557,1196.659090909091,1002.0246305418719,1191.7878787878788,967.0842911877395],\"xaxis\":\"x\",\"y\":[879.3001422475106,922.8271604938271,999.7727272727273,858.1527093596059,1624.4545454545455,1344.7701149425288],\"yaxis\":\"y\",\"type\":\"scatter\"},{\"customdata\":[[\"Altoona-johnstown\"],[\"Erie\"],[\"Harrisburg\"],[\"Lancaster\"],[\"Lehigh valley\"],[\"Meadville\"],[\"Philadelphia\"],[\"Pittsburgh\"],[\"Poconos\"],[\"Reading\"],[\"Scranton / wilkes-barre\"],[\"State college\"],[\"Williamsport\"],[\"York\"]],\"hovertemplate\":\"state=Pennsylvania<br>Area in sqft=%{x}<br>Price in $=%{y}<br>price per sqft=%{marker.size}<br>region=%{customdata[0]}<extra></extra>\",\"legendgroup\":\"Pennsylvania\",\"marker\":{\"color\":\"#FF6692\",\"size\":[0.8505198800756392,0.8059394637656839,1.1594370535931469,1.1524219448772928,1.2296966995855094,0.7094541984222074,1.8364098189390572,1.3477210097636216,1.1912309030954922,1.2242240110833464,0.9214965582371564,1.264744182981507,1.0811989074238806,1.0765974221124268],\"sizemode\":\"area\",\"sizeref\":0.008150346076109202,\"symbol\":\"circle\"},\"mode\":\"markers\",\"name\":\"Pennsylvania\",\"orientation\":\"v\",\"showlegend\":true,\"x\":[1018.6326530612245,1024.0645161290322,1064.8608776844071,1006.3118181818181,1108.8988505747127,1155.421052631579,943.6510851419032,890.1152737752161,1029.0603448275863,1074.776046738072,1095.778711484594,1084.7533512064342,981.1282051282051,1091.3322632423756],\"xaxis\":\"x\",\"y\":[814.6489795918367,774.2630272952854,1164.8076563958916,1110.3154545454545,1269.3862068965518,796.5438596491229,1578.6182526432945,1119.4193083573487,1135.7672413793102,1244.3602726387537,917.0056022408963,1177.0965147453082,958.4615384615385,1041.6051364365971],\"yaxis\":\"y\",\"type\":\"scatter\"},{\"customdata\":[[\"Ames\"],[\"Cedar rapids\"],[\"Des moines\"],[\"Dubuque\"],[\"Fort dodge\"],[\"Iowa city\"],[\"Mason city\"],[\"Omaha / council bluffs\"],[\"Sioux city\"],[\"Southeast ia\"],[\"Waterloo / cedar falls\"]],\"hovertemplate\":\"state=Iowa<br>Area in sqft=%{x}<br>Price in $=%{y}<br>price per sqft=%{marker.size}<br>region=%{customdata[0]}<extra></extra>\",\"legendgroup\":\"Iowa\",\"marker\":{\"color\":\"#B6E880\",\"size\":[0.9464432211381301,0.9333201025082677,1.0485783293026527,0.7526394877585605,0.7859148732227418,1.1539191616100446,1.3979034726265678,1.0340659231125227,0.925444745723388,0.8345767375802116,0.8969433058125206],\"sizemode\":\"area\",\"sizeref\":0.008150346076109202,\"symbol\":\"circle\"},\"mode\":\"markers\",\"name\":\"Iowa\",\"orientation\":\"v\",\"showlegend\":true,\"x\":[914.7022471910112,951.3464140730717,979.3351182507809,1122.8395061728395,944.2037037037037,1042.572602739726,793.92,939.0029596744358,943.1940298507462,976.625,916.2087542087542],\"xaxis\":\"x\",\"y\":[822.7696629213483,866.1989174560216,1000.8032128514056,801.7283950617284,725.2129629629629,1065.7561643835616,819.44,935.8205697373289,836.6144278606965,769.75,771.9629629629629],\"yaxis\":\"y\",\"type\":\"scatter\"},{\"customdata\":[[\"Anchorage / mat-su\"],[\"Fairbanks\"],[\"Kenai peninsula\"],[\"Southeast alaska\"]],\"hovertemplate\":\"state=Alaska<br>Area in sqft=%{x}<br>Price in $=%{y}<br>price per sqft=%{marker.size}<br>region=%{customdata[0]}<extra></extra>\",\"legendgroup\":\"Alaska\",\"marker\":{\"color\":\"#FF97FF\",\"size\":[1.3861943026589454,1.338091285865737,1.1171076484015288,1.5595175964488186],\"sizemode\":\"area\",\"sizeref\":0.008150346076109202,\"symbol\":\"circle\"},\"mode\":\"markers\",\"name\":\"Alaska\",\"orientation\":\"v\",\"showlegend\":true,\"x\":[892.1358467983243,991.583038869258,1029.7297297297298,1025.2875],\"xaxis\":\"x\",\"y\":[1145.8850987432675,1212.6572438162543,1042.162162162162,1441.8125],\"yaxis\":\"y\",\"type\":\"scatter\"},{\"customdata\":[[\"Ann arbor\"],[\"Battle creek\"],[\"Central michigan\"],[\"Detroit metro\"],[\"Flint\"],[\"Grand rapids\"],[\"Holland\"],[\"Jackson\"],[\"Kalamazoo\"],[\"Lansing\"],[\"Monroe\"],[\"Muskegon\"],[\"Northern michigan\"],[\"Port huron\"],[\"Saginaw-midland-baycity\"],[\"South bend / michiana\"],[\"Southwest michigan\"],[\"The thumb\"],[\"Upper peninsula\"]],\"hovertemplate\":\"state=Michigan<br>Area in sqft=%{x}<br>Price in $=%{y}<br>price per sqft=%{marker.size}<br>region=%{customdata[0]}<extra></extra>\",\"legendgroup\":\"Michigan\",\"marker\":{\"color\":\"#FECB52\",\"size\":[1.4455052071008279,0.8807176101344975,0.9496767503357866,1.027069138100609,0.8465401920477241,1.1502739302507796,0.9832194038834422,0.8665796985347771,1.090292933651041,1.047146666290629,0.9632973962107406,0.9169966702661805,1.0576542071236879,0.91547207330501,0.8467279219916823,1.5,0.9842637766229567,0.7008285978076838,0.8145283548678277],\"sizemode\":\"area\",\"sizeref\":0.008150346076109202,\"symbol\":\"circle\"},\"mode\":\"markers\",\"name\":\"Michigan\",\"orientation\":\"v\",\"showlegend\":true,\"x\":[918.872,1047.9132492113565,932.1681034482758,1068.5838824125697,1091.0871559633028,968.444540353906,1038.5045454545455,896.7991803278688,968.1012658227849,957.9005524861878,1004.4249084249084,968.9349845201239,1104.3067729083666,1030.5402298850574,995.0250737463127,1000.0,993.0784810126582,1159.9333333333334,1122.3253012048192],\"xaxis\":\"x\",\"y\":[1243.3004444444443,864.3722397476341,865.6336206896551,1046.8378104409528,891.6857798165138,1040.3577902460079,979.225,769.2254098360655,994.7569620253165,972.0741252302025,938.5421245421245,877.0804953560372,1081.605577689243,889.8927203065134,816.5855457227138,1500.0,945.4303797468355,788.8222222222222,850.9518072289156],\"yaxis\":\"y\",\"type\":\"scatter\"},{\"customdata\":[[\"Annapolis\"],[\"Baltimore\"],[\"Cumberland valley\"],[\"Eastern shore\"],[\"Frederick\"],[\"Southern maryland\"],[\"Western maryland\"]],\"hovertemplate\":\"state=Maryland<br>Area in sqft=%{x}<br>Price in $=%{y}<br>price per sqft=%{marker.size}<br>region=%{customdata[0]}<extra></extra>\",\"legendgroup\":\"Maryland\",\"marker\":{\"color\":\"#636efa\",\"size\":[1.7262763039192075,1.4351048447470331,1.41326836650569,1.0735133413328939,1.4265611937888576,1.881830119090656,1.126861516197598],\"sizemode\":\"area\",\"sizeref\":0.008150346076109202,\"symbol\":\"circle\"},\"mode\":\"markers\",\"name\":\"Maryland\",\"orientation\":\"v\",\"showlegend\":true,\"x\":[950.2779960707269,945.8612224448898,978.2389705882352,1028.2592592592594,958.1256495040151,888.6890130353818,1081.0558139534883],\"xaxis\":\"x\",\"y\":[1590.2328094302554,1314.2835671342684,1302.0551470588234,1031.2654320987654,1321.9433160132262,1452.1080074487895,1136.4837209302325],\"yaxis\":\"y\",\"type\":\"scatter\"},{\"customdata\":[[\"Appleton-oshkosh-fdl\"],[\"Duluth / superior\"],[\"Eau claire\"],[\"Green bay\"],[\"Janesville\"],[\"Kenosha-racine\"],[\"La crosse\"],[\"Madison\"],[\"Milwaukee\"],[\"Northern wi\"],[\"Sheboygan\"],[\"Wausau\"]],\"hovertemplate\":\"state=Wisconsin<br>Area in sqft=%{x}<br>Price in $=%{y}<br>price per sqft=%{marker.size}<br>region=%{customdata[0]}<extra></extra>\",\"legendgroup\":\"Wisconsin\",\"marker\":{\"color\":\"#EF553B\",\"size\":[0.8935349863513808,0.8500000000000001,0.9181482869298022,0.9001760209534604,1.0179641196081566,1.1847245548547842,0.9008718154836312,1.3552767913200592,1.2963410807121916,0.8060192213576783,0.8089510030377182,0.7532158167107837],\"sizemode\":\"area\",\"sizeref\":0.008150346076109202,\"symbol\":\"circle\"},\"mode\":\"markers\",\"name\":\"Wisconsin\",\"orientation\":\"v\",\"showlegend\":true,\"x\":[1036.4656652360516,1350.0,1042.5562913907286,1105.4835164835165,997.7983870967741,887.0848952590959,1068.53125,928.935771632471,1029.5577949021933,1125.58,1179.0,1122.5252918287938],\"xaxis\":\"x\",\"y\":[875.6931330472103,1150.0,896.7019867549669,941.2252747252747,991.4596774193549,990.2932745314223,908.4107142857143,1170.9558429973238,1286.9976289270894,825.82,910.578125,817.9533073929961],\"yaxis\":\"y\",\"type\":\"scatter\"},{\"customdata\":[[\"Asheville\"],[\"Boone\"],[\"Charlotte\"],[\"Eastern nc\"],[\"Fayetteville\"],[\"Greensboro\"],[\"Hickory / lenoir\"],[\"Jacksonville\"],[\"Outer banks\"],[\"Raleigh / durham / ch\"],[\"Wilmington\"],[\"Winston-salem\"]],\"hovertemplate\":\"state=North Carolina<br>Area in sqft=%{x}<br>Price in $=%{y}<br>price per sqft=%{marker.size}<br>region=%{customdata[0]}<extra></extra>\",\"legendgroup\":\"North Carolina\",\"marker\":{\"color\":\"#00cc96\",\"size\":[1.2011524542137828,1.2182263837325182,1.2060168306969654,0.9248190269530994,0.8408677130218372,0.8976308523283237,0.8364312858103727,0.8855733022008623,1.1655154284202642,1.1755638145379563,1.2328951917781534,0.9098165004673451],\"sizemode\":\"area\",\"sizeref\":0.008150346076109202,\"symbol\":\"circle\"},\"mode\":\"markers\",\"name\":\"North Carolina\",\"orientation\":\"v\",\"showlegend\":true,\"x\":[1035.42147922999,1081.0833333333333,998.9460251046025,996.0591397849462,1032.147396630934,1004.4484848484849,1053.9148936170213,913.7552404438965,1029.8923076923077,1000.438927943761,985.8187261839956,992.6537530266344],\"xaxis\":\"x\",\"y\":[1204.937689969605,1096.138888888889,1137.2075313807532,884.3593189964158,836.3702143950995,862.930303030303,856.6737588652483,786.7675709001234,1123.123076923077,1108.9253075571178,1126.1252041371802,858.5680387409201],\"yaxis\":\"y\",\"type\":\"scatter\"},{\"customdata\":[[\"Auburn\"],[\"Birmingham\"],[\"Dothan\"],[\"Florence / muscle shoals\"],[\"Gadsden-anniston\"],[\"Huntsville / decatur\"],[\"Mobile\"],[\"Montgomery\"],[\"Tuscaloosa\"]],\"hovertemplate\":\"state=Alabama<br>Area in sqft=%{x}<br>Price in $=%{y}<br>price per sqft=%{marker.size}<br>region=%{customdata[0]}<extra></extra>\",\"legendgroup\":\"Alabama\",\"marker\":{\"color\":\"#ab63fa\",\"size\":[0.7510855888741503,0.9037249677592938,0.7599978662044704,0.7184576776592346,0.9186096948445713,0.9171420781418164,0.9706525119503686,0.7164616878149034,0.8503903153377685],\"sizemode\":\"area\",\"sizeref\":0.008150346076109202,\"symbol\":\"circle\"},\"mode\":\"markers\",\"name\":\"Alabama\",\"orientation\":\"v\",\"showlegend\":true,\"x\":[1063.605882352941,1122.958904109589,1061.593220338983,1082.4920634920634,1095.0882352941176,999.8995835261453,974.0436046511628,1033.2075471698113,1097.9811066126856],\"xaxis\":\"x\",\"y\":[757.6705882352941,960.2986301369863,732.2542372881356,749.1904761904761,945.2058823529412,879.7519666820916,900.3366279069768,692.8355795148248,870.0161943319838],\"yaxis\":\"y\",\"type\":\"scatter\"},{\"customdata\":[[\"Baton rouge\"],[\"Central louisiana\"],[\"Houma\"],[\"Lafayette\"],[\"Lake charles\"],[\"Monroe\"],[\"New orleans\"],[\"Shreveport\"]],\"hovertemplate\":\"state=Louisiana<br>Area in sqft=%{x}<br>Price in $=%{y}<br>price per sqft=%{marker.size}<br>region=%{customdata[0]}<extra></extra>\",\"legendgroup\":\"Louisiana\",\"marker\":{\"color\":\"#FFA15A\",\"size\":[0.9899510020062681,0.8552177091705049,0.9478284226689622,0.8943198157712815,0.9957029950083954,0.7841674914230871,1.2816326354804786,0.8794663482663824],\"sizemode\":\"area\",\"sizeref\":0.008150346076109202,\"symbol\":\"circle\"},\"mode\":\"markers\",\"name\":\"Louisiana\",\"orientation\":\"v\",\"showlegend\":true,\"x\":[984.2539237668161,929.2277227722773,960.262443438914,971.4474199869367,1009.2513812154696,943.4700854700855,966.8627353815659,909.4328678839958],\"xaxis\":\"x\",\"y\":[925.6748878923767,762.6732673267327,850.0135746606335,826.0914435009797,958.5165745856353,689.1666666666666,1183.5664023785926,767.3984962406015],\"yaxis\":\"y\",\"type\":\"scatter\"},{\"customdata\":[[\"Bellingham\"],[\"Kennewick-pasco-richland\"],[\"Lewiston / clarkston\"],[\"Moses lake\"],[\"Olympic peninsula\"],[\"Pullman / moscow\"],[\"Seattle-tacoma\"],[\"Skagit / island / sji\"],[\"Spokane / coeur d'alene\"],[\"Wenatchee\"],[\"Yakima\"]],\"hovertemplate\":\"state=Washington<br>Area in sqft=%{x}<br>Price in $=%{y}<br>price per sqft=%{marker.size}<br>region=%{customdata[0]}<extra></extra>\",\"legendgroup\":\"Washington\",\"marker\":{\"color\":\"#19d3f3\",\"size\":[1.5927922077964973,1.269877902442862,1.2593479965512568,1.1641168280156353,1.3231503209728839,0.7762482852179882,2.2951088043397707,1.5434997144693168,1.155099394800224,1.6200766064353889,1.1644741044782583],\"sizemode\":\"area\",\"sizeref\":0.008150346076109202,\"symbol\":\"circle\"},\"mode\":\"markers\",\"name\":\"Washington\",\"orientation\":\"v\",\"showlegend\":true,\"x\":[1050.291878172589,964.0856282271945,975.0,1005.261224489796,1120.8295454545455,981.25,861.0760998810939,1036.498956158664,1093.7115384615386,895.2370892018779,1024.109489051095],\"xaxis\":\"x\",\"y\":[1481.1548223350253,1178.2865748709123,1220.0,1100.5836734693878,1281.6136363636363,683.125,1789.2746730083234,1461.6200417536534,1168.576923076923,1326.8638497652582,1143.6861313868612],\"yaxis\":\"y\",\"type\":\"scatter\"},{\"customdata\":[[\"Bemidji\"],[\"Brainerd\"],[\"Duluth / superior\"],[\"Fargo / moorhead\"],[\"Mankato\"],[\"Minneapolis / st paul\"],[\"Rochester\"],[\"Southwest mn\"],[\"St cloud\"]],\"hovertemplate\":\"state=Minnesota<br>Area in sqft=%{x}<br>Price in $=%{y}<br>price per sqft=%{marker.size}<br>region=%{customdata[0]}<extra></extra>\",\"legendgroup\":\"Minnesota\",\"marker\":{\"color\":\"#FF6692\",\"size\":[1.0389205798172851,0.965616176004731,1.1530555798633342,0.8652427089073085,0.9879845722049986,1.6390669207701787,1.1133699579633396,0.7813449494740569,1.0801301728038555],\"sizemode\":\"area\",\"sizeref\":0.008150346076109202,\"symbol\":\"circle\"},\"mode\":\"markers\",\"name\":\"Minnesota\",\"orientation\":\"v\",\"showlegend\":true,\"x\":[1063.9761904761904,1085.6875,1072.283536585366,997.2529118136439,1065.0886075949368,941.7566777963273,1074.0883882149046,850.3333333333334,1007.0370762711865],\"xaxis\":\"x\",\"y\":[1043.3809523809523,996.53125,1180.4817073170732,828.757071547421,978.126582278481,1463.3313856427378,1145.368573079145,647.1851851851852,1062.5635593220338],\"yaxis\":\"y\",\"type\":\"scatter\"},{\"customdata\":[[\"Bend\"],[\"Corvallis/albany\"],[\"East oregon\"],[\"Eugene\"],[\"Klamath falls\"],[\"Medford-ashland\"],[\"Oregon coast\"],[\"Portland\"],[\"Roseburg\"],[\"Salem\"]],\"hovertemplate\":\"state=Oregon<br>Area in sqft=%{x}<br>Price in $=%{y}<br>price per sqft=%{marker.size}<br>region=%{customdata[0]}<extra></extra>\",\"legendgroup\":\"Oregon\",\"marker\":{\"color\":\"#B6E880\",\"size\":[1.4482366782013156,1.3210427421918458,1.060903928903815,1.4169281914066727,0.9251093786638998,1.3990494961953306,1.3870589456302471,1.7518622574025249,1.2072381208583345,1.2724142753091083],\"sizemode\":\"area\",\"sizeref\":0.008150346076109202,\"symbol\":\"circle\"},\"mode\":\"markers\",\"name\":\"Oregon\",\"orientation\":\"v\",\"showlegend\":true,\"x\":[1218.9170731707318,959.317246835443,950.6769230769231,956.564829821718,1157.6666666666667,1138.4044117647059,1052.2,912.7958941966048,1081.5094339622642,961.9282051282051],\"xaxis\":\"x\",\"y\":[1596.7512195121951,1186.045094936709,899.3692307692307,1246.3987034035656,1026.8666666666666,1428.7941176470588,1302.1076923076923,1469.8811685748124,1248.3962264150944,1192.3082621082622],\"yaxis\":\"y\",\"type\":\"scatter\"},{\"customdata\":[[\"Billings\"],[\"Bozeman\"],[\"Butte\"],[\"Eastern montana\"],[\"Great falls\"],[\"Helena\"],[\"Kalispell\"],[\"Missoula\"]],\"hovertemplate\":\"state=Montana<br>Area in sqft=%{x}<br>Price in $=%{y}<br>price per sqft=%{marker.size}<br>region=%{customdata[0]}<extra></extra>\",\"legendgroup\":\"Montana\",\"marker\":{\"color\":\"#FF97FF\",\"size\":[0.9747845613919389,1.305240779443343,0.8329772272062352,1.1885379338093802,1.1525793692836874,1.104412996099636,1.2364567235809427,1.120449644201855],\"sizemode\":\"area\",\"sizeref\":0.008150346076109202,\"symbol\":\"circle\"},\"mode\":\"markers\",\"name\":\"Montana\",\"orientation\":\"v\",\"showlegend\":true,\"x\":[1001.6317829457364,1267.2933333333333,1045.4038461538462,1047.5842696629213,962.8484848484849,1122.0,1215.3513513513512,1068.2],\"xaxis\":\"x\",\"y\":[936.8449612403101,1541.2933333333333,819.5769230769231,1176.7303370786517,984.8181818181819,1107.340425531915,1413.1531531531532,1102.7421052631578],\"yaxis\":\"y\",\"type\":\"scatter\"},{\"customdata\":[[\"Bismarck\"],[\"Grand forks\"],[\"North dakota\"]],\"hovertemplate\":\"state=North Dakota<br>Area in sqft=%{x}<br>Price in $=%{y}<br>price per sqft=%{marker.size}<br>region=%{customdata[0]}<extra></extra>\",\"legendgroup\":\"North Dakota\",\"marker\":{\"color\":\"#FECB52\",\"size\":[1.0567105591705126,0.889891140546938,1.0105424800366083],\"sizemode\":\"area\",\"sizeref\":0.008150346076109202,\"symbol\":\"circle\"},\"mode\":\"markers\",\"name\":\"North Dakota\",\"orientation\":\"v\",\"showlegend\":true,\"x\":[1040.8213836477987,1020.9846860643186,1003.91],\"xaxis\":\"x\",\"y\":[1066.0880503144654,892.8460949464012,994.5353846153846],\"yaxis\":\"y\",\"type\":\"scatter\"},{\"customdata\":[[\"Bloomington\"],[\"Evansville\"],[\"Fort wayne\"],[\"Indianapolis\"],[\"Kokomo\"],[\"Lafayette / west lafayette\"],[\"Muncie / anderson\"],[\"Richmond\"],[\"South bend / michiana\"],[\"Terre haute\"]],\"hovertemplate\":\"state=Indiana<br>Area in sqft=%{x}<br>Price in $=%{y}<br>price per sqft=%{marker.size}<br>region=%{customdata[0]}<extra></extra>\",\"legendgroup\":\"Indiana\",\"marker\":{\"color\":\"#636efa\",\"size\":[1.0806911890371178,0.8981048747700716,0.8793958685449983,0.9572906569241003,0.6954608296935909,1.0289761537315314,0.7618061554583428,0.8147397939691735,0.900595128539271,0.723799727166966],\"sizemode\":\"area\",\"sizeref\":0.008150346076109202,\"symbol\":\"circle\"},\"mode\":\"markers\",\"name\":\"Indiana\",\"orientation\":\"v\",\"showlegend\":true,\"x\":[964.3566878980891,997.1638461538462,1001.1253196930946,960.4902612826603,955.5454545454545,1023.5413793103448,973.8152173913044,918.3260869565217,997.5874635568513,1043.2021276595744],\"xaxis\":\"x\",\"y\":[903.218152866242,882.7392307692307,830.8209718670076,882.3273159144893,646.1948051948052,919.6,697.6739130434783,706.8478260869565,856.9110787172011,698.3085106382979],\"yaxis\":\"y\",\"type\":\"scatter\"},{\"customdata\":[[\"Bloomington-normal\"],[\"Champaign urbana\"],[\"Chicago\"],[\"Decatur\"],[\"La salle co\"],[\"Mattoon-charleston\"],[\"Peoria\"],[\"Quad cities, ia/il\"],[\"Rockford\"],[\"Southern illinois\"],[\"Springfield\"],[\"St louis, mo\"],[\"Western il\"]],\"hovertemplate\":\"state=Illinois<br>Area in sqft=%{x}<br>Price in $=%{y}<br>price per sqft=%{marker.size}<br>region=%{customdata[0]}<extra></extra>\",\"legendgroup\":\"Illinois\",\"marker\":{\"color\":\"#EF553B\",\"size\":[0.7994484648924172,0.9176002383199829,1.7529243259294234,0.8931382246023923,0.7905967017479452,0.7138610536424859,0.8085849309543998,0.9090436047861018,0.8926283457060274,0.8886242242545277,0.7233680364493876,1.018471705462248,0.7146335734773447],\"sizemode\":\"area\",\"sizeref\":0.008150346076109202,\"symbol\":\"circle\"},\"mode\":\"markers\",\"name\":\"Illinois\",\"orientation\":\"v\",\"showlegend\":true,\"x\":[960.2156862745098,1120.0776746458232,980.8188920454545,790.6868686868687,1206.2285714285715,1023.5952380952381,961.8235294117648,1024.2049736247175,937.7317708333334,828.7963525835867,1091.343537414966,950.865556978233,1263.9259259259259],\"xaxis\":\"x\",\"y\":[690.9281045751634,906.6888128969223,1594.229403409091,667.2828282828283,905.5714285714286,707.6904761904761,751.3303167420814,886.4581763376036,774.8046875,680.9969604863222,744.9863945578231,922.007255655143,820.1111111111111],\"yaxis\":\"y\",\"type\":\"scatter\"},{\"customdata\":[[\"Boise\"],[\"East idaho\"],[\"Lewiston / clarkston\"],[\"Pullman / moscow\"],[\"Spokane / coeur d'alene\"],[\"Twin falls\"]],\"hovertemplate\":\"state=Idaho<br>Area in sqft=%{x}<br>Price in $=%{y}<br>price per sqft=%{marker.size}<br>region=%{customdata[0]}<extra></extra>\",\"legendgroup\":\"Idaho\",\"marker\":{\"color\":\"#00cc96\",\"size\":[1.199885073690636,0.985839167461518,0.754731946439588,0.9884108702949999,1.1478251043513188,1.4397066367246805],\"sizemode\":\"area\",\"sizeref\":0.008150346076109202,\"symbol\":\"circle\"},\"mode\":\"markers\",\"name\":\"Idaho\",\"orientation\":\"v\",\"showlegend\":true,\"x\":[1050.6218662952647,987.6491228070175,992.1363636363636,1037.8418604651163,1054.229990800368,1151.7349397590363],\"xaxis\":\"x\",\"y\":[1169.6622562674095,925.4093567251462,739.7272727272727,935.7813953488372,1143.799448022079,1003.1927710843373],\"yaxis\":\"y\",\"type\":\"scatter\"},{\"customdata\":[[\"Boston\"],[\"Cape cod / islands\"],[\"South coast\"],[\"Western massachusetts\"],[\"Worcester / central ma\"]],\"hovertemplate\":\"state=Massachusetts<br>Area in sqft=%{x}<br>Price in $=%{y}<br>price per sqft=%{marker.size}<br>region=%{customdata[0]}<extra></extra>\",\"legendgroup\":\"Massachusetts\",\"marker\":{\"color\":\"#ab63fa\",\"size\":[2.4866545338756354,1.78026361948765,1.7701056776064132,1.6431618065135383,1.706474990013092],\"sizemode\":\"area\",\"sizeref\":0.008150346076109202,\"symbol\":\"circle\"},\"mode\":\"markers\",\"name\":\"Massachusetts\",\"orientation\":\"v\",\"showlegend\":true,\"x\":[969.9812814974802,1124.5245901639344,952.9220055710307,877.4764243614932,1047.6070359281437],\"xaxis\":\"x\",\"y\":[2177.179265658747,1727.377049180328,1556.9233983286908,1313.5216110019646,1675.2956586826347],\"yaxis\":\"y\",\"type\":\"scatter\"},{\"customdata\":[[\"Boulder\"],[\"Colorado springs\"],[\"Denver\"],[\"Eastern co\"],[\"Fort collins / north co\"],[\"High rockies\"],[\"Pueblo\"],[\"Western slope\"]],\"hovertemplate\":\"state=Colorado<br>Area in sqft=%{x}<br>Price in $=%{y}<br>price per sqft=%{marker.size}<br>region=%{customdata[0]}<extra></extra>\",\"legendgroup\":\"Colorado\",\"marker\":{\"color\":\"#FFA15A\",\"size\":[1.8735770147094797,1.3995807469236206,1.8048319459760536,0.9536917617362303,1.6321477235625006,2.2042937054195875,1.147212519082964,1.2846359083719852],\"sizemode\":\"area\",\"sizeref\":0.008150346076109202,\"symbol\":\"circle\"},\"mode\":\"markers\",\"name\":\"Colorado\",\"orientation\":\"v\",\"showlegend\":true,\"x\":[953.1238095238095,928.195201301342,935.0921105326391,1620.8372093023256,891.7060690202301,982.2463054187192,924.4621848739496,1067.4057971014493],\"xaxis\":\"x\",\"y\":[1696.6805555555557,1231.965839772265,1608.6327593111735,1468.4883720930231,1368.4922649742166,1899.911330049261,1003.2058823529412,1257.8202898550724],\"yaxis\":\"y\",\"type\":\"scatter\"},{\"customdata\":[[\"Bowling green\"],[\"Eastern kentucky\"],[\"Huntington-ashland\"],[\"Lexington\"],[\"Louisville\"],[\"Owensboro\"],[\"Western ky\"]],\"hovertemplate\":\"state=Kentucky<br>Area in sqft=%{x}<br>Price in $=%{y}<br>price per sqft=%{marker.size}<br>region=%{customdata[0]}<extra></extra>\",\"legendgroup\":\"Kentucky\",\"marker\":{\"color\":\"#19d3f3\",\"size\":[0.9332494333963658,0.7810775787524318,0.8236498455161545,0.9460511294146874,1.006753138334902,0.789981215480545,0.6849800189673548],\"sizemode\":\"area\",\"sizeref\":0.008150346076109202,\"symbol\":\"circle\"},\"mode\":\"markers\",\"name\":\"Kentucky\",\"orientation\":\"v\",\"showlegend\":true,\"x\":[1008.3984220907298,1152.1923076923076,1070.6178861788617,902.5978600089167,931.1951086956522,1071.5294117647059,1104.4179104477612],\"xaxis\":\"x\",\"y\":[909.6765285996055,816.3653846153846,796.6341463414634,818.1609451627285,891.8853260869565,769.1176470588235,693.4179104477612],\"yaxis\":\"y\",\"type\":\"scatter\"},{\"customdata\":[[\"Central nj\"],[\"Jersey shore\"],[\"North jersey\"],[\"South jersey\"]],\"hovertemplate\":\"state=New Jersey<br>Area in sqft=%{x}<br>Price in $=%{y}<br>price per sqft=%{marker.size}<br>region=%{customdata[0]}<extra></extra>\",\"legendgroup\":\"New Jersey\",\"marker\":{\"color\":\"#FF6692\",\"size\":[1.879062054466711,1.7696414498428081,2.1829367282656436,1.5271416278866334],\"sizemode\":\"area\",\"sizeref\":0.008150346076109202,\"symbol\":\"circle\"},\"mode\":\"markers\",\"name\":\"New Jersey\",\"orientation\":\"v\",\"showlegend\":true,\"x\":[1032.888188976378,1053.3494176372712,988.1634241245137,985.2975699220541],\"xaxis\":\"x\",\"y\":[1818.7028871391076,1754.7437603993344,1933.4993514915693,1466.7152682255846],\"yaxis\":\"y\",\"type\":\"scatter\"},{\"customdata\":[[\"Charleston\"],[\"Columbia\"],[\"Florence\"],[\"Greenville / upstate\"],[\"Hilton head\"],[\"Myrtle beach\"]],\"hovertemplate\":\"state=South Carolina<br>Area in sqft=%{x}<br>Price in $=%{y}<br>price per sqft=%{marker.size}<br>region=%{customdata[0]}<extra></extra>\",\"legendgroup\":\"South Carolina\",\"marker\":{\"color\":\"#B6E880\",\"size\":[1.3424843907040251,0.9510159435005329,0.993391327357626,1.1606285628933435,1.3473826967875244,1.0752773699147016],\"sizemode\":\"area\",\"sizeref\":0.008150346076109202,\"symbol\":\"circle\"},\"mode\":\"markers\",\"name\":\"South Carolina\",\"orientation\":\"v\",\"showlegend\":true,\"x\":[1008.0659663865546,1037.011200716846,1113.621951219512,936.9392220421394,1003.5844559585493,1092.9327445652175],\"xaxis\":\"x\",\"y\":[1268.9126050420168,955.5658602150538,1064.8495934959349,1035.9931118314425,1316.0766839378239,1111.7751358695652],\"yaxis\":\"y\",\"type\":\"scatter\"},{\"customdata\":[[\"Charleston\"],[\"Eastern panhandle\"],[\"Huntington-ashland\"],[\"Morgantown\"],[\"Northern panhandle\"],[\"Parkersburg-marietta\"],[\"Southern wv\"],[\"West virginia (old)\"]],\"hovertemplate\":\"state=West Virginia<br>Area in sqft=%{x}<br>Price in $=%{y}<br>price per sqft=%{marker.size}<br>region=%{customdata[0]}<extra></extra>\",\"legendgroup\":\"West Virginia\",\"marker\":{\"color\":\"#FF97FF\",\"size\":[0.9002467338622261,1.0840368878643243,1.107817944250871,0.9209651903290763,0.8430555555555556,0.7619047619047619,1.0414513727362908,0.8595400081106911],\"sizemode\":\"area\",\"sizeref\":0.008150346076109202,\"symbol\":\"circle\"},\"mode\":\"markers\",\"name\":\"West Virginia\",\"orientation\":\"v\",\"showlegend\":true,\"x\":[1071.877358490566,1152.7291666666667,641.25,1228.2489626556016,950.0,1050.0,1004.92,993.4705882352941],\"xaxis\":\"x\",\"y\":[885.1603773584906,1176.9557291666667,711.25,1057.7966804979253,800.0,800.0,945.04,816.2941176470588],\"yaxis\":\"y\",\"type\":\"scatter\"},{\"customdata\":[[\"Charlottesville\"],[\"Danville\"],[\"Fredericksburg\"],[\"Harrisonburg\"],[\"Lynchburg\"],[\"New river valley\"],[\"Norfolk / hampton roads\"],[\"Richmond\"],[\"Roanoke\"],[\"Southwest va\"],[\"Winchester\"]],\"hovertemplate\":\"state=Virginia<br>Area in sqft=%{x}<br>Price in $=%{y}<br>price per sqft=%{marker.size}<br>region=%{customdata[0]}<extra></extra>\",\"legendgroup\":\"Virginia\",\"marker\":{\"color\":\"#FECB52\",\"size\":[1.4134726381409963,0.6872816050713628,1.2237152288608986,0.7733141010819259,0.8560693600125829,0.9105876093445987,1.193575430910763,1.2206788071441401,0.9882217344674852,0.8126940075545875,1.2776370475014323],\"sizemode\":\"area\",\"sizeref\":0.008150346076109202,\"symbol\":\"circle\"},\"mode\":\"markers\",\"name\":\"Virginia\",\"orientation\":\"v\",\"showlegend\":true,\"x\":[950.107535321821,1173.9714285714285,1102.804108584006,1191.530042918455,1143.871727748691,1099.7552447552448,979.718875502008,964.5895621406457,1028.3461538461538,1110.7301587301588,976.4734982332155],\"xaxis\":\"x\",\"y\":[1270.4073783359497,777.7523809523809,1294.1621423330887,842.4935622317597,945.6178010471205,939.6923076923077,1133.5720660419456,1135.6996904024768,984.6978021978022,872.2857142857143,1186.7597173144877],\"yaxis\":\"y\",\"type\":\"scatter\"},{\"customdata\":[[\"Chattanooga\"],[\"Clarksville\"],[\"Cookeville\"],[\"Jackson\"],[\"Knoxville\"],[\"Memphis\"],[\"Nashville\"],[\"Tri-cities\"]],\"hovertemplate\":\"state=Tennessee<br>Area in sqft=%{x}<br>Price in $=%{y}<br>price per sqft=%{marker.size}<br>region=%{customdata[0]}<extra></extra>\",\"legendgroup\":\"Tennessee\",\"marker\":{\"color\":\"#636efa\",\"size\":[1.0870657744337369,0.8710883432358931,0.7350129207757065,0.7400369122682782,1.0101698173306985,0.8868780242910348,1.2843449511587652,0.7659921911390821],\"sizemode\":\"area\",\"sizeref\":0.008150346076109202,\"symbol\":\"circle\"},\"mode\":\"markers\",\"name\":\"Tennessee\",\"orientation\":\"v\",\"showlegend\":true,\"x\":[956.389598108747,972.0306569343065,1121.0722891566265,1123.241893076249,949.2212296374146,931.5702928870293,985.1433305716653,1000.7835570469799],\"xaxis\":\"x\",\"y\":[992.5924349881797,815.7591240875912,801.4457831325301,808.3575810692375,904.8901734104046,804.2757322175732,1198.086164043082,724.6241610738255],\"yaxis\":\"y\",\"type\":\"scatter\"},{\"customdata\":[[\"Columbia / jeff city\"],[\"Joplin\"],[\"Kansas city\"],[\"Kirksville\"],[\"Lake of the ozarks\"],[\"Southeast missouri\"],[\"Springfield\"],[\"St joseph\"],[\"St louis\"]],\"hovertemplate\":\"state=Missouri<br>Area in sqft=%{x}<br>Price in $=%{y}<br>price per sqft=%{marker.size}<br>region=%{customdata[0]}<extra></extra>\",\"legendgroup\":\"Missouri\",\"marker\":{\"color\":\"#EF553B\",\"size\":[0.8391949487982313,0.7329687828878111,1.356449440642989,0.7340478520432886,0.7502669067455321,0.695977255197517,0.8007501607889855,0.8194257456575584,1.0614109577644637],\"sizemode\":\"area\",\"sizeref\":0.008150346076109202,\"symbol\":\"circle\"},\"mode\":\"markers\",\"name\":\"Missouri\",\"orientation\":\"v\",\"showlegend\":true,\"x\":[955.5343642611684,1169.645390070922,790.6666666666666,1048.090909090909,1241.8,1165.0980392156862,982.2269826800365,972.6641221374045,950.2222222222222],\"xaxis\":\"x\",\"y\":[668.2439862542956,823.1843971631206,922.3333333333334,724.8636363636364,863.7846153846153,789.7254901960785,761.1695533272562,752.1908396946565,998.5555555555555],\"yaxis\":\"y\",\"type\":\"scatter\"},{\"customdata\":[[\"Daytona beach\"],[\"Florida keys\"],[\"Ft myers / sw florida\"],[\"Gainesville\"],[\"Heartland florida\"],[\"Jacksonville\"],[\"Lakeland\"],[\"North central fl\"],[\"Ocala\"],[\"Okaloosa / walton\"],[\"Orlando\"],[\"Panama city\"],[\"Pensacola\"],[\"Sarasota-bradenton\"],[\"South florida\"],[\"Space coast\"],[\"St augustine\"],[\"Tallahassee\"],[\"Tampa bay area\"],[\"Treasure coast\"]],\"hovertemplate\":\"state=Florida<br>Area in sqft=%{x}<br>Price in $=%{y}<br>price per sqft=%{marker.size}<br>region=%{customdata[0]}<extra></extra>\",\"legendgroup\":\"Florida\",\"marker\":{\"color\":\"#00cc96\",\"size\":[1.189133025454758,2.6217114161413626,1.2823488224308552,1.0739314293368383,1.0853799328714107,1.1636249969479058,1.1246811549269842,0.9696053623062666,0.9114468612101624,1.385502307639197,1.3687781128752785,1.2617803110150456,1.0354288413105581,1.2872156583653565,2.024290720123676,1.1948402852125648,1.020910385274664,0.9664141249832132,1.3045652956769478,1.2426840991300416],\"sizemode\":\"area\",\"sizeref\":0.008150346076109202,\"symbol\":\"circle\"},\"mode\":\"markers\",\"name\":\"Florida\",\"orientation\":\"v\",\"showlegend\":true,\"x\":[934.3326306913997,942.3333333333334,1105.173359451518,1077.2247823860728,969.4979591836735,968.8576429404901,983.6205260888314,1138.7777777777778,1127.6243194192377,988.1517094017094,999.7455551165547,1057.4668769716088,997.7218419415059,1071.8348868175765,973.498861047836,1028.927367576244,1089.5797872340424,1058.526985743381,994.7358937885253,1176.397562391178],\"xaxis\":\"x\",\"y\":[1062.639544688027,2348.6643026004726,1315.3550440744368,1061.126984126984,1019.0897959183674,1089.247374562427,1030.8240620957308,893.4074074074074,992.1597096188748,1305.2200854700855,1306.3642828921375,1279.8851735015774,995.1779713752334,1323.0377274744785,1839.7691723614275,1168.6272070626003,1056.4893617021276,955.4134419551934,1234.642010431484,1399.0452698781196],\"yaxis\":\"y\",\"type\":\"scatter\"},{\"customdata\":[[\"Delaware\"]],\"hovertemplate\":\"state=Delaware<br>Area in sqft=%{x}<br>Price in $=%{y}<br>price per sqft=%{marker.size}<br>region=%{customdata[0]}<extra></extra>\",\"legendgroup\":\"Delaware\",\"marker\":{\"color\":\"#ab63fa\",\"size\":[1.472736571643698],\"sizemode\":\"area\",\"sizeref\":0.008150346076109202,\"symbol\":\"circle\"},\"mode\":\"markers\",\"name\":\"Delaware\",\"orientation\":\"v\",\"showlegend\":true,\"x\":[919.1630327056491],\"xaxis\":\"x\",\"y\":[1276.1189296333002],\"yaxis\":\"y\",\"type\":\"scatter\"},{\"customdata\":[[\"Eastern ct\"],[\"Hartford\"],[\"New haven\"],[\"Northwest ct\"]],\"hovertemplate\":\"state=Connecticut<br>Area in sqft=%{x}<br>Price in $=%{y}<br>price per sqft=%{marker.size}<br>region=%{customdata[0]}<extra></extra>\",\"legendgroup\":\"Connecticut\",\"marker\":{\"color\":\"#FFA15A\",\"size\":[1.2513497595654728,1.4034412812937842,1.6218375615326426,1.8029845698053735],\"sizemode\":\"area\",\"sizeref\":0.008150346076109202,\"symbol\":\"circle\"},\"mode\":\"markers\",\"name\":\"Connecticut\",\"orientation\":\"v\",\"showlegend\":true,\"x\":[1002.1842900302115,970.100611828688,976.2756874095513,1014.6488095238095],\"xaxis\":\"x\",\"y\":[1178.2447129909365,1282.7505098572399,1427.026049204052,1688.4940476190477],\"yaxis\":\"y\",\"type\":\"scatter\"},{\"customdata\":[[\"Elko\"],[\"Las vegas\"],[\"Reno / tahoe\"]],\"hovertemplate\":\"state=Nevada<br>Area in sqft=%{x}<br>Price in $=%{y}<br>price per sqft=%{marker.size}<br>region=%{customdata[0]}<extra></extra>\",\"legendgroup\":\"Nevada\",\"marker\":{\"color\":\"#19d3f3\",\"size\":[1.402638421875635,1.20012957160921,1.5100888245325583],\"sizemode\":\"area\",\"sizeref\":0.008150346076109202,\"symbol\":\"circle\"},\"mode\":\"markers\",\"name\":\"Nevada\",\"orientation\":\"v\",\"showlegend\":true,\"x\":[903.8,917.0534138411518,957.3469387755102],\"xaxis\":\"x\",\"y\":[1208.6941176470589,1063.0798885276358,1383.4526901669758],\"yaxis\":\"y\",\"type\":\"scatter\"},{\"customdata\":[[\"Fayetteville\"],[\"Fort smith\"],[\"Jonesboro\"],[\"Little rock\"],[\"Texarkana\"]],\"hovertemplate\":\"state=Arkansas<br>Area in sqft=%{x}<br>Price in $=%{y}<br>price per sqft=%{marker.size}<br>region=%{customdata[0]}<extra></extra>\",\"legendgroup\":\"Arkansas\",\"marker\":{\"color\":\"#FF6692\",\"size\":[0.9630712347172896,0.6877753890069218,0.7783621409070808,0.8702608706450459,0.9504632299361461],\"sizemode\":\"area\",\"sizeref\":0.008150346076109202,\"symbol\":\"circle\"},\"mode\":\"markers\",\"name\":\"Arkansas\",\"orientation\":\"v\",\"showlegend\":true,\"x\":[1077.8829365079366,1328.936170212766,1046.968152866242,948.2,948.4767441860465],\"xaxis\":\"x\",\"y\":[991.2480158730159,870.354609929078,768.1210191082803,786.1162790697674,869.0930232558139],\"yaxis\":\"y\",\"type\":\"scatter\"},{\"customdata\":[[\"Flagstaff / sedona\"],[\"Mohave county\"],[\"Phoenix\"],[\"Prescott\"],[\"Show low\"],[\"Sierra vista\"],[\"Tucson\"],[\"Yuma\"]],\"hovertemplate\":\"state=Arizona<br>Area in sqft=%{x}<br>Price in $=%{y}<br>price per sqft=%{marker.size}<br>region=%{customdata[0]}<extra></extra>\",\"legendgroup\":\"Arizona\",\"marker\":{\"color\":\"#B6E880\",\"size\":[1.6745474735308303,0.99124824477539,1.3558855784269654,1.3575816869389679,0.8682593330353745,1.1346376150441861,1.1335501916186652,1.0957647907214418],\"sizemode\":\"area\",\"sizeref\":0.008150346076109202,\"symbol\":\"circle\"},\"mode\":\"markers\",\"name\":\"Arizona\",\"orientation\":\"v\",\"showlegend\":true,\"x\":[878.7929184549356,905.905462184874,932.6939890710382,1062.4930555555557,1052.3039215686274,649.9146341463414,802.6235644406636,783.8490566037735],\"xaxis\":\"x\",\"y\":[1404.7156652360516,878.0210084033613,1191.969696969697,1313.2777777777778,866.0490196078431,715.594512195122,865.3994045087197,796.1745283018868],\"yaxis\":\"y\",\"type\":\"scatter\"},{\"customdata\":[[\"Fort smith, ar\"],[\"Lawton\"],[\"Northwest ok\"],[\"Oklahoma city\"],[\"Stillwater\"],[\"Texoma\"],[\"Tulsa\"]],\"hovertemplate\":\"state=Oklahoma<br>Area in sqft=%{x}<br>Price in $=%{y}<br>price per sqft=%{marker.size}<br>region=%{customdata[0]}<extra></extra>\",\"legendgroup\":\"Oklahoma\",\"marker\":{\"color\":\"#FF97FF\",\"size\":[0.6622866273797124,0.7919725196557622,0.8460286368031362,0.8256946538100721,0.6097266285634464,1.0649984750156722,0.826158858698628],\"sizemode\":\"area\",\"sizeref\":0.008150346076109202,\"symbol\":\"circle\"},\"mode\":\"markers\",\"name\":\"Oklahoma\",\"orientation\":\"v\",\"showlegend\":true,\"x\":[724.25,866.6210131332083,958.4179104477612,938.7677108433735,1006.1535714285715,952.2946635730858,887.4110060189166],\"xaxis\":\"x\",\"y\":[467.5,644.2607879924954,775.4029850746268,750.1619277108434,565.7785714285715,980.3735498839907,715.1543422184006],\"yaxis\":\"y\",\"type\":\"scatter\"},{\"customdata\":[[\"Grand island\"],[\"Lincoln\"],[\"North platte\"],[\"Omaha / council bluffs\"],[\"Scottsbluff / panhandle\"]],\"hovertemplate\":\"state=Nebraska<br>Area in sqft=%{x}<br>Price in $=%{y}<br>price per sqft=%{marker.size}<br>region=%{customdata[0]}<extra></extra>\",\"legendgroup\":\"Nebraska\",\"marker\":{\"color\":\"#FECB52\",\"size\":[0.8217278163687782,0.9938766352379036,1.1783615888975867,1.1369543650793652,1.444204011745061],\"sizemode\":\"area\",\"sizeref\":0.008150346076109202,\"symbol\":\"circle\"},\"mode\":\"markers\",\"name\":\"Nebraska\",\"orientation\":\"v\",\"showlegend\":true,\"x\":[1011.6756756756756,1032.5947660586835,959.875,920.0,1031.9016393442623],\"xaxis\":\"x\",\"y\":[795.1891891891892,989.639175257732,1074.15,1032.0,1351.4426229508197],\"yaxis\":\"y\",\"type\":\"scatter\"},{\"customdata\":[[\"Gulfport / biloxi\"],[\"Hattiesburg\"],[\"Jackson\"],[\"Meridian\"],[\"North mississippi\"],[\"Southwest ms\"]],\"hovertemplate\":\"state=Mississippi<br>Area in sqft=%{x}<br>Price in $=%{y}<br>price per sqft=%{marker.size}<br>region=%{customdata[0]}<extra></extra>\",\"legendgroup\":\"Mississippi\",\"marker\":{\"color\":\"#636efa\",\"size\":[0.8085637246607221,0.8412392906955407,0.8313458379332119,0.7081769174759504,0.7960981701615737,0.6712849473495729],\"sizemode\":\"area\",\"sizeref\":0.008150346076109202,\"symbol\":\"circle\"},\"mode\":\"markers\",\"name\":\"Mississippi\",\"orientation\":\"v\",\"showlegend\":true,\"x\":[1006.0576021433355,1102.840490797546,1003.140894993354,929.76,1086.1448140900195,1338.090909090909],\"xaxis\":\"x\",\"y\":[787.8365706630944,908.1993865030674,805.4634470536109,610.3688888888889,816.0900195694717,842.8181818181819],\"yaxis\":\"y\",\"type\":\"scatter\"},{\"customdata\":[[\"Hawaii\"]],\"hovertemplate\":\"state=Hawaii<br>Area in sqft=%{x}<br>Price in $=%{y}<br>price per sqft=%{marker.size}<br>region=%{customdata[0]}<extra></extra>\",\"legendgroup\":\"Hawaii\",\"marker\":{\"color\":\"#EF553B\",\"size\":[2.656842909943778],\"sizemode\":\"area\",\"sizeref\":0.008150346076109202,\"symbol\":\"circle\"},\"mode\":\"markers\",\"name\":\"Hawaii\",\"orientation\":\"v\",\"showlegend\":true,\"x\":[825.1449016100179],\"xaxis\":\"x\",\"y\":[1941.7996422182468],\"yaxis\":\"y\",\"type\":\"scatter\"},{\"customdata\":[[\"Kansas city, mo\"],[\"Lawrence\"],[\"Manhattan\"],[\"Northwest ks\"],[\"Salina\"],[\"Southeast ks\"],[\"Southwest ks\"],[\"Topeka\"],[\"Wichita\"]],\"hovertemplate\":\"state=Kansas<br>Area in sqft=%{x}<br>Price in $=%{y}<br>price per sqft=%{marker.size}<br>region=%{customdata[0]}<extra></extra>\",\"legendgroup\":\"Kansas\",\"marker\":{\"color\":\"#00cc96\",\"size\":[1.087326254340211,0.9418236586143987,0.8501487725095608,0.7769654860913743,0.8172104066784872,0.5879568279706185,0.557948793071762,0.829966032383137,0.8052433989856834],\"sizemode\":\"area\",\"sizeref\":0.008150346076109202,\"symbol\":\"circle\"},\"mode\":\"markers\",\"name\":\"Kansas\",\"orientation\":\"v\",\"showlegend\":true,\"x\":[849.5732954545455,904.4921568627451,961.7144194756554,1123.8701298701299,1020.4054054054054,1038.3595505617977,1058.953488372093,955.8513145965549,819.6134496919918],\"xaxis\":\"x\",\"y\":[874.0880681818181,810.035294117647,792.064606741573,814.4675324675325,819.1621621621622,588.9325842696629,600.6976744186046,720.8241160471441,616.6237166324436],\"yaxis\":\"y\",\"type\":\"scatter\"},{\"customdata\":[[\"Logan\"],[\"Ogden-clearfield\"],[\"Provo / orem\"],[\"Salt lake city\"],[\"St george\"]],\"hovertemplate\":\"state=Utah<br>Area in sqft=%{x}<br>Price in $=%{y}<br>price per sqft=%{marker.size}<br>region=%{customdata[0]}<extra></extra>\",\"legendgroup\":\"Utah\",\"marker\":{\"color\":\"#ab63fa\",\"size\":[1.0775040635364974,1.189116395940959,1.2540445583565167,1.3668167050457423,0.9161208790137326],\"sizemode\":\"area\",\"sizeref\":0.008150346076109202,\"symbol\":\"circle\"},\"mode\":\"markers\",\"name\":\"Utah\",\"orientation\":\"v\",\"showlegend\":true,\"x\":[1086.7210884353742,915.9822866344606,1057.5685172171468,934.7071240105541,1302.3229166666667],\"xaxis\":\"x\",\"y\":[1140.044217687075,1050.5797101449275,1269.4659170765988,1222.592536750848,1167.7708333333333],\"yaxis\":\"y\",\"type\":\"scatter\"},{\"customdata\":[[\"Maine\"]],\"hovertemplate\":\"state=Maine<br>Area in sqft=%{x}<br>Price in $=%{y}<br>price per sqft=%{marker.size}<br>region=%{customdata[0]}<extra></extra>\",\"legendgroup\":\"Maine\",\"marker\":{\"color\":\"#FFA15A\",\"size\":[1.3920207288062074],\"sizemode\":\"area\",\"sizeref\":0.008150346076109202,\"symbol\":\"circle\"},\"mode\":\"markers\",\"name\":\"Maine\",\"orientation\":\"v\",\"showlegend\":true,\"x\":[1092.1308641975309],\"xaxis\":\"x\",\"y\":[1388.1234567901236],\"yaxis\":\"y\",\"type\":\"scatter\"},{\"customdata\":[[\"New hampshire\"]],\"hovertemplate\":\"state=New Hampshire<br>Area in sqft=%{x}<br>Price in $=%{y}<br>price per sqft=%{marker.size}<br>region=%{customdata[0]}<extra></extra>\",\"legendgroup\":\"New Hampshire\",\"marker\":{\"color\":\"#19d3f3\",\"size\":[1.711308108491661],\"sizemode\":\"area\",\"sizeref\":0.008150346076109202,\"symbol\":\"circle\"},\"mode\":\"markers\",\"name\":\"New Hampshire\",\"orientation\":\"v\",\"showlegend\":true,\"x\":[993.0034542314335],\"xaxis\":\"x\",\"y\":[1619.6885434657456],\"yaxis\":\"y\",\"type\":\"scatter\"},{\"customdata\":[[\"Northeast sd\"],[\"Pierre / central sd\"],[\"Rapid city / west sd\"],[\"Sioux falls / se sd\"],[\"South dakota\"]],\"hovertemplate\":\"state=South Dakota<br>Area in sqft=%{x}<br>Price in $=%{y}<br>price per sqft=%{marker.size}<br>region=%{customdata[0]}<extra></extra>\",\"legendgroup\":\"South Dakota\",\"marker\":{\"color\":\"#FF6692\",\"size\":[0.809246952926499,1.0267971778463236,1.0418938002477185,0.8353580153673648,0.9783581107076607],\"sizemode\":\"area\",\"sizeref\":0.008150346076109202,\"symbol\":\"circle\"},\"mode\":\"markers\",\"name\":\"South Dakota\",\"orientation\":\"v\",\"showlegend\":true,\"x\":[1072.1666666666667,1046.0,1024.6965517241379,955.7120331950207,1030.1940298507463],\"xaxis\":\"x\",\"y\":[825.8,1020.5555555555555,1011.2367816091954,775.9103734439834,843.6567164179105],\"yaxis\":\"y\",\"type\":\"scatter\"},{\"customdata\":[[\"Rhode island\"]],\"hovertemplate\":\"state=Rhode Island<br>Area in sqft=%{x}<br>Price in $=%{y}<br>price per sqft=%{marker.size}<br>region=%{customdata[0]}<extra></extra>\",\"legendgroup\":\"Rhode Island\",\"marker\":{\"color\":\"#B6E880\",\"size\":[1.63718897644632],\"sizemode\":\"area\",\"sizeref\":0.008150346076109202,\"symbol\":\"circle\"},\"mode\":\"markers\",\"name\":\"Rhode Island\",\"orientation\":\"v\",\"showlegend\":true,\"x\":[1025.958740499457],\"xaxis\":\"x\",\"y\":[1580.728555917481],\"yaxis\":\"y\",\"type\":\"scatter\"},{\"customdata\":[[\"Vermont\"]],\"hovertemplate\":\"state=Vermont<br>Area in sqft=%{x}<br>Price in $=%{y}<br>price per sqft=%{marker.size}<br>region=%{customdata[0]}<extra></extra>\",\"legendgroup\":\"Vermont\",\"marker\":{\"color\":\"#FF97FF\",\"size\":[1.5217743399184795],\"sizemode\":\"area\",\"sizeref\":0.008150346076109202,\"symbol\":\"circle\"},\"mode\":\"markers\",\"name\":\"Vermont\",\"orientation\":\"v\",\"showlegend\":true,\"x\":[1047.7265469061877],\"xaxis\":\"x\",\"y\":[1447.6347305389222],\"yaxis\":\"y\",\"type\":\"scatter\"},{\"customdata\":[[\"Washington, dc\"]],\"hovertemplate\":\"state=District of Columbia<br>Area in sqft=%{x}<br>Price in $=%{y}<br>price per sqft=%{marker.size}<br>region=%{customdata[0]}<extra></extra>\",\"legendgroup\":\"District of Columbia\",\"marker\":{\"color\":\"#FECB52\",\"size\":[2.22176084467259],\"sizemode\":\"area\",\"sizeref\":0.008150346076109202,\"symbol\":\"circle\"},\"mode\":\"markers\",\"name\":\"District of Columbia\",\"orientation\":\"v\",\"showlegend\":true,\"x\":[882.0784810126582],\"xaxis\":\"x\",\"y\":[1824.2426160337552],\"yaxis\":\"y\",\"type\":\"scatter\"},{\"customdata\":[[\"Wyoming\"]],\"hovertemplate\":\"state=Wyoming<br>Area in sqft=%{x}<br>Price in $=%{y}<br>price per sqft=%{marker.size}<br>region=%{customdata[0]}<extra></extra>\",\"legendgroup\":\"Wyoming\",\"marker\":{\"color\":\"#636efa\",\"size\":[0.9482627972047625],\"sizemode\":\"area\",\"sizeref\":0.008150346076109202,\"symbol\":\"circle\"},\"mode\":\"markers\",\"name\":\"Wyoming\",\"orientation\":\"v\",\"showlegend\":true,\"x\":[1080.3833333333334],\"xaxis\":\"x\",\"y\":[962.1111111111111],\"yaxis\":\"y\",\"type\":\"scatter\"}],                        {\"template\":{\"data\":{\"histogram2dcontour\":[{\"type\":\"histogram2dcontour\",\"colorbar\":{\"outlinewidth\":0,\"ticks\":\"\"},\"colorscale\":[[0.0,\"#0d0887\"],[0.1111111111111111,\"#46039f\"],[0.2222222222222222,\"#7201a8\"],[0.3333333333333333,\"#9c179e\"],[0.4444444444444444,\"#bd3786\"],[0.5555555555555556,\"#d8576b\"],[0.6666666666666666,\"#ed7953\"],[0.7777777777777778,\"#fb9f3a\"],[0.8888888888888888,\"#fdca26\"],[1.0,\"#f0f921\"]]}],\"choropleth\":[{\"type\":\"choropleth\",\"colorbar\":{\"outlinewidth\":0,\"ticks\":\"\"}}],\"histogram2d\":[{\"type\":\"histogram2d\",\"colorbar\":{\"outlinewidth\":0,\"ticks\":\"\"},\"colorscale\":[[0.0,\"#0d0887\"],[0.1111111111111111,\"#46039f\"],[0.2222222222222222,\"#7201a8\"],[0.3333333333333333,\"#9c179e\"],[0.4444444444444444,\"#bd3786\"],[0.5555555555555556,\"#d8576b\"],[0.6666666666666666,\"#ed7953\"],[0.7777777777777778,\"#fb9f3a\"],[0.8888888888888888,\"#fdca26\"],[1.0,\"#f0f921\"]]}],\"heatmap\":[{\"type\":\"heatmap\",\"colorbar\":{\"outlinewidth\":0,\"ticks\":\"\"},\"colorscale\":[[0.0,\"#0d0887\"],[0.1111111111111111,\"#46039f\"],[0.2222222222222222,\"#7201a8\"],[0.3333333333333333,\"#9c179e\"],[0.4444444444444444,\"#bd3786\"],[0.5555555555555556,\"#d8576b\"],[0.6666666666666666,\"#ed7953\"],[0.7777777777777778,\"#fb9f3a\"],[0.8888888888888888,\"#fdca26\"],[1.0,\"#f0f921\"]]}],\"heatmapgl\":[{\"type\":\"heatmapgl\",\"colorbar\":{\"outlinewidth\":0,\"ticks\":\"\"},\"colorscale\":[[0.0,\"#0d0887\"],[0.1111111111111111,\"#46039f\"],[0.2222222222222222,\"#7201a8\"],[0.3333333333333333,\"#9c179e\"],[0.4444444444444444,\"#bd3786\"],[0.5555555555555556,\"#d8576b\"],[0.6666666666666666,\"#ed7953\"],[0.7777777777777778,\"#fb9f3a\"],[0.8888888888888888,\"#fdca26\"],[1.0,\"#f0f921\"]]}],\"contourcarpet\":[{\"type\":\"contourcarpet\",\"colorbar\":{\"outlinewidth\":0,\"ticks\":\"\"}}],\"contour\":[{\"type\":\"contour\",\"colorbar\":{\"outlinewidth\":0,\"ticks\":\"\"},\"colorscale\":[[0.0,\"#0d0887\"],[0.1111111111111111,\"#46039f\"],[0.2222222222222222,\"#7201a8\"],[0.3333333333333333,\"#9c179e\"],[0.4444444444444444,\"#bd3786\"],[0.5555555555555556,\"#d8576b\"],[0.6666666666666666,\"#ed7953\"],[0.7777777777777778,\"#fb9f3a\"],[0.8888888888888888,\"#fdca26\"],[1.0,\"#f0f921\"]]}],\"surface\":[{\"type\":\"surface\",\"colorbar\":{\"outlinewidth\":0,\"ticks\":\"\"},\"colorscale\":[[0.0,\"#0d0887\"],[0.1111111111111111,\"#46039f\"],[0.2222222222222222,\"#7201a8\"],[0.3333333333333333,\"#9c179e\"],[0.4444444444444444,\"#bd3786\"],[0.5555555555555556,\"#d8576b\"],[0.6666666666666666,\"#ed7953\"],[0.7777777777777778,\"#fb9f3a\"],[0.8888888888888888,\"#fdca26\"],[1.0,\"#f0f921\"]]}],\"mesh3d\":[{\"type\":\"mesh3d\",\"colorbar\":{\"outlinewidth\":0,\"ticks\":\"\"}}],\"scatter\":[{\"fillpattern\":{\"fillmode\":\"overlay\",\"size\":10,\"solidity\":0.2},\"type\":\"scatter\"}],\"parcoords\":[{\"type\":\"parcoords\",\"line\":{\"colorbar\":{\"outlinewidth\":0,\"ticks\":\"\"}}}],\"scatterpolargl\":[{\"type\":\"scatterpolargl\",\"marker\":{\"colorbar\":{\"outlinewidth\":0,\"ticks\":\"\"}}}],\"bar\":[{\"error_x\":{\"color\":\"#2a3f5f\"},\"error_y\":{\"color\":\"#2a3f5f\"},\"marker\":{\"line\":{\"color\":\"#E5ECF6\",\"width\":0.5},\"pattern\":{\"fillmode\":\"overlay\",\"size\":10,\"solidity\":0.2}},\"type\":\"bar\"}],\"scattergeo\":[{\"type\":\"scattergeo\",\"marker\":{\"colorbar\":{\"outlinewidth\":0,\"ticks\":\"\"}}}],\"scatterpolar\":[{\"type\":\"scatterpolar\",\"marker\":{\"colorbar\":{\"outlinewidth\":0,\"ticks\":\"\"}}}],\"histogram\":[{\"marker\":{\"pattern\":{\"fillmode\":\"overlay\",\"size\":10,\"solidity\":0.2}},\"type\":\"histogram\"}],\"scattergl\":[{\"type\":\"scattergl\",\"marker\":{\"colorbar\":{\"outlinewidth\":0,\"ticks\":\"\"}}}],\"scatter3d\":[{\"type\":\"scatter3d\",\"line\":{\"colorbar\":{\"outlinewidth\":0,\"ticks\":\"\"}},\"marker\":{\"colorbar\":{\"outlinewidth\":0,\"ticks\":\"\"}}}],\"scattermapbox\":[{\"type\":\"scattermapbox\",\"marker\":{\"colorbar\":{\"outlinewidth\":0,\"ticks\":\"\"}}}],\"scatterternary\":[{\"type\":\"scatterternary\",\"marker\":{\"colorbar\":{\"outlinewidth\":0,\"ticks\":\"\"}}}],\"scattercarpet\":[{\"type\":\"scattercarpet\",\"marker\":{\"colorbar\":{\"outlinewidth\":0,\"ticks\":\"\"}}}],\"carpet\":[{\"aaxis\":{\"endlinecolor\":\"#2a3f5f\",\"gridcolor\":\"white\",\"linecolor\":\"white\",\"minorgridcolor\":\"white\",\"startlinecolor\":\"#2a3f5f\"},\"baxis\":{\"endlinecolor\":\"#2a3f5f\",\"gridcolor\":\"white\",\"linecolor\":\"white\",\"minorgridcolor\":\"white\",\"startlinecolor\":\"#2a3f5f\"},\"type\":\"carpet\"}],\"table\":[{\"cells\":{\"fill\":{\"color\":\"#EBF0F8\"},\"line\":{\"color\":\"white\"}},\"header\":{\"fill\":{\"color\":\"#C8D4E3\"},\"line\":{\"color\":\"white\"}},\"type\":\"table\"}],\"barpolar\":[{\"marker\":{\"line\":{\"color\":\"#E5ECF6\",\"width\":0.5},\"pattern\":{\"fillmode\":\"overlay\",\"size\":10,\"solidity\":0.2}},\"type\":\"barpolar\"}],\"pie\":[{\"automargin\":true,\"type\":\"pie\"}]},\"layout\":{\"autotypenumbers\":\"strict\",\"colorway\":[\"#636efa\",\"#EF553B\",\"#00cc96\",\"#ab63fa\",\"#FFA15A\",\"#19d3f3\",\"#FF6692\",\"#B6E880\",\"#FF97FF\",\"#FECB52\"],\"font\":{\"color\":\"#2a3f5f\"},\"hovermode\":\"closest\",\"hoverlabel\":{\"align\":\"left\"},\"paper_bgcolor\":\"white\",\"plot_bgcolor\":\"#E5ECF6\",\"polar\":{\"bgcolor\":\"#E5ECF6\",\"angularaxis\":{\"gridcolor\":\"white\",\"linecolor\":\"white\",\"ticks\":\"\"},\"radialaxis\":{\"gridcolor\":\"white\",\"linecolor\":\"white\",\"ticks\":\"\"}},\"ternary\":{\"bgcolor\":\"#E5ECF6\",\"aaxis\":{\"gridcolor\":\"white\",\"linecolor\":\"white\",\"ticks\":\"\"},\"baxis\":{\"gridcolor\":\"white\",\"linecolor\":\"white\",\"ticks\":\"\"},\"caxis\":{\"gridcolor\":\"white\",\"linecolor\":\"white\",\"ticks\":\"\"}},\"coloraxis\":{\"colorbar\":{\"outlinewidth\":0,\"ticks\":\"\"}},\"colorscale\":{\"sequential\":[[0.0,\"#0d0887\"],[0.1111111111111111,\"#46039f\"],[0.2222222222222222,\"#7201a8\"],[0.3333333333333333,\"#9c179e\"],[0.4444444444444444,\"#bd3786\"],[0.5555555555555556,\"#d8576b\"],[0.6666666666666666,\"#ed7953\"],[0.7777777777777778,\"#fb9f3a\"],[0.8888888888888888,\"#fdca26\"],[1.0,\"#f0f921\"]],\"sequentialminus\":[[0.0,\"#0d0887\"],[0.1111111111111111,\"#46039f\"],[0.2222222222222222,\"#7201a8\"],[0.3333333333333333,\"#9c179e\"],[0.4444444444444444,\"#bd3786\"],[0.5555555555555556,\"#d8576b\"],[0.6666666666666666,\"#ed7953\"],[0.7777777777777778,\"#fb9f3a\"],[0.8888888888888888,\"#fdca26\"],[1.0,\"#f0f921\"]],\"diverging\":[[0,\"#8e0152\"],[0.1,\"#c51b7d\"],[0.2,\"#de77ae\"],[0.3,\"#f1b6da\"],[0.4,\"#fde0ef\"],[0.5,\"#f7f7f7\"],[0.6,\"#e6f5d0\"],[0.7,\"#b8e186\"],[0.8,\"#7fbc41\"],[0.9,\"#4d9221\"],[1,\"#276419\"]]},\"xaxis\":{\"gridcolor\":\"white\",\"linecolor\":\"white\",\"ticks\":\"\",\"title\":{\"standoff\":15},\"zerolinecolor\":\"white\",\"automargin\":true,\"zerolinewidth\":2},\"yaxis\":{\"gridcolor\":\"white\",\"linecolor\":\"white\",\"ticks\":\"\",\"title\":{\"standoff\":15},\"zerolinecolor\":\"white\",\"automargin\":true,\"zerolinewidth\":2},\"scene\":{\"xaxis\":{\"backgroundcolor\":\"#E5ECF6\",\"gridcolor\":\"white\",\"linecolor\":\"white\",\"showbackground\":true,\"ticks\":\"\",\"zerolinecolor\":\"white\",\"gridwidth\":2},\"yaxis\":{\"backgroundcolor\":\"#E5ECF6\",\"gridcolor\":\"white\",\"linecolor\":\"white\",\"showbackground\":true,\"ticks\":\"\",\"zerolinecolor\":\"white\",\"gridwidth\":2},\"zaxis\":{\"backgroundcolor\":\"#E5ECF6\",\"gridcolor\":\"white\",\"linecolor\":\"white\",\"showbackground\":true,\"ticks\":\"\",\"zerolinecolor\":\"white\",\"gridwidth\":2}},\"shapedefaults\":{\"line\":{\"color\":\"#2a3f5f\"}},\"annotationdefaults\":{\"arrowcolor\":\"#2a3f5f\",\"arrowhead\":0,\"arrowwidth\":1},\"geo\":{\"bgcolor\":\"white\",\"landcolor\":\"#E5ECF6\",\"subunitcolor\":\"white\",\"showland\":true,\"showlakes\":true,\"lakecolor\":\"white\"},\"title\":{\"x\":0.05},\"mapbox\":{\"style\":\"light\"}}},\"xaxis\":{\"anchor\":\"y\",\"domain\":[0.0,1.0],\"title\":{\"text\":\"Area in sqft\"}},\"yaxis\":{\"anchor\":\"x\",\"domain\":[0.0,1.0],\"title\":{\"text\":\"Price in $\"}},\"legend\":{\"title\":{\"text\":\"state\"},\"tracegroupgap\":0,\"itemsizing\":\"constant\"},\"title\":{\"text\":\"Average price and average area of the properties for different regions\"}},                        {\"responsive\": true}                    ).then(function(){\n",
              "                            \n",
              "var gd = document.getElementById('98c7cf5d-2303-4f66-addb-2d90394e1ef8');\n",
              "var x = new MutationObserver(function (mutations, observer) {{\n",
              "        var display = window.getComputedStyle(gd).display;\n",
              "        if (!display || display === 'none') {{\n",
              "            console.log([gd, 'removed!']);\n",
              "            Plotly.purge(gd);\n",
              "            observer.disconnect();\n",
              "        }}\n",
              "}});\n",
              "\n",
              "// Listen for the removal of the full notebook cells\n",
              "var notebookContainer = gd.closest('#notebook-container');\n",
              "if (notebookContainer) {{\n",
              "    x.observe(notebookContainer, {childList: true});\n",
              "}}\n",
              "\n",
              "// Listen for the clearing of the current output cell\n",
              "var outputEl = gd.closest('.output');\n",
              "if (outputEl) {{\n",
              "    x.observe(outputEl, {childList: true});\n",
              "}}\n",
              "\n",
              "                        })                };                            </script>        </div>\n",
              "</body>\n",
              "</html>"
            ]
          },
          "metadata": {}
        }
      ]
    },
    {
      "cell_type": "markdown",
      "source": [
        "The average price per unit area for most of the properties lies in the range of 0.8 to 1.3 dollars per sqft. 4 out of top 5 costliest regions are in the California state : Bay Area, Santa Barbara, Los Angeles and Monterey bay. In the state of New York, New York city and Long Island region are the regions with highest average price per sqft. The landlocked regions of Oklahoma and Kansas have the lowest values."
      ],
      "metadata": {
        "id": "f6f7Dav7T6-1"
      }
    },
    {
      "cell_type": "markdown",
      "source": [
        "### 7. How does the statewise avg price, avg area and avg price per unit area of the properties vary across the country?\n",
        "\n",
        "1. plot a statewise interactive scatter plot for average price and \n",
        "average area.\n",
        "2. plot the top 20 states with highest average price \n",
        "\n",
        "\n"
      ],
      "metadata": {
        "id": "iBBfch4u2Smz"
      }
    },
    {
      "cell_type": "code",
      "source": [
        "#calculating statewise average price of a property\n",
        "state_price = house.groupby('state')['price'].mean()"
      ],
      "metadata": {
        "id": "qDpTbFTwO4d4"
      },
      "execution_count": 52,
      "outputs": []
    },
    {
      "cell_type": "code",
      "source": [
        "#calculating statewise average area of a property\n",
        "state_sqft = house.groupby('state')['sqfeet'].mean()"
      ],
      "metadata": {
        "id": "SByf1c8aR213"
      },
      "execution_count": 53,
      "outputs": []
    },
    {
      "cell_type": "code",
      "source": [
        "#creating a new dataframe by concatenating\n",
        "state_price_sqft = pd.concat([state_price,state_sqft, state_avg_price_area], axis =1)\n",
        "state_price_sqft.reset_index(inplace=True)"
      ],
      "metadata": {
        "id": "fItrHL87ti1G"
      },
      "execution_count": 54,
      "outputs": []
    },
    {
      "cell_type": "code",
      "source": [
        "state_price_sqft.head()"
      ],
      "metadata": {
        "colab": {
          "base_uri": "https://localhost:8080/",
          "height": 206
        },
        "id": "AhutkvM-xLac",
        "outputId": "afdcbb5e-d5ff-4c5b-e581-d95f12dd5346"
      },
      "execution_count": 55,
      "outputs": [
        {
          "output_type": "execute_result",
          "data": {
            "text/plain": [
              "        state        price       sqfeet  price per sqft\n",
              "0     Alabama   880.146138  1044.482255        0.889740\n",
              "1      Alaska  1162.438805   915.370019        1.376868\n",
              "2     Arizona  1043.317322   862.215462        1.267979\n",
              "3    Arkansas   857.761889  1012.446337        0.889635\n",
              "4  California  1744.697406   933.208093        2.014283"
            ],
            "text/html": [
              "\n",
              "  <div id=\"df-38f43ad5-42e7-41c6-b536-5e7a09da5c42\">\n",
              "    <div class=\"colab-df-container\">\n",
              "      <div>\n",
              "<style scoped>\n",
              "    .dataframe tbody tr th:only-of-type {\n",
              "        vertical-align: middle;\n",
              "    }\n",
              "\n",
              "    .dataframe tbody tr th {\n",
              "        vertical-align: top;\n",
              "    }\n",
              "\n",
              "    .dataframe thead th {\n",
              "        text-align: right;\n",
              "    }\n",
              "</style>\n",
              "<table border=\"1\" class=\"dataframe\">\n",
              "  <thead>\n",
              "    <tr style=\"text-align: right;\">\n",
              "      <th></th>\n",
              "      <th>state</th>\n",
              "      <th>price</th>\n",
              "      <th>sqfeet</th>\n",
              "      <th>price per sqft</th>\n",
              "    </tr>\n",
              "  </thead>\n",
              "  <tbody>\n",
              "    <tr>\n",
              "      <th>0</th>\n",
              "      <td>Alabama</td>\n",
              "      <td>880.146138</td>\n",
              "      <td>1044.482255</td>\n",
              "      <td>0.889740</td>\n",
              "    </tr>\n",
              "    <tr>\n",
              "      <th>1</th>\n",
              "      <td>Alaska</td>\n",
              "      <td>1162.438805</td>\n",
              "      <td>915.370019</td>\n",
              "      <td>1.376868</td>\n",
              "    </tr>\n",
              "    <tr>\n",
              "      <th>2</th>\n",
              "      <td>Arizona</td>\n",
              "      <td>1043.317322</td>\n",
              "      <td>862.215462</td>\n",
              "      <td>1.267979</td>\n",
              "    </tr>\n",
              "    <tr>\n",
              "      <th>3</th>\n",
              "      <td>Arkansas</td>\n",
              "      <td>857.761889</td>\n",
              "      <td>1012.446337</td>\n",
              "      <td>0.889635</td>\n",
              "    </tr>\n",
              "    <tr>\n",
              "      <th>4</th>\n",
              "      <td>California</td>\n",
              "      <td>1744.697406</td>\n",
              "      <td>933.208093</td>\n",
              "      <td>2.014283</td>\n",
              "    </tr>\n",
              "  </tbody>\n",
              "</table>\n",
              "</div>\n",
              "      <button class=\"colab-df-convert\" onclick=\"convertToInteractive('df-38f43ad5-42e7-41c6-b536-5e7a09da5c42')\"\n",
              "              title=\"Convert this dataframe to an interactive table.\"\n",
              "              style=\"display:none;\">\n",
              "        \n",
              "  <svg xmlns=\"http://www.w3.org/2000/svg\" height=\"24px\"viewBox=\"0 0 24 24\"\n",
              "       width=\"24px\">\n",
              "    <path d=\"M0 0h24v24H0V0z\" fill=\"none\"/>\n",
              "    <path d=\"M18.56 5.44l.94 2.06.94-2.06 2.06-.94-2.06-.94-.94-2.06-.94 2.06-2.06.94zm-11 1L8.5 8.5l.94-2.06 2.06-.94-2.06-.94L8.5 2.5l-.94 2.06-2.06.94zm10 10l.94 2.06.94-2.06 2.06-.94-2.06-.94-.94-2.06-.94 2.06-2.06.94z\"/><path d=\"M17.41 7.96l-1.37-1.37c-.4-.4-.92-.59-1.43-.59-.52 0-1.04.2-1.43.59L10.3 9.45l-7.72 7.72c-.78.78-.78 2.05 0 2.83L4 21.41c.39.39.9.59 1.41.59.51 0 1.02-.2 1.41-.59l7.78-7.78 2.81-2.81c.8-.78.8-2.07 0-2.86zM5.41 20L4 18.59l7.72-7.72 1.47 1.35L5.41 20z\"/>\n",
              "  </svg>\n",
              "      </button>\n",
              "      \n",
              "  <style>\n",
              "    .colab-df-container {\n",
              "      display:flex;\n",
              "      flex-wrap:wrap;\n",
              "      gap: 12px;\n",
              "    }\n",
              "\n",
              "    .colab-df-convert {\n",
              "      background-color: #E8F0FE;\n",
              "      border: none;\n",
              "      border-radius: 50%;\n",
              "      cursor: pointer;\n",
              "      display: none;\n",
              "      fill: #1967D2;\n",
              "      height: 32px;\n",
              "      padding: 0 0 0 0;\n",
              "      width: 32px;\n",
              "    }\n",
              "\n",
              "    .colab-df-convert:hover {\n",
              "      background-color: #E2EBFA;\n",
              "      box-shadow: 0px 1px 2px rgba(60, 64, 67, 0.3), 0px 1px 3px 1px rgba(60, 64, 67, 0.15);\n",
              "      fill: #174EA6;\n",
              "    }\n",
              "\n",
              "    [theme=dark] .colab-df-convert {\n",
              "      background-color: #3B4455;\n",
              "      fill: #D2E3FC;\n",
              "    }\n",
              "\n",
              "    [theme=dark] .colab-df-convert:hover {\n",
              "      background-color: #434B5C;\n",
              "      box-shadow: 0px 1px 3px 1px rgba(0, 0, 0, 0.15);\n",
              "      filter: drop-shadow(0px 1px 2px rgba(0, 0, 0, 0.3));\n",
              "      fill: #FFFFFF;\n",
              "    }\n",
              "  </style>\n",
              "\n",
              "      <script>\n",
              "        const buttonEl =\n",
              "          document.querySelector('#df-38f43ad5-42e7-41c6-b536-5e7a09da5c42 button.colab-df-convert');\n",
              "        buttonEl.style.display =\n",
              "          google.colab.kernel.accessAllowed ? 'block' : 'none';\n",
              "\n",
              "        async function convertToInteractive(key) {\n",
              "          const element = document.querySelector('#df-38f43ad5-42e7-41c6-b536-5e7a09da5c42');\n",
              "          const dataTable =\n",
              "            await google.colab.kernel.invokeFunction('convertToInteractive',\n",
              "                                                     [key], {});\n",
              "          if (!dataTable) return;\n",
              "\n",
              "          const docLinkHtml = 'Like what you see? Visit the ' +\n",
              "            '<a target=\"_blank\" href=https://colab.research.google.com/notebooks/data_table.ipynb>data table notebook</a>'\n",
              "            + ' to learn more about interactive tables.';\n",
              "          element.innerHTML = '';\n",
              "          dataTable['output_type'] = 'display_data';\n",
              "          await google.colab.output.renderOutput(dataTable, element);\n",
              "          const docLink = document.createElement('div');\n",
              "          docLink.innerHTML = docLinkHtml;\n",
              "          element.appendChild(docLink);\n",
              "        }\n",
              "      </script>\n",
              "    </div>\n",
              "  </div>\n",
              "  "
            ]
          },
          "metadata": {},
          "execution_count": 55
        }
      ]
    },
    {
      "cell_type": "code",
      "source": [
        "state_price_sqft.info()"
      ],
      "metadata": {
        "colab": {
          "base_uri": "https://localhost:8080/"
        },
        "id": "Fr-CZgP45OcE",
        "outputId": "14d70802-1863-4bd0-ce64-ea6c66deef67"
      },
      "execution_count": 56,
      "outputs": [
        {
          "output_type": "stream",
          "name": "stdout",
          "text": [
            "<class 'pandas.core.frame.DataFrame'>\n",
            "RangeIndex: 51 entries, 0 to 50\n",
            "Data columns (total 4 columns):\n",
            " #   Column          Non-Null Count  Dtype  \n",
            "---  ------          --------------  -----  \n",
            " 0   state           51 non-null     object \n",
            " 1   price           51 non-null     float64\n",
            " 2   sqfeet          51 non-null     float64\n",
            " 3   price per sqft  51 non-null     float64\n",
            "dtypes: float64(3), object(1)\n",
            "memory usage: 1.7+ KB\n"
          ]
        }
      ]
    },
    {
      "cell_type": "code",
      "source": [
        "state_price_sqft.describe()"
      ],
      "metadata": {
        "colab": {
          "base_uri": "https://localhost:8080/",
          "height": 300
        },
        "id": "gc4hujyRIXky",
        "outputId": "a0f3c277-535c-48f9-fb0d-14d662dfb9cf"
      },
      "execution_count": 57,
      "outputs": [
        {
          "output_type": "execute_result",
          "data": {
            "text/plain": [
              "             price       sqfeet  price per sqft\n",
              "count    51.000000    51.000000       51.000000\n",
              "mean   1159.115437   982.570791        1.266132\n",
              "std     300.543918    61.856952        0.384689\n",
              "min     734.465885   825.144902        0.805122\n",
              "25%     941.395419   940.225183        1.003096\n",
              "50%    1114.223702   987.454503        1.176818\n",
              "75%    1328.724378  1018.006329        1.471351\n",
              "max    1941.799642  1153.592308        2.656843"
            ],
            "text/html": [
              "\n",
              "  <div id=\"df-ebde0837-4aca-43bb-82c7-a531c647a994\">\n",
              "    <div class=\"colab-df-container\">\n",
              "      <div>\n",
              "<style scoped>\n",
              "    .dataframe tbody tr th:only-of-type {\n",
              "        vertical-align: middle;\n",
              "    }\n",
              "\n",
              "    .dataframe tbody tr th {\n",
              "        vertical-align: top;\n",
              "    }\n",
              "\n",
              "    .dataframe thead th {\n",
              "        text-align: right;\n",
              "    }\n",
              "</style>\n",
              "<table border=\"1\" class=\"dataframe\">\n",
              "  <thead>\n",
              "    <tr style=\"text-align: right;\">\n",
              "      <th></th>\n",
              "      <th>price</th>\n",
              "      <th>sqfeet</th>\n",
              "      <th>price per sqft</th>\n",
              "    </tr>\n",
              "  </thead>\n",
              "  <tbody>\n",
              "    <tr>\n",
              "      <th>count</th>\n",
              "      <td>51.000000</td>\n",
              "      <td>51.000000</td>\n",
              "      <td>51.000000</td>\n",
              "    </tr>\n",
              "    <tr>\n",
              "      <th>mean</th>\n",
              "      <td>1159.115437</td>\n",
              "      <td>982.570791</td>\n",
              "      <td>1.266132</td>\n",
              "    </tr>\n",
              "    <tr>\n",
              "      <th>std</th>\n",
              "      <td>300.543918</td>\n",
              "      <td>61.856952</td>\n",
              "      <td>0.384689</td>\n",
              "    </tr>\n",
              "    <tr>\n",
              "      <th>min</th>\n",
              "      <td>734.465885</td>\n",
              "      <td>825.144902</td>\n",
              "      <td>0.805122</td>\n",
              "    </tr>\n",
              "    <tr>\n",
              "      <th>25%</th>\n",
              "      <td>941.395419</td>\n",
              "      <td>940.225183</td>\n",
              "      <td>1.003096</td>\n",
              "    </tr>\n",
              "    <tr>\n",
              "      <th>50%</th>\n",
              "      <td>1114.223702</td>\n",
              "      <td>987.454503</td>\n",
              "      <td>1.176818</td>\n",
              "    </tr>\n",
              "    <tr>\n",
              "      <th>75%</th>\n",
              "      <td>1328.724378</td>\n",
              "      <td>1018.006329</td>\n",
              "      <td>1.471351</td>\n",
              "    </tr>\n",
              "    <tr>\n",
              "      <th>max</th>\n",
              "      <td>1941.799642</td>\n",
              "      <td>1153.592308</td>\n",
              "      <td>2.656843</td>\n",
              "    </tr>\n",
              "  </tbody>\n",
              "</table>\n",
              "</div>\n",
              "      <button class=\"colab-df-convert\" onclick=\"convertToInteractive('df-ebde0837-4aca-43bb-82c7-a531c647a994')\"\n",
              "              title=\"Convert this dataframe to an interactive table.\"\n",
              "              style=\"display:none;\">\n",
              "        \n",
              "  <svg xmlns=\"http://www.w3.org/2000/svg\" height=\"24px\"viewBox=\"0 0 24 24\"\n",
              "       width=\"24px\">\n",
              "    <path d=\"M0 0h24v24H0V0z\" fill=\"none\"/>\n",
              "    <path d=\"M18.56 5.44l.94 2.06.94-2.06 2.06-.94-2.06-.94-.94-2.06-.94 2.06-2.06.94zm-11 1L8.5 8.5l.94-2.06 2.06-.94-2.06-.94L8.5 2.5l-.94 2.06-2.06.94zm10 10l.94 2.06.94-2.06 2.06-.94-2.06-.94-.94-2.06-.94 2.06-2.06.94z\"/><path d=\"M17.41 7.96l-1.37-1.37c-.4-.4-.92-.59-1.43-.59-.52 0-1.04.2-1.43.59L10.3 9.45l-7.72 7.72c-.78.78-.78 2.05 0 2.83L4 21.41c.39.39.9.59 1.41.59.51 0 1.02-.2 1.41-.59l7.78-7.78 2.81-2.81c.8-.78.8-2.07 0-2.86zM5.41 20L4 18.59l7.72-7.72 1.47 1.35L5.41 20z\"/>\n",
              "  </svg>\n",
              "      </button>\n",
              "      \n",
              "  <style>\n",
              "    .colab-df-container {\n",
              "      display:flex;\n",
              "      flex-wrap:wrap;\n",
              "      gap: 12px;\n",
              "    }\n",
              "\n",
              "    .colab-df-convert {\n",
              "      background-color: #E8F0FE;\n",
              "      border: none;\n",
              "      border-radius: 50%;\n",
              "      cursor: pointer;\n",
              "      display: none;\n",
              "      fill: #1967D2;\n",
              "      height: 32px;\n",
              "      padding: 0 0 0 0;\n",
              "      width: 32px;\n",
              "    }\n",
              "\n",
              "    .colab-df-convert:hover {\n",
              "      background-color: #E2EBFA;\n",
              "      box-shadow: 0px 1px 2px rgba(60, 64, 67, 0.3), 0px 1px 3px 1px rgba(60, 64, 67, 0.15);\n",
              "      fill: #174EA6;\n",
              "    }\n",
              "\n",
              "    [theme=dark] .colab-df-convert {\n",
              "      background-color: #3B4455;\n",
              "      fill: #D2E3FC;\n",
              "    }\n",
              "\n",
              "    [theme=dark] .colab-df-convert:hover {\n",
              "      background-color: #434B5C;\n",
              "      box-shadow: 0px 1px 3px 1px rgba(0, 0, 0, 0.15);\n",
              "      filter: drop-shadow(0px 1px 2px rgba(0, 0, 0, 0.3));\n",
              "      fill: #FFFFFF;\n",
              "    }\n",
              "  </style>\n",
              "\n",
              "      <script>\n",
              "        const buttonEl =\n",
              "          document.querySelector('#df-ebde0837-4aca-43bb-82c7-a531c647a994 button.colab-df-convert');\n",
              "        buttonEl.style.display =\n",
              "          google.colab.kernel.accessAllowed ? 'block' : 'none';\n",
              "\n",
              "        async function convertToInteractive(key) {\n",
              "          const element = document.querySelector('#df-ebde0837-4aca-43bb-82c7-a531c647a994');\n",
              "          const dataTable =\n",
              "            await google.colab.kernel.invokeFunction('convertToInteractive',\n",
              "                                                     [key], {});\n",
              "          if (!dataTable) return;\n",
              "\n",
              "          const docLinkHtml = 'Like what you see? Visit the ' +\n",
              "            '<a target=\"_blank\" href=https://colab.research.google.com/notebooks/data_table.ipynb>data table notebook</a>'\n",
              "            + ' to learn more about interactive tables.';\n",
              "          element.innerHTML = '';\n",
              "          dataTable['output_type'] = 'display_data';\n",
              "          await google.colab.output.renderOutput(dataTable, element);\n",
              "          const docLink = document.createElement('div');\n",
              "          docLink.innerHTML = docLinkHtml;\n",
              "          element.appendChild(docLink);\n",
              "        }\n",
              "      </script>\n",
              "    </div>\n",
              "  </div>\n",
              "  "
            ]
          },
          "metadata": {},
          "execution_count": 57
        }
      ]
    },
    {
      "cell_type": "code",
      "source": [
        "px.scatter(state_price_sqft, x='sqfeet',y='price',size='price per sqft', color='state', text='state',\n",
        "           labels={'price':'Price in $','sqfeet': 'Area in sqft'},title ='Average price and average area of the properties for different states ')"
      ],
      "metadata": {
        "colab": {
          "base_uri": "https://localhost:8080/",
          "height": 542
        },
        "id": "kMjd6__vkmkU",
        "outputId": "506df256-6b9d-468a-fd27-06fa9057e7fe"
      },
      "execution_count": 58,
      "outputs": [
        {
          "output_type": "display_data",
          "data": {
            "text/html": [
              "<html>\n",
              "<head><meta charset=\"utf-8\" /></head>\n",
              "<body>\n",
              "    <div>            <script src=\"https://cdnjs.cloudflare.com/ajax/libs/mathjax/2.7.5/MathJax.js?config=TeX-AMS-MML_SVG\"></script><script type=\"text/javascript\">if (window.MathJax && window.MathJax.Hub && window.MathJax.Hub.Config) {window.MathJax.Hub.Config({SVG: {font: \"STIX-Web\"}});}</script>                <script type=\"text/javascript\">window.PlotlyConfig = {MathJaxConfig: 'local'};</script>\n",
              "        <script src=\"https://cdn.plot.ly/plotly-2.18.2.min.js\"></script>                <div id=\"cf1397bc-1911-46fd-8ff5-6b87c4be1734\" class=\"plotly-graph-div\" style=\"height:525px; width:100%;\"></div>            <script type=\"text/javascript\">                                    window.PLOTLYENV=window.PLOTLYENV || {};                                    if (document.getElementById(\"cf1397bc-1911-46fd-8ff5-6b87c4be1734\")) {                    Plotly.newPlot(                        \"cf1397bc-1911-46fd-8ff5-6b87c4be1734\",                        [{\"hovertemplate\":\"state=%{text}<br>Area in sqft=%{x}<br>Price in $=%{y}<br>price per sqft=%{marker.size}<extra></extra>\",\"legendgroup\":\"Alabama\",\"marker\":{\"color\":\"#636efa\",\"size\":[0.8897402638102908],\"sizemode\":\"area\",\"sizeref\":0.006642107274859445,\"symbol\":\"circle\"},\"mode\":\"markers+text\",\"name\":\"Alabama\",\"orientation\":\"v\",\"showlegend\":true,\"text\":[\"Alabama\"],\"x\":[1044.482254697286],\"xaxis\":\"x\",\"y\":[880.1461377870563],\"yaxis\":\"y\",\"type\":\"scatter\"},{\"hovertemplate\":\"state=%{text}<br>Area in sqft=%{x}<br>Price in $=%{y}<br>price per sqft=%{marker.size}<extra></extra>\",\"legendgroup\":\"Alaska\",\"marker\":{\"color\":\"#EF553B\",\"size\":[1.376868067998444],\"sizemode\":\"area\",\"sizeref\":0.006642107274859445,\"symbol\":\"circle\"},\"mode\":\"markers+text\",\"name\":\"Alaska\",\"orientation\":\"v\",\"showlegend\":true,\"text\":[\"Alaska\"],\"x\":[915.3700189753321],\"xaxis\":\"x\",\"y\":[1162.4388045540798],\"yaxis\":\"y\",\"type\":\"scatter\"},{\"hovertemplate\":\"state=%{text}<br>Area in sqft=%{x}<br>Price in $=%{y}<br>price per sqft=%{marker.size}<extra></extra>\",\"legendgroup\":\"Arizona\",\"marker\":{\"color\":\"#00cc96\",\"size\":[1.2679786623923515],\"sizemode\":\"area\",\"sizeref\":0.006642107274859445,\"symbol\":\"circle\"},\"mode\":\"markers+text\",\"name\":\"Arizona\",\"orientation\":\"v\",\"showlegend\":true,\"text\":[\"Arizona\"],\"x\":[862.215462031107],\"xaxis\":\"x\",\"y\":[1043.3173223543763],\"yaxis\":\"y\",\"type\":\"scatter\"},{\"hovertemplate\":\"state=%{text}<br>Area in sqft=%{x}<br>Price in $=%{y}<br>price per sqft=%{marker.size}<extra></extra>\",\"legendgroup\":\"Arkansas\",\"marker\":{\"color\":\"#ab63fa\",\"size\":[0.8896348090782144],\"sizemode\":\"area\",\"sizeref\":0.006642107274859445,\"symbol\":\"circle\"},\"mode\":\"markers+text\",\"name\":\"Arkansas\",\"orientation\":\"v\",\"showlegend\":true,\"text\":[\"Arkansas\"],\"x\":[1012.4463367609254],\"xaxis\":\"x\",\"y\":[857.7618894601543],\"yaxis\":\"y\",\"type\":\"scatter\"},{\"hovertemplate\":\"state=%{text}<br>Area in sqft=%{x}<br>Price in $=%{y}<br>price per sqft=%{marker.size}<extra></extra>\",\"legendgroup\":\"California\",\"marker\":{\"color\":\"#FFA15A\",\"size\":[2.014283161697678],\"sizemode\":\"area\",\"sizeref\":0.006642107274859445,\"symbol\":\"circle\"},\"mode\":\"markers+text\",\"name\":\"California\",\"orientation\":\"v\",\"showlegend\":true,\"text\":[\"California\"],\"x\":[933.208092674172],\"xaxis\":\"x\",\"y\":[1744.6974057758198],\"yaxis\":\"y\",\"type\":\"scatter\"},{\"hovertemplate\":\"state=%{text}<br>Area in sqft=%{x}<br>Price in $=%{y}<br>price per sqft=%{marker.size}<extra></extra>\",\"legendgroup\":\"Colorado\",\"marker\":{\"color\":\"#19d3f3\",\"size\":[1.661648739131836],\"sizemode\":\"area\",\"sizeref\":0.006642107274859445,\"symbol\":\"circle\"},\"mode\":\"markers+text\",\"name\":\"Colorado\",\"orientation\":\"v\",\"showlegend\":true,\"text\":[\"Colorado\"],\"x\":[935.210511731018],\"xaxis\":\"x\",\"y\":[1468.0677997413634],\"yaxis\":\"y\",\"type\":\"scatter\"},{\"hovertemplate\":\"state=%{text}<br>Area in sqft=%{x}<br>Price in $=%{y}<br>price per sqft=%{marker.size}<extra></extra>\",\"legendgroup\":\"Connecticut\",\"marker\":{\"color\":\"#FF6692\",\"size\":[1.4762792786806718],\"sizemode\":\"area\",\"sizeref\":0.006642107274859445,\"symbol\":\"circle\"},\"mode\":\"markers+text\",\"name\":\"Connecticut\",\"orientation\":\"v\",\"showlegend\":true,\"text\":[\"Connecticut\"],\"x\":[980.2166711919631],\"xaxis\":\"x\",\"y\":[1336.6117295682868],\"yaxis\":\"y\",\"type\":\"scatter\"},{\"hovertemplate\":\"state=%{text}<br>Area in sqft=%{x}<br>Price in $=%{y}<br>price per sqft=%{marker.size}<extra></extra>\",\"legendgroup\":\"Delaware\",\"marker\":{\"color\":\"#B6E880\",\"size\":[1.472736571643698],\"sizemode\":\"area\",\"sizeref\":0.006642107274859445,\"symbol\":\"circle\"},\"mode\":\"markers+text\",\"name\":\"Delaware\",\"orientation\":\"v\",\"showlegend\":true,\"text\":[\"Delaware\"],\"x\":[919.1630327056491],\"xaxis\":\"x\",\"y\":[1276.1189296333002],\"yaxis\":\"y\",\"type\":\"scatter\"},{\"hovertemplate\":\"state=%{text}<br>Area in sqft=%{x}<br>Price in $=%{y}<br>price per sqft=%{marker.size}<extra></extra>\",\"legendgroup\":\"District of Columbia\",\"marker\":{\"color\":\"#FF97FF\",\"size\":[2.22176084467259],\"sizemode\":\"area\",\"sizeref\":0.006642107274859445,\"symbol\":\"circle\"},\"mode\":\"markers+text\",\"name\":\"District of Columbia\",\"orientation\":\"v\",\"showlegend\":true,\"text\":[\"District of Columbia\"],\"x\":[882.0784810126582],\"xaxis\":\"x\",\"y\":[1824.2426160337552],\"yaxis\":\"y\",\"type\":\"scatter\"},{\"hovertemplate\":\"state=%{text}<br>Area in sqft=%{x}<br>Price in $=%{y}<br>price per sqft=%{marker.size}<extra></extra>\",\"legendgroup\":\"Florida\",\"marker\":{\"color\":\"#FECB52\",\"size\":[1.2493849850650836],\"sizemode\":\"area\",\"sizeref\":0.006642107274859445,\"symbol\":\"circle\"},\"mode\":\"markers+text\",\"name\":\"Florida\",\"orientation\":\"v\",\"showlegend\":true,\"text\":[\"Florida\"],\"x\":[1026.7018072289156],\"xaxis\":\"x\",\"y\":[1212.6777108433735],\"yaxis\":\"y\",\"type\":\"scatter\"},{\"hovertemplate\":\"state=%{text}<br>Area in sqft=%{x}<br>Price in $=%{y}<br>price per sqft=%{marker.size}<extra></extra>\",\"legendgroup\":\"Georgia\",\"marker\":{\"color\":\"#636efa\",\"size\":[1.0105761095514816],\"sizemode\":\"area\",\"sizeref\":0.006642107274859445,\"symbol\":\"circle\"},\"mode\":\"markers+text\",\"name\":\"Georgia\",\"orientation\":\"v\",\"showlegend\":true,\"text\":[\"Georgia\"],\"x\":[989.2161488862837],\"xaxis\":\"x\",\"y\":[945.6260990621337],\"yaxis\":\"y\",\"type\":\"scatter\"},{\"hovertemplate\":\"state=%{text}<br>Area in sqft=%{x}<br>Price in $=%{y}<br>price per sqft=%{marker.size}<extra></extra>\",\"legendgroup\":\"Hawaii\",\"marker\":{\"color\":\"#EF553B\",\"size\":[2.656842909943778],\"sizemode\":\"area\",\"sizeref\":0.006642107274859445,\"symbol\":\"circle\"},\"mode\":\"markers+text\",\"name\":\"Hawaii\",\"orientation\":\"v\",\"showlegend\":true,\"text\":[\"Hawaii\"],\"x\":[825.1449016100179],\"xaxis\":\"x\",\"y\":[1941.7996422182468],\"yaxis\":\"y\",\"type\":\"scatter\"},{\"hovertemplate\":\"state=%{text}<br>Area in sqft=%{x}<br>Price in $=%{y}<br>price per sqft=%{marker.size}<extra></extra>\",\"legendgroup\":\"Idaho\",\"marker\":{\"color\":\"#00cc96\",\"size\":[1.1479802969884372],\"sizemode\":\"area\",\"sizeref\":0.006642107274859445,\"symbol\":\"circle\"},\"mode\":\"markers+text\",\"name\":\"Idaho\",\"orientation\":\"v\",\"showlegend\":true,\"text\":[\"Idaho\"],\"x\":[1048.436797752809],\"xaxis\":\"x\",\"y\":[1119.7277621722847],\"yaxis\":\"y\",\"type\":\"scatter\"},{\"hovertemplate\":\"state=%{text}<br>Area in sqft=%{x}<br>Price in $=%{y}<br>price per sqft=%{marker.size}<extra></extra>\",\"legendgroup\":\"Illinois\",\"marker\":{\"color\":\"#ab63fa\",\"size\":[1.0444534299680133],\"sizemode\":\"area\",\"sizeref\":0.006642107274859445,\"symbol\":\"circle\"},\"mode\":\"markers+text\",\"name\":\"Illinois\",\"orientation\":\"v\",\"showlegend\":true,\"text\":[\"Illinois\"],\"x\":[1000.0468518125928],\"xaxis\":\"x\",\"y\":[965.5317998728005],\"yaxis\":\"y\",\"type\":\"scatter\"},{\"hovertemplate\":\"state=%{text}<br>Area in sqft=%{x}<br>Price in $=%{y}<br>price per sqft=%{marker.size}<extra></extra>\",\"legendgroup\":\"Indiana\",\"marker\":{\"color\":\"#FFA15A\",\"size\":[0.927647451326331],\"sizemode\":\"area\",\"sizeref\":0.006642107274859445,\"symbol\":\"circle\"},\"mode\":\"markers+text\",\"name\":\"Indiana\",\"orientation\":\"v\",\"showlegend\":true,\"text\":[\"Indiana\"],\"x\":[981.4707740916272],\"xaxis\":\"x\",\"y\":[860.8679304897314],\"yaxis\":\"y\",\"type\":\"scatter\"},{\"hovertemplate\":\"state=%{text}<br>Area in sqft=%{x}<br>Price in $=%{y}<br>price per sqft=%{marker.size}<extra></extra>\",\"legendgroup\":\"Iowa\",\"marker\":{\"color\":\"#19d3f3\",\"size\":[1.0116274923573334],\"sizemode\":\"area\",\"sizeref\":0.006642107274859445,\"symbol\":\"circle\"},\"mode\":\"markers+text\",\"name\":\"Iowa\",\"orientation\":\"v\",\"showlegend\":true,\"text\":[\"Iowa\"],\"x\":[957.6527871965279],\"xaxis\":\"x\",\"y\":[931.3438220534382],\"yaxis\":\"y\",\"type\":\"scatter\"},{\"hovertemplate\":\"state=%{text}<br>Area in sqft=%{x}<br>Price in $=%{y}<br>price per sqft=%{marker.size}<extra></extra>\",\"legendgroup\":\"Kansas\",\"marker\":{\"color\":\"#FF6692\",\"size\":[0.8875530440037798],\"sizemode\":\"area\",\"sizeref\":0.006642107274859445,\"symbol\":\"circle\"},\"mode\":\"markers+text\",\"name\":\"Kansas\",\"orientation\":\"v\",\"showlegend\":true,\"text\":[\"Kansas\"],\"x\":[898.3080899457224],\"xaxis\":\"x\",\"y\":[744.3818816231584],\"yaxis\":\"y\",\"type\":\"scatter\"},{\"hovertemplate\":\"state=%{text}<br>Area in sqft=%{x}<br>Price in $=%{y}<br>price per sqft=%{marker.size}<extra></extra>\",\"legendgroup\":\"Kentucky\",\"marker\":{\"color\":\"#B6E880\",\"size\":[0.9563072610726053],\"sizemode\":\"area\",\"sizeref\":0.006642107274859445,\"symbol\":\"circle\"},\"mode\":\"markers+text\",\"name\":\"Kentucky\",\"orientation\":\"v\",\"showlegend\":true,\"text\":[\"Kentucky\"],\"x\":[941.79499626587],\"xaxis\":\"x\",\"y\":[858.586071695295],\"yaxis\":\"y\",\"type\":\"scatter\"},{\"hovertemplate\":\"state=%{text}<br>Area in sqft=%{x}<br>Price in $=%{y}<br>price per sqft=%{marker.size}<extra></extra>\",\"legendgroup\":\"Louisiana\",\"marker\":{\"color\":\"#FF97FF\",\"size\":[1.0275940965445176],\"sizemode\":\"area\",\"sizeref\":0.006642107274859445,\"symbol\":\"circle\"},\"mode\":\"markers+text\",\"name\":\"Louisiana\",\"orientation\":\"v\",\"showlegend\":true,\"text\":[\"Louisiana\"],\"x\":[965.3574213311056],\"xaxis\":\"x\",\"y\":[945.7206906154274],\"yaxis\":\"y\",\"type\":\"scatter\"},{\"hovertemplate\":\"state=%{text}<br>Area in sqft=%{x}<br>Price in $=%{y}<br>price per sqft=%{marker.size}<extra></extra>\",\"legendgroup\":\"Maine\",\"marker\":{\"color\":\"#FECB52\",\"size\":[1.3920207288062074],\"sizemode\":\"area\",\"sizeref\":0.006642107274859445,\"symbol\":\"circle\"},\"mode\":\"markers+text\",\"name\":\"Maine\",\"orientation\":\"v\",\"showlegend\":true,\"text\":[\"Maine\"],\"x\":[1092.1308641975309],\"xaxis\":\"x\",\"y\":[1388.1234567901236],\"yaxis\":\"y\",\"type\":\"scatter\"},{\"hovertemplate\":\"state=%{text}<br>Area in sqft=%{x}<br>Price in $=%{y}<br>price per sqft=%{marker.size}<extra></extra>\",\"legendgroup\":\"Maryland\",\"marker\":{\"color\":\"#636efa\",\"size\":[1.5283345642897392],\"sizemode\":\"area\",\"sizeref\":0.006642107274859445,\"symbol\":\"circle\"},\"mode\":\"markers+text\",\"name\":\"Maryland\",\"orientation\":\"v\",\"showlegend\":true,\"text\":[\"Maryland\"],\"x\":[953.4245398773006],\"xaxis\":\"x\",\"y\":[1391.264894342195],\"yaxis\":\"y\",\"type\":\"scatter\"},{\"hovertemplate\":\"state=%{text}<br>Area in sqft=%{x}<br>Price in $=%{y}<br>price per sqft=%{marker.size}<extra></extra>\",\"legendgroup\":\"Massachusetts\",\"marker\":{\"color\":\"#EF553B\",\"size\":[1.9407987107441476],\"sizemode\":\"area\",\"sizeref\":0.006642107274859445,\"symbol\":\"circle\"},\"mode\":\"markers+text\",\"name\":\"Massachusetts\",\"orientation\":\"v\",\"showlegend\":true,\"text\":[\"Massachusetts\"],\"x\":[973.5038184595244],\"xaxis\":\"x\",\"y\":[1729.887191795767],\"yaxis\":\"y\",\"type\":\"scatter\"},{\"hovertemplate\":\"state=%{text}<br>Area in sqft=%{x}<br>Price in $=%{y}<br>price per sqft=%{marker.size}<extra></extra>\",\"legendgroup\":\"Michigan\",\"marker\":{\"color\":\"#00cc96\",\"size\":[1.079650568718698],\"sizemode\":\"area\",\"sizeref\":0.006642107274859445,\"symbol\":\"circle\"},\"mode\":\"markers+text\",\"name\":\"Michigan\",\"orientation\":\"v\",\"showlegend\":true,\"text\":[\"Michigan\"],\"x\":[991.9504004496276],\"xaxis\":\"x\",\"y\":[1011.2033160039342],\"yaxis\":\"y\",\"type\":\"scatter\"},{\"hovertemplate\":\"state=%{text}<br>Area in sqft=%{x}<br>Price in $=%{y}<br>price per sqft=%{marker.size}<extra></extra>\",\"legendgroup\":\"Minnesota\",\"marker\":{\"color\":\"#ab63fa\",\"size\":[1.2508997067684628],\"sizemode\":\"area\",\"sizeref\":0.006642107274859445,\"symbol\":\"circle\"},\"mode\":\"markers+text\",\"name\":\"Minnesota\",\"orientation\":\"v\",\"showlegend\":true,\"text\":[\"Minnesota\"],\"x\":[1005.0366671227254],\"xaxis\":\"x\",\"y\":[1193.4123683130388],\"yaxis\":\"y\",\"type\":\"scatter\"},{\"hovertemplate\":\"state=%{text}<br>Area in sqft=%{x}<br>Price in $=%{y}<br>price per sqft=%{marker.size}<extra></extra>\",\"legendgroup\":\"Mississippi\",\"marker\":{\"color\":\"#FFA15A\",\"size\":[0.8151165896135107],\"sizemode\":\"area\",\"sizeref\":0.006642107274859445,\"symbol\":\"circle\"},\"mode\":\"markers+text\",\"name\":\"Mississippi\",\"orientation\":\"v\",\"showlegend\":true,\"text\":[\"Mississippi\"],\"x\":[1016.9176860874974],\"xaxis\":\"x\",\"y\":[799.0607505701845],\"yaxis\":\"y\",\"type\":\"scatter\"},{\"hovertemplate\":\"state=%{text}<br>Area in sqft=%{x}<br>Price in $=%{y}<br>price per sqft=%{marker.size}<extra></extra>\",\"legendgroup\":\"Missouri\",\"marker\":{\"color\":\"#19d3f3\",\"size\":[0.8051218687742522],\"sizemode\":\"area\",\"sizeref\":0.006642107274859445,\"symbol\":\"circle\"},\"mode\":\"markers+text\",\"name\":\"Missouri\",\"orientation\":\"v\",\"showlegend\":true,\"text\":[\"Missouri\"],\"x\":[999.5630652070442],\"xaxis\":\"x\",\"y\":[743.7648738695859],\"yaxis\":\"y\",\"type\":\"scatter\"},{\"hovertemplate\":\"state=%{text}<br>Area in sqft=%{x}<br>Price in $=%{y}<br>price per sqft=%{marker.size}<extra></extra>\",\"legendgroup\":\"Montana\",\"marker\":{\"color\":\"#FF6692\",\"size\":[1.0972584003924255],\"sizemode\":\"area\",\"sizeref\":0.006642107274859445,\"symbol\":\"circle\"},\"mode\":\"markers+text\",\"name\":\"Montana\",\"orientation\":\"v\",\"showlegend\":true,\"text\":[\"Montana\"],\"x\":[1086.26207442597],\"xaxis\":\"x\",\"y\":[1131.0174188440221],\"yaxis\":\"y\",\"type\":\"scatter\"},{\"hovertemplate\":\"state=%{text}<br>Area in sqft=%{x}<br>Price in $=%{y}<br>price per sqft=%{marker.size}<extra></extra>\",\"legendgroup\":\"Nebraska\",\"marker\":{\"color\":\"#B6E880\",\"size\":[1.0046828025086958],\"sizemode\":\"area\",\"sizeref\":0.006642107274859445,\"symbol\":\"circle\"},\"mode\":\"markers+text\",\"name\":\"Nebraska\",\"orientation\":\"v\",\"showlegend\":true,\"text\":[\"Nebraska\"],\"x\":[1031.110818933133],\"xaxis\":\"x\",\"y\":[996.5289256198347],\"yaxis\":\"y\",\"type\":\"scatter\"},{\"hovertemplate\":\"state=%{text}<br>Area in sqft=%{x}<br>Price in $=%{y}<br>price per sqft=%{marker.size}<extra></extra>\",\"legendgroup\":\"Nevada\",\"marker\":{\"color\":\"#FF97FF\",\"size\":[1.2664894166212124],\"sizemode\":\"area\",\"sizeref\":0.006642107274859445,\"symbol\":\"circle\"},\"mode\":\"markers+text\",\"name\":\"Nevada\",\"orientation\":\"v\",\"showlegend\":true,\"text\":[\"Nevada\"],\"x\":[924.4684911775297],\"xaxis\":\"x\",\"y\":[1129.7194814548072],\"yaxis\":\"y\",\"type\":\"scatter\"},{\"hovertemplate\":\"state=%{text}<br>Area in sqft=%{x}<br>Price in $=%{y}<br>price per sqft=%{marker.size}<extra></extra>\",\"legendgroup\":\"New Hampshire\",\"marker\":{\"color\":\"#FECB52\",\"size\":[1.711308108491661],\"sizemode\":\"area\",\"sizeref\":0.006642107274859445,\"symbol\":\"circle\"},\"mode\":\"markers+text\",\"name\":\"New Hampshire\",\"orientation\":\"v\",\"showlegend\":true,\"text\":[\"New Hampshire\"],\"x\":[993.0034542314335],\"xaxis\":\"x\",\"y\":[1619.6885434657456],\"yaxis\":\"y\",\"type\":\"scatter\"},{\"hovertemplate\":\"state=%{text}<br>Area in sqft=%{x}<br>Price in $=%{y}<br>price per sqft=%{marker.size}<extra></extra>\",\"legendgroup\":\"New Jersey\",\"marker\":{\"color\":\"#636efa\",\"size\":[1.769312538114359],\"sizemode\":\"area\",\"sizeref\":0.006642107274859445,\"symbol\":\"circle\"},\"mode\":\"markers+text\",\"name\":\"New Jersey\",\"orientation\":\"v\",\"showlegend\":true,\"text\":[\"New Jersey\"],\"x\":[1009.8063393184317],\"xaxis\":\"x\",\"y\":[1687.223158666178],\"yaxis\":\"y\",\"type\":\"scatter\"},{\"hovertemplate\":\"state=%{text}<br>Area in sqft=%{x}<br>Price in $=%{y}<br>price per sqft=%{marker.size}<extra></extra>\",\"legendgroup\":\"New Mexico\",\"marker\":{\"color\":\"#EF553B\",\"size\":[1.099507764383087],\"sizemode\":\"area\",\"sizeref\":0.006642107274859445,\"symbol\":\"circle\"},\"mode\":\"markers+text\",\"name\":\"New Mexico\",\"orientation\":\"v\",\"showlegend\":true,\"text\":[\"New Mexico\"],\"x\":[897.4998169168803],\"xaxis\":\"x\",\"y\":[934.4489198095936],\"yaxis\":\"y\",\"type\":\"scatter\"},{\"hovertemplate\":\"state=%{text}<br>Area in sqft=%{x}<br>Price in $=%{y}<br>price per sqft=%{marker.size}<extra></extra>\",\"legendgroup\":\"New York\",\"marker\":{\"color\":\"#00cc96\",\"size\":[1.36006085543537],\"sizemode\":\"area\",\"sizeref\":0.006642107274859445,\"symbol\":\"circle\"},\"mode\":\"markers+text\",\"name\":\"New York\",\"orientation\":\"v\",\"showlegend\":true,\"text\":[\"New York\"],\"x\":[1020.7747143306426],\"xaxis\":\"x\",\"y\":[1264.9987420064997],\"yaxis\":\"y\",\"type\":\"scatter\"},{\"hovertemplate\":\"state=%{text}<br>Area in sqft=%{x}<br>Price in $=%{y}<br>price per sqft=%{marker.size}<extra></extra>\",\"legendgroup\":\"North Carolina\",\"marker\":{\"color\":\"#ab63fa\",\"size\":[1.035240305888661],\"sizemode\":\"area\",\"sizeref\":0.006642107274859445,\"symbol\":\"circle\"},\"mode\":\"markers+text\",\"name\":\"North Carolina\",\"orientation\":\"v\",\"showlegend\":true,\"text\":[\"North Carolina\"],\"x\":[999.3449817820471],\"xaxis\":\"x\",\"y\":[985.5117588605499],\"yaxis\":\"y\",\"type\":\"scatter\"},{\"hovertemplate\":\"state=%{text}<br>Area in sqft=%{x}<br>Price in $=%{y}<br>price per sqft=%{marker.size}<extra></extra>\",\"legendgroup\":\"North Dakota\",\"marker\":{\"color\":\"#FFA15A\",\"size\":[0.9750038071574388],\"sizemode\":\"area\",\"sizeref\":0.006642107274859445,\"symbol\":\"circle\"},\"mode\":\"markers+text\",\"name\":\"North Dakota\",\"orientation\":\"v\",\"showlegend\":true,\"text\":[\"North Dakota\"],\"x\":[1019.0949720670391],\"xaxis\":\"x\",\"y\":[972.211996471626],\"yaxis\":\"y\",\"type\":\"scatter\"},{\"hovertemplate\":\"state=%{text}<br>Area in sqft=%{x}<br>Price in $=%{y}<br>price per sqft=%{marker.size}<extra></extra>\",\"legendgroup\":\"Ohio\",\"marker\":{\"color\":\"#19d3f3\",\"size\":[0.9445309773869284],\"sizemode\":\"area\",\"sizeref\":0.006642107274859445,\"symbol\":\"circle\"},\"mode\":\"markers+text\",\"name\":\"Ohio\",\"orientation\":\"v\",\"showlegend\":true,\"text\":[\"Ohio\"],\"x\":[981.8152268934276],\"xaxis\":\"x\",\"y\":[884.7917030914726],\"yaxis\":\"y\",\"type\":\"scatter\"},{\"hovertemplate\":\"state=%{text}<br>Area in sqft=%{x}<br>Price in $=%{y}<br>price per sqft=%{marker.size}<extra></extra>\",\"legendgroup\":\"Oklahoma\",\"marker\":{\"color\":\"#FF6692\",\"size\":[0.8303278741900417],\"sizemode\":\"area\",\"sizeref\":0.006642107274859445,\"symbol\":\"circle\"},\"mode\":\"markers+text\",\"name\":\"Oklahoma\",\"orientation\":\"v\",\"showlegend\":true,\"text\":[\"Oklahoma\"],\"x\":[915.5428621413575],\"xaxis\":\"x\",\"y\":[734.4658852344297],\"yaxis\":\"y\",\"type\":\"scatter\"},{\"hovertemplate\":\"state=%{text}<br>Area in sqft=%{x}<br>Price in $=%{y}<br>price per sqft=%{marker.size}<extra></extra>\",\"legendgroup\":\"Oregon\",\"marker\":{\"color\":\"#B6E880\",\"size\":[1.4699659058833343],\"sizemode\":\"area\",\"sizeref\":0.006642107274859445,\"symbol\":\"circle\"},\"mode\":\"markers+text\",\"name\":\"Oregon\",\"orientation\":\"v\",\"showlegend\":true,\"text\":[\"Oregon\"],\"x\":[970.6843104976573],\"xaxis\":\"x\",\"y\":[1320.8370267190073],\"yaxis\":\"y\",\"type\":\"scatter\"},{\"hovertemplate\":\"state=%{text}<br>Area in sqft=%{x}<br>Price in $=%{y}<br>price per sqft=%{marker.size}<extra></extra>\",\"legendgroup\":\"Pennsylvania\",\"marker\":{\"color\":\"#FF97FF\",\"size\":[1.2893499346793365],\"sizemode\":\"area\",\"sizeref\":0.006642107274859445,\"symbol\":\"circle\"},\"mode\":\"markers+text\",\"name\":\"Pennsylvania\",\"orientation\":\"v\",\"showlegend\":true,\"text\":[\"Pennsylvania\"],\"x\":[1014.9615942028986],\"xaxis\":\"x\",\"y\":[1199.7636645962732],\"yaxis\":\"y\",\"type\":\"scatter\"},{\"hovertemplate\":\"state=%{text}<br>Area in sqft=%{x}<br>Price in $=%{y}<br>price per sqft=%{marker.size}<extra></extra>\",\"legendgroup\":\"Rhode Island\",\"marker\":{\"color\":\"#FECB52\",\"size\":[1.63718897644632],\"sizemode\":\"area\",\"sizeref\":0.006642107274859445,\"symbol\":\"circle\"},\"mode\":\"markers+text\",\"name\":\"Rhode Island\",\"orientation\":\"v\",\"showlegend\":true,\"text\":[\"Rhode Island\"],\"x\":[1025.958740499457],\"xaxis\":\"x\",\"y\":[1580.728555917481],\"yaxis\":\"y\",\"type\":\"scatter\"},{\"hovertemplate\":\"state=%{text}<br>Area in sqft=%{x}<br>Price in $=%{y}<br>price per sqft=%{marker.size}<extra></extra>\",\"legendgroup\":\"South Carolina\",\"marker\":{\"color\":\"#636efa\",\"size\":[1.1584163255591435],\"sizemode\":\"area\",\"sizeref\":0.006642107274859445,\"symbol\":\"circle\"},\"mode\":\"markers+text\",\"name\":\"South Carolina\",\"orientation\":\"v\",\"showlegend\":true,\"text\":[\"South Carolina\"],\"x\":[1011.71555874219],\"xaxis\":\"x\",\"y\":[1114.2237017310254],\"yaxis\":\"y\",\"type\":\"scatter\"},{\"hovertemplate\":\"state=%{text}<br>Area in sqft=%{x}<br>Price in $=%{y}<br>price per sqft=%{marker.size}<extra></extra>\",\"legendgroup\":\"South Dakota\",\"marker\":{\"color\":\"#EF553B\",\"size\":[0.8935270443486462],\"sizemode\":\"area\",\"sizeref\":0.006642107274859445,\"symbol\":\"circle\"},\"mode\":\"markers+text\",\"name\":\"South Dakota\",\"orientation\":\"v\",\"showlegend\":true,\"text\":[\"South Dakota\"],\"x\":[978.5709401709402],\"xaxis\":\"x\",\"y\":[840.1874643874644],\"yaxis\":\"y\",\"type\":\"scatter\"},{\"hovertemplate\":\"state=%{text}<br>Area in sqft=%{x}<br>Price in $=%{y}<br>price per sqft=%{marker.size}<extra></extra>\",\"legendgroup\":\"Tennessee\",\"marker\":{\"color\":\"#00cc96\",\"size\":[1.0064588607591132],\"sizemode\":\"area\",\"sizeref\":0.006642107274859445,\"symbol\":\"circle\"},\"mode\":\"markers+text\",\"name\":\"Tennessee\",\"orientation\":\"v\",\"showlegend\":true,\"text\":[\"Tennessee\"],\"x\":[977.3723845678468],\"xaxis\":\"x\",\"y\":[937.1647391189194],\"yaxis\":\"y\",\"type\":\"scatter\"},{\"hovertemplate\":\"state=%{text}<br>Area in sqft=%{x}<br>Price in $=%{y}<br>price per sqft=%{marker.size}<extra></extra>\",\"legendgroup\":\"Texas\",\"marker\":{\"color\":\"#ab63fa\",\"size\":[1.1908357433589685],\"sizemode\":\"area\",\"sizeref\":0.006642107274859445,\"symbol\":\"circle\"},\"mode\":\"markers+text\",\"name\":\"Texas\",\"orientation\":\"v\",\"showlegend\":true,\"text\":[\"Texas\"],\"x\":[884.6607485287311],\"xaxis\":\"x\",\"y\":[999.6895787872777],\"yaxis\":\"y\",\"type\":\"scatter\"},{\"hovertemplate\":\"state=%{text}<br>Area in sqft=%{x}<br>Price in $=%{y}<br>price per sqft=%{marker.size}<extra></extra>\",\"legendgroup\":\"Utah\",\"marker\":{\"color\":\"#FFA15A\",\"size\":[1.2883517212447535],\"sizemode\":\"area\",\"sizeref\":0.006642107274859445,\"symbol\":\"circle\"},\"mode\":\"markers+text\",\"name\":\"Utah\",\"orientation\":\"v\",\"showlegend\":true,\"text\":[\"Utah\"],\"x\":[982.5126793788087],\"xaxis\":\"x\",\"y\":[1208.9005307646944],\"yaxis\":\"y\",\"type\":\"scatter\"},{\"hovertemplate\":\"state=%{text}<br>Area in sqft=%{x}<br>Price in $=%{y}<br>price per sqft=%{marker.size}<extra></extra>\",\"legendgroup\":\"Vermont\",\"marker\":{\"color\":\"#19d3f3\",\"size\":[1.5217743399184795],\"sizemode\":\"area\",\"sizeref\":0.006642107274859445,\"symbol\":\"circle\"},\"mode\":\"markers+text\",\"name\":\"Vermont\",\"orientation\":\"v\",\"showlegend\":true,\"text\":[\"Vermont\"],\"x\":[1047.7265469061877],\"xaxis\":\"x\",\"y\":[1447.6347305389222],\"yaxis\":\"y\",\"type\":\"scatter\"},{\"hovertemplate\":\"state=%{text}<br>Area in sqft=%{x}<br>Price in $=%{y}<br>price per sqft=%{marker.size}<extra></extra>\",\"legendgroup\":\"Virginia\",\"marker\":{\"color\":\"#FF6692\",\"size\":[1.1768180787794702],\"sizemode\":\"area\",\"sizeref\":0.006642107274859445,\"symbol\":\"circle\"},\"mode\":\"markers+text\",\"name\":\"Virginia\",\"orientation\":\"v\",\"showlegend\":true,\"text\":[\"Virginia\"],\"x\":[1027.0890915791413],\"xaxis\":\"x\",\"y\":[1152.689054726368],\"yaxis\":\"y\",\"type\":\"scatter\"},{\"hovertemplate\":\"state=%{text}<br>Area in sqft=%{x}<br>Price in $=%{y}<br>price per sqft=%{marker.size}<extra></extra>\",\"legendgroup\":\"Washington\",\"marker\":{\"color\":\"#B6E880\",\"size\":[1.700347687882636],\"sizemode\":\"area\",\"sizeref\":0.006642107274859445,\"symbol\":\"circle\"},\"mode\":\"markers+text\",\"name\":\"Washington\",\"orientation\":\"v\",\"showlegend\":true,\"text\":[\"Washington\"],\"x\":[938.6553697183099],\"xaxis\":\"x\",\"y\":[1447.6671068075118],\"yaxis\":\"y\",\"type\":\"scatter\"},{\"hovertemplate\":\"state=%{text}<br>Area in sqft=%{x}<br>Price in $=%{y}<br>price per sqft=%{marker.size}<extra></extra>\",\"legendgroup\":\"West Virginia\",\"marker\":{\"color\":\"#FF97FF\",\"size\":[1.0015085662883492],\"sizemode\":\"area\",\"sizeref\":0.006642107274859445,\"symbol\":\"circle\"},\"mode\":\"markers+text\",\"name\":\"West Virginia\",\"orientation\":\"v\",\"showlegend\":true,\"text\":[\"West Virginia\"],\"x\":[1153.5923076923077],\"xaxis\":\"x\",\"y\":[1081.3525641025642],\"yaxis\":\"y\",\"type\":\"scatter\"},{\"hovertemplate\":\"state=%{text}<br>Area in sqft=%{x}<br>Price in $=%{y}<br>price per sqft=%{marker.size}<extra></extra>\",\"legendgroup\":\"Wisconsin\",\"marker\":{\"color\":\"#FECB52\",\"size\":[1.1933654730690229],\"sizemode\":\"area\",\"sizeref\":0.006642107274859445,\"symbol\":\"circle\"},\"mode\":\"markers+text\",\"name\":\"Wisconsin\",\"orientation\":\"v\",\"showlegend\":true,\"text\":[\"Wisconsin\"],\"x\":[987.4545033929674],\"xaxis\":\"x\",\"y\":[1104.948025909932],\"yaxis\":\"y\",\"type\":\"scatter\"},{\"hovertemplate\":\"state=%{text}<br>Area in sqft=%{x}<br>Price in $=%{y}<br>price per sqft=%{marker.size}<extra></extra>\",\"legendgroup\":\"Wyoming\",\"marker\":{\"color\":\"#636efa\",\"size\":[0.9482627972047625],\"sizemode\":\"area\",\"sizeref\":0.006642107274859445,\"symbol\":\"circle\"},\"mode\":\"markers+text\",\"name\":\"Wyoming\",\"orientation\":\"v\",\"showlegend\":true,\"text\":[\"Wyoming\"],\"x\":[1080.3833333333334],\"xaxis\":\"x\",\"y\":[962.1111111111111],\"yaxis\":\"y\",\"type\":\"scatter\"}],                        {\"template\":{\"data\":{\"histogram2dcontour\":[{\"type\":\"histogram2dcontour\",\"colorbar\":{\"outlinewidth\":0,\"ticks\":\"\"},\"colorscale\":[[0.0,\"#0d0887\"],[0.1111111111111111,\"#46039f\"],[0.2222222222222222,\"#7201a8\"],[0.3333333333333333,\"#9c179e\"],[0.4444444444444444,\"#bd3786\"],[0.5555555555555556,\"#d8576b\"],[0.6666666666666666,\"#ed7953\"],[0.7777777777777778,\"#fb9f3a\"],[0.8888888888888888,\"#fdca26\"],[1.0,\"#f0f921\"]]}],\"choropleth\":[{\"type\":\"choropleth\",\"colorbar\":{\"outlinewidth\":0,\"ticks\":\"\"}}],\"histogram2d\":[{\"type\":\"histogram2d\",\"colorbar\":{\"outlinewidth\":0,\"ticks\":\"\"},\"colorscale\":[[0.0,\"#0d0887\"],[0.1111111111111111,\"#46039f\"],[0.2222222222222222,\"#7201a8\"],[0.3333333333333333,\"#9c179e\"],[0.4444444444444444,\"#bd3786\"],[0.5555555555555556,\"#d8576b\"],[0.6666666666666666,\"#ed7953\"],[0.7777777777777778,\"#fb9f3a\"],[0.8888888888888888,\"#fdca26\"],[1.0,\"#f0f921\"]]}],\"heatmap\":[{\"type\":\"heatmap\",\"colorbar\":{\"outlinewidth\":0,\"ticks\":\"\"},\"colorscale\":[[0.0,\"#0d0887\"],[0.1111111111111111,\"#46039f\"],[0.2222222222222222,\"#7201a8\"],[0.3333333333333333,\"#9c179e\"],[0.4444444444444444,\"#bd3786\"],[0.5555555555555556,\"#d8576b\"],[0.6666666666666666,\"#ed7953\"],[0.7777777777777778,\"#fb9f3a\"],[0.8888888888888888,\"#fdca26\"],[1.0,\"#f0f921\"]]}],\"heatmapgl\":[{\"type\":\"heatmapgl\",\"colorbar\":{\"outlinewidth\":0,\"ticks\":\"\"},\"colorscale\":[[0.0,\"#0d0887\"],[0.1111111111111111,\"#46039f\"],[0.2222222222222222,\"#7201a8\"],[0.3333333333333333,\"#9c179e\"],[0.4444444444444444,\"#bd3786\"],[0.5555555555555556,\"#d8576b\"],[0.6666666666666666,\"#ed7953\"],[0.7777777777777778,\"#fb9f3a\"],[0.8888888888888888,\"#fdca26\"],[1.0,\"#f0f921\"]]}],\"contourcarpet\":[{\"type\":\"contourcarpet\",\"colorbar\":{\"outlinewidth\":0,\"ticks\":\"\"}}],\"contour\":[{\"type\":\"contour\",\"colorbar\":{\"outlinewidth\":0,\"ticks\":\"\"},\"colorscale\":[[0.0,\"#0d0887\"],[0.1111111111111111,\"#46039f\"],[0.2222222222222222,\"#7201a8\"],[0.3333333333333333,\"#9c179e\"],[0.4444444444444444,\"#bd3786\"],[0.5555555555555556,\"#d8576b\"],[0.6666666666666666,\"#ed7953\"],[0.7777777777777778,\"#fb9f3a\"],[0.8888888888888888,\"#fdca26\"],[1.0,\"#f0f921\"]]}],\"surface\":[{\"type\":\"surface\",\"colorbar\":{\"outlinewidth\":0,\"ticks\":\"\"},\"colorscale\":[[0.0,\"#0d0887\"],[0.1111111111111111,\"#46039f\"],[0.2222222222222222,\"#7201a8\"],[0.3333333333333333,\"#9c179e\"],[0.4444444444444444,\"#bd3786\"],[0.5555555555555556,\"#d8576b\"],[0.6666666666666666,\"#ed7953\"],[0.7777777777777778,\"#fb9f3a\"],[0.8888888888888888,\"#fdca26\"],[1.0,\"#f0f921\"]]}],\"mesh3d\":[{\"type\":\"mesh3d\",\"colorbar\":{\"outlinewidth\":0,\"ticks\":\"\"}}],\"scatter\":[{\"fillpattern\":{\"fillmode\":\"overlay\",\"size\":10,\"solidity\":0.2},\"type\":\"scatter\"}],\"parcoords\":[{\"type\":\"parcoords\",\"line\":{\"colorbar\":{\"outlinewidth\":0,\"ticks\":\"\"}}}],\"scatterpolargl\":[{\"type\":\"scatterpolargl\",\"marker\":{\"colorbar\":{\"outlinewidth\":0,\"ticks\":\"\"}}}],\"bar\":[{\"error_x\":{\"color\":\"#2a3f5f\"},\"error_y\":{\"color\":\"#2a3f5f\"},\"marker\":{\"line\":{\"color\":\"#E5ECF6\",\"width\":0.5},\"pattern\":{\"fillmode\":\"overlay\",\"size\":10,\"solidity\":0.2}},\"type\":\"bar\"}],\"scattergeo\":[{\"type\":\"scattergeo\",\"marker\":{\"colorbar\":{\"outlinewidth\":0,\"ticks\":\"\"}}}],\"scatterpolar\":[{\"type\":\"scatterpolar\",\"marker\":{\"colorbar\":{\"outlinewidth\":0,\"ticks\":\"\"}}}],\"histogram\":[{\"marker\":{\"pattern\":{\"fillmode\":\"overlay\",\"size\":10,\"solidity\":0.2}},\"type\":\"histogram\"}],\"scattergl\":[{\"type\":\"scattergl\",\"marker\":{\"colorbar\":{\"outlinewidth\":0,\"ticks\":\"\"}}}],\"scatter3d\":[{\"type\":\"scatter3d\",\"line\":{\"colorbar\":{\"outlinewidth\":0,\"ticks\":\"\"}},\"marker\":{\"colorbar\":{\"outlinewidth\":0,\"ticks\":\"\"}}}],\"scattermapbox\":[{\"type\":\"scattermapbox\",\"marker\":{\"colorbar\":{\"outlinewidth\":0,\"ticks\":\"\"}}}],\"scatterternary\":[{\"type\":\"scatterternary\",\"marker\":{\"colorbar\":{\"outlinewidth\":0,\"ticks\":\"\"}}}],\"scattercarpet\":[{\"type\":\"scattercarpet\",\"marker\":{\"colorbar\":{\"outlinewidth\":0,\"ticks\":\"\"}}}],\"carpet\":[{\"aaxis\":{\"endlinecolor\":\"#2a3f5f\",\"gridcolor\":\"white\",\"linecolor\":\"white\",\"minorgridcolor\":\"white\",\"startlinecolor\":\"#2a3f5f\"},\"baxis\":{\"endlinecolor\":\"#2a3f5f\",\"gridcolor\":\"white\",\"linecolor\":\"white\",\"minorgridcolor\":\"white\",\"startlinecolor\":\"#2a3f5f\"},\"type\":\"carpet\"}],\"table\":[{\"cells\":{\"fill\":{\"color\":\"#EBF0F8\"},\"line\":{\"color\":\"white\"}},\"header\":{\"fill\":{\"color\":\"#C8D4E3\"},\"line\":{\"color\":\"white\"}},\"type\":\"table\"}],\"barpolar\":[{\"marker\":{\"line\":{\"color\":\"#E5ECF6\",\"width\":0.5},\"pattern\":{\"fillmode\":\"overlay\",\"size\":10,\"solidity\":0.2}},\"type\":\"barpolar\"}],\"pie\":[{\"automargin\":true,\"type\":\"pie\"}]},\"layout\":{\"autotypenumbers\":\"strict\",\"colorway\":[\"#636efa\",\"#EF553B\",\"#00cc96\",\"#ab63fa\",\"#FFA15A\",\"#19d3f3\",\"#FF6692\",\"#B6E880\",\"#FF97FF\",\"#FECB52\"],\"font\":{\"color\":\"#2a3f5f\"},\"hovermode\":\"closest\",\"hoverlabel\":{\"align\":\"left\"},\"paper_bgcolor\":\"white\",\"plot_bgcolor\":\"#E5ECF6\",\"polar\":{\"bgcolor\":\"#E5ECF6\",\"angularaxis\":{\"gridcolor\":\"white\",\"linecolor\":\"white\",\"ticks\":\"\"},\"radialaxis\":{\"gridcolor\":\"white\",\"linecolor\":\"white\",\"ticks\":\"\"}},\"ternary\":{\"bgcolor\":\"#E5ECF6\",\"aaxis\":{\"gridcolor\":\"white\",\"linecolor\":\"white\",\"ticks\":\"\"},\"baxis\":{\"gridcolor\":\"white\",\"linecolor\":\"white\",\"ticks\":\"\"},\"caxis\":{\"gridcolor\":\"white\",\"linecolor\":\"white\",\"ticks\":\"\"}},\"coloraxis\":{\"colorbar\":{\"outlinewidth\":0,\"ticks\":\"\"}},\"colorscale\":{\"sequential\":[[0.0,\"#0d0887\"],[0.1111111111111111,\"#46039f\"],[0.2222222222222222,\"#7201a8\"],[0.3333333333333333,\"#9c179e\"],[0.4444444444444444,\"#bd3786\"],[0.5555555555555556,\"#d8576b\"],[0.6666666666666666,\"#ed7953\"],[0.7777777777777778,\"#fb9f3a\"],[0.8888888888888888,\"#fdca26\"],[1.0,\"#f0f921\"]],\"sequentialminus\":[[0.0,\"#0d0887\"],[0.1111111111111111,\"#46039f\"],[0.2222222222222222,\"#7201a8\"],[0.3333333333333333,\"#9c179e\"],[0.4444444444444444,\"#bd3786\"],[0.5555555555555556,\"#d8576b\"],[0.6666666666666666,\"#ed7953\"],[0.7777777777777778,\"#fb9f3a\"],[0.8888888888888888,\"#fdca26\"],[1.0,\"#f0f921\"]],\"diverging\":[[0,\"#8e0152\"],[0.1,\"#c51b7d\"],[0.2,\"#de77ae\"],[0.3,\"#f1b6da\"],[0.4,\"#fde0ef\"],[0.5,\"#f7f7f7\"],[0.6,\"#e6f5d0\"],[0.7,\"#b8e186\"],[0.8,\"#7fbc41\"],[0.9,\"#4d9221\"],[1,\"#276419\"]]},\"xaxis\":{\"gridcolor\":\"white\",\"linecolor\":\"white\",\"ticks\":\"\",\"title\":{\"standoff\":15},\"zerolinecolor\":\"white\",\"automargin\":true,\"zerolinewidth\":2},\"yaxis\":{\"gridcolor\":\"white\",\"linecolor\":\"white\",\"ticks\":\"\",\"title\":{\"standoff\":15},\"zerolinecolor\":\"white\",\"automargin\":true,\"zerolinewidth\":2},\"scene\":{\"xaxis\":{\"backgroundcolor\":\"#E5ECF6\",\"gridcolor\":\"white\",\"linecolor\":\"white\",\"showbackground\":true,\"ticks\":\"\",\"zerolinecolor\":\"white\",\"gridwidth\":2},\"yaxis\":{\"backgroundcolor\":\"#E5ECF6\",\"gridcolor\":\"white\",\"linecolor\":\"white\",\"showbackground\":true,\"ticks\":\"\",\"zerolinecolor\":\"white\",\"gridwidth\":2},\"zaxis\":{\"backgroundcolor\":\"#E5ECF6\",\"gridcolor\":\"white\",\"linecolor\":\"white\",\"showbackground\":true,\"ticks\":\"\",\"zerolinecolor\":\"white\",\"gridwidth\":2}},\"shapedefaults\":{\"line\":{\"color\":\"#2a3f5f\"}},\"annotationdefaults\":{\"arrowcolor\":\"#2a3f5f\",\"arrowhead\":0,\"arrowwidth\":1},\"geo\":{\"bgcolor\":\"white\",\"landcolor\":\"#E5ECF6\",\"subunitcolor\":\"white\",\"showland\":true,\"showlakes\":true,\"lakecolor\":\"white\"},\"title\":{\"x\":0.05},\"mapbox\":{\"style\":\"light\"}}},\"xaxis\":{\"anchor\":\"y\",\"domain\":[0.0,1.0],\"title\":{\"text\":\"Area in sqft\"}},\"yaxis\":{\"anchor\":\"x\",\"domain\":[0.0,1.0],\"title\":{\"text\":\"Price in $\"}},\"legend\":{\"title\":{\"text\":\"state\"},\"tracegroupgap\":0,\"itemsizing\":\"constant\"},\"title\":{\"text\":\"Average price and average area of the properties for different states \"}},                        {\"responsive\": true}                    ).then(function(){\n",
              "                            \n",
              "var gd = document.getElementById('cf1397bc-1911-46fd-8ff5-6b87c4be1734');\n",
              "var x = new MutationObserver(function (mutations, observer) {{\n",
              "        var display = window.getComputedStyle(gd).display;\n",
              "        if (!display || display === 'none') {{\n",
              "            console.log([gd, 'removed!']);\n",
              "            Plotly.purge(gd);\n",
              "            observer.disconnect();\n",
              "        }}\n",
              "}});\n",
              "\n",
              "// Listen for the removal of the full notebook cells\n",
              "var notebookContainer = gd.closest('#notebook-container');\n",
              "if (notebookContainer) {{\n",
              "    x.observe(notebookContainer, {childList: true});\n",
              "}}\n",
              "\n",
              "// Listen for the clearing of the current output cell\n",
              "var outputEl = gd.closest('.output');\n",
              "if (outputEl) {{\n",
              "    x.observe(outputEl, {childList: true});\n",
              "}}\n",
              "\n",
              "                        })                };                            </script>        </div>\n",
              "</body>\n",
              "</html>"
            ]
          },
          "metadata": {}
        }
      ]
    },
    {
      "cell_type": "code",
      "source": [
        "states = state_price_sqft.sort_values('price', ascending = False).head(20)\n",
        "plt.figure(figsize=(6,6))\n",
        "sns.barplot(state_price_sqft, x='price',y=states.state)\n",
        "plt.title('Top 20 states with highest avg price')\n",
        "plt.xlabel('Price in Dollars')\n",
        "plt.ylabel('State')"
      ],
      "metadata": {
        "colab": {
          "base_uri": "https://localhost:8080/",
          "height": 581
        },
        "id": "uNWjOAJxH72l",
        "outputId": "52775376-5326-4b51-ea19-7da5d3ffdd6c"
      },
      "execution_count": 59,
      "outputs": [
        {
          "output_type": "execute_result",
          "data": {
            "text/plain": [
              "Text(0, 0.5, 'State')"
            ]
          },
          "metadata": {},
          "execution_count": 59
        },
        {
          "output_type": "display_data",
          "data": {
            "text/plain": [
              "<Figure size 600x600 with 1 Axes>"
            ],
            "image/png": "[encoded data removed]"
          },
          "metadata": {}
        }
      ]
    },
    {
      "cell_type": "code",
      "source": [
        "state_avg_area=state_price_sqft.sort_values('sqfeet', ascending = False).head(20)\n",
        "plt.figure(figsize=(8,6))\n",
        "sns.barplot(state_avg_area, y=state_avg_area['state'], x=state_avg_area['sqfeet'])\n",
        "plt.title('Top 20 states with highest avg area per property')\n",
        "plt.xlabel('Area in sqft')\n",
        "plt.ylabel('State')"
      ],
      "metadata": {
        "colab": {
          "base_uri": "https://localhost:8080/",
          "height": 581
        },
        "id": "kJ4wYC3GIl5h",
        "outputId": "0dca71e6-48e1-4e80-909b-be7393444d69"
      },
      "execution_count": 60,
      "outputs": [
        {
          "output_type": "execute_result",
          "data": {
            "text/plain": [
              "Text(0, 0.5, 'State')"
            ]
          },
          "metadata": {},
          "execution_count": 60
        },
        {
          "output_type": "display_data",
          "data": {
            "text/plain": [
              "<Figure size 800x600 with 1 Axes>"
            ],
            "image/png": "[encoded data removed]"
          },
          "metadata": {}
        }
      ]
    },
    {
      "cell_type": "markdown",
      "source": [
        "The coastal states are on the higher average price side while the landlocked states are on the higher average area side. The coastal states are home to a larger fraction of working class population hence the prices are higher due to more demand. The landlocked states having a lower population density and difficult terrain have higher average area per property."
      ],
      "metadata": {
        "id": "vJFyJ2PMH3zj"
      }
    },
    {
      "cell_type": "markdown",
      "source": [
        "### 8. How does the average price per unit area for a property vary across the country. Use a choropleth map to highlight this variation. "
      ],
      "metadata": {
        "id": "rh29wjJuQCD8"
      }
    },
    {
      "cell_type": "code",
      "source": [
        "download_file='https://www.kaggle.com/datasets/pompelmo/usa-states-geojson'\n",
        "od.download(download_file)"
      ],
      "metadata": {
        "colab": {
          "base_uri": "https://localhost:8080/"
        },
        "id": "gvIw88_2UKau",
        "outputId": "f3faee93-6f7c-449d-ce4e-ee157cd3d5d6"
      },
      "execution_count": 61,
      "outputs": [
        {
          "output_type": "stream",
          "name": "stdout",
          "text": [
            "Skipping, found downloaded files in \"./usa-states-geojson\" (use force=True to force download)\n"
          ]
        }
      ]
    },
    {
      "cell_type": "code",
      "source": [
        "!pip install geopandas --upgrade --quiet\n",
        "import geopandas as gpd\n",
        "from folium.features import GeoJsonTooltip"
      ],
      "metadata": {
        "id": "VfZiQ4lYLJuo"
      },
      "execution_count": 62,
      "outputs": []
    },
    {
      "cell_type": "code",
      "source": [
        "geojson = gpd.read_file('/content/usa-states-geojson/us-states.json')"
      ],
      "metadata": {
        "id": "7G5fIb9LK_wo"
      },
      "execution_count": 63,
      "outputs": []
    },
    {
      "cell_type": "code",
      "source": [
        "df=state_price_sqft.copy()\n",
        "\n",
        "dict={\"Alabama\": \"AL\",\"Alaska\": \"AK\",\"Arizona\": \"AZ\",\"Arkansas\": \"AR\",\"California\": \"CA\",\"Colorado\": \"CO\",\"Connecticut\": \"CT\",\n",
        "      \"Delaware\": \"DE\",\"Florida\": \"FL\",\"Georgia\": \"GA\",\"Hawaii\": \"HI\",\"Idaho\": \"ID\",\"Illinois\": \"IL\",\"Indiana\": \"IN\",\"Iowa\": \"IA\",\"Kansas\": \"KS\",\n",
        "      \"Kentucky\": \"KY\",\"Louisiana\": \"LA\",\"Maine\": \"ME\",\"Maryland\": \"MD\",\"Massachusetts\": \"MA\",\"Michigan\": \"MI\",\"Minnesota\": \"MN\",\n",
        "      \"Mississippi\": \"MS\",\"Missouri\": \"MO\",\"Montana\": \"MT\",\"Nebraska\": \"NE\",\"Nevada\": \"NV\",\"New Hampshire\": \"NH\",\"New Jersey\": \"NJ\",\"New Mexico\": \"NM\",\n",
        "      \"New York\": \"NY\",\"North Carolina\": \"NC\",\"North Dakota\": \"ND\",\"Ohio\": \"OH\",\"Oklahoma\": \"OK\",\"Oregon\": \"OR\",\"Pennsylvania\": \"PA\",\"Rhode Island\": \"RI\",\n",
        "      \"South Carolina\": \"SC\", \"South Dakota\": \"SD\",\"Tennessee\": \"TN\", \"Texas\": \"TX\",\"Utah\": \"UT\",\"Vermont\": \"VT\",\"Virginia\": \"VA\",\"Washington\": \"WA\",\n",
        "    \"West Virginia\": \"WV\",\"Wisconsin\": \"WI\",\"Wyoming\": \"WY\",\"District of Columbia\": \"DC\"}\n",
        "\n",
        "df['state']=df['state'].replace(dict)\n"
      ],
      "metadata": {
        "id": "3BTbOG6nK_4Z"
      },
      "execution_count": 64,
      "outputs": []
    },
    {
      "cell_type": "code",
      "source": [
        "df.head()"
      ],
      "metadata": {
        "colab": {
          "base_uri": "https://localhost:8080/",
          "height": 206
        },
        "id": "4gGaQyjYC9Cy",
        "outputId": "42e73949-ca3a-4eb9-8a92-e1ff398d5db9"
      },
      "execution_count": 65,
      "outputs": [
        {
          "output_type": "execute_result",
          "data": {
            "text/plain": [
              "  state        price       sqfeet  price per sqft\n",
              "0    AL   880.146138  1044.482255        0.889740\n",
              "1    AK  1162.438805   915.370019        1.376868\n",
              "2    AZ  1043.317322   862.215462        1.267979\n",
              "3    AR   857.761889  1012.446337        0.889635\n",
              "4    CA  1744.697406   933.208093        2.014283"
            ],
            "text/html": [
              "\n",
              "  <div id=\"df-e02cd563-21f1-4ebd-9988-d56350dfe812\">\n",
              "    <div class=\"colab-df-container\">\n",
              "      <div>\n",
              "<style scoped>\n",
              "    .dataframe tbody tr th:only-of-type {\n",
              "        vertical-align: middle;\n",
              "    }\n",
              "\n",
              "    .dataframe tbody tr th {\n",
              "        vertical-align: top;\n",
              "    }\n",
              "\n",
              "    .dataframe thead th {\n",
              "        text-align: right;\n",
              "    }\n",
              "</style>\n",
              "<table border=\"1\" class=\"dataframe\">\n",
              "  <thead>\n",
              "    <tr style=\"text-align: right;\">\n",
              "      <th></th>\n",
              "      <th>state</th>\n",
              "      <th>price</th>\n",
              "      <th>sqfeet</th>\n",
              "      <th>price per sqft</th>\n",
              "    </tr>\n",
              "  </thead>\n",
              "  <tbody>\n",
              "    <tr>\n",
              "      <th>0</th>\n",
              "      <td>AL</td>\n",
              "      <td>880.146138</td>\n",
              "      <td>1044.482255</td>\n",
              "      <td>0.889740</td>\n",
              "    </tr>\n",
              "    <tr>\n",
              "      <th>1</th>\n",
              "      <td>AK</td>\n",
              "      <td>1162.438805</td>\n",
              "      <td>915.370019</td>\n",
              "      <td>1.376868</td>\n",
              "    </tr>\n",
              "    <tr>\n",
              "      <th>2</th>\n",
              "      <td>AZ</td>\n",
              "      <td>1043.317322</td>\n",
              "      <td>862.215462</td>\n",
              "      <td>1.267979</td>\n",
              "    </tr>\n",
              "    <tr>\n",
              "      <th>3</th>\n",
              "      <td>AR</td>\n",
              "      <td>857.761889</td>\n",
              "      <td>1012.446337</td>\n",
              "      <td>0.889635</td>\n",
              "    </tr>\n",
              "    <tr>\n",
              "      <th>4</th>\n",
              "      <td>CA</td>\n",
              "      <td>1744.697406</td>\n",
              "      <td>933.208093</td>\n",
              "      <td>2.014283</td>\n",
              "    </tr>\n",
              "  </tbody>\n",
              "</table>\n",
              "</div>\n",
              "      <button class=\"colab-df-convert\" onclick=\"convertToInteractive('df-e02cd563-21f1-4ebd-9988-d56350dfe812')\"\n",
              "              title=\"Convert this dataframe to an interactive table.\"\n",
              "              style=\"display:none;\">\n",
              "        \n",
              "  <svg xmlns=\"http://www.w3.org/2000/svg\" height=\"24px\"viewBox=\"0 0 24 24\"\n",
              "       width=\"24px\">\n",
              "    <path d=\"M0 0h24v24H0V0z\" fill=\"none\"/>\n",
              "    <path d=\"M18.56 5.44l.94 2.06.94-2.06 2.06-.94-2.06-.94-.94-2.06-.94 2.06-2.06.94zm-11 1L8.5 8.5l.94-2.06 2.06-.94-2.06-.94L8.5 2.5l-.94 2.06-2.06.94zm10 10l.94 2.06.94-2.06 2.06-.94-2.06-.94-.94-2.06-.94 2.06-2.06.94z\"/><path d=\"M17.41 7.96l-1.37-1.37c-.4-.4-.92-.59-1.43-.59-.52 0-1.04.2-1.43.59L10.3 9.45l-7.72 7.72c-.78.78-.78 2.05 0 2.83L4 21.41c.39.39.9.59 1.41.59.51 0 1.02-.2 1.41-.59l7.78-7.78 2.81-2.81c.8-.78.8-2.07 0-2.86zM5.41 20L4 18.59l7.72-7.72 1.47 1.35L5.41 20z\"/>\n",
              "  </svg>\n",
              "      </button>\n",
              "      \n",
              "  <style>\n",
              "    .colab-df-container {\n",
              "      display:flex;\n",
              "      flex-wrap:wrap;\n",
              "      gap: 12px;\n",
              "    }\n",
              "\n",
              "    .colab-df-convert {\n",
              "      background-color: #E8F0FE;\n",
              "      border: none;\n",
              "      border-radius: 50%;\n",
              "      cursor: pointer;\n",
              "      display: none;\n",
              "      fill: #1967D2;\n",
              "      height: 32px;\n",
              "      padding: 0 0 0 0;\n",
              "      width: 32px;\n",
              "    }\n",
              "\n",
              "    .colab-df-convert:hover {\n",
              "      background-color: #E2EBFA;\n",
              "      box-shadow: 0px 1px 2px rgba(60, 64, 67, 0.3), 0px 1px 3px 1px rgba(60, 64, 67, 0.15);\n",
              "      fill: #174EA6;\n",
              "    }\n",
              "\n",
              "    [theme=dark] .colab-df-convert {\n",
              "      background-color: #3B4455;\n",
              "      fill: #D2E3FC;\n",
              "    }\n",
              "\n",
              "    [theme=dark] .colab-df-convert:hover {\n",
              "      background-color: #434B5C;\n",
              "      box-shadow: 0px 1px 3px 1px rgba(0, 0, 0, 0.15);\n",
              "      filter: drop-shadow(0px 1px 2px rgba(0, 0, 0, 0.3));\n",
              "      fill: #FFFFFF;\n",
              "    }\n",
              "  </style>\n",
              "\n",
              "      <script>\n",
              "        const buttonEl =\n",
              "          document.querySelector('#df-e02cd563-21f1-4ebd-9988-d56350dfe812 button.colab-df-convert');\n",
              "        buttonEl.style.display =\n",
              "          google.colab.kernel.accessAllowed ? 'block' : 'none';\n",
              "\n",
              "        async function convertToInteractive(key) {\n",
              "          const element = document.querySelector('#df-e02cd563-21f1-4ebd-9988-d56350dfe812');\n",
              "          const dataTable =\n",
              "            await google.colab.kernel.invokeFunction('convertToInteractive',\n",
              "                                                     [key], {});\n",
              "          if (!dataTable) return;\n",
              "\n",
              "          const docLinkHtml = 'Like what you see? Visit the ' +\n",
              "            '<a target=\"_blank\" href=https://colab.research.google.com/notebooks/data_table.ipynb>data table notebook</a>'\n",
              "            + ' to learn more about interactive tables.';\n",
              "          element.innerHTML = '';\n",
              "          dataTable['output_type'] = 'display_data';\n",
              "          await google.colab.output.renderOutput(dataTable, element);\n",
              "          const docLink = document.createElement('div');\n",
              "          docLink.innerHTML = docLinkHtml;\n",
              "          element.appendChild(docLink);\n",
              "        }\n",
              "      </script>\n",
              "    </div>\n",
              "  </div>\n",
              "  "
            ]
          },
          "metadata": {},
          "execution_count": 65
        }
      ]
    },
    {
      "cell_type": "code",
      "source": [
        "map = folium.Map(location=[48, -102], zoom_start=3,tiles = \"cartodbpositron\")"
      ],
      "metadata": {
        "id": "0DhYxPnUQDRW"
      },
      "execution_count": 66,
      "outputs": []
    },
    {
      "cell_type": "code",
      "source": [
        "folium.Choropleth(\n",
        "    geo_data = geojson,\n",
        "    data = df,\n",
        "    columns = ['state','price per sqft'],\n",
        "    key_on = 'feature.properties.id',\n",
        "    fill_color=\"YlGn\",\n",
        "    fill_opacity=0.7,\n",
        "    line_opacity=0.2,\n",
        "    legend_name=\"Price per Sqft\",highlight = True\n",
        ").add_to(map)\n",
        "\n",
        "folium.LayerControl().add_to(map)\n",
        "map"
      ],
      "metadata": {
        "colab": {
          "base_uri": "https://localhost:8080/",
          "height": 685
        },
        "id": "G_H3SKFrPD2M",
        "outputId": "955ec9c7-dbb8-4824-d45a-ff0253bc1801"
      },
      "execution_count": 67,
      "outputs": [
        {
          "output_type": "execute_result",
          "data": {
            "text/plain": [
              "<folium.folium.Map at 0x7f3a79769e50>"
            ],
            "text/html": [
              "<div style=\"width:100%;\"><div style=\"position:relative;width:100%;height:0;padding-bottom:60%;\"><span style=\"color:#565656\">Make this Notebook Trusted to load map: File -> Trust Notebook</span><iframe srcdoc=\"&lt;!DOCTYPE html&gt;\n",
              "&lt;html&gt;\n",
              "&lt;head&gt;\n",
              "    \n",
              "    &lt;meta http-equiv=&quot;content-type&quot; content=&quot;text/html; charset=UTF-8&quot; /&gt;\n",
              "    \n",
              "        &lt;script&gt;\n",
              "            L_NO_TOUCH = false;\n",
              "            L_DISABLE_3D = false;\n",
              "        &lt;/script&gt;\n",
              "    \n",
              "    &lt;style&gt;html, body {width: 100%;height: 100%;margin: 0;padding: 0;}&lt;/style&gt;\n",
              "    &lt;style&gt;#map {position:absolute;top:0;bottom:0;right:0;left:0;}&lt;/style&gt;\n",
              "    &lt;script src=&quot;https://cdn.jsdelivr.net/npm/leaflet@1.9.3/dist/leaflet.js&quot;&gt;&lt;/script&gt;\n",
              "    &lt;script src=&quot;https://code.jquery.com/jquery-1.12.4.min.js&quot;&gt;&lt;/script&gt;\n",
              "    &lt;script src=&quot;https://cdn.jsdelivr.net/npm/bootstrap@5.2.2/dist/js/bootstrap.bundle.min.js&quot;&gt;&lt;/script&gt;\n",
              "    &lt;script src=&quot;https://cdnjs.cloudflare.com/ajax/libs/Leaflet.awesome-markers/2.0.2/leaflet.awesome-markers.js&quot;&gt;&lt;/script&gt;\n",
              "    &lt;link rel=&quot;stylesheet&quot; href=&quot;https://cdn.jsdelivr.net/npm/leaflet@1.9.3/dist/leaflet.css&quot;/&gt;\n",
              "    &lt;link rel=&quot;stylesheet&quot; href=&quot;https://cdn.jsdelivr.net/npm/bootstrap@5.2.2/dist/css/bootstrap.min.css&quot;/&gt;\n",
              "    &lt;link rel=&quot;stylesheet&quot; href=&quot;https://netdna.bootstrapcdn.com/bootstrap/3.0.0/css/bootstrap.min.css&quot;/&gt;\n",
              "    &lt;link rel=&quot;stylesheet&quot; href=&quot;https://cdn.jsdelivr.net/npm/@fortawesome/fontawesome-free@6.2.0/css/all.min.css&quot;/&gt;\n",
              "    &lt;link rel=&quot;stylesheet&quot; href=&quot;https://cdnjs.cloudflare.com/ajax/libs/Leaflet.awesome-markers/2.0.2/leaflet.awesome-markers.css&quot;/&gt;\n",
              "    &lt;link rel=&quot;stylesheet&quot; href=&quot;https://cdn.jsdelivr.net/gh/python-visualization/folium/folium/templates/leaflet.awesome.rotate.min.css&quot;/&gt;\n",
              "    \n",
              "            &lt;meta name=&quot;viewport&quot; content=&quot;width=device-width,\n",
              "                initial-scale=1.0, maximum-scale=1.0, user-scalable=no&quot; /&gt;\n",
              "            &lt;style&gt;\n",
              "                #map_6b937be46f2a1a91b0a218624a6716cc {\n",
              "                    position: relative;\n",
              "                    width: 100.0%;\n",
              "                    height: 100.0%;\n",
              "                    left: 0.0%;\n",
              "                    top: 0.0%;\n",
              "                }\n",
              "                .leaflet-container { font-size: 1rem; }\n",
              "            &lt;/style&gt;\n",
              "        \n",
              "    &lt;script src=&quot;https://cdnjs.cloudflare.com/ajax/libs/d3/3.5.5/d3.min.js&quot;&gt;&lt;/script&gt;\n",
              "&lt;/head&gt;\n",
              "&lt;body&gt;\n",
              "    \n",
              "    \n",
              "            &lt;div class=&quot;folium-map&quot; id=&quot;map_6b937be46f2a1a91b0a218624a6716cc&quot; &gt;&lt;/div&gt;\n",
              "        \n",
              "&lt;/body&gt;\n",
              "&lt;script&gt;\n",
              "    \n",
              "    \n",
              "            var map_6b937be46f2a1a91b0a218624a6716cc = L.map(\n",
              "                &quot;map_6b937be46f2a1a91b0a218624a6716cc&quot;,\n",
              "                {\n",
              "                    center: [48.0, -102.0],\n",
              "                    crs: L.CRS.EPSG3857,\n",
              "                    zoom: 3,\n",
              "                    zoomControl: true,\n",
              "                    preferCanvas: false,\n",
              "                }\n",
              "            );\n",
              "\n",
              "            \n",
              "\n",
              "        \n",
              "    \n",
              "            var tile_layer_15898e46c81e053ef3bc22b75cc60862 = L.tileLayer(\n",
              "                &quot;https://cartodb-basemaps-{s}.global.ssl.fastly.net/light_all/{z}/{x}/{y}.png&quot;,\n",
              "                {&quot;attribution&quot;: &quot;\\u0026copy; \\u003ca target=\\&quot;_blank\\&quot; href=\\&quot;http://www.openstreetmap.org/copyright\\&quot;\\u003eOpenStreetMap\\u003c/a\\u003e contributors \\u0026copy; \\u003ca target=\\&quot;_blank\\&quot; href=\\&quot;http://cartodb.com/attributions\\&quot;\\u003eCartoDB\\u003c/a\\u003e, CartoDB \\u003ca target=\\&quot;_blank\\&quot; href =\\&quot;http://cartodb.com/attributions\\&quot;\\u003eattributions\\u003c/a\\u003e&quot;, &quot;detectRetina&quot;: false, &quot;maxNativeZoom&quot;: 18, &quot;maxZoom&quot;: 18, &quot;minZoom&quot;: 0, &quot;noWrap&quot;: false, &quot;opacity&quot;: 1, &quot;subdomains&quot;: &quot;abc&quot;, &quot;tms&quot;: false}\n",
              "            ).addTo(map_6b937be46f2a1a91b0a218624a6716cc);\n",
              "        \n",
              "    \n",
              "            var choropleth_6ace663c92cebf78b372fe2f76d820db = L.featureGroup(\n",
              "                {}\n",
              "            ).addTo(map_6b937be46f2a1a91b0a218624a6716cc);\n",
              "        \n",
              "    \n",
              "        function geo_json_f777214e3f041a2881481b6b2f68a14b_styler(feature) {\n",
              "            switch(feature.id) {\n",
              "                case &quot;1&quot;: case &quot;2&quot;: case &quot;8&quot;: case &quot;11&quot;: case &quot;18&quot;: case &quot;22&quot;: case &quot;27&quot;: case &quot;31&quot;: case &quot;37&quot;: case &quot;39&quot;: case &quot;42&quot;: case &quot;43&quot;: case &quot;45&quot;: case &quot;48&quot;: \n",
              "                    return {&quot;color&quot;: &quot;black&quot;, &quot;fillColor&quot;: &quot;#d9f0a3&quot;, &quot;fillOpacity&quot;: 0.7, &quot;opacity&quot;: 0.2, &quot;weight&quot;: 1};\n",
              "                case &quot;4&quot;: case &quot;20&quot;: case &quot;29&quot;: \n",
              "                    return {&quot;color&quot;: &quot;black&quot;, &quot;fillColor&quot;: &quot;#78c679&quot;, &quot;fillOpacity&quot;: 0.7, &quot;opacity&quot;: 0.2, &quot;weight&quot;: 1};\n",
              "                case &quot;5&quot;: case &quot;6&quot;: case &quot;7&quot;: case &quot;19&quot;: case &quot;28&quot;: case &quot;36&quot;: case &quot;38&quot;: case &quot;44&quot;: case &quot;46&quot;: \n",
              "                    return {&quot;color&quot;: &quot;black&quot;, &quot;fillColor&quot;: &quot;#addd8e&quot;, &quot;fillOpacity&quot;: 0.7, &quot;opacity&quot;: 0.2, &quot;weight&quot;: 1};\n",
              "                case &quot;10&quot;: \n",
              "                    return {&quot;color&quot;: &quot;black&quot;, &quot;fillColor&quot;: &quot;#006837&quot;, &quot;fillOpacity&quot;: 0.7, &quot;opacity&quot;: 0.2, &quot;weight&quot;: 1};\n",
              "                default:\n",
              "                    return {&quot;color&quot;: &quot;black&quot;, &quot;fillColor&quot;: &quot;#ffffcc&quot;, &quot;fillOpacity&quot;: 0.7, &quot;opacity&quot;: 0.2, &quot;weight&quot;: 1};\n",
              "            }\n",
              "        }\n",
              "        function geo_json_f777214e3f041a2881481b6b2f68a14b_highlighter(feature) {\n",
              "            switch(feature.id) {\n",
              "                default:\n",
              "                    return {&quot;fillOpacity&quot;: 0.8999999999999999, &quot;weight&quot;: 3};\n",
              "            }\n",
              "        }\n",
              "\n",
              "        function geo_json_f777214e3f041a2881481b6b2f68a14b_onEachFeature(feature, layer) {\n",
              "            layer.on({\n",
              "                mouseout: function(e) {\n",
              "                    if(typeof e.target.setStyle === &quot;function&quot;){\n",
              "                        geo_json_f777214e3f041a2881481b6b2f68a14b.resetStyle(e.target);\n",
              "                    }\n",
              "                },\n",
              "                mouseover: function(e) {\n",
              "                    if(typeof e.target.setStyle === &quot;function&quot;){\n",
              "                        const highlightStyle = geo_json_f777214e3f041a2881481b6b2f68a14b_highlighter(e.target.feature)\n",
              "                        e.target.setStyle(highlightStyle);\n",
              "                    }\n",
              "                },\n",
              "            });\n",
              "        };\n",
              "        var geo_json_f777214e3f041a2881481b6b2f68a14b = L.geoJson(null, {\n",
              "                onEachFeature: geo_json_f777214e3f041a2881481b6b2f68a14b_onEachFeature,\n",
              "            \n",
              "                style: geo_json_f777214e3f041a2881481b6b2f68a14b_styler,\n",
              "        });\n",
              "\n",
              "        function geo_json_f777214e3f041a2881481b6b2f68a14b_add (data) {\n",
              "            geo_json_f777214e3f041a2881481b6b2f68a14b\n",
              "                .addData(data)\n",
              "                .addTo(choropleth_6ace663c92cebf78b372fe2f76d820db);\n",
              "        }\n",
              "            geo_json_f777214e3f041a2881481b6b2f68a14b_add({&quot;bbox&quot;: [-178.123152, 18.948267, 173.304726, 71.351633], &quot;features&quot;: [{&quot;bbox&quot;: [-88.471115, 30.247195, -84.889196, 35.00118], &quot;geometry&quot;: {&quot;coordinates&quot;: [[[-87.359296, 35.00118], [-85.606675, 34.984749], [-85.431413, 34.124869], [-85.184951, 32.859696], [-85.069935, 32.580372], [-84.960397, 32.421541], [-85.004212, 32.322956], [-84.889196, 32.262709], [-85.058981, 32.13674], [-85.053504, 32.01077], [-85.141136, 31.840985], [-85.042551, 31.539753], [-85.113751, 31.27686], [-85.004212, 31.003013], [-85.497137, 30.997536], [-87.600282, 30.997536], [-87.633143, 30.86609], [-87.408589, 30.674397], [-87.446927, 30.510088], [-87.37025, 30.427934], [-87.518128, 30.280057], [-87.655051, 30.247195], [-87.90699, 30.411504], [-87.934375, 30.657966], [-88.011052, 30.685351], [-88.10416, 30.499135], [-88.137022, 30.318396], [-88.394438, 30.367688], [-88.471115, 31.895754], [-88.241084, 33.796253], [-88.098683, 34.891641], [-88.202745, 34.995703], [-87.359296, 35.00118]]], &quot;type&quot;: &quot;Polygon&quot;}, &quot;id&quot;: &quot;0&quot;, &quot;properties&quot;: {&quot;id&quot;: &quot;AL&quot;, &quot;name&quot;: &quot;Alabama&quot;}, &quot;type&quot;: &quot;Feature&quot;}, {&quot;bbox&quot;: [-178.123152, 51.61274, 173.304726, 71.351633], &quot;geometry&quot;: {&quot;coordinates&quot;: [[[[-131.602021, 55.117982], [-131.569159, 55.28229], [-131.355558, 55.183705], [-131.38842, 55.01392], [-131.645836, 55.035827], [-131.602021, 55.117982]]], [[[-131.832052, 55.42469], [-131.645836, 55.304197], [-131.749898, 55.128935], [-131.832052, 55.189182], [-131.832052, 55.42469]]], [[[-132.976733, 56.437924], [-132.735747, 56.459832], [-132.631685, 56.421493], [-132.664547, 56.273616], [-132.878148, 56.240754], [-133.069841, 56.333862], [-132.976733, 56.437924]]], [[[-133.595627, 56.350293], [-133.162949, 56.317431], [-133.05341, 56.125739], [-132.620732, 55.912138], [-132.472854, 55.780691], [-132.4619, 55.671152], [-132.357838, 55.649245], [-132.341408, 55.506844], [-132.166146, 55.364444], [-132.144238, 55.238474], [-132.029222, 55.276813], [-131.97993, 55.178228], [-131.958022, 54.789365], [-132.029222, 54.701734], [-132.308546, 54.718165], [-132.385223, 54.915335], [-132.483808, 54.898904], [-132.686455, 55.046781], [-132.746701, 54.997489], [-132.916486, 55.046781], [-132.889102, 54.898904], [-132.73027, 54.937242], [-132.626209, 54.882473], [-132.675501, 54.679826], [-132.867194, 54.701734], [-133.157472, 54.95915], [-133.239626, 55.090597], [-133.223195, 55.22752], [-133.453227, 55.216566], [-133.453227, 55.320628], [-133.277964, 55.331582], [-133.102702, 55.42469], [-133.17938, 55.588998], [-133.387503, 55.62186], [-133.420365, 55.884753], [-133.497042, 56.0162], [-133.639442, 55.923092], [-133.694212, 56.070969], [-133.546335, 56.142169], [-133.666827, 56.311955], [-133.595627, 56.350293]]], [[[-133.738027, 55.556137], [-133.546335, 55.490413], [-133.414888, 55.572568], [-133.283441, 55.534229], [-133.420365, 55.386352], [-133.633966, 55.430167], [-133.738027, 55.556137]]], [[[-133.907813, 56.930849], [-134.050213, 57.029434], [-133.885905, 57.095157], [-133.343688, 57.002049], [-133.102702, 57.007526], [-132.932917, 56.82131], [-132.620732, 56.667956], [-132.653593, 56.55294], [-132.817901, 56.492694], [-133.042456, 56.520078], [-133.201287, 56.448878], [-133.420365, 56.492694], [-133.66135, 56.448878], [-133.710643, 56.684386], [-133.688735, 56.837741], [-133.869474, 56.843218], [-133.907813, 56.930849]]], [[[-134.115936, 56.48174], [-134.25286, 56.558417], [-134.400737, 56.722725], [-134.417168, 56.848695], [-134.296675, 56.908941], [-134.170706, 56.848695], [-134.143321, 56.952757], [-133.748981, 56.772017], [-133.710643, 56.596755], [-133.847566, 56.574848], [-133.935197, 56.377678], [-133.836612, 56.322908], [-133.957105, 56.092877], [-134.110459, 56.142169], [-134.132367, 55.999769], [-134.230952, 56.070969], [-134.291198, 56.350293], [-134.115936, 56.48174]]], [[[-134.636246, 56.28457], [-134.669107, 56.169554], [-134.806031, 56.235277], [-135.178463, 56.67891], [-135.413971, 56.810356], [-135.331817, 56.914418], [-135.424925, 57.166357], [-135.687818, 57.369004], [-135.419448, 57.566174], [-135.298955, 57.48402], [-135.063447, 57.418296], [-134.849846, 57.407343], [-134.844369, 57.248511], [-134.636246, 56.728202], [-134.636246, 56.28457]]], [[[-134.712923, 58.223407], [-134.373353, 58.14673], [-134.176183, 58.157683], [-134.187137, 58.081006], [-133.902336, 57.807159], [-134.099505, 57.850975], [-134.148798, 57.757867], [-133.935197, 57.615466], [-133.869474, 57.363527], [-134.083075, 57.297804], [-134.154275, 57.210173], [-134.499322, 57.029434], [-134.603384, 57.034911], [-134.6472, 57.226604], [-134.575999, 57.341619], [-134.608861, 57.511404], [-134.729354, 57.719528], [-134.707446, 57.829067], [-134.784123, 58.097437], [-134.91557, 58.212453], [-134.953908, 58.409623], [-134.712923, 58.223407]]], [[[-135.857603, 57.330665], [-135.715203, 57.330665], [-135.567326, 57.149926], [-135.633049, 57.023957], [-135.857603, 56.996572], [-135.824742, 57.193742], [-135.857603, 57.330665]]], [[[-136.279328, 58.206976], [-135.978096, 58.201499], [-135.780926, 58.28913], [-135.496125, 58.168637], [-135.64948, 58.037191], [-135.59471, 57.987898], [-135.45231, 58.135776], [-135.107263, 58.086483], [-134.91557, 57.976944], [-135.025108, 57.779775], [-134.937477, 57.763344], [-134.822462, 57.500451], [-135.085355, 57.462112], [-135.572802, 57.675713], [-135.556372, 57.456635], [-135.709726, 57.369004], [-135.890465, 57.407343], [-136.000004, 57.544266], [-136.208128, 57.637374], [-136.366959, 57.829067], [-136.569606, 57.916698], [-136.558652, 58.075529], [-136.421728, 58.130299], [-136.377913, 58.267222], [-136.279328, 58.206976]]], [[[-147.079854, 60.200582], [-147.501579, 59.948643], [-147.53444, 59.850058], [-147.874011, 59.784335], [-147.80281, 59.937689], [-147.435855, 60.09652], [-147.205824, 60.271782], [-147.079854, 60.200582]]], [[[-147.561825, 60.578491], [-147.616594, 60.370367], [-147.758995, 60.156767], [-147.956165, 60.227967], [-147.791856, 60.474429], [-147.561825, 60.578491]]], [[[-147.786379, 70.245291], [-147.682318, 70.201475], [-147.162008, 70.15766], [-146.888161, 70.185044], [-146.510252, 70.185044], [-146.099482, 70.146706], [-145.858496, 70.168614], [-145.622988, 70.08646], [-145.195787, 69.993352], [-144.620708, 69.971444], [-144.461877, 70.026213], [-144.078491, 70.059075], [-143.914183, 70.130275], [-143.497935, 70.141229], [-143.503412, 70.091936], [-143.25695, 70.119321], [-142.747594, 70.042644], [-142.402547, 69.916674], [-142.079408, 69.856428], [-142.008207, 69.801659], [-141.712453, 69.790705], [-141.433129, 69.697597], [-141.378359, 69.63735], [-141.208574, 69.686643], [-141.00045, 69.648304], [-141.00045, 60.304644], [-140.53491, 60.22249], [-140.474664, 60.310121], [-139.987216, 60.184151], [-139.696939, 60.342983], [-139.088998, 60.359413], [-139.198537, 60.091043], [-139.045183, 59.997935], [-138.700135, 59.910304], [-138.623458, 59.767904], [-137.604747, 59.242118], [-137.445916, 58.908024], [-137.265177, 59.001132], [-136.827022, 59.159963], [-136.580559, 59.16544], [-136.465544, 59.285933], [-136.476498, 59.466672], [-136.301236, 59.466672], [-136.25742, 59.625503], [-135.945234, 59.663842], [-135.479694, 59.800766], [-135.025108, 59.565257], [-135.068924, 59.422857], [-134.959385, 59.280456], [-134.701969, 59.247595], [-134.378829, 59.033994], [-134.400737, 58.973748], [-134.25286, 58.858732], [-133.842089, 58.727285], [-133.173903, 58.152206], [-133.075318, 57.998852], [-132.867194, 57.845498], [-132.560485, 57.505928], [-132.253777, 57.21565], [-132.368792, 57.095157], [-132.05113, 57.051341], [-132.127807, 56.876079], [-131.870391, 56.804879], [-131.837529, 56.602232], [-131.580113, 56.613186], [-131.087188, 56.405062], [-130.78048, 56.366724], [-130.621648, 56.268139], [-130.468294, 56.240754], [-130.424478, 56.142169], [-130.101339, 56.114785], [-130.002754, 55.994292], [-130.150631, 55.769737], [-130.128724, 55.583521], [-129.986323, 55.276813], [-130.095862, 55.200136], [-130.336847, 54.920812], [-130.687372, 54.718165], [-130.785957, 54.822227], [-130.917403, 54.789365], [-131.010511, 54.997489], [-130.983126, 55.08512], [-131.092665, 55.189182], [-130.862634, 55.298721], [-130.928357, 55.337059], [-131.158389, 55.200136], [-131.284358, 55.287767], [-131.426759, 55.238474], [-131.843006, 55.457552], [-131.700606, 55.698537], [-131.963499, 55.616383], [-131.974453, 55.49589], [-132.182576, 55.588998], [-132.226392, 55.704014], [-132.083991, 55.829984], [-132.127807, 55.955953], [-132.324977, 55.851892], [-132.522147, 56.076446], [-132.642639, 56.032631], [-132.719317, 56.218847], [-132.527624, 56.339339], [-132.341408, 56.339339], [-132.396177, 56.487217], [-132.297592, 56.67891], [-132.450946, 56.673433], [-132.768609, 56.837741], [-132.993164, 57.034911], [-133.51895, 57.177311], [-133.507996, 57.577128], [-133.677781, 57.62642], [-133.639442, 57.790728], [-133.814705, 57.834544], [-134.072121, 58.053622], [-134.143321, 58.168637], [-134.586953, 58.206976], [-135.074401, 58.502731], [-135.282525, 59.192825], [-135.38111, 59.033994], [-135.337294, 58.891593], [-135.140124, 58.617746], [-135.189417, 58.573931], [-135.05797, 58.349376], [-135.085355, 58.201499], [-135.277048, 58.234361], [-135.430402, 58.398669], [-135.633049, 58.426053], [-135.91785, 58.382238], [-135.912373, 58.617746], [-136.087635, 58.814916], [-136.246466, 58.75467], [-136.876314, 58.962794], [-136.931084, 58.902547], [-136.586036, 58.836824], [-136.317666, 58.672516], [-136.213604, 58.667039], [-136.180743, 58.535592], [-136.043819, 58.382238], [-136.388867, 58.294607], [-136.591513, 58.349376], [-136.59699, 58.212453], [-136.859883, 58.316515], [-136.947514, 58.393192], [-137.111823, 58.393192], [-137.566409, 58.590362], [-137.900502, 58.765624], [-137.933364, 58.869686], [-138.11958, 59.02304], [-138.634412, 59.132579], [-138.919213, 59.247595], [-139.417615, 59.379041], [-139.746231, 59.505011], [-139.718846, 59.641934], [-139.625738, 59.598119], [-139.5162, 59.68575], [-139.625738, 59.88292], [-139.488815, 59.992458], [-139.554538, 60.041751], [-139.801, 59.833627], [-140.315833, 59.696704], [-140.92925, 59.745996], [-141.444083, 59.871966], [-141.46599, 59.970551], [-141.706976, 59.948643], [-141.964392, 60.019843], [-142.539471, 60.085566], [-142.873564, 60.091043], [-143.623905, 60.036274], [-143.892275, 59.997935], [-144.231845, 60.140336], [-144.65357, 60.206059], [-144.785016, 60.29369], [-144.834309, 60.441568], [-145.124586, 60.430614], [-145.223171, 60.299167], [-145.738004, 60.474429], [-145.820158, 60.551106], [-146.351421, 60.408706], [-146.608837, 60.238921], [-146.718376, 60.397752], [-146.608837, 60.485383], [-146.455483, 60.463475], [-145.951604, 60.578491], [-146.017328, 60.666122], [-146.252836, 60.622307], [-146.345944, 60.737322], [-146.565022, 60.753753], [-146.784099, 61.044031], [-146.866253, 60.972831], [-147.172962, 60.934492], [-147.271547, 60.972831], [-147.375609, 60.879723], [-147.758995, 60.912584], [-147.775426, 60.808523], [-148.032842, 60.781138], [-148.153334, 60.819476], [-148.065703, 61.005692], [-148.175242, 61.000215], [-148.350504, 60.803046], [-148.109519, 60.737322], [-148.087611, 60.594922], [-147.939734, 60.441568], [-148.027365, 60.277259], [-148.219058, 60.332029], [-148.273827, 60.249875], [-148.087611, 60.217013], [-147.983549, 59.997935], [-148.251919, 59.95412], [-148.399797, 59.997935], [-148.635305, 59.937689], [-148.755798, 59.986981], [-149.067984, 59.981505], [-149.05703, 60.063659], [-149.204907, 60.008889], [-149.287061, 59.904827], [-149.418508, 59.997935], [-149.582816, 59.866489], [-149.511616, 59.806242], [-149.741647, 59.729565], [-149.949771, 59.718611], [-150.031925, 59.61455], [-150.25648, 59.521442], [-150.409834, 59.554303], [-150.579619, 59.444764], [-150.716543, 59.450241], [-151.001343, 59.225687], [-151.308052, 59.209256], [-151.406637, 59.280456], [-151.592853, 59.159963], [-151.976239, 59.253071], [-151.888608, 59.422857], [-151.636669, 59.483103], [-151.47236, 59.472149], [-151.423068, 59.537872], [-151.127313, 59.669319], [-151.116359, 59.778858], [-151.505222, 59.63098], [-151.828361, 59.718611], [-151.8667, 59.778858], [-151.702392, 60.030797], [-151.423068, 60.211536], [-151.379252, 60.359413], [-151.297098, 60.386798], [-151.264237, 60.545629], [-151.406637, 60.720892], [-151.06159, 60.786615], [-150.404357, 61.038554], [-150.245526, 60.939969], [-150.042879, 60.912584], [-149.741647, 61.016646], [-150.075741, 61.15357], [-150.207187, 61.257632], [-150.47008, 61.246678], [-150.656296, 61.29597], [-150.711066, 61.252155], [-151.023251, 61.180954], [-151.165652, 61.044031], [-151.477837, 61.011169], [-151.800977, 60.852338], [-151.833838, 60.748276], [-152.080301, 60.693507], [-152.13507, 60.578491], [-152.310332, 60.507291], [-152.392486, 60.304644], [-152.732057, 60.173197], [-152.567748, 60.069136], [-152.704672, 59.915781], [-153.022334, 59.888397], [-153.049719, 59.691227], [-153.345474, 59.620026], [-153.438582, 59.702181], [-153.586459, 59.548826], [-153.761721, 59.543349], [-153.72886, 59.433811], [-154.117723, 59.368087], [-154.1944, 59.066856], [-153.750768, 59.050425], [-153.400243, 58.968271], [-153.301658, 58.869686], [-153.444059, 58.710854], [-153.679567, 58.612269], [-153.898645, 58.606793], [-153.920553, 58.519161], [-154.062953, 58.4863], [-153.99723, 58.376761], [-154.145107, 58.212453], [-154.46277, 58.059098], [-154.643509, 58.059098], [-154.818771, 58.004329], [-154.988556, 58.015283], [-155.120003, 57.955037], [-155.081664, 57.872883], [-155.328126, 57.829067], [-155.377419, 57.708574], [-155.547204, 57.785251], [-155.73342, 57.549743], [-156.045606, 57.566174], [-156.023698, 57.440204], [-156.209914, 57.473066], [-156.34136, 57.418296], [-156.34136, 57.248511], [-156.549484, 56.985618], [-156.883577, 56.952757], [-157.157424, 56.832264], [-157.20124, 56.766541], [-157.376502, 56.859649], [-157.672257, 56.607709], [-157.754411, 56.67891], [-157.918719, 56.657002], [-157.957058, 56.514601], [-158.126843, 56.459832], [-158.32949, 56.48174], [-158.488321, 56.339339], [-158.208997, 56.295524], [-158.510229, 55.977861], [-159.375585, 55.873799], [-159.616571, 55.594475], [-159.676817, 55.654722], [-159.643955, 55.829984], [-159.813741, 55.857368], [-160.027341, 55.791645], [-160.060203, 55.720445], [-160.394296, 55.605429], [-160.536697, 55.473983], [-160.580512, 55.567091], [-160.668143, 55.457552], [-160.865313, 55.528752], [-161.232268, 55.358967], [-161.506115, 55.364444], [-161.467776, 55.49589], [-161.588269, 55.62186], [-161.697808, 55.517798], [-161.686854, 55.408259], [-162.053809, 55.074166], [-162.179779, 55.15632], [-162.218117, 55.03035], [-162.470057, 55.052258], [-162.508395, 55.249428], [-162.661749, 55.293244], [-162.716519, 55.222043], [-162.579595, 55.134412], [-162.645319, 54.997489], [-162.847965, 54.926289], [-163.00132, 55.079643], [-163.187536, 55.090597], [-163.220397, 55.03035], [-163.034181, 54.942719], [-163.373752, 54.800319], [-163.14372, 54.76198], [-163.138243, 54.696257], [-163.329936, 54.74555], [-163.587352, 54.614103], [-164.085754, 54.61958], [-164.332216, 54.531949], [-164.354124, 54.466226], [-164.638925, 54.389548], [-164.847049, 54.416933], [-164.918249, 54.603149], [-164.710125, 54.663395], [-164.551294, 54.88795], [-164.34317, 54.893427], [-163.894061, 55.041304], [-163.532583, 55.046781], [-163.39566, 54.904381], [-163.291598, 55.008443], [-163.313505, 55.128935], [-163.105382, 55.183705], [-162.880827, 55.183705], [-162.579595, 55.446598], [-162.245502, 55.682106], [-161.807347, 55.89023], [-161.292514, 55.983338], [-161.078914, 55.939523], [-160.87079, 55.999769], [-160.816021, 55.912138], [-160.931036, 55.813553], [-160.805067, 55.736876], [-160.766728, 55.857368], [-160.509312, 55.868322], [-160.438112, 55.791645], [-160.27928, 55.76426], [-160.273803, 55.857368], [-160.536697, 55.939523], [-160.558604, 55.994292], [-160.383342, 56.251708], [-160.147834, 56.399586], [-159.830171, 56.541986], [-159.326293, 56.667956], [-158.959338, 56.848695], [-158.784076, 56.782971], [-158.641675, 56.810356], [-158.701922, 56.925372], [-158.658106, 57.034911], [-158.378782, 57.264942], [-157.995396, 57.41282], [-157.688688, 57.609989], [-157.705118, 57.719528], [-157.458656, 58.497254], [-157.07527, 58.705377], [-157.119086, 58.869686], [-158.039212, 58.634177], [-158.32949, 58.661562], [-158.40069, 58.760147], [-158.564998, 58.803962], [-158.619768, 58.913501], [-158.767645, 58.864209], [-158.860753, 58.694424], [-158.701922, 58.480823], [-158.893615, 58.387715], [-159.0634, 58.420577], [-159.392016, 58.760147], [-159.616571, 58.929932], [-159.731586, 58.929932], [-159.808264, 58.803962], [-159.906848, 58.782055], [-160.054726, 58.886116], [-160.235465, 58.902547], [-160.317619, 59.072332], [-160.854359, 58.88064], [-161.33633, 58.743716], [-161.374669, 58.667039], [-161.752577, 58.552023], [-161.938793, 58.656085], [-161.769008, 58.776578], [-161.829255, 59.061379], [-161.955224, 59.36261], [-161.703285, 59.48858], [-161.911409, 59.740519], [-162.092148, 59.88292], [-162.234548, 60.091043], [-162.448149, 60.178674], [-162.502918, 59.997935], [-162.760334, 59.959597], [-163.171105, 59.844581], [-163.66403, 59.795289], [-163.9324, 59.806242], [-164.162431, 59.866489], [-164.189816, 60.02532], [-164.386986, 60.074613], [-164.699171, 60.29369], [-164.962064, 60.337506], [-165.268773, 60.578491], [-165.060649, 60.68803], [-165.016834, 60.890677], [-165.175665, 60.846861], [-165.197573, 60.972831], [-165.120896, 61.076893], [-165.323543, 61.170001], [-165.34545, 61.071416], [-165.591913, 61.109754], [-165.624774, 61.279539], [-165.816467, 61.301447], [-165.920529, 61.416463], [-165.915052, 61.558863], [-166.106745, 61.49314], [-166.139607, 61.630064], [-165.904098, 61.662925], [-166.095791, 61.81628], [-165.756221, 61.827233], [-165.756221, 62.013449], [-165.674067, 62.139419], [-165.044219, 62.539236], [-164.912772, 62.659728], [-164.819664, 62.637821], [-164.874433, 62.807606], [-164.633448, 63.097884], [-164.425324, 63.212899], [-164.036462, 63.262192], [-163.73523, 63.212899], [-163.313505, 63.037637], [-163.039658, 63.059545], [-162.661749, 63.22933], [-162.272887, 63.486746], [-162.075717, 63.514131], [-162.026424, 63.448408], [-161.555408, 63.448408], [-161.13916, 63.503177], [-160.766728, 63.771547], [-160.766728, 63.837271], [-160.952944, 64.08921], [-160.974852, 64.237087], [-161.26513, 64.395918], [-161.374669, 64.532842], [-161.078914, 64.494503], [-160.79959, 64.609519], [-160.783159, 64.719058], [-161.144637, 64.921705], [-161.413007, 64.762873], [-161.664946, 64.790258], [-161.900455, 64.702627], [-162.168825, 64.680719], [-162.234548, 64.620473], [-162.541257, 64.532842], [-162.634365, 64.384965], [-162.787719, 64.324718], [-162.858919, 64.49998], [-163.045135, 64.538319], [-163.176582, 64.401395], [-163.253259, 64.467119], [-163.598306, 64.565704], [-164.304832, 64.560227], [-164.80871, 64.450688], [-165.000403, 64.434257], [-165.411174, 64.49998], [-166.188899, 64.576658], [-166.391546, 64.636904], [-166.484654, 64.735489], [-166.413454, 64.872412], [-166.692778, 64.987428], [-166.638008, 65.113398], [-166.462746, 65.179121], [-166.517516, 65.337952], [-166.796839, 65.337952], [-167.026871, 65.381768], [-167.47598, 65.414629], [-167.711489, 65.496784], [-168.072967, 65.578938], [-168.105828, 65.682999], [-167.541703, 65.819923], [-166.829701, 66.049954], [-166.3313, 66.186878], [-166.046499, 66.110201], [-165.756221, 66.09377], [-165.690498, 66.203309], [-165.86576, 66.21974], [-165.88219, 66.312848], [-165.186619, 66.466202], [-164.403417, 66.581218], [-163.981692, 66.592172], [-163.751661, 66.553833], [-163.872153, 66.389525], [-163.828338, 66.274509], [-163.915969, 66.192355], [-163.768091, 66.060908], [-163.494244, 66.082816], [-163.149197, 66.060908], [-162.749381, 66.088293], [-162.634365, 66.039001], [-162.371472, 66.028047], [-162.14144, 66.077339], [-161.840208, 66.02257], [-161.549931, 66.241647], [-161.341807, 66.252601], [-161.199406, 66.208786], [-161.128206, 66.334755], [-161.528023, 66.395002], [-161.911409, 66.345709], [-161.87307, 66.510017], [-162.174302, 66.68528], [-162.502918, 66.740049], [-162.601503, 66.89888], [-162.344087, 66.937219], [-162.015471, 66.778388], [-162.075717, 66.652418], [-161.916886, 66.553833], [-161.571838, 66.438817], [-161.489684, 66.55931], [-161.884024, 66.718141], [-161.714239, 67.002942], [-161.851162, 67.052235], [-162.240025, 66.991988], [-162.639842, 67.008419], [-162.700088, 67.057712], [-162.902735, 67.008419], [-163.740707, 67.128912], [-163.757138, 67.254881], [-164.009077, 67.534205], [-164.211724, 67.638267], [-164.534863, 67.725898], [-165.192096, 67.966884], [-165.493328, 68.059992], [-165.794559, 68.081899], [-166.243668, 68.246208], [-166.681824, 68.339316], [-166.703731, 68.372177], [-166.375115, 68.42147], [-166.227238, 68.574824], [-166.216284, 68.881533], [-165.329019, 68.859625], [-164.255539, 68.930825], [-163.976215, 68.985595], [-163.532583, 69.138949], [-163.110859, 69.374457], [-163.023228, 69.609966], [-162.842489, 69.812613], [-162.470057, 69.982398], [-162.311225, 70.108367], [-161.851162, 70.311014], [-161.779962, 70.256245], [-161.396576, 70.239814], [-160.837928, 70.343876], [-160.487404, 70.453415], [-159.649432, 70.792985], [-159.33177, 70.809416], [-159.298908, 70.760123], [-158.975769, 70.798462], [-158.658106, 70.787508], [-158.033735, 70.831323], [-157.420318, 70.979201], [-156.812377, 71.285909], [-156.565915, 71.351633], [-156.522099, 71.296863], [-155.585543, 71.170894], [-155.508865, 71.083263], [-155.832005, 70.968247], [-155.979882, 70.96277], [-155.974405, 70.809416], [-155.503388, 70.858708], [-155.476004, 70.940862], [-155.262403, 71.017539], [-155.191203, 70.973724], [-155.032372, 71.148986], [-154.566832, 70.990155], [-154.643509, 70.869662], [-154.353231, 70.8368], [-154.183446, 70.7656], [-153.931507, 70.880616], [-153.487874, 70.886093], [-153.235935, 70.924431], [-152.589656, 70.886093], [-152.26104, 70.842277], [-152.419871, 70.606769], [-151.817408, 70.546523], [-151.773592, 70.486276], [-151.187559, 70.382214], [-151.182082, 70.431507], [-150.760358, 70.49723], [-150.355064, 70.491753], [-150.349588, 70.436984], [-150.114079, 70.431507], [-149.867617, 70.508184], [-149.462323, 70.519138], [-149.177522, 70.486276], [-148.78866, 70.404122], [-148.607921, 70.420553], [-148.350504, 70.305537], [-148.202627, 70.349353], [-147.961642, 70.316491], [-147.786379, 70.245291]]], [[[-152.94018, 58.026237], [-152.945657, 57.982421], [-153.290705, 58.048145], [-153.044242, 58.305561], [-152.819688, 58.327469], [-152.666333, 58.562977], [-152.496548, 58.354853], [-152.354148, 58.426053], [-152.080301, 58.311038], [-152.080301, 58.152206], [-152.480117, 58.130299], [-152.655379, 58.059098], [-152.94018, 58.026237]]], [[[-153.958891, 57.538789], [-153.67409, 57.670236], [-153.931507, 57.69762], [-153.936983, 57.812636], [-153.723383, 57.889313], [-153.570028, 57.834544], [-153.548121, 57.719528], [-153.46049, 57.796205], [-153.455013, 57.96599], [-153.268797, 57.889313], [-153.235935, 57.998852], [-153.071627, 57.933129], [-152.874457, 57.933129], [-152.721103, 57.993375], [-152.469163, 57.889313], [-152.469163, 57.599035], [-152.151501, 57.620943], [-152.359625, 57.42925], [-152.74301, 57.505928], [-152.60061, 57.379958], [-152.710149, 57.275896], [-152.907319, 57.325188], [-152.912796, 57.128019], [-153.214027, 57.073249], [-153.312612, 56.991095], [-153.498828, 57.067772], [-153.695998, 56.859649], [-153.849352, 56.837741], [-154.013661, 56.744633], [-154.073907, 56.969187], [-154.303938, 56.848695], [-154.314892, 56.919895], [-154.523016, 56.991095], [-154.539447, 57.193742], [-154.742094, 57.275896], [-154.627078, 57.511404], [-154.227261, 57.659282], [-153.980799, 57.648328], [-153.958891, 57.538789]]], [[[-154.53397, 56.602232], [-154.742094, 56.399586], [-154.807817, 56.432447], [-154.53397, 56.602232]]], [[[-155.634835, 55.923092], [-155.476004, 55.912138], [-155.530773, 55.704014], [-155.793666, 55.731399], [-155.837482, 55.802599], [-155.634835, 55.923092]]], [[[-159.890418, 55.28229], [-159.950664, 55.068689], [-160.257373, 54.893427], [-160.109495, 55.161797], [-160.005433, 55.134412], [-159.890418, 55.28229]]], [[[-160.520266, 55.358967], [-160.33405, 55.358967], [-160.339527, 55.249428], [-160.525743, 55.128935], [-160.690051, 55.211089], [-160.794113, 55.134412], [-160.854359, 55.320628], [-160.79959, 55.380875], [-160.520266, 55.358967]]], [[[-162.256456, 54.981058], [-162.234548, 54.893427], [-162.349564, 54.838658], [-162.437195, 54.931766], [-162.256456, 54.981058]]], [[[-162.415287, 63.634624], [-162.563165, 63.536039], [-162.612457, 63.62367], [-162.415287, 63.634624]]], [[[-162.80415, 54.488133], [-162.590549, 54.449795], [-162.612457, 54.367641], [-162.782242, 54.373118], [-162.80415, 54.488133]]], [[[-165.548097, 54.29644], [-165.476897, 54.181425], [-165.630251, 54.132132], [-165.685021, 54.252625], [-165.548097, 54.29644]]], [[[-165.73979, 54.15404], [-166.046499, 54.044501], [-166.112222, 54.121178], [-165.980775, 54.219763], [-165.73979, 54.15404]]], [[[-166.364161, 60.359413], [-166.13413, 60.397752], [-166.084837, 60.326552], [-165.88219, 60.342983], [-165.685021, 60.277259], [-165.646682, 59.992458], [-165.750744, 59.89935], [-166.00816, 59.844581], [-166.062929, 59.745996], [-166.440838, 59.855535], [-166.6161, 59.850058], [-166.994009, 59.992458], [-167.125456, 59.992458], [-167.344534, 60.074613], [-167.421211, 60.206059], [-167.311672, 60.238921], [-166.93924, 60.206059], [-166.763978, 60.310121], [-166.577762, 60.321075], [-166.495608, 60.392275], [-166.364161, 60.359413]]], [[[-166.375115, 54.01164], [-166.210807, 53.934962], [-166.5449, 53.748746], [-166.539423, 53.715885], [-166.117699, 53.852808], [-166.112222, 53.776131], [-166.282007, 53.683023], [-166.555854, 53.622777], [-166.583239, 53.529669], [-166.878994, 53.431084], [-167.13641, 53.425607], [-167.306195, 53.332499], [-167.623857, 53.250345], [-167.793643, 53.337976], [-167.459549, 53.442038], [-167.355487, 53.425607], [-167.103548, 53.513238], [-167.163794, 53.611823], [-167.021394, 53.715885], [-166.807793, 53.666592], [-166.785886, 53.732316], [-167.015917, 53.754223], [-167.141887, 53.825424], [-167.032348, 53.945916], [-166.643485, 54.017116], [-166.561331, 53.880193], [-166.375115, 54.01164]]], [[[-168.790446, 53.157237], [-168.40706, 53.34893], [-168.385152, 53.431084], [-168.237275, 53.524192], [-168.007243, 53.568007], [-167.886751, 53.518715], [-167.842935, 53.387268], [-168.270136, 53.244868], [-168.500168, 53.036744], [-168.686384, 52.965544], [-168.790446, 53.157237]]], [[[-169.74891, 52.894344], [-169.705095, 52.795759], [-169.962511, 52.790282], [-169.989896, 52.856005], [-169.74891, 52.894344]]], [[[-170.148727, 57.221127], [-170.28565, 57.128019], [-170.313035, 57.221127], [-170.148727, 57.221127]]], [[[-170.669036, 52.697174], [-170.603313, 52.604066], [-170.789529, 52.538343], [-170.816914, 52.636928], [-170.669036, 52.697174]]], [[[-171.742517, 63.716778], [-170.94836, 63.5689], [-170.488297, 63.69487], [-170.280174, 63.683916], [-170.093958, 63.612716], [-170.044665, 63.492223], [-169.644848, 63.4265], [-169.518879, 63.366254], [-168.99857, 63.338869], [-168.686384, 63.295053], [-168.856169, 63.147176], [-169.108108, 63.180038], [-169.376478, 63.152653], [-169.513402, 63.08693], [-169.639372, 62.939052], [-169.831064, 63.075976], [-170.055619, 63.169084], [-170.263743, 63.180038], [-170.362328, 63.2841], [-170.866206, 63.415546], [-171.101715, 63.421023], [-171.463193, 63.306007], [-171.73704, 63.366254], [-171.852055, 63.486746], [-171.742517, 63.716778]]], [[[-172.432611, 52.390465], [-172.41618, 52.275449], [-172.607873, 52.253542], [-172.569535, 52.352127], [-172.432611, 52.390465]]], [[[-173.626584, 52.14948], [-173.495138, 52.105664], [-173.122706, 52.111141], [-173.106275, 52.07828], [-173.549907, 52.028987], [-173.626584, 52.14948]]], [[[-174.322156, 52.280926], [-174.327632, 52.379511], [-174.185232, 52.41785], [-173.982585, 52.319265], [-174.059262, 52.226157], [-174.179755, 52.231634], [-174.141417, 52.127572], [-174.333109, 52.116618], [-174.738403, 52.007079], [-174.968435, 52.039941], [-174.902711, 52.116618], [-174.656249, 52.105664], [-174.322156, 52.280926]]], [[[-176.469116, 51.853725], [-176.288377, 51.870156], [-176.288377, 51.744186], [-176.518409, 51.760617], [-176.80321, 51.61274], [-176.912748, 51.80991], [-176.792256, 51.815386], [-176.775825, 51.963264], [-176.627947, 51.968741], [-176.627947, 51.859202], [-176.469116, 51.853725]]], [[[-177.153734, 51.946833], [-177.044195, 51.897541], [-177.120872, 51.727755], [-177.274226, 51.678463], [-177.279703, 51.782525], [-177.153734, 51.946833]]], [[[-178.123152, 51.919448], [-177.953367, 51.913971], [-177.800013, 51.793479], [-177.964321, 51.651078], [-178.123152, 51.919448]]], [[[173.107557, 52.992929], [173.293773, 52.927205], [173.304726, 52.823143], [172.90491, 52.762897], [172.642017, 52.927205], [172.642017, 53.003883], [173.107557, 52.992929]]]], &quot;type&quot;: &quot;MultiPolygon&quot;}, &quot;id&quot;: &quot;1&quot;, &quot;properties&quot;: {&quot;id&quot;: &quot;AK&quot;, &quot;name&quot;: &quot;Alaska&quot;}, &quot;type&quot;: &quot;Feature&quot;}, {&quot;bbox&quot;: [-114.815198, 31.331629, -109.042503, 37.00574], &quot;geometry&quot;: {&quot;coordinates&quot;: [[[-109.042503, 37.000263], [-109.04798, 31.331629], [-111.074448, 31.331629], [-112.246513, 31.704061], [-114.815198, 32.492741], [-114.72209, 32.717295], [-114.524921, 32.755634], [-114.470151, 32.843265], [-114.524921, 33.029481], [-114.661844, 33.034958], [-114.727567, 33.40739], [-114.524921, 33.54979], [-114.497536, 33.697668], [-114.535874, 33.933176], [-114.415382, 34.108438], [-114.256551, 34.174162], [-114.136058, 34.305608], [-114.333228, 34.448009], [-114.470151, 34.710902], [-114.634459, 34.87521], [-114.634459, 35.00118], [-114.574213, 35.138103], [-114.596121, 35.324319], [-114.678275, 35.516012], [-114.738521, 36.102045], [-114.371566, 36.140383], [-114.251074, 36.01989], [-114.152489, 36.025367], [-114.048427, 36.195153], [-114.048427, 37.000263], [-110.499369, 37.00574], [-109.042503, 37.000263]]], &quot;type&quot;: &quot;Polygon&quot;}, &quot;id&quot;: &quot;2&quot;, &quot;properties&quot;: {&quot;id&quot;: &quot;AZ&quot;, &quot;name&quot;: &quot;Arizona&quot;}, &quot;type&quot;: &quot;Feature&quot;}, {&quot;bbox&quot;: [-94.616242, 33.002096, -89.730812, 36.501861], &quot;geometry&quot;: {&quot;coordinates&quot;: [[[-94.473842, 36.501861], [-90.152536, 36.496384], [-90.064905, 36.304691], [-90.218259, 36.184199], [-90.377091, 35.997983], [-89.730812, 35.997983], [-89.763673, 35.811767], [-89.911551, 35.756997], [-89.944412, 35.603643], [-90.130628, 35.439335], [-90.114197, 35.198349], [-90.212782, 35.023087], [-90.311367, 34.995703], [-90.251121, 34.908072], [-90.409952, 34.831394], [-90.481152, 34.661609], [-90.585214, 34.617794], [-90.568783, 34.420624], [-90.749522, 34.365854], [-90.744046, 34.300131], [-90.952169, 34.135823], [-90.891923, 34.026284], [-91.072662, 33.867453], [-91.231493, 33.560744], [-91.056231, 33.429298], [-91.143862, 33.347144], [-91.089093, 33.13902], [-91.16577, 33.002096], [-93.608485, 33.018527], [-94.041164, 33.018527], [-94.041164, 33.54979], [-94.183564, 33.593606], [-94.380734, 33.544313], [-94.484796, 33.637421], [-94.430026, 35.395519], [-94.616242, 36.501861], [-94.473842, 36.501861]]], &quot;type&quot;: &quot;Polygon&quot;}, &quot;id&quot;: &quot;3&quot;, &quot;properties&quot;: {&quot;id&quot;: &quot;AR&quot;, &quot;name&quot;: &quot;Arkansas&quot;}, &quot;type&quot;: &quot;Feature&quot;}, {&quot;bbox&quot;: [-124.410798, 32.536556, -114.136058, 42.011663], &quot;geometry&quot;: {&quot;coordinates&quot;: [[[-123.233256, 42.006186], [-122.378853, 42.011663], [-121.037003, 41.995232], [-120.001861, 41.995232], [-119.996384, 40.264519], [-120.001861, 38.999346], [-118.71478, 38.101128], [-117.498899, 37.21934], [-116.540435, 36.501861], [-115.85034, 35.970598], [-114.634459, 35.00118], [-114.634459, 34.87521], [-114.470151, 34.710902], [-114.333228, 34.448009], [-114.136058, 34.305608], [-114.256551, 34.174162], [-114.415382, 34.108438], [-114.535874, 33.933176], [-114.497536, 33.697668], [-114.524921, 33.54979], [-114.727567, 33.40739], [-114.661844, 33.034958], [-114.524921, 33.029481], [-114.470151, 32.843265], [-114.524921, 32.755634], [-114.72209, 32.717295], [-116.04751, 32.624187], [-117.126467, 32.536556], [-117.24696, 32.668003], [-117.252437, 32.876127], [-117.329114, 33.122589], [-117.471515, 33.297851], [-117.7837, 33.538836], [-118.183517, 33.763391], [-118.260194, 33.703145], [-118.413548, 33.741483], [-118.391641, 33.840068], [-118.566903, 34.042715], [-118.802411, 33.998899], [-119.218659, 34.146777], [-119.278905, 34.26727], [-119.558229, 34.415147], [-119.875891, 34.40967], [-120.138784, 34.475393], [-120.472878, 34.448009], [-120.64814, 34.579455], [-120.609801, 34.858779], [-120.670048, 34.902595], [-120.631709, 35.099764], [-120.894602, 35.247642], [-120.905556, 35.450289], [-121.004141, 35.461243], [-121.168449, 35.636505], [-121.283465, 35.674843], [-121.332757, 35.784382], [-121.716143, 36.195153], [-121.896882, 36.315645], [-121.935221, 36.638785], [-121.858544, 36.6114], [-121.787344, 36.803093], [-121.929744, 36.978355], [-122.105006, 36.956447], [-122.335038, 37.115279], [-122.417192, 37.241248], [-122.400761, 37.361741], [-122.515777, 37.520572], [-122.515777, 37.783465], [-122.329561, 37.783465], [-122.406238, 38.15042], [-122.488392, 38.112082], [-122.504823, 37.931343], [-122.701993, 37.893004], [-122.937501, 38.029928], [-122.97584, 38.265436], [-123.129194, 38.451652], [-123.331841, 38.566668], [-123.44138, 38.698114], [-123.737134, 38.95553], [-123.687842, 39.032208], [-123.824765, 39.366301], [-123.764519, 39.552517], [-123.85215, 39.831841], [-124.109566, 40.105688], [-124.361506, 40.259042], [-124.410798, 40.439781], [-124.158859, 40.877937], [-124.109566, 41.025814], [-124.158859, 41.14083], [-124.065751, 41.442061], [-124.147905, 41.715908], [-124.257444, 41.781632], [-124.213628, 42.000709], [-123.233256, 42.006186]]], &quot;type&quot;: &quot;Polygon&quot;}, &quot;id&quot;: &quot;4&quot;, &quot;properties&quot;: {&quot;id&quot;: &quot;CA&quot;, &quot;name&quot;: &quot;California&quot;}, &quot;type&quot;: &quot;Feature&quot;}, {&quot;bbox&quot;: [-109.058934, 36.994786, -102.042974, 41.003906], &quot;geometry&quot;: {&quot;coordinates&quot;: [[[-107.919731, 41.003906], [-105.728954, 40.998429], [-104.053011, 41.003906], [-102.053927, 41.003906], [-102.053927, 40.001626], [-102.042974, 36.994786], [-103.001438, 37.000263], [-104.337812, 36.994786], [-106.868158, 36.994786], [-107.421329, 37.000263], [-109.042503, 37.000263], [-109.042503, 38.166851], [-109.058934, 38.27639], [-109.053457, 39.125316], [-109.04798, 40.998429], [-107.919731, 41.003906]]], &quot;type&quot;: &quot;Polygon&quot;}, &quot;id&quot;: &quot;5&quot;, &quot;properties&quot;: {&quot;id&quot;: &quot;CO&quot;, &quot;name&quot;: &quot;Colorado&quot;}, &quot;type&quot;: &quot;Feature&quot;}, {&quot;bbox&quot;: [-73.727192, 40.987475, -71.799309, 42.050002], &quot;geometry&quot;: {&quot;coordinates&quot;: [[[-73.053528, 42.039048], [-71.799309, 42.022617], [-71.799309, 42.006186], [-71.799309, 41.414677], [-71.859555, 41.321569], [-71.947186, 41.338], [-72.385341, 41.261322], [-72.905651, 41.28323], [-73.130205, 41.146307], [-73.371191, 41.102491], [-73.655992, 40.987475], [-73.727192, 41.102491], [-73.48073, 41.21203], [-73.55193, 41.294184], [-73.486206, 42.050002], [-73.053528, 42.039048]]], &quot;type&quot;: &quot;Polygon&quot;}, &quot;id&quot;: &quot;6&quot;, &quot;properties&quot;: {&quot;id&quot;: &quot;CT&quot;, &quot;name&quot;: &quot;Connecticut&quot;}, &quot;type&quot;: &quot;Feature&quot;}, {&quot;bbox&quot;: [-75.786521, 38.451652, -75.047134, 39.831841], &quot;geometry&quot;: {&quot;coordinates&quot;: [[[-75.414089, 39.804456], [-75.507197, 39.683964], [-75.611259, 39.61824], [-75.589352, 39.459409], [-75.441474, 39.311532], [-75.403136, 39.065069], [-75.189535, 38.807653], [-75.09095, 38.796699], [-75.047134, 38.451652], [-75.693413, 38.462606], [-75.786521, 39.722302], [-75.616736, 39.831841], [-75.414089, 39.804456]]], &quot;type&quot;: &quot;Polygon&quot;}, &quot;id&quot;: &quot;7&quot;, &quot;properties&quot;: {&quot;id&quot;: &quot;DE&quot;, &quot;name&quot;: &quot;Delaware&quot;}, &quot;type&quot;: &quot;Feature&quot;}, {&quot;bbox&quot;: [-87.633143, 25.120779, -80.03115, 31.003013], &quot;geometry&quot;: {&quot;coordinates&quot;: [[[-85.497137, 30.997536], [-85.004212, 31.003013], [-84.867289, 30.712735], [-83.498053, 30.647012], [-82.216449, 30.570335], [-82.167157, 30.356734], [-82.046664, 30.362211], [-82.002849, 30.564858], [-82.041187, 30.751074], [-81.948079, 30.827751], [-81.718048, 30.745597], [-81.444201, 30.707258], [-81.383954, 30.27458], [-81.257985, 29.787132], [-80.967707, 29.14633], [-80.524075, 28.461713], [-80.589798, 28.41242], [-80.56789, 28.094758], [-80.381674, 27.738757], [-80.091397, 27.021277], [-80.03115, 26.796723], [-80.036627, 26.566691], [-80.146166, 25.739673], [-80.239274, 25.723243], [-80.337859, 25.465826], [-80.304997, 25.383672], [-80.49669, 25.197456], [-80.573367, 25.241272], [-80.759583, 25.164595], [-81.077246, 25.120779], [-81.170354, 25.224841], [-81.126538, 25.378195], [-81.351093, 25.821827], [-81.526355, 25.903982], [-81.679709, 25.843735], [-81.800202, 26.090198], [-81.833064, 26.292844], [-82.041187, 26.517399], [-82.09048, 26.665276], [-82.057618, 26.878877], [-82.172634, 26.917216], [-82.145249, 26.791246], [-82.249311, 26.758384], [-82.566974, 27.300601], [-82.692943, 27.437525], [-82.391711, 27.837342], [-82.588881, 27.815434], [-82.720328, 27.689464], [-82.851774, 27.886634], [-82.676512, 28.434328], [-82.643651, 28.888914], [-82.764143, 28.998453], [-82.802482, 29.14633], [-82.994175, 29.179192], [-83.218729, 29.420177], [-83.399469, 29.518762], [-83.410422, 29.66664], [-83.536392, 29.721409], [-83.640454, 29.885717], [-84.02384, 30.104795], [-84.357933, 30.055502], [-84.341502, 29.902148], [-84.451041, 29.929533], [-84.867289, 29.743317], [-85.310921, 29.699501], [-85.299967, 29.80904], [-85.404029, 29.940487], [-85.924338, 30.236241], [-86.29677, 30.362211], [-86.630863, 30.395073], [-86.910187, 30.373165], [-87.518128, 30.280057], [-87.37025, 30.427934], [-87.446927, 30.510088], [-87.408589, 30.674397], [-87.633143, 30.86609], [-87.600282, 30.997536], [-85.497137, 30.997536]]], &quot;type&quot;: &quot;Polygon&quot;}, &quot;id&quot;: &quot;8&quot;, &quot;properties&quot;: {&quot;id&quot;: &quot;FL&quot;, &quot;name&quot;: &quot;Florida&quot;}, &quot;type&quot;: &quot;Feature&quot;}, {&quot;bbox&quot;: [-85.606675, 30.356734, -80.885553, 35.00118], &quot;geometry&quot;: {&quot;coordinates&quot;: [[[-83.109191, 35.00118], [-83.322791, 34.787579], [-83.339222, 34.683517], [-83.005129, 34.469916], [-82.901067, 34.486347], [-82.747713, 34.26727], [-82.714851, 34.152254], [-82.55602, 33.94413], [-82.325988, 33.81816], [-82.194542, 33.631944], [-81.926172, 33.462159], [-81.937125, 33.347144], [-81.761863, 33.160928], [-81.493493, 33.007573], [-81.42777, 32.843265], [-81.416816, 32.629664], [-81.279893, 32.558464], [-81.121061, 32.290094], [-81.115584, 32.120309], [-80.885553, 32.032678], [-81.132015, 31.693108], [-81.175831, 31.517845], [-81.279893, 31.364491], [-81.290846, 31.20566], [-81.400385, 31.13446], [-81.444201, 30.707258], [-81.718048, 30.745597], [-81.948079, 30.827751], [-82.041187, 30.751074], [-82.002849, 30.564858], [-82.046664, 30.362211], [-82.167157, 30.356734], [-82.216449, 30.570335], [-83.498053, 30.647012], [-84.867289, 30.712735], [-85.004212, 31.003013], [-85.113751, 31.27686], [-85.042551, 31.539753], [-85.141136, 31.840985], [-85.053504, 32.01077], [-85.058981, 32.13674], [-84.889196, 32.262709], [-85.004212, 32.322956], [-84.960397, 32.421541], [-85.069935, 32.580372], [-85.184951, 32.859696], [-85.431413, 34.124869], [-85.606675, 34.984749], [-84.319594, 34.990226], [-83.618546, 34.984749], [-83.109191, 35.00118]]], &quot;type&quot;: &quot;Polygon&quot;}, &quot;id&quot;: &quot;9&quot;, &quot;properties&quot;: {&quot;id&quot;: &quot;GA&quot;, &quot;name&quot;: &quot;Georgia&quot;}, &quot;type&quot;: &quot;Feature&quot;}, {&quot;bbox&quot;: [-159.764448, 18.948267, -154.807817, 22.228955], &quot;geometry&quot;: {&quot;coordinates&quot;: [[[[-155.634835, 18.948267], [-155.881297, 19.035898], [-155.919636, 19.123529], [-155.886774, 19.348084], [-156.062036, 19.73147], [-155.925113, 19.857439], [-155.826528, 20.032702], [-155.897728, 20.147717], [-155.87582, 20.26821], [-155.596496, 20.12581], [-155.284311, 20.021748], [-155.092618, 19.868393], [-155.092618, 19.736947], [-154.807817, 19.523346], [-154.983079, 19.348084], [-155.295265, 19.26593], [-155.514342, 19.134483], [-155.634835, 18.948267]]], [[[-156.587823, 21.029505], [-156.472807, 20.892581], [-156.324929, 20.952827], [-156.00179, 20.793996], [-156.051082, 20.651596], [-156.379699, 20.580396], [-156.445422, 20.60778], [-156.461853, 20.783042], [-156.631638, 20.821381], [-156.697361, 20.919966], [-156.587823, 21.029505]]], [[[-156.982162, 21.210244], [-157.080747, 21.106182], [-157.310779, 21.106182], [-157.239579, 21.221198], [-156.982162, 21.210244]]], [[[-157.951581, 21.697691], [-157.842042, 21.462183], [-157.896811, 21.325259], [-158.110412, 21.303352], [-158.252813, 21.582676], [-158.126843, 21.588153], [-157.951581, 21.697691]]], [[[-159.468693, 22.228955], [-159.353678, 22.218001], [-159.298908, 22.113939], [-159.33177, 21.966061], [-159.446786, 21.872953], [-159.764448, 21.987969], [-159.726109, 22.152277], [-159.468693, 22.228955]]]], &quot;type&quot;: &quot;MultiPolygon&quot;}, &quot;id&quot;: &quot;10&quot;, &quot;properties&quot;: {&quot;id&quot;: &quot;HI&quot;, &quot;name&quot;: &quot;Hawaii&quot;}, &quot;type&quot;: &quot;Feature&quot;}, {&quot;bbox&quot;: [-117.241483, 41.995232, -111.047063, 49.000239], &quot;geometry&quot;: {&quot;coordinates&quot;: [[[-116.04751, 49.000239], [-116.04751, 47.976051], [-115.724371, 47.696727], [-115.718894, 47.42288], [-115.527201, 47.302388], [-115.324554, 47.258572], [-115.302646, 47.187372], [-114.930214, 46.919002], [-114.886399, 46.809463], [-114.623506, 46.705401], [-114.612552, 46.639678], [-114.322274, 46.645155], [-114.464674, 46.272723], [-114.492059, 46.037214], [-114.387997, 45.88386], [-114.568736, 45.774321], [-114.497536, 45.670259], [-114.546828, 45.560721], [-114.333228, 45.456659], [-114.086765, 45.593582], [-113.98818, 45.703121], [-113.807441, 45.604536], [-113.834826, 45.522382], [-113.736241, 45.330689], [-113.571933, 45.128042], [-113.45144, 45.056842], [-113.456917, 44.865149], [-113.341901, 44.782995], [-113.133778, 44.772041], [-113.002331, 44.448902], [-112.887315, 44.394132], [-112.783254, 44.48724], [-112.471068, 44.481763], [-112.241036, 44.569394], [-112.104113, 44.520102], [-111.868605, 44.563917], [-111.819312, 44.509148], [-111.616665, 44.547487], [-111.386634, 44.75561], [-111.227803, 44.580348], [-111.047063, 44.476286], [-111.047063, 42.000709], [-112.164359, 41.995232], [-114.04295, 41.995232], [-117.027882, 42.000709], [-117.027882, 43.830007], [-116.896436, 44.158624], [-116.97859, 44.240778], [-117.170283, 44.257209], [-117.241483, 44.394132], [-117.038836, 44.750133], [-116.934774, 44.782995], [-116.830713, 44.930872], [-116.847143, 45.02398], [-116.732128, 45.144473], [-116.671881, 45.319735], [-116.463758, 45.61549], [-116.545912, 45.752413], [-116.78142, 45.823614], [-116.918344, 45.993399], [-116.92382, 46.168661], [-117.055267, 46.343923], [-117.038836, 46.426077], [-117.044313, 47.762451], [-117.033359, 49.000239], [-116.04751, 49.000239]]], &quot;type&quot;: &quot;Polygon&quot;}, &quot;id&quot;: &quot;11&quot;, &quot;properties&quot;: {&quot;id&quot;: &quot;ID&quot;, &quot;name&quot;: &quot;Idaho&quot;}, &quot;type&quot;: &quot;Feature&quot;}, {&quot;bbox&quot;: [-91.50534, 36.983832, -87.49622, 42.510065], &quot;geometry&quot;: {&quot;coordinates&quot;: [[[-90.639984, 42.510065], [-88.788778, 42.493634], [-87.802929, 42.493634], [-87.83579, 42.301941], [-87.682436, 42.077386], [-87.523605, 41.710431], [-87.529082, 39.34987], [-87.63862, 39.169131], [-87.512651, 38.95553], [-87.49622, 38.780268], [-87.62219, 38.637868], [-87.655051, 38.506421], [-87.83579, 38.292821], [-87.950806, 38.27639], [-87.923421, 38.15042], [-88.000098, 38.101128], [-88.060345, 37.865619], [-88.027483, 37.799896], [-88.15893, 37.657496], [-88.065822, 37.482234], [-88.476592, 37.389126], [-88.514931, 37.285064], [-88.421823, 37.153617], [-88.547792, 37.071463], [-88.914747, 37.224817], [-89.029763, 37.213863], [-89.183118, 37.038601], [-89.133825, 36.983832], [-89.292656, 36.994786], [-89.517211, 37.279587], [-89.435057, 37.34531], [-89.517211, 37.537003], [-89.517211, 37.690357], [-89.84035, 37.903958], [-89.949889, 37.88205], [-90.059428, 38.013497], [-90.355183, 38.216144], [-90.349706, 38.374975], [-90.179921, 38.632391], [-90.207305, 38.725499], [-90.10872, 38.845992], [-90.251121, 38.917192], [-90.470199, 38.961007], [-90.585214, 38.867899], [-90.661891, 38.928146], [-90.727615, 39.256762], [-91.061708, 39.470363], [-91.368417, 39.727779], [-91.494386, 40.034488], [-91.50534, 40.237135], [-91.417709, 40.379535], [-91.401278, 40.560274], [-91.121954, 40.669813], [-91.09457, 40.823167], [-90.963123, 40.921752], [-90.946692, 41.097014], [-91.111001, 41.239415], [-91.045277, 41.414677], [-90.656414, 41.463969], [-90.344229, 41.589939], [-90.311367, 41.743293], [-90.179921, 41.809016], [-90.141582, 42.000709], [-90.168967, 42.126679], [-90.393521, 42.225264], [-90.420906, 42.329326], [-90.639984, 42.510065]]], &quot;type&quot;: &quot;Polygon&quot;}, &quot;id&quot;: &quot;12&quot;, &quot;properties&quot;: {&quot;id&quot;: &quot;IL&quot;, &quot;name&quot;: &quot;Illinois&quot;}, &quot;type&quot;: &quot;Feature&quot;}, {&quot;bbox&quot;: [-88.060345, 37.788942, -84.801565, 41.759724], &quot;geometry&quot;: {&quot;coordinates&quot;: [[[-85.990061, 41.759724], [-84.807042, 41.759724], [-84.807042, 41.694001], [-84.801565, 40.500028], [-84.817996, 39.103408], [-84.894673, 39.059592], [-84.812519, 38.785745], [-84.987781, 38.780268], [-85.173997, 38.68716], [-85.431413, 38.730976], [-85.42046, 38.533806], [-85.590245, 38.451652], [-85.655968, 38.325682], [-85.83123, 38.27639], [-85.924338, 38.024451], [-86.039354, 37.958727], [-86.263908, 38.051835], [-86.302247, 38.166851], [-86.521325, 38.040881], [-86.504894, 37.931343], [-86.729448, 37.893004], [-86.795172, 37.991589], [-87.047111, 37.893004], [-87.129265, 37.788942], [-87.381204, 37.93682], [-87.512651, 37.903958], [-87.600282, 37.975158], [-87.682436, 37.903958], [-87.934375, 37.893004], [-88.027483, 37.799896], [-88.060345, 37.865619], [-88.000098, 38.101128], [-87.923421, 38.15042], [-87.950806, 38.27639], [-87.83579, 38.292821], [-87.655051, 38.506421], [-87.62219, 38.637868], [-87.49622, 38.780268], [-87.512651, 38.95553], [-87.63862, 39.169131], [-87.529082, 39.34987], [-87.523605, 41.710431], [-87.42502, 41.644708], [-87.118311, 41.644708], [-86.822556, 41.759724], [-85.990061, 41.759724]]], &quot;type&quot;: &quot;Polygon&quot;}, &quot;id&quot;: &quot;13&quot;, &quot;properties&quot;: {&quot;id&quot;: &quot;IN&quot;, &quot;name&quot;: &quot;Indiana&quot;}, &quot;type&quot;: &quot;Feature&quot;}, {&quot;bbox&quot;: [-96.631756, 40.379535, -90.141582, 43.501391], &quot;geometry&quot;: {&quot;coordinates&quot;: [[[-91.368417, 43.501391], [-91.215062, 43.501391], [-91.204109, 43.353514], [-91.056231, 43.254929], [-91.176724, 43.134436], [-91.143862, 42.909881], [-91.067185, 42.75105], [-90.711184, 42.636034], [-90.639984, 42.510065], [-90.420906, 42.329326], [-90.393521, 42.225264], [-90.168967, 42.126679], [-90.141582, 42.000709], [-90.179921, 41.809016], [-90.311367, 41.743293], [-90.344229, 41.589939], [-90.656414, 41.463969], [-91.045277, 41.414677], [-91.111001, 41.239415], [-90.946692, 41.097014], [-90.963123, 40.921752], [-91.09457, 40.823167], [-91.121954, 40.669813], [-91.401278, 40.560274], [-91.417709, 40.379535], [-91.527248, 40.412397], [-91.729895, 40.615043], [-91.833957, 40.609566], [-93.257961, 40.582182], [-94.632673, 40.571228], [-95.7664, 40.587659], [-95.881416, 40.719105], [-95.826646, 40.976521], [-95.925231, 41.201076], [-95.919754, 41.453015], [-96.095016, 41.540646], [-96.122401, 41.67757], [-96.062155, 41.798063], [-96.127878, 41.973325], [-96.264801, 42.039048], [-96.44554, 42.488157], [-96.631756, 42.707235], [-96.544125, 42.855112], [-96.511264, 43.052282], [-96.434587, 43.123482], [-96.560556, 43.222067], [-96.527695, 43.397329], [-96.582464, 43.479483], [-96.451017, 43.501391], [-91.368417, 43.501391]]], &quot;type&quot;: &quot;Polygon&quot;}, &quot;id&quot;: &quot;14&quot;, &quot;properties&quot;: {&quot;id&quot;: &quot;IA&quot;, &quot;name&quot;: &quot;Iowa&quot;}, &quot;type&quot;: &quot;Feature&quot;}, {&quot;bbox&quot;: [-102.053927, 36.994786, -94.610765, 40.001626], &quot;geometry&quot;: {&quot;coordinates&quot;: [[[-101.90605, 40.001626], [-95.306337, 40.001626], [-95.207752, 39.908518], [-94.884612, 39.831841], [-95.109167, 39.541563], [-94.983197, 39.442978], [-94.824366, 39.20747], [-94.610765, 39.158177], [-94.616242, 37.000263], [-100.087706, 37.000263], [-102.042974, 36.994786], [-102.053927, 40.001626], [-101.90605, 40.001626]]], &quot;type&quot;: &quot;Polygon&quot;}, &quot;id&quot;: &quot;15&quot;, &quot;properties&quot;: {&quot;id&quot;: &quot;KS&quot;, &quot;name&quot;: &quot;Kansas&quot;}, &quot;type&quot;: &quot;Feature&quot;}, {&quot;bbox&quot;: [-89.418626, 36.496384, -81.969987, 39.103408], &quot;geometry&quot;: {&quot;coordinates&quot;: [[[-83.903347, 38.769315], [-83.678792, 38.632391], [-83.519961, 38.703591], [-83.142052, 38.626914], [-83.032514, 38.725499], [-82.890113, 38.758361], [-82.846298, 38.588575], [-82.731282, 38.561191], [-82.594358, 38.424267], [-82.621743, 38.123036], [-82.50125, 37.931343], [-82.342419, 37.783465], [-82.293127, 37.668449], [-82.101434, 37.553434], [-81.969987, 37.537003], [-82.353373, 37.268633], [-82.720328, 37.120755], [-82.720328, 37.044078], [-82.868205, 36.978355], [-82.879159, 36.890724], [-83.070852, 36.852385], [-83.136575, 36.742847], [-83.673316, 36.600446], [-83.689746, 36.584015], [-84.544149, 36.594969], [-85.289013, 36.627831], [-85.486183, 36.616877], [-86.592525, 36.655216], [-87.852221, 36.633308], [-88.071299, 36.677123], [-88.054868, 36.496384], [-89.298133, 36.507338], [-89.418626, 36.496384], [-89.363857, 36.622354], [-89.215979, 36.578538], [-89.133825, 36.983832], [-89.183118, 37.038601], [-89.029763, 37.213863], [-88.914747, 37.224817], [-88.547792, 37.071463], [-88.421823, 37.153617], [-88.514931, 37.285064], [-88.476592, 37.389126], [-88.065822, 37.482234], [-88.15893, 37.657496], [-88.027483, 37.799896], [-87.934375, 37.893004], [-87.682436, 37.903958], [-87.600282, 37.975158], [-87.512651, 37.903958], [-87.381204, 37.93682], [-87.129265, 37.788942], [-87.047111, 37.893004], [-86.795172, 37.991589], [-86.729448, 37.893004], [-86.504894, 37.931343], [-86.521325, 38.040881], [-86.302247, 38.166851], [-86.263908, 38.051835], [-86.039354, 37.958727], [-85.924338, 38.024451], [-85.83123, 38.27639], [-85.655968, 38.325682], [-85.590245, 38.451652], [-85.42046, 38.533806], [-85.431413, 38.730976], [-85.173997, 38.68716], [-84.987781, 38.780268], [-84.812519, 38.785745], [-84.894673, 39.059592], [-84.817996, 39.103408], [-84.43461, 39.103408], [-84.231963, 38.895284], [-84.215533, 38.807653], [-83.903347, 38.769315]]], &quot;type&quot;: &quot;Polygon&quot;}, &quot;id&quot;: &quot;16&quot;, &quot;properties&quot;: {&quot;id&quot;: &quot;KY&quot;, &quot;name&quot;: &quot;Kentucky&quot;}, &quot;type&quot;: &quot;Feature&quot;}, {&quot;bbox&quot;: [-94.041164, 29.009407, -89.002379, 33.018527], &quot;geometry&quot;: {&quot;coordinates&quot;: [[[-93.608485, 33.018527], [-91.16577, 33.002096], [-91.072662, 32.887081], [-91.143862, 32.843265], [-91.154816, 32.640618], [-91.006939, 32.514649], [-90.985031, 32.218894], [-91.105524, 31.988862], [-91.341032, 31.846462], [-91.401278, 31.621907], [-91.499863, 31.643815], [-91.516294, 31.27686], [-91.636787, 31.265906], [-91.565587, 31.068736], [-91.636787, 30.997536], [-89.747242, 30.997536], [-89.845827, 30.66892], [-89.681519, 30.449842], [-89.643181, 30.285534], [-89.522688, 30.181472], [-89.818443, 30.044549], [-89.84035, 29.945964], [-89.599365, 29.88024], [-89.495303, 30.039072], [-89.287179, 29.88024], [-89.30361, 29.754271], [-89.424103, 29.699501], [-89.648657, 29.748794], [-89.621273, 29.655686], [-89.69795, 29.513285], [-89.506257, 29.387316], [-89.199548, 29.348977], [-89.09001, 29.2011], [-89.002379, 29.179192], [-89.16121, 29.009407], [-89.336472, 29.042268], [-89.484349, 29.217531], [-89.851304, 29.310638], [-89.851304, 29.480424], [-90.032043, 29.425654], [-90.021089, 29.283254], [-90.103244, 29.151807], [-90.23469, 29.129899], [-90.333275, 29.277777], [-90.563307, 29.283254], [-90.645461, 29.129899], [-90.798815, 29.086084], [-90.963123, 29.179192], [-91.09457, 29.190146], [-91.220539, 29.436608], [-91.445094, 29.546147], [-91.532725, 29.529716], [-91.620356, 29.73784], [-91.883249, 29.710455], [-91.888726, 29.836425], [-92.146142, 29.715932], [-92.113281, 29.622824], [-92.31045, 29.535193], [-92.617159, 29.579009], [-92.97316, 29.715932], [-93.2251, 29.776178], [-93.767317, 29.726886], [-93.838517, 29.688547], [-93.926148, 29.787132], [-93.690639, 30.143133], [-93.767317, 30.334826], [-93.696116, 30.438888], [-93.728978, 30.575812], [-93.630393, 30.679874], [-93.526331, 30.93729], [-93.542762, 31.15089], [-93.816609, 31.556184], [-93.822086, 31.775262], [-94.041164, 31.994339], [-94.041164, 33.018527], [-93.608485, 33.018527]]], &quot;type&quot;: &quot;Polygon&quot;}, &quot;id&quot;: &quot;17&quot;, &quot;properties&quot;: {&quot;id&quot;: &quot;LA&quot;, &quot;name&quot;: &quot;Louisiana&quot;}, &quot;type&quot;: &quot;Feature&quot;}, {&quot;bbox&quot;: [-71.08183, 43.057759, -66.979601, 47.461219], &quot;geometry&quot;: {&quot;coordinates&quot;: [[[-70.703921, 43.057759], [-70.824413, 43.128959], [-70.807983, 43.227544], [-70.966814, 43.34256], [-71.032537, 44.657025], [-71.08183, 45.303304], [-70.649151, 45.440228], [-70.720352, 45.511428], [-70.556043, 45.664782], [-70.386258, 45.735983], [-70.41912, 45.796229], [-70.260289, 45.889337], [-70.309581, 46.064599], [-70.210996, 46.327492], [-70.057642, 46.415123], [-69.997395, 46.694447], [-69.225147, 47.461219], [-69.044408, 47.428357], [-69.033454, 47.242141], [-68.902007, 47.176418], [-68.578868, 47.285957], [-68.376221, 47.285957], [-68.233821, 47.357157], [-67.954497, 47.198326], [-67.790188, 47.066879], [-67.779235, 45.944106], [-67.801142, 45.675736], [-67.456095, 45.604536], [-67.505388, 45.48952], [-67.417757, 45.379982], [-67.488957, 45.281397], [-67.346556, 45.128042], [-67.16034, 45.160904], [-66.979601, 44.804903], [-67.187725, 44.646072], [-67.308218, 44.706318], [-67.406803, 44.596779], [-67.549203, 44.624164], [-67.565634, 44.531056], [-67.75185, 44.54201], [-68.047605, 44.328409], [-68.118805, 44.476286], [-68.222867, 44.48724], [-68.173574, 44.328409], [-68.403606, 44.251732], [-68.458375, 44.377701], [-68.567914, 44.311978], [-68.82533, 44.311978], [-68.830807, 44.459856], [-68.984161, 44.426994], [-68.956777, 44.322932], [-69.099177, 44.103854], [-69.071793, 44.043608], [-69.258008, 43.923115], [-69.444224, 43.966931], [-69.553763, 43.840961], [-69.707118, 43.82453], [-69.833087, 43.720469], [-69.986442, 43.742376], [-70.030257, 43.851915], [-70.254812, 43.676653], [-70.194565, 43.567114], [-70.358873, 43.528776], [-70.369827, 43.435668], [-70.556043, 43.320652], [-70.703921, 43.057759]]], &quot;type&quot;: &quot;Polygon&quot;}, &quot;id&quot;: &quot;18&quot;, &quot;properties&quot;: {&quot;id&quot;: &quot;ME&quot;, &quot;name&quot;: &quot;Maine&quot;}, &quot;type&quot;: &quot;Feature&quot;}, {&quot;bbox&quot;: [-79.488933, 37.909435, -75.047134, 39.722302], &quot;geometry&quot;: {&quot;coordinates&quot;: [[[[-75.994645, 37.95325], [-76.016553, 37.95325], [-76.043938, 37.95325], [-75.994645, 37.95325]]], [[[-79.477979, 39.722302], [-75.786521, 39.722302], [-75.693413, 38.462606], [-75.047134, 38.451652], [-75.244304, 38.029928], [-75.397659, 38.013497], [-75.671506, 37.95325], [-75.885106, 37.909435], [-75.879629, 38.073743], [-75.961783, 38.139466], [-75.846768, 38.210667], [-76.000122, 38.374975], [-76.049415, 38.303775], [-76.257538, 38.320205], [-76.328738, 38.500944], [-76.263015, 38.500944], [-76.257538, 38.736453], [-76.191815, 38.829561], [-76.279446, 39.147223], [-76.169907, 39.333439], [-76.000122, 39.366301], [-75.972737, 39.557994], [-76.098707, 39.536086], [-76.104184, 39.437501], [-76.367077, 39.311532], [-76.443754, 39.196516], [-76.460185, 38.906238], [-76.55877, 38.769315], [-76.514954, 38.539283], [-76.383508, 38.380452], [-76.399939, 38.259959], [-76.317785, 38.139466], [-76.3616, 38.057312], [-76.591632, 38.216144], [-76.920248, 38.292821], [-77.018833, 38.446175], [-77.205049, 38.358544], [-77.276249, 38.479037], [-77.128372, 38.632391], [-77.040741, 38.791222], [-76.909294, 38.895284], [-77.035264, 38.993869], [-77.117418, 38.933623], [-77.248864, 39.026731], [-77.456988, 39.076023], [-77.456988, 39.223901], [-77.566527, 39.306055], [-77.719881, 39.322485], [-77.834897, 39.601809], [-78.004682, 39.601809], [-78.174467, 39.694917], [-78.267575, 39.61824], [-78.431884, 39.623717], [-78.470222, 39.514178], [-78.765977, 39.585379], [-78.963147, 39.437501], [-79.094593, 39.470363], [-79.291763, 39.300578], [-79.488933, 39.20747], [-79.477979, 39.722302]]]], &quot;type&quot;: &quot;MultiPolygon&quot;}, &quot;id&quot;: &quot;19&quot;, &quot;properties&quot;: {&quot;id&quot;: &quot;MD&quot;, &quot;name&quot;: &quot;Maryland&quot;}, &quot;type&quot;: &quot;Feature&quot;}, {&quot;bbox&quot;: [-73.508114, 41.496831, -69.937149, 42.887974], &quot;geometry&quot;: {&quot;coordinates&quot;: [[[-70.917521, 42.887974], [-70.818936, 42.871543], [-70.780598, 42.696281], [-70.824413, 42.55388], [-70.983245, 42.422434], [-70.988722, 42.269079], [-70.769644, 42.247172], [-70.638197, 42.08834], [-70.660105, 41.962371], [-70.550566, 41.929509], [-70.539613, 41.814493], [-70.260289, 41.715908], [-69.937149, 41.809016], [-70.008349, 41.672093], [-70.484843, 41.5516], [-70.660105, 41.546123], [-70.764167, 41.639231], [-70.928475, 41.611847], [-70.933952, 41.540646], [-71.120168, 41.496831], [-71.196845, 41.67757], [-71.22423, 41.710431], [-71.328292, 41.781632], [-71.383061, 42.01714], [-71.530939, 42.01714], [-71.799309, 42.006186], [-71.799309, 42.022617], [-73.053528, 42.039048], [-73.486206, 42.050002], [-73.508114, 42.08834], [-73.267129, 42.745573], [-72.456542, 42.729142], [-71.29543, 42.696281], [-71.185891, 42.789389], [-70.917521, 42.887974]]], &quot;type&quot;: &quot;Polygon&quot;}, &quot;id&quot;: &quot;20&quot;, &quot;properties&quot;: {&quot;id&quot;: &quot;MA&quot;, &quot;name&quot;: &quot;Massachusetts&quot;}, &quot;type&quot;: &quot;Feature&quot;}, {&quot;bbox&quot;: [-90.415429, 41.694001, -82.413619, 48.173221], &quot;geometry&quot;: {&quot;coordinates&quot;: [[[[-83.454238, 41.732339], [-84.807042, 41.694001], [-84.807042, 41.759724], [-85.990061, 41.759724], [-86.822556, 41.759724], [-86.619909, 41.891171], [-86.482986, 42.115725], [-86.357016, 42.252649], [-86.263908, 42.444341], [-86.209139, 42.718189], [-86.231047, 43.013943], [-86.526801, 43.594499], [-86.433693, 43.813577], [-86.499417, 44.07647], [-86.269385, 44.34484], [-86.220093, 44.569394], [-86.252954, 44.689887], [-86.088646, 44.73918], [-86.066738, 44.903488], [-85.809322, 44.947303], [-85.612152, 45.128042], [-85.628583, 44.766564], [-85.524521, 44.750133], [-85.393075, 44.930872], [-85.387598, 45.237581], [-85.305444, 45.314258], [-85.031597, 45.363551], [-85.119228, 45.577151], [-84.938489, 45.75789], [-84.713934, 45.768844], [-84.461995, 45.653829], [-84.215533, 45.637398], [-84.09504, 45.494997], [-83.908824, 45.484043], [-83.596638, 45.352597], [-83.4871, 45.358074], [-83.317314, 45.144473], [-83.454238, 45.029457], [-83.322791, 44.88158], [-83.273499, 44.711795], [-83.333745, 44.339363], [-83.536392, 44.246255], [-83.585684, 44.054562], [-83.82667, 43.988839], [-83.958116, 43.758807], [-83.908824, 43.671176], [-83.667839, 43.589022], [-83.481623, 43.714992], [-83.262545, 43.972408], [-82.917498, 44.070993], [-82.747713, 43.994316], [-82.643651, 43.851915], [-82.539589, 43.435668], [-82.523158, 43.227544], [-82.413619, 42.975605], [-82.517681, 42.614127], [-82.681989, 42.559357], [-82.687466, 42.690804], [-82.797005, 42.652465], [-82.922975, 42.351234], [-83.125621, 42.236218], [-83.185868, 42.006186], [-83.437807, 41.814493], [-83.454238, 41.732339]]], [[[-85.508091, 45.730506], [-85.49166, 45.610013], [-85.623106, 45.588105], [-85.568337, 45.75789], [-85.508091, 45.730506]]], [[[-87.589328, 45.095181], [-87.742682, 45.199243], [-87.649574, 45.341643], [-87.885083, 45.363551], [-87.791975, 45.500474], [-87.781021, 45.675736], [-87.989145, 45.796229], [-88.10416, 45.922199], [-88.531362, 46.020784], [-88.662808, 45.987922], [-89.09001, 46.135799], [-90.119674, 46.338446], [-90.229213, 46.508231], [-90.415429, 46.568478], [-90.026566, 46.672539], [-89.851304, 46.793032], [-89.413149, 46.842325], [-89.128348, 46.990202], [-88.996902, 46.995679], [-88.887363, 47.099741], [-88.575177, 47.247618], [-88.416346, 47.373588], [-88.180837, 47.455742], [-87.956283, 47.384542], [-88.350623, 47.077833], [-88.443731, 46.973771], [-88.438254, 46.787555], [-88.246561, 46.929956], [-87.901513, 46.908048], [-87.633143, 46.809463], [-87.392158, 46.535616], [-87.260711, 46.486323], [-87.008772, 46.530139], [-86.948526, 46.469893], [-86.696587, 46.437031], [-86.159846, 46.667063], [-85.880522, 46.68897], [-85.508091, 46.678016], [-85.256151, 46.754694], [-85.064458, 46.760171], [-85.02612, 46.480847], [-84.82895, 46.442508], [-84.63178, 46.486323], [-84.549626, 46.4206], [-84.418179, 46.502754], [-84.127902, 46.530139], [-84.122425, 46.179615], [-83.990978, 46.031737], [-83.793808, 45.993399], [-83.7719, 46.091984], [-83.580208, 46.091984], [-83.476146, 45.987922], [-83.563777, 45.911245], [-84.111471, 45.976968], [-84.374364, 45.933153], [-84.659165, 46.053645], [-84.741319, 45.944106], [-84.70298, 45.850998], [-84.82895, 45.872906], [-85.015166, 46.00983], [-85.338305, 46.091984], [-85.502614, 46.097461], [-85.661445, 45.966014], [-85.924338, 45.933153], [-86.209139, 45.960537], [-86.324155, 45.905768], [-86.351539, 45.796229], [-86.663725, 45.703121], [-86.647294, 45.834568], [-86.784218, 45.861952], [-86.838987, 45.725029], [-87.069019, 45.719552], [-87.17308, 45.659305], [-87.326435, 45.423797], [-87.611236, 45.122565], [-87.589328, 45.095181]]], [[[-88.805209, 47.976051], [-89.057148, 47.850082], [-89.188594, 47.833651], [-89.177641, 47.937713], [-88.547792, 48.173221], [-88.668285, 48.008913], [-88.805209, 47.976051]]]], &quot;type&quot;: &quot;MultiPolygon&quot;}, &quot;id&quot;: &quot;21&quot;, &quot;properties&quot;: {&quot;id&quot;: &quot;MI&quot;, &quot;name&quot;: &quot;Michigan&quot;}, &quot;type&quot;: &quot;Feature&quot;}, {&quot;bbox&quot;: [-97.228743, 43.501391, -89.615796, 49.383625], &quot;geometry&quot;: {&quot;coordinates&quot;: [[[-92.014696, 46.705401], [-92.091373, 46.749217], [-92.29402, 46.667063], [-92.29402, 46.075553], [-92.354266, 46.015307], [-92.639067, 45.933153], [-92.869098, 45.719552], [-92.885529, 45.577151], [-92.770513, 45.566198], [-92.644544, 45.440228], [-92.75956, 45.286874], [-92.737652, 45.117088], [-92.808852, 44.750133], [-92.545959, 44.569394], [-92.337835, 44.552964], [-92.233773, 44.443425], [-91.927065, 44.333886], [-91.877772, 44.202439], [-91.592971, 44.032654], [-91.43414, 43.994316], [-91.242447, 43.775238], [-91.269832, 43.616407], [-91.215062, 43.501391], [-91.368417, 43.501391], [-96.451017, 43.501391], [-96.451017, 45.297827], [-96.681049, 45.412843], [-96.856311, 45.604536], [-96.582464, 45.818137], [-96.560556, 45.933153], [-96.598895, 46.332969], [-96.719387, 46.437031], [-96.801542, 46.656109], [-96.785111, 46.924479], [-96.823449, 46.968294], [-96.856311, 47.609096], [-97.053481, 47.948667], [-97.130158, 48.140359], [-97.16302, 48.545653], [-97.097296, 48.682577], [-97.228743, 49.000239], [-95.152983, 49.000239], [-95.152983, 49.383625], [-94.955813, 49.372671], [-94.824366, 49.295994], [-94.69292, 48.775685], [-94.588858, 48.715438], [-94.260241, 48.699007], [-94.221903, 48.649715], [-93.838517, 48.627807], [-93.794701, 48.518268], [-93.466085, 48.545653], [-93.466085, 48.589469], [-93.208669, 48.644238], [-92.984114, 48.62233], [-92.726698, 48.540176], [-92.655498, 48.436114], [-92.50762, 48.447068], [-92.370697, 48.222514], [-92.304974, 48.315622], [-92.053034, 48.359437], [-92.009219, 48.266329], [-91.713464, 48.200606], [-91.713464, 48.112975], [-91.565587, 48.041775], [-91.264355, 48.080113], [-91.083616, 48.178698], [-90.837154, 48.238944], [-90.749522, 48.091067], [-90.579737, 48.123929], [-90.377091, 48.091067], [-90.141582, 48.112975], [-89.873212, 47.987005], [-89.615796, 48.008913], [-89.637704, 47.954144], [-89.971797, 47.828174], [-90.437337, 47.729589], [-90.738569, 47.625527], [-91.171247, 47.368111], [-91.357463, 47.20928], [-91.642264, 47.028541], [-92.091373, 46.787555], [-92.014696, 46.705401]]], &quot;type&quot;: &quot;Polygon&quot;}, &quot;id&quot;: &quot;22&quot;, &quot;properties&quot;: {&quot;id&quot;: &quot;MN&quot;, &quot;name&quot;: &quot;Minnesota&quot;}, &quot;type&quot;: &quot;Feature&quot;}, {&quot;bbox&quot;: [-91.636787, 30.181472, -88.098683, 34.995703], &quot;geometry&quot;: {&quot;coordinates&quot;: [[[-88.471115, 34.995703], [-88.202745, 34.995703], [-88.098683, 34.891641], [-88.241084, 33.796253], [-88.471115, 31.895754], [-88.394438, 30.367688], [-88.503977, 30.323872], [-88.744962, 30.34578], [-88.843547, 30.411504], [-89.084533, 30.367688], [-89.418626, 30.252672], [-89.522688, 30.181472], [-89.643181, 30.285534], [-89.681519, 30.449842], [-89.845827, 30.66892], [-89.747242, 30.997536], [-91.636787, 30.997536], [-91.565587, 31.068736], [-91.636787, 31.265906], [-91.516294, 31.27686], [-91.499863, 31.643815], [-91.401278, 31.621907], [-91.341032, 31.846462], [-91.105524, 31.988862], [-90.985031, 32.218894], [-91.006939, 32.514649], [-91.154816, 32.640618], [-91.143862, 32.843265], [-91.072662, 32.887081], [-91.16577, 33.002096], [-91.089093, 33.13902], [-91.143862, 33.347144], [-91.056231, 33.429298], [-91.231493, 33.560744], [-91.072662, 33.867453], [-90.891923, 34.026284], [-90.952169, 34.135823], [-90.744046, 34.300131], [-90.749522, 34.365854], [-90.568783, 34.420624], [-90.585214, 34.617794], [-90.481152, 34.661609], [-90.409952, 34.831394], [-90.251121, 34.908072], [-90.311367, 34.995703], [-88.471115, 34.995703]]], &quot;type&quot;: &quot;Polygon&quot;}, &quot;id&quot;: &quot;23&quot;, &quot;properties&quot;: {&quot;id&quot;: &quot;MS&quot;, &quot;name&quot;: &quot;Mississippi&quot;}, &quot;type&quot;: &quot;Feature&quot;}, {&quot;bbox&quot;: [-95.7664, 35.997983, -89.133825, 40.615043], &quot;geometry&quot;: {&quot;coordinates&quot;: [[[-91.833957, 40.609566], [-91.729895, 40.615043], [-91.527248, 40.412397], [-91.417709, 40.379535], [-91.50534, 40.237135], [-91.494386, 40.034488], [-91.368417, 39.727779], [-91.061708, 39.470363], [-90.727615, 39.256762], [-90.661891, 38.928146], [-90.585214, 38.867899], [-90.470199, 38.961007], [-90.251121, 38.917192], [-90.10872, 38.845992], [-90.207305, 38.725499], [-90.179921, 38.632391], [-90.349706, 38.374975], [-90.355183, 38.216144], [-90.059428, 38.013497], [-89.949889, 37.88205], [-89.84035, 37.903958], [-89.517211, 37.690357], [-89.517211, 37.537003], [-89.435057, 37.34531], [-89.517211, 37.279587], [-89.292656, 36.994786], [-89.133825, 36.983832], [-89.215979, 36.578538], [-89.363857, 36.622354], [-89.418626, 36.496384], [-89.484349, 36.496384], [-89.539119, 36.496384], [-89.533642, 36.249922], [-89.730812, 35.997983], [-90.377091, 35.997983], [-90.218259, 36.184199], [-90.064905, 36.304691], [-90.152536, 36.496384], [-94.473842, 36.501861], [-94.616242, 36.501861], [-94.616242, 37.000263], [-94.610765, 39.158177], [-94.824366, 39.20747], [-94.983197, 39.442978], [-95.109167, 39.541563], [-94.884612, 39.831841], [-95.207752, 39.908518], [-95.306337, 40.001626], [-95.552799, 40.264519], [-95.7664, 40.587659], [-94.632673, 40.571228], [-93.257961, 40.582182], [-91.833957, 40.609566]]], &quot;type&quot;: &quot;Polygon&quot;}, &quot;id&quot;: &quot;24&quot;, &quot;properties&quot;: {&quot;id&quot;: &quot;MO&quot;, &quot;name&quot;: &quot;Missouri&quot;}, &quot;type&quot;: &quot;Feature&quot;}, {&quot;bbox&quot;: [-116.04751, 44.394132, -104.042057, 49.000239], &quot;geometry&quot;: {&quot;coordinates&quot;: [[[-104.047534, 49.000239], [-104.042057, 47.861036], [-104.047534, 45.944106], [-104.042057, 44.996596], [-104.058488, 44.996596], [-105.91517, 45.002073], [-109.080842, 45.002073], [-111.05254, 45.002073], [-111.047063, 44.476286], [-111.227803, 44.580348], [-111.386634, 44.75561], [-111.616665, 44.547487], [-111.819312, 44.509148], [-111.868605, 44.563917], [-112.104113, 44.520102], [-112.241036, 44.569394], [-112.471068, 44.481763], [-112.783254, 44.48724], [-112.887315, 44.394132], [-113.002331, 44.448902], [-113.133778, 44.772041], [-113.341901, 44.782995], [-113.456917, 44.865149], [-113.45144, 45.056842], [-113.571933, 45.128042], [-113.736241, 45.330689], [-113.834826, 45.522382], [-113.807441, 45.604536], [-113.98818, 45.703121], [-114.086765, 45.593582], [-114.333228, 45.456659], [-114.546828, 45.560721], [-114.497536, 45.670259], [-114.568736, 45.774321], [-114.387997, 45.88386], [-114.492059, 46.037214], [-114.464674, 46.272723], [-114.322274, 46.645155], [-114.612552, 46.639678], [-114.623506, 46.705401], [-114.886399, 46.809463], [-114.930214, 46.919002], [-115.302646, 47.187372], [-115.324554, 47.258572], [-115.527201, 47.302388], [-115.718894, 47.42288], [-115.724371, 47.696727], [-116.04751, 47.976051], [-116.04751, 49.000239], [-111.50165, 48.994762], [-109.453274, 49.000239], [-104.047534, 49.000239]]], &quot;type&quot;: &quot;Polygon&quot;}, &quot;id&quot;: &quot;25&quot;, &quot;properties&quot;: {&quot;id&quot;: &quot;MT&quot;, &quot;name&quot;: &quot;Montana&quot;}, &quot;type&quot;: &quot;Feature&quot;}, {&quot;bbox&quot;: [-104.053011, 40.001626, -95.306337, 43.002989], &quot;geometry&quot;: {&quot;coordinates&quot;: [[[-103.324578, 43.002989], [-101.626726, 42.997512], [-98.499393, 42.997512], [-98.466531, 42.94822], [-97.951699, 42.767481], [-97.831206, 42.866066], [-97.688806, 42.844158], [-97.217789, 42.844158], [-96.692003, 42.657942], [-96.626279, 42.515542], [-96.44554, 42.488157], [-96.264801, 42.039048], [-96.127878, 41.973325], [-96.062155, 41.798063], [-96.122401, 41.67757], [-96.095016, 41.540646], [-95.919754, 41.453015], [-95.925231, 41.201076], [-95.826646, 40.976521], [-95.881416, 40.719105], [-95.7664, 40.587659], [-95.552799, 40.264519], [-95.306337, 40.001626], [-101.90605, 40.001626], [-102.053927, 40.001626], [-102.053927, 41.003906], [-104.053011, 41.003906], [-104.053011, 43.002989], [-103.324578, 43.002989]]], &quot;type&quot;: &quot;Polygon&quot;}, &quot;id&quot;: &quot;26&quot;, &quot;properties&quot;: {&quot;id&quot;: &quot;NE&quot;, &quot;name&quot;: &quot;Nebraska&quot;}, &quot;type&quot;: &quot;Feature&quot;}, {&quot;bbox&quot;: [-120.001861, 35.00118, -114.04295, 42.000709], &quot;geometry&quot;: {&quot;coordinates&quot;: [[[-117.027882, 42.000709], [-114.04295, 41.995232], [-114.048427, 37.000263], [-114.048427, 36.195153], [-114.152489, 36.025367], [-114.251074, 36.01989], [-114.371566, 36.140383], [-114.738521, 36.102045], [-114.678275, 35.516012], [-114.596121, 35.324319], [-114.574213, 35.138103], [-114.634459, 35.00118], [-115.85034, 35.970598], [-116.540435, 36.501861], [-117.498899, 37.21934], [-118.71478, 38.101128], [-120.001861, 38.999346], [-119.996384, 40.264519], [-120.001861, 41.995232], [-118.698349, 41.989755], [-117.027882, 42.000709]]], &quot;type&quot;: &quot;Polygon&quot;}, &quot;id&quot;: &quot;27&quot;, &quot;properties&quot;: {&quot;id&quot;: &quot;NV&quot;, &quot;name&quot;: &quot;Nevada&quot;}, &quot;type&quot;: &quot;Feature&quot;}, {&quot;bbox&quot;: [-72.544173, 42.696281, -70.703921, 45.303304], &quot;geometry&quot;: {&quot;coordinates&quot;: [[[-71.08183, 45.303304], [-71.032537, 44.657025], [-70.966814, 43.34256], [-70.807983, 43.227544], [-70.824413, 43.128959], [-70.703921, 43.057759], [-70.818936, 42.871543], [-70.917521, 42.887974], [-71.185891, 42.789389], [-71.29543, 42.696281], [-72.456542, 42.729142], [-72.544173, 42.80582], [-72.533219, 42.953697], [-72.445588, 43.008466], [-72.456542, 43.150867], [-72.379864, 43.572591], [-72.204602, 43.769761], [-72.116971, 43.994316], [-72.02934, 44.07647], [-72.034817, 44.322932], [-71.700724, 44.41604], [-71.536416, 44.585825], [-71.629524, 44.750133], [-71.4926, 44.914442], [-71.503554, 45.013027], [-71.361154, 45.270443], [-71.131122, 45.243058], [-71.08183, 45.303304]]], &quot;type&quot;: &quot;Polygon&quot;}, &quot;id&quot;: &quot;28&quot;, &quot;properties&quot;: {&quot;id&quot;: &quot;NH&quot;, &quot;name&quot;: &quot;New Hampshire&quot;}, &quot;type&quot;: &quot;Feature&quot;}, {&quot;bbox&quot;: [-75.561967, 38.993869, -73.902454, 41.359907], &quot;geometry&quot;: {&quot;coordinates&quot;: [[[-74.236547, 41.14083], [-73.902454, 40.998429], [-74.022947, 40.708151], [-74.187255, 40.642428], [-74.274886, 40.489074], [-74.001039, 40.412397], [-73.979131, 40.297381], [-74.099624, 39.760641], [-74.411809, 39.360824], [-74.614456, 39.245808], [-74.795195, 38.993869], [-74.888303, 39.158177], [-75.178581, 39.240331], [-75.534582, 39.459409], [-75.55649, 39.607286], [-75.561967, 39.629194], [-75.507197, 39.683964], [-75.414089, 39.804456], [-75.145719, 39.88661], [-75.129289, 39.963288], [-74.82258, 40.127596], [-74.773287, 40.215227], [-75.058088, 40.417874], [-75.069042, 40.543843], [-75.195012, 40.576705], [-75.205966, 40.691721], [-75.052611, 40.866983], [-75.134765, 40.971045], [-74.882826, 41.179168], [-74.828057, 41.288707], [-74.69661, 41.359907], [-74.236547, 41.14083]]], &quot;type&quot;: &quot;Polygon&quot;}, &quot;id&quot;: &quot;29&quot;, &quot;properties&quot;: {&quot;id&quot;: &quot;NJ&quot;, &quot;name&quot;: &quot;New Jersey&quot;}, &quot;type&quot;: &quot;Feature&quot;}, {&quot;bbox&quot;: [-109.04798, 31.331629, -103.001438, 37.000263], &quot;geometry&quot;: {&quot;coordinates&quot;: [[[-107.421329, 37.000263], [-106.868158, 36.994786], [-104.337812, 36.994786], [-103.001438, 37.000263], [-103.001438, 36.501861], [-103.039777, 36.501861], [-103.045254, 34.01533], [-103.067161, 33.002096], [-103.067161, 31.999816], [-106.616219, 31.999816], [-106.643603, 31.901231], [-106.528588, 31.786216], [-108.210008, 31.786216], [-108.210008, 31.331629], [-109.04798, 31.331629], [-109.042503, 37.000263], [-107.421329, 37.000263]]], &quot;type&quot;: &quot;Polygon&quot;}, &quot;id&quot;: &quot;30&quot;, &quot;properties&quot;: {&quot;id&quot;: &quot;NM&quot;, &quot;name&quot;: &quot;New Mexico&quot;}, &quot;type&quot;: &quot;Feature&quot;}, {&quot;bbox&quot;: [-79.76278, 40.543843, -72.100541, 45.018503], &quot;geometry&quot;: {&quot;coordinates&quot;: [[[-73.343806, 45.013027], [-73.332852, 44.804903], [-73.387622, 44.618687], [-73.294514, 44.437948], [-73.321898, 44.246255], [-73.436914, 44.043608], [-73.349283, 43.769761], [-73.404052, 43.687607], [-73.245221, 43.523299], [-73.278083, 42.833204], [-73.267129, 42.745573], [-73.508114, 42.08834], [-73.486206, 42.050002], [-73.55193, 41.294184], [-73.48073, 41.21203], [-73.727192, 41.102491], [-73.655992, 40.987475], [-73.22879, 40.905321], [-73.141159, 40.965568], [-72.774204, 40.965568], [-72.587988, 40.998429], [-72.28128, 41.157261], [-72.259372, 41.042245], [-72.100541, 40.992952], [-72.467496, 40.845075], [-73.239744, 40.625997], [-73.562884, 40.582182], [-73.776484, 40.593136], [-73.935316, 40.543843], [-74.022947, 40.708151], [-73.902454, 40.998429], [-74.236547, 41.14083], [-74.69661, 41.359907], [-74.740426, 41.431108], [-74.89378, 41.436584], [-75.074519, 41.60637], [-75.052611, 41.754247], [-75.173104, 41.869263], [-75.249781, 41.863786], [-75.35932, 42.000709], [-79.76278, 42.000709], [-79.76278, 42.252649], [-79.76278, 42.269079], [-79.149363, 42.55388], [-79.050778, 42.690804], [-78.853608, 42.783912], [-78.930285, 42.953697], [-79.012439, 42.986559], [-79.072686, 43.260406], [-78.486653, 43.375421], [-77.966344, 43.369944], [-77.75822, 43.34256], [-77.533665, 43.233021], [-77.391265, 43.276836], [-76.958587, 43.271359], [-76.695693, 43.34256], [-76.41637, 43.523299], [-76.235631, 43.528776], [-76.230154, 43.802623], [-76.137046, 43.961454], [-76.3616, 44.070993], [-76.312308, 44.196962], [-75.912491, 44.366748], [-75.764614, 44.514625], [-75.282643, 44.848718], [-74.828057, 45.018503], [-74.148916, 44.991119], [-73.343806, 45.013027]]], &quot;type&quot;: &quot;Polygon&quot;}, &quot;id&quot;: &quot;31&quot;, &quot;properties&quot;: {&quot;id&quot;: &quot;NY&quot;, &quot;name&quot;: &quot;New York&quot;}, &quot;type&quot;: &quot;Feature&quot;}, {&quot;bbox&quot;: [-84.319594, 33.845545, -75.715321, 36.589492], &quot;geometry&quot;: {&quot;coordinates&quot;: [[[-80.978661, 36.562108], [-80.294043, 36.545677], [-79.510841, 36.5402], [-75.868676, 36.551154], [-75.75366, 36.151337], [-76.032984, 36.189676], [-76.071322, 36.140383], [-76.410893, 36.080137], [-76.460185, 36.025367], [-76.68474, 36.008937], [-76.673786, 35.937736], [-76.399939, 35.987029], [-76.3616, 35.943213], [-76.060368, 35.992506], [-75.961783, 35.899398], [-75.781044, 35.937736], [-75.715321, 35.696751], [-75.775568, 35.581735], [-75.89606, 35.570781], [-76.147999, 35.324319], [-76.482093, 35.313365], [-76.536862, 35.14358], [-76.394462, 34.973795], [-76.279446, 34.940933], [-76.493047, 34.661609], [-76.673786, 34.694471], [-76.991448, 34.667086], [-77.210526, 34.60684], [-77.555573, 34.415147], [-77.82942, 34.163208], [-77.971821, 33.845545], [-78.179944, 33.916745], [-78.541422, 33.851022], [-79.675149, 34.80401], [-80.797922, 34.820441], [-80.781491, 34.935456], [-80.934845, 35.105241], [-81.038907, 35.044995], [-81.044384, 35.149057], [-82.276696, 35.198349], [-82.550543, 35.160011], [-82.764143, 35.066903], [-83.109191, 35.00118], [-83.618546, 34.984749], [-84.319594, 34.990226], [-84.29221, 35.225734], [-84.09504, 35.247642], [-84.018363, 35.41195], [-83.7719, 35.559827], [-83.498053, 35.565304], [-83.251591, 35.718659], [-82.994175, 35.773428], [-82.775097, 35.997983], [-82.638174, 36.063706], [-82.610789, 35.965121], [-82.216449, 36.156814], [-82.03571, 36.118475], [-81.909741, 36.304691], [-81.723525, 36.353984], [-81.679709, 36.589492], [-80.978661, 36.562108]]], &quot;type&quot;: &quot;Polygon&quot;}, &quot;id&quot;: &quot;32&quot;, &quot;properties&quot;: {&quot;id&quot;: &quot;NC&quot;, &quot;name&quot;: &quot;North Carolina&quot;}, &quot;type&quot;: &quot;Feature&quot;}, {&quot;bbox&quot;: [-104.047534, 45.933153, -96.560556, 49.000239], &quot;geometry&quot;: {&quot;coordinates&quot;: [[[-97.228743, 49.000239], [-97.097296, 48.682577], [-97.16302, 48.545653], [-97.130158, 48.140359], [-97.053481, 47.948667], [-96.856311, 47.609096], [-96.823449, 46.968294], [-96.785111, 46.924479], [-96.801542, 46.656109], [-96.719387, 46.437031], [-96.598895, 46.332969], [-96.560556, 45.933153], [-104.047534, 45.944106], [-104.042057, 47.861036], [-104.047534, 49.000239], [-97.228743, 49.000239]]], &quot;type&quot;: &quot;Polygon&quot;}, &quot;id&quot;: &quot;33&quot;, &quot;properties&quot;: {&quot;id&quot;: &quot;ND&quot;, &quot;name&quot;: &quot;North Dakota&quot;}, &quot;type&quot;: &quot;Feature&quot;}, {&quot;bbox&quot;: [-84.817996, 38.424267, -80.518598, 41.978802], &quot;geometry&quot;: {&quot;coordinates&quot;: [[[-80.518598, 41.978802], [-80.518598, 40.636951], [-80.666475, 40.582182], [-80.595275, 40.472643], [-80.600752, 40.319289], [-80.737675, 40.078303], [-80.830783, 39.711348], [-81.219646, 39.388209], [-81.345616, 39.344393], [-81.455155, 39.410117], [-81.57017, 39.267716], [-81.685186, 39.273193], [-81.811156, 39.0815], [-81.783771, 38.966484], [-81.887833, 38.873376], [-82.03571, 39.026731], [-82.221926, 38.785745], [-82.172634, 38.632391], [-82.293127, 38.577622], [-82.331465, 38.446175], [-82.594358, 38.424267], [-82.731282, 38.561191], [-82.846298, 38.588575], [-82.890113, 38.758361], [-83.032514, 38.725499], [-83.142052, 38.626914], [-83.519961, 38.703591], [-83.678792, 38.632391], [-83.903347, 38.769315], [-84.215533, 38.807653], [-84.231963, 38.895284], [-84.43461, 39.103408], [-84.817996, 39.103408], [-84.801565, 40.500028], [-84.807042, 41.694001], [-83.454238, 41.732339], [-83.065375, 41.595416], [-82.933929, 41.513262], [-82.835344, 41.589939], [-82.616266, 41.431108], [-82.479343, 41.381815], [-82.013803, 41.513262], [-81.739956, 41.485877], [-81.444201, 41.672093], [-81.011523, 41.852832], [-80.518598, 41.978802], [-80.518598, 41.978802]]], &quot;type&quot;: &quot;Polygon&quot;}, &quot;id&quot;: &quot;34&quot;, &quot;properties&quot;: {&quot;id&quot;: &quot;OH&quot;, &quot;name&quot;: &quot;Ohio&quot;}, &quot;type&quot;: &quot;Feature&quot;}, {&quot;bbox&quot;: [-103.001438, 33.637421, -94.430026, 37.000263], &quot;geometry&quot;: {&quot;coordinates&quot;: [[[-100.087706, 37.000263], [-94.616242, 37.000263], [-94.616242, 36.501861], [-94.430026, 35.395519], [-94.484796, 33.637421], [-94.868182, 33.74696], [-94.966767, 33.861976], [-95.224183, 33.960561], [-95.289906, 33.87293], [-95.547322, 33.878407], [-95.602092, 33.933176], [-95.8376, 33.834591], [-95.936185, 33.889361], [-96.149786, 33.840068], [-96.346956, 33.686714], [-96.423633, 33.774345], [-96.631756, 33.845545], [-96.850834, 33.845545], [-96.922034, 33.960561], [-97.173974, 33.736006], [-97.256128, 33.861976], [-97.371143, 33.823637], [-97.458774, 33.905791], [-97.694283, 33.982469], [-97.869545, 33.851022], [-97.946222, 33.987946], [-98.088623, 34.004376], [-98.170777, 34.113915], [-98.36247, 34.157731], [-98.488439, 34.064623], [-98.570593, 34.146777], [-98.767763, 34.135823], [-98.986841, 34.223454], [-99.189488, 34.2125], [-99.260688, 34.404193], [-99.57835, 34.415147], [-99.698843, 34.382285], [-99.923398, 34.573978], [-100.000075, 34.563024], [-100.000075, 36.501861], [-101.812942, 36.501861], [-103.001438, 36.501861], [-103.001438, 37.000263], [-102.042974, 36.994786], [-100.087706, 37.000263]]], &quot;type&quot;: &quot;Polygon&quot;}, &quot;id&quot;: &quot;35&quot;, &quot;properties&quot;: {&quot;id&quot;: &quot;OK&quot;, &quot;name&quot;: &quot;Oklahoma&quot;}, &quot;type&quot;: &quot;Feature&quot;}, {&quot;bbox&quot;: [-124.553198, 41.989755, -116.463758, 46.261769], &quot;geometry&quot;: {&quot;coordinates&quot;: [[[-123.211348, 46.174138], [-123.11824, 46.185092], [-122.904639, 46.08103], [-122.811531, 45.960537], [-122.762239, 45.659305], [-122.247407, 45.549767], [-121.809251, 45.708598], [-121.535404, 45.725029], [-121.217742, 45.670259], [-121.18488, 45.604536], [-120.637186, 45.746937], [-120.505739, 45.697644], [-120.209985, 45.725029], [-119.963522, 45.823614], [-119.525367, 45.911245], [-119.125551, 45.933153], [-118.988627, 45.998876], [-116.918344, 45.993399], [-116.78142, 45.823614], [-116.545912, 45.752413], [-116.463758, 45.61549], [-116.671881, 45.319735], [-116.732128, 45.144473], [-116.847143, 45.02398], [-116.830713, 44.930872], [-116.934774, 44.782995], [-117.038836, 44.750133], [-117.241483, 44.394132], [-117.170283, 44.257209], [-116.97859, 44.240778], [-116.896436, 44.158624], [-117.027882, 43.830007], [-117.027882, 42.000709], [-118.698349, 41.989755], [-120.001861, 41.995232], [-121.037003, 41.995232], [-122.378853, 42.011663], [-123.233256, 42.006186], [-124.213628, 42.000709], [-124.356029, 42.115725], [-124.432706, 42.438865], [-124.416275, 42.663419], [-124.553198, 42.838681], [-124.454613, 43.002989], [-124.383413, 43.271359], [-124.235536, 43.55616], [-124.169813, 43.8081], [-124.060274, 44.657025], [-124.076705, 44.772041], [-123.97812, 45.144473], [-123.939781, 45.659305], [-123.994551, 45.944106], [-123.945258, 46.113892], [-123.545441, 46.261769], [-123.370179, 46.146753], [-123.211348, 46.174138]]], &quot;type&quot;: &quot;Polygon&quot;}, &quot;id&quot;: &quot;36&quot;, &quot;properties&quot;: {&quot;id&quot;: &quot;OR&quot;, &quot;name&quot;: &quot;Oregon&quot;}, &quot;type&quot;: &quot;Feature&quot;}, {&quot;bbox&quot;: [-80.518598, 39.722302, -74.69661, 42.269079], &quot;geometry&quot;: {&quot;coordinates&quot;: [[[-79.76278, 42.252649], [-79.76278, 42.000709], [-75.35932, 42.000709], [-75.249781, 41.863786], [-75.173104, 41.869263], [-75.052611, 41.754247], [-75.074519, 41.60637], [-74.89378, 41.436584], [-74.740426, 41.431108], [-74.69661, 41.359907], [-74.828057, 41.288707], [-74.882826, 41.179168], [-75.134765, 40.971045], [-75.052611, 40.866983], [-75.205966, 40.691721], [-75.195012, 40.576705], [-75.069042, 40.543843], [-75.058088, 40.417874], [-74.773287, 40.215227], [-74.82258, 40.127596], [-75.129289, 39.963288], [-75.145719, 39.88661], [-75.414089, 39.804456], [-75.616736, 39.831841], [-75.786521, 39.722302], [-79.477979, 39.722302], [-80.518598, 39.722302], [-80.518598, 40.636951], [-80.518598, 41.978802], [-80.518598, 41.978802], [-80.332382, 42.033571], [-79.76278, 42.269079], [-79.76278, 42.252649]]], &quot;type&quot;: &quot;Polygon&quot;}, &quot;id&quot;: &quot;37&quot;, &quot;properties&quot;: {&quot;id&quot;: &quot;PA&quot;, &quot;name&quot;: &quot;Pennsylvania&quot;}, &quot;type&quot;: &quot;Feature&quot;}, {&quot;bbox&quot;: [-71.859555, 41.321569, -71.120168, 42.01714], &quot;geometry&quot;: {&quot;coordinates&quot;: [[[[-71.196845, 41.67757], [-71.120168, 41.496831], [-71.317338, 41.474923], [-71.196845, 41.67757]]], [[[-71.530939, 42.01714], [-71.383061, 42.01714], [-71.328292, 41.781632], [-71.22423, 41.710431], [-71.344723, 41.726862], [-71.448785, 41.578985], [-71.481646, 41.370861], [-71.859555, 41.321569], [-71.799309, 41.414677], [-71.799309, 42.006186], [-71.530939, 42.01714]]]], &quot;type&quot;: &quot;MultiPolygon&quot;}, &quot;id&quot;: &quot;38&quot;, &quot;properties&quot;: {&quot;id&quot;: &quot;RI&quot;, &quot;name&quot;: &quot;Rhode Island&quot;}, &quot;type&quot;: &quot;Feature&quot;}, {&quot;bbox&quot;: [-83.339222, 32.032678, -78.541422, 35.198349], &quot;geometry&quot;: {&quot;coordinates&quot;: [[[-82.764143, 35.066903], [-82.550543, 35.160011], [-82.276696, 35.198349], [-81.044384, 35.149057], [-81.038907, 35.044995], [-80.934845, 35.105241], [-80.781491, 34.935456], [-80.797922, 34.820441], [-79.675149, 34.80401], [-78.541422, 33.851022], [-78.716684, 33.80173], [-78.935762, 33.637421], [-79.149363, 33.380005], [-79.187701, 33.171881], [-79.357487, 33.007573], [-79.582041, 33.007573], [-79.631334, 32.887081], [-79.866842, 32.755634], [-79.998289, 32.613234], [-80.206412, 32.552987], [-80.430967, 32.399633], [-80.452875, 32.328433], [-80.660998, 32.246279], [-80.885553, 32.032678], [-81.115584, 32.120309], [-81.121061, 32.290094], [-81.279893, 32.558464], [-81.416816, 32.629664], [-81.42777, 32.843265], [-81.493493, 33.007573], [-81.761863, 33.160928], [-81.937125, 33.347144], [-81.926172, 33.462159], [-82.194542, 33.631944], [-82.325988, 33.81816], [-82.55602, 33.94413], [-82.714851, 34.152254], [-82.747713, 34.26727], [-82.901067, 34.486347], [-83.005129, 34.469916], [-83.339222, 34.683517], [-83.322791, 34.787579], [-83.109191, 35.00118], [-82.764143, 35.066903]]], &quot;type&quot;: &quot;Polygon&quot;}, &quot;id&quot;: &quot;39&quot;, &quot;properties&quot;: {&quot;id&quot;: &quot;SC&quot;, &quot;name&quot;: &quot;South Carolina&quot;}, &quot;type&quot;: &quot;Feature&quot;}, {&quot;bbox&quot;: [-104.058488, 42.488157, -96.434587, 45.944106], &quot;geometry&quot;: {&quot;coordinates&quot;: [[[-104.047534, 45.944106], [-96.560556, 45.933153], [-96.582464, 45.818137], [-96.856311, 45.604536], [-96.681049, 45.412843], [-96.451017, 45.297827], [-96.451017, 43.501391], [-96.582464, 43.479483], [-96.527695, 43.397329], [-96.560556, 43.222067], [-96.434587, 43.123482], [-96.511264, 43.052282], [-96.544125, 42.855112], [-96.631756, 42.707235], [-96.44554, 42.488157], [-96.626279, 42.515542], [-96.692003, 42.657942], [-97.217789, 42.844158], [-97.688806, 42.844158], [-97.831206, 42.866066], [-97.951699, 42.767481], [-98.466531, 42.94822], [-98.499393, 42.997512], [-101.626726, 42.997512], [-103.324578, 43.002989], [-104.053011, 43.002989], [-104.058488, 44.996596], [-104.042057, 44.996596], [-104.047534, 45.944106]]], &quot;type&quot;: &quot;Polygon&quot;}, &quot;id&quot;: &quot;40&quot;, &quot;properties&quot;: {&quot;id&quot;: &quot;SD&quot;, &quot;name&quot;: &quot;South Dakota&quot;}, &quot;type&quot;: &quot;Feature&quot;}, {&quot;bbox&quot;: [-90.311367, 34.984749, -81.679709, 36.677123], &quot;geometry&quot;: {&quot;coordinates&quot;: [[[-88.054868, 36.496384], [-88.071299, 36.677123], [-87.852221, 36.633308], [-86.592525, 36.655216], [-85.486183, 36.616877], [-85.289013, 36.627831], [-84.544149, 36.594969], [-83.689746, 36.584015], [-83.673316, 36.600446], [-81.679709, 36.589492], [-81.723525, 36.353984], [-81.909741, 36.304691], [-82.03571, 36.118475], [-82.216449, 36.156814], [-82.610789, 35.965121], [-82.638174, 36.063706], [-82.775097, 35.997983], [-82.994175, 35.773428], [-83.251591, 35.718659], [-83.498053, 35.565304], [-83.7719, 35.559827], [-84.018363, 35.41195], [-84.09504, 35.247642], [-84.29221, 35.225734], [-84.319594, 34.990226], [-85.606675, 34.984749], [-87.359296, 35.00118], [-88.202745, 34.995703], [-88.471115, 34.995703], [-90.311367, 34.995703], [-90.212782, 35.023087], [-90.114197, 35.198349], [-90.130628, 35.439335], [-89.944412, 35.603643], [-89.911551, 35.756997], [-89.763673, 35.811767], [-89.730812, 35.997983], [-89.533642, 36.249922], [-89.539119, 36.496384], [-89.484349, 36.496384], [-89.418626, 36.496384], [-89.298133, 36.507338], [-88.054868, 36.496384]]], &quot;type&quot;: &quot;Polygon&quot;}, &quot;id&quot;: &quot;41&quot;, &quot;properties&quot;: {&quot;id&quot;: &quot;TN&quot;, &quot;name&quot;: &quot;Tennessee&quot;}, &quot;type&quot;: &quot;Feature&quot;}, {&quot;bbox&quot;: [-106.643603, 25.887551, -93.526331, 36.501861], &quot;geometry&quot;: {&quot;coordinates&quot;: [[[-101.812942, 36.501861], [-100.000075, 36.501861], [-100.000075, 34.563024], [-99.923398, 34.573978], [-99.698843, 34.382285], [-99.57835, 34.415147], [-99.260688, 34.404193], [-99.189488, 34.2125], [-98.986841, 34.223454], [-98.767763, 34.135823], [-98.570593, 34.146777], [-98.488439, 34.064623], [-98.36247, 34.157731], [-98.170777, 34.113915], [-98.088623, 34.004376], [-97.946222, 33.987946], [-97.869545, 33.851022], [-97.694283, 33.982469], [-97.458774, 33.905791], [-97.371143, 33.823637], [-97.256128, 33.861976], [-97.173974, 33.736006], [-96.922034, 33.960561], [-96.850834, 33.845545], [-96.631756, 33.845545], [-96.423633, 33.774345], [-96.346956, 33.686714], [-96.149786, 33.840068], [-95.936185, 33.889361], [-95.8376, 33.834591], [-95.602092, 33.933176], [-95.547322, 33.878407], [-95.289906, 33.87293], [-95.224183, 33.960561], [-94.966767, 33.861976], [-94.868182, 33.74696], [-94.484796, 33.637421], [-94.380734, 33.544313], [-94.183564, 33.593606], [-94.041164, 33.54979], [-94.041164, 33.018527], [-94.041164, 31.994339], [-93.822086, 31.775262], [-93.816609, 31.556184], [-93.542762, 31.15089], [-93.526331, 30.93729], [-93.630393, 30.679874], [-93.728978, 30.575812], [-93.696116, 30.438888], [-93.767317, 30.334826], [-93.690639, 30.143133], [-93.926148, 29.787132], [-93.838517, 29.688547], [-94.002825, 29.68307], [-94.523134, 29.546147], [-94.70935, 29.622824], [-94.742212, 29.787132], [-94.873659, 29.672117], [-94.966767, 29.699501], [-95.016059, 29.557101], [-94.911997, 29.496854], [-94.895566, 29.310638], [-95.081782, 29.113469], [-95.383014, 28.867006], [-95.985477, 28.604113], [-96.045724, 28.647929], [-96.226463, 28.582205], [-96.23194, 28.642452], [-96.478402, 28.598636], [-96.593418, 28.724606], [-96.664618, 28.697221], [-96.401725, 28.439805], [-96.593418, 28.357651], [-96.774157, 28.406943], [-96.801542, 28.226204], [-97.026096, 28.039988], [-97.256128, 27.694941], [-97.404005, 27.333463], [-97.513544, 27.360848], [-97.540929, 27.229401], [-97.425913, 27.262263], [-97.480682, 26.99937], [-97.557359, 26.988416], [-97.562836, 26.840538], [-97.469728, 26.758384], [-97.442344, 26.457153], [-97.332805, 26.353091], [-97.30542, 26.161398], [-97.217789, 25.991613], [-97.524498, 25.887551], [-97.650467, 26.018997], [-97.885976, 26.06829], [-98.198161, 26.057336], [-98.466531, 26.221644], [-98.669178, 26.238075], [-98.822533, 26.369522], [-99.030656, 26.413337], [-99.173057, 26.539307], [-99.266165, 26.840538], [-99.446904, 27.021277], [-99.424996, 27.174632], [-99.50715, 27.33894], [-99.479765, 27.48134], [-99.605735, 27.640172], [-99.709797, 27.656603], [-99.879582, 27.799003], [-99.934351, 27.979742], [-100.082229, 28.14405], [-100.29583, 28.280974], [-100.399891, 28.582205], [-100.498476, 28.66436], [-100.629923, 28.905345], [-100.673738, 29.102515], [-100.799708, 29.244915], [-101.013309, 29.370885], [-101.062601, 29.458516], [-101.259771, 29.535193], [-101.413125, 29.754271], [-101.851281, 29.803563], [-102.114174, 29.792609], [-102.338728, 29.869286], [-102.388021, 29.765225], [-102.629006, 29.732363], [-102.809745, 29.524239], [-102.919284, 29.190146], [-102.97953, 29.184669], [-103.116454, 28.987499], [-103.280762, 28.982022], [-103.527224, 29.135376], [-104.146119, 29.381839], [-104.266611, 29.513285], [-104.507597, 29.639255], [-104.677382, 29.924056], [-104.688336, 30.181472], [-104.858121, 30.389596], [-104.896459, 30.570335], [-105.005998, 30.685351], [-105.394861, 30.855136], [-105.602985, 31.085167], [-105.77277, 31.167321], [-105.953509, 31.364491], [-106.205448, 31.468553], [-106.38071, 31.731446], [-106.528588, 31.786216], [-106.643603, 31.901231], [-106.616219, 31.999816], [-103.067161, 31.999816], [-103.067161, 33.002096], [-103.045254, 34.01533], [-103.039777, 36.501861], [-103.001438, 36.501861], [-101.812942, 36.501861]]], &quot;type&quot;: &quot;Polygon&quot;}, &quot;id&quot;: &quot;42&quot;, &quot;properties&quot;: {&quot;id&quot;: &quot;TX&quot;, &quot;name&quot;: &quot;Texas&quot;}, &quot;type&quot;: &quot;Feature&quot;}, {&quot;bbox&quot;: [-114.048427, 37.000263, -109.042503, 42.000709], &quot;geometry&quot;: {&quot;coordinates&quot;: [[[-112.164359, 41.995232], [-111.047063, 42.000709], [-111.047063, 40.998429], [-109.04798, 40.998429], [-109.053457, 39.125316], [-109.058934, 38.27639], [-109.042503, 38.166851], [-109.042503, 37.000263], [-110.499369, 37.00574], [-114.048427, 37.000263], [-114.04295, 41.995232], [-112.164359, 41.995232]]], &quot;type&quot;: &quot;Polygon&quot;}, &quot;id&quot;: &quot;43&quot;, &quot;properties&quot;: {&quot;id&quot;: &quot;UT&quot;, &quot;name&quot;: &quot;Utah&quot;}, &quot;type&quot;: &quot;Feature&quot;}, {&quot;bbox&quot;: [-73.436914, 42.729142, -71.4926, 45.013027], &quot;geometry&quot;: {&quot;coordinates&quot;: [[[-71.503554, 45.013027], [-71.4926, 44.914442], [-71.629524, 44.750133], [-71.536416, 44.585825], [-71.700724, 44.41604], [-72.034817, 44.322932], [-72.02934, 44.07647], [-72.116971, 43.994316], [-72.204602, 43.769761], [-72.379864, 43.572591], [-72.456542, 43.150867], [-72.445588, 43.008466], [-72.533219, 42.953697], [-72.544173, 42.80582], [-72.456542, 42.729142], [-73.267129, 42.745573], [-73.278083, 42.833204], [-73.245221, 43.523299], [-73.404052, 43.687607], [-73.349283, 43.769761], [-73.436914, 44.043608], [-73.321898, 44.246255], [-73.294514, 44.437948], [-73.387622, 44.618687], [-73.332852, 44.804903], [-73.343806, 45.013027], [-72.308664, 45.002073], [-71.503554, 45.013027]]], &quot;type&quot;: &quot;Polygon&quot;}, &quot;id&quot;: &quot;44&quot;, &quot;properties&quot;: {&quot;id&quot;: &quot;VT&quot;, &quot;name&quot;: &quot;Vermont&quot;}, &quot;type&quot;: &quot;Feature&quot;}, {&quot;bbox&quot;: [-83.673316, 36.5402, -75.244304, 39.464886], &quot;geometry&quot;: {&quot;coordinates&quot;: [[[[-75.397659, 38.013497], [-75.244304, 38.029928], [-75.375751, 37.860142], [-75.512674, 37.799896], [-75.594828, 37.569865], [-75.802952, 37.197433], [-75.972737, 37.120755], [-76.027507, 37.257679], [-75.939876, 37.564388], [-75.671506, 37.95325], [-75.397659, 38.013497]]], [[[-76.016553, 37.95325], [-75.994645, 37.95325], [-76.043938, 37.95325], [-76.016553, 37.95325]]], [[[-78.349729, 39.464886], [-77.82942, 39.130793], [-77.719881, 39.322485], [-77.566527, 39.306055], [-77.456988, 39.223901], [-77.456988, 39.076023], [-77.248864, 39.026731], [-77.117418, 38.933623], [-77.040741, 38.791222], [-77.128372, 38.632391], [-77.248864, 38.588575], [-77.325542, 38.446175], [-77.281726, 38.342113], [-77.013356, 38.374975], [-76.964064, 38.216144], [-76.613539, 38.15042], [-76.514954, 38.024451], [-76.235631, 37.887527], [-76.3616, 37.608203], [-76.246584, 37.389126], [-76.383508, 37.285064], [-76.399939, 37.159094], [-76.273969, 37.082417], [-76.410893, 36.961924], [-76.619016, 37.120755], [-76.668309, 37.065986], [-76.48757, 36.95097], [-75.994645, 36.923586], [-75.868676, 36.551154], [-79.510841, 36.5402], [-80.294043, 36.545677], [-80.978661, 36.562108], [-81.679709, 36.589492], [-83.673316, 36.600446], [-83.136575, 36.742847], [-83.070852, 36.852385], [-82.879159, 36.890724], [-82.868205, 36.978355], [-82.720328, 37.044078], [-82.720328, 37.120755], [-82.353373, 37.268633], [-81.969987, 37.537003], [-81.986418, 37.454849], [-81.849494, 37.285064], [-81.679709, 37.20291], [-81.55374, 37.208387], [-81.362047, 37.339833], [-81.225123, 37.235771], [-80.967707, 37.290541], [-80.513121, 37.482234], [-80.474782, 37.421987], [-80.29952, 37.509618], [-80.294043, 37.690357], [-80.184505, 37.849189], [-79.998289, 37.997066], [-79.921611, 38.177805], [-79.724442, 38.364021], [-79.647764, 38.594052], [-79.477979, 38.457129], [-79.313671, 38.413313], [-79.209609, 38.495467], [-78.996008, 38.851469], [-78.870039, 38.763838], [-78.404499, 39.169131], [-78.349729, 39.464886]]]], &quot;type&quot;: &quot;MultiPolygon&quot;}, &quot;id&quot;: &quot;45&quot;, &quot;properties&quot;: {&quot;id&quot;: &quot;VA&quot;, &quot;name&quot;: &quot;Virginia&quot;}, &quot;type&quot;: &quot;Feature&quot;}, {&quot;bbox&quot;: [-124.706553, 45.549767, -116.918344, 49.000239], &quot;geometry&quot;: {&quot;coordinates&quot;: [[[[-117.033359, 49.000239], [-117.044313, 47.762451], [-117.038836, 46.426077], [-117.055267, 46.343923], [-116.92382, 46.168661], [-116.918344, 45.993399], [-118.988627, 45.998876], [-119.125551, 45.933153], [-119.525367, 45.911245], [-119.963522, 45.823614], [-120.209985, 45.725029], [-120.505739, 45.697644], [-120.637186, 45.746937], [-121.18488, 45.604536], [-121.217742, 45.670259], [-121.535404, 45.725029], [-121.809251, 45.708598], [-122.247407, 45.549767], [-122.762239, 45.659305], [-122.811531, 45.960537], [-122.904639, 46.08103], [-123.11824, 46.185092], [-123.211348, 46.174138], [-123.370179, 46.146753], [-123.545441, 46.261769], [-123.72618, 46.300108], [-123.874058, 46.239861], [-124.065751, 46.327492], [-124.027412, 46.464416], [-123.895966, 46.535616], [-124.098612, 46.74374], [-124.235536, 47.285957], [-124.31769, 47.357157], [-124.427229, 47.740543], [-124.624399, 47.88842], [-124.706553, 48.184175], [-124.597014, 48.381345], [-124.394367, 48.288237], [-123.983597, 48.162267], [-123.704273, 48.167744], [-123.424949, 48.118452], [-123.162056, 48.167744], [-123.036086, 48.080113], [-122.800578, 48.08559], [-122.636269, 47.866512], [-122.515777, 47.882943], [-122.493869, 47.587189], [-122.422669, 47.318818], [-122.324084, 47.346203], [-122.422669, 47.576235], [-122.395284, 47.800789], [-122.230976, 48.030821], [-122.362422, 48.123929], [-122.373376, 48.288237], [-122.471961, 48.468976], [-122.422669, 48.600422], [-122.488392, 48.753777], [-122.647223, 48.775685], [-122.795101, 48.8907], [-122.756762, 49.000239], [-117.033359, 49.000239]]], [[[-122.718423, 48.310145], [-122.586977, 48.35396], [-122.608885, 48.151313], [-122.767716, 48.227991], [-122.718423, 48.310145]]], [[[-123.025132, 48.583992], [-122.915593, 48.715438], [-122.767716, 48.556607], [-122.811531, 48.419683], [-123.041563, 48.458022], [-123.025132, 48.583992]]]], &quot;type&quot;: &quot;MultiPolygon&quot;}, &quot;id&quot;: &quot;46&quot;, &quot;properties&quot;: {&quot;id&quot;: &quot;WA&quot;, &quot;name&quot;: &quot;Washington&quot;}, &quot;type&quot;: &quot;Feature&quot;}, {&quot;bbox&quot;: [-82.621743, 37.20291, -77.719881, 40.636951], &quot;geometry&quot;: {&quot;coordinates&quot;: [[[-80.518598, 40.636951], [-80.518598, 39.722302], [-79.477979, 39.722302], [-79.488933, 39.20747], [-79.291763, 39.300578], [-79.094593, 39.470363], [-78.963147, 39.437501], [-78.765977, 39.585379], [-78.470222, 39.514178], [-78.431884, 39.623717], [-78.267575, 39.61824], [-78.174467, 39.694917], [-78.004682, 39.601809], [-77.834897, 39.601809], [-77.719881, 39.322485], [-77.82942, 39.130793], [-78.349729, 39.464886], [-78.404499, 39.169131], [-78.870039, 38.763838], [-78.996008, 38.851469], [-79.209609, 38.495467], [-79.313671, 38.413313], [-79.477979, 38.457129], [-79.647764, 38.594052], [-79.724442, 38.364021], [-79.921611, 38.177805], [-79.998289, 37.997066], [-80.184505, 37.849189], [-80.294043, 37.690357], [-80.29952, 37.509618], [-80.474782, 37.421987], [-80.513121, 37.482234], [-80.967707, 37.290541], [-81.225123, 37.235771], [-81.362047, 37.339833], [-81.55374, 37.208387], [-81.679709, 37.20291], [-81.849494, 37.285064], [-81.986418, 37.454849], [-81.969987, 37.537003], [-82.101434, 37.553434], [-82.293127, 37.668449], [-82.342419, 37.783465], [-82.50125, 37.931343], [-82.621743, 38.123036], [-82.594358, 38.424267], [-82.331465, 38.446175], [-82.293127, 38.577622], [-82.172634, 38.632391], [-82.221926, 38.785745], [-82.03571, 39.026731], [-81.887833, 38.873376], [-81.783771, 38.966484], [-81.811156, 39.0815], [-81.685186, 39.273193], [-81.57017, 39.267716], [-81.455155, 39.410117], [-81.345616, 39.344393], [-81.219646, 39.388209], [-80.830783, 39.711348], [-80.737675, 40.078303], [-80.600752, 40.319289], [-80.595275, 40.472643], [-80.666475, 40.582182], [-80.518598, 40.636951]]], &quot;type&quot;: &quot;Polygon&quot;}, &quot;id&quot;: &quot;47&quot;, &quot;properties&quot;: {&quot;id&quot;: &quot;WV&quot;, &quot;name&quot;: &quot;West Virginia&quot;}, &quot;type&quot;: &quot;Feature&quot;}, {&quot;bbox&quot;: [-92.885529, 42.493634, -87.03068, 46.95734], &quot;geometry&quot;: {&quot;coordinates&quot;: [[[-90.415429, 46.568478], [-90.229213, 46.508231], [-90.119674, 46.338446], [-89.09001, 46.135799], [-88.662808, 45.987922], [-88.531362, 46.020784], [-88.10416, 45.922199], [-87.989145, 45.796229], [-87.781021, 45.675736], [-87.791975, 45.500474], [-87.885083, 45.363551], [-87.649574, 45.341643], [-87.742682, 45.199243], [-87.589328, 45.095181], [-87.627666, 44.974688], [-87.819359, 44.95278], [-87.983668, 44.722749], [-88.043914, 44.563917], [-87.928898, 44.536533], [-87.775544, 44.640595], [-87.611236, 44.837764], [-87.403112, 44.914442], [-87.238804, 45.166381], [-87.03068, 45.22115], [-87.047111, 45.089704], [-87.189511, 44.969211], [-87.468835, 44.552964], [-87.545512, 44.322932], [-87.540035, 44.158624], [-87.644097, 44.103854], [-87.737205, 43.8793], [-87.704344, 43.687607], [-87.791975, 43.561637], [-87.912467, 43.249452], [-87.885083, 43.002989], [-87.76459, 42.783912], [-87.802929, 42.493634], [-88.788778, 42.493634], [-90.639984, 42.510065], [-90.711184, 42.636034], [-91.067185, 42.75105], [-91.143862, 42.909881], [-91.176724, 43.134436], [-91.056231, 43.254929], [-91.204109, 43.353514], [-91.215062, 43.501391], [-91.269832, 43.616407], [-91.242447, 43.775238], [-91.43414, 43.994316], [-91.592971, 44.032654], [-91.877772, 44.202439], [-91.927065, 44.333886], [-92.233773, 44.443425], [-92.337835, 44.552964], [-92.545959, 44.569394], [-92.808852, 44.750133], [-92.737652, 45.117088], [-92.75956, 45.286874], [-92.644544, 45.440228], [-92.770513, 45.566198], [-92.885529, 45.577151], [-92.869098, 45.719552], [-92.639067, 45.933153], [-92.354266, 46.015307], [-92.29402, 46.075553], [-92.29402, 46.667063], [-92.091373, 46.749217], [-92.014696, 46.705401], [-91.790141, 46.694447], [-91.09457, 46.864232], [-90.837154, 46.95734], [-90.749522, 46.88614], [-90.886446, 46.754694], [-90.55783, 46.584908], [-90.415429, 46.568478]]], &quot;type&quot;: &quot;Polygon&quot;}, &quot;id&quot;: &quot;48&quot;, &quot;properties&quot;: {&quot;id&quot;: &quot;WI&quot;, &quot;name&quot;: &quot;Wisconsin&quot;}, &quot;type&quot;: &quot;Feature&quot;}, {&quot;bbox&quot;: [-111.05254, 40.998429, -104.053011, 45.002073], &quot;geometry&quot;: {&quot;coordinates&quot;: [[[-109.080842, 45.002073], [-105.91517, 45.002073], [-104.058488, 44.996596], [-104.053011, 43.002989], [-104.053011, 41.003906], [-105.728954, 40.998429], [-107.919731, 41.003906], [-109.04798, 40.998429], [-111.047063, 40.998429], [-111.047063, 42.000709], [-111.047063, 44.476286], [-111.05254, 45.002073], [-109.080842, 45.002073]]], &quot;type&quot;: &quot;Polygon&quot;}, &quot;id&quot;: &quot;49&quot;, &quot;properties&quot;: {&quot;id&quot;: &quot;WY&quot;, &quot;name&quot;: &quot;Wyoming&quot;}, &quot;type&quot;: &quot;Feature&quot;}], &quot;type&quot;: &quot;FeatureCollection&quot;});\n",
              "\n",
              "        \n",
              "    \n",
              "    var color_map_9e29189379c6dff037f4947eaf1f0ccd = {};\n",
              "\n",
              "    \n",
              "    color_map_9e29189379c6dff037f4947eaf1f0ccd.color = d3.scale.threshold()\n",
              "              .domain([0.8051218687742522, 0.8088327325842112, 0.8125435963941701, 0.8162544602041291, 0.8199653240140881, 0.8236761878240471, 0.8273870516340059, 0.8310979154439649, 0.8348087792539239, 0.8385196430638829, 0.8422305068738418, 0.8459413706838008, 0.8496522344937598, 0.8533630983037188, 0.8570739621136777, 0.8607848259236367, 0.8644956897335957, 0.8682065535435547, 0.8719174173535136, 0.8756282811634726, 0.8793391449734316, 0.8830500087833906, 0.8867608725933495, 0.8904717364033085, 0.8941826002132675, 0.8978934640232263, 0.9016043278331853, 0.9053151916431443, 0.9090260554531033, 0.9127369192630623, 0.9164477830730212, 0.9201586468829802, 0.9238695106929392, 0.9275803745028981, 0.9312912383128571, 0.9350021021228161, 0.9387129659327751, 0.9424238297427341, 0.946134693552693, 0.949845557362652, 0.953556421172611, 0.9572672849825699, 0.9609781487925289, 0.9646890126024878, 0.9683998764124468, 0.9721107402224058, 0.9758216040323647, 0.9795324678423237, 0.9832433316522826, 0.9869541954622416, 0.9906650592722006, 0.9943759230821596, 0.9980867868921186, 1.0017976507020776, 1.0055085145120364, 1.0092193783219954, 1.0129302421319544, 1.0166411059419134, 1.0203519697518724, 1.0240628335618314, 1.0277736973717904, 1.0314845611817494, 1.0351954249917084, 1.0389062888016671, 1.0426171526116261, 1.0463280164215851, 1.0500388802315441, 1.0537497440415031, 1.0574606078514621, 1.0611714716614211, 1.06488233547138, 1.068593199281339, 1.0723040630912979, 1.0760149269012569, 1.0797257907112159, 1.0834366545211749, 1.0871475183311339, 1.0908583821410929, 1.0945692459510519, 1.0982801097610109, 1.1019909735709696, 1.1057018373809286, 1.1094127011908876, 1.1131235650008466, 1.1168344288108056, 1.1205452926207646, 1.1242561564307234, 1.1279670202406824, 1.1316778840506414, 1.1353887478606004, 1.1390996116705594, 1.1428104754805184, 1.1465213392904774, 1.1502322031004364, 1.1539430669103954, 1.1576539307203544, 1.1613647945303132, 1.1650756583402722, 1.1687865221502312, 1.1724973859601902, 1.176208249770149, 1.179919113580108, 1.183629977390067, 1.187340841200026, 1.191051705009985, 1.194762568819944, 1.198473432629903, 1.202184296439862, 1.205895160249821, 1.20960602405978, 1.2133168878697387, 1.2170277516796977, 1.2207386154896567, 1.2244494792996157, 1.2281603431095747, 1.2318712069195337, 1.2355820707294924, 1.2392929345394514, 1.2430037983494104, 1.2467146621593694, 1.2504255259693284, 1.2541363897792874, 1.2578472535892464, 1.2615581173992054, 1.2652689812091644, 1.2689798450191234, 1.2726907088290822, 1.2764015726390412, 1.2801124364490002, 1.2838233002589592, 1.2875341640689182, 1.2912450278788772, 1.294955891688836, 1.298666755498795, 1.302377619308754, 1.306088483118713, 1.309799346928672, 1.313510210738631, 1.31722107454859, 1.320931938358549, 1.324642802168508, 1.328353665978467, 1.332064529788426, 1.3357753935983847, 1.3394862574083437, 1.3431971212183027, 1.3469079850282617, 1.3506188488382205, 1.3543297126481795, 1.3580405764581385, 1.3617514402680975, 1.3654623040780565, 1.3691731678880155, 1.3728840316979745, 1.3765948955079335, 1.3803057593178925, 1.3840166231278515, 1.3877274869378105, 1.3914383507477694, 1.3951492145577282, 1.3988600783676872, 1.4025709421776462, 1.4062818059876052, 1.409992669797564, 1.413703533607523, 1.417414397417482, 1.421125261227441, 1.4248361250374, 1.428546988847359, 1.432257852657318, 1.435968716467277, 1.439679580277236, 1.443390444087195, 1.447101307897154, 1.450812171707113, 1.4545230355170717, 1.4582338993270307, 1.4619447631369897, 1.4656556269469487, 1.4693664907569075, 1.4730773545668665, 1.4767882183768255, 1.4804990821867845, 1.4842099459967435, 1.4879208098067025, 1.4916316736166615, 1.4953425374266205, 1.4990534012365795, 1.5027642650465385, 1.5064751288564975, 1.5101859926664565, 1.5138968564764155, 1.517607720286374, 1.521318584096333, 1.525029447906292, 1.528740311716251, 1.53245117552621, 1.536162039336169, 1.539872903146128, 1.543583766956087, 1.547294630766046, 1.551005494576005, 1.554716358385964, 1.558427222195923, 1.5621380860058818, 1.5658489498158408, 1.5695598136257998, 1.5732706774357588, 1.5769815412457175, 1.5806924050556765, 1.5844032688656355, 1.5881141326755945, 1.5918249964855535, 1.5955358602955125, 1.5992467241054715, 1.6029575879154305, 1.6066684517253895, 1.6103793155353485, 1.6140901793453075, 1.6178010431552665, 1.6215119069652253, 1.6252227707751843, 1.6289336345851433, 1.6326444983951023, 1.636355362205061, 1.64006622601502, 1.643777089824979, 1.647487953634938, 1.651198817444897, 1.654909681254856, 1.658620545064815, 1.662331408874774, 1.666042272684733, 1.669753136494692, 1.673464000304651, 1.67717486411461, 1.6808857279245688, 1.6845965917345278, 1.6883074555444868, 1.6920183193544458, 1.6957291831644046, 1.6994400469743636, 1.7031509107843226, 1.7068617745942816, 1.7105726384042406, 1.7142835022141996, 1.7179943660241586, 1.7217052298341176, 1.7254160936440766, 1.7291269574540356, 1.7328378212639945, 1.7365486850739535, 1.7402595488839123, 1.7439704126938713, 1.7476812765038303, 1.7513921403137893, 1.755103004123748, 1.758813867933707, 1.762524731743666, 1.766235595553625, 1.769946459363584, 1.773657323173543, 1.777368186983502, 1.781079050793461, 1.78478991460342, 1.788500778413379, 1.792211642223338, 1.795922506033297, 1.7996333698432558, 1.8033442336532148, 1.8070550974631736, 1.8107659612731326, 1.8144768250830916, 1.8181876888930506, 1.8218985527030096, 1.8256094165129686, 1.8293202803229276, 1.8330311441328866, 1.8367420079428456, 1.8404528717528046, 1.8441637355627636, 1.8478745993727226, 1.8515854631826816, 1.8552963269926406, 1.8590071908025996, 1.8627180546125586, 1.8664289184225171, 1.8701397822324761, 1.8738506460424351, 1.8775615098523941, 1.8812723736623531, 1.8849832374723121, 1.888694101282271, 1.89240496509223, 1.896115828902189, 1.899826692712148, 1.903537556522107, 1.907248420332066, 1.910959284142025, 1.914670147951984, 1.918381011761943, 1.922091875571902, 1.9258027393818606, 1.9295136031918196, 1.9332244670017786, 1.9369353308117376, 1.9406461946216966, 1.9443570584316556, 1.9480679222416146, 1.9517787860515736, 1.9554896498615326, 1.9592005136714916, 1.9629113774814506, 1.9666222412914096, 1.9703331051013686, 1.9740439689113276, 1.9777548327212866, 1.9814656965312456, 1.9851765603412042, 1.9888874241511632, 1.9925982879611221, 1.9963091517710811, 2.00002001558104, 2.003730879390999, 2.007441743200958, 2.011152607010917, 2.014863470820876, 2.018574334630835, 2.022285198440794, 2.025996062250753, 2.029706926060712, 2.033417789870671, 2.03712865368063, 2.040839517490589, 2.0445503813005477, 2.0482612451105067, 2.0519721089204657, 2.0556829727304247, 2.0593938365403837, 2.0631047003503427, 2.0668155641603017, 2.0705264279702607, 2.0742372917802196, 2.0779481555901786, 2.0816590194001376, 2.0853698832100966, 2.0890807470200556, 2.0927916108300146, 2.0965024746399736, 2.1002133384499326, 2.103924202259891, 2.10763506606985, 2.111345929879809, 2.115056793689768, 2.118767657499727, 2.122478521309686, 2.126189385119645, 2.129900248929604, 2.133611112739563, 2.137321976549522, 2.141032840359481, 2.14474370416944, 2.148454567979399, 2.152165431789358, 2.155876295599317, 2.159587159409276, 2.1632980232192347, 2.1670088870291937, 2.1707197508391527, 2.1744306146491117, 2.1781414784590707, 2.1818523422690297, 2.1855632060789887, 2.1892740698889477, 2.1929849336989067, 2.1966957975088657, 2.2004066613188247, 2.2041175251287837, 2.2078283889387427, 2.2115392527487017, 2.2152501165586607, 2.2189609803686197, 2.2226718441785787, 2.226382707988537, 2.230093571798496, 2.233804435608455, 2.237515299418414, 2.241226163228373, 2.244937027038332, 2.248647890848291, 2.2523587546582498, 2.2560696184682087, 2.2597804822781677, 2.2634913460881267, 2.2672022098980857, 2.2709130737080447, 2.2746239375180037, 2.2783348013279627, 2.2820456651379217, 2.2857565289478807, 2.2894673927578397, 2.2931782565677987, 2.2968891203777577, 2.3005999841877167, 2.3043108479976757, 2.3080217118076347, 2.3117325756175937, 2.3154434394275523, 2.3191543032375113, 2.3228651670474703, 2.3265760308574293, 2.3302868946673883, 2.3339977584773473, 2.3377086222873062, 2.3414194860972652, 2.3451303499072242, 2.3488412137171832, 2.3525520775271422, 2.3562629413371012, 2.3599738051470602, 2.3636846689570192, 2.3673955327669782, 2.3711063965769372, 2.374817260386896, 2.3785281241968548, 2.3822389880068138, 2.3859498518167728, 2.3896607156267318, 2.3933715794366908, 2.3970824432466498, 2.4007933070566088, 2.4045041708665678, 2.4082150346765268, 2.4119258984864858, 2.4156367622964448, 2.4193476261064037, 2.4230584899163627, 2.4267693537263217, 2.4304802175362807, 2.4341910813462393, 2.4379019451561983, 2.4416128089661573, 2.4453236727761163, 2.4490345365860753, 2.4527454003960343, 2.4564562642059933, 2.4601671280159523, 2.4638779918259113, 2.4675888556358703, 2.4712997194458293, 2.4750105832557883, 2.4787214470657473, 2.4824323108757063, 2.4861431746856653, 2.4898540384956243, 2.493564902305583, 2.497275766115542, 2.500986629925501, 2.50469749373546, 2.508408357545419, 2.512119221355378, 2.515830085165337, 2.519540948975296, 2.523251812785255, 2.526962676595214, 2.530673540405173, 2.534384404215132, 2.538095268025091, 2.5418061318350498, 2.5455169956450088, 2.5492278594549678, 2.5529387232649263, 2.5566495870748853, 2.5603604508848443, 2.5640713146948033, 2.5677821785047623, 2.5714930423147213, 2.5752039061246803, 2.5789147699346393, 2.5826256337445983, 2.5863364975545573, 2.5900473613645163, 2.5937582251744753, 2.5974690889844343, 2.6011799527943933, 2.6048908166043523, 2.6086016804143113, 2.61231254422427, 2.616023408034229, 2.619734271844188, 2.623445135654147, 2.627155999464106, 2.630866863274065, 2.634577727084024, 2.638288590893983, 2.641999454703942, 2.645710318513901, 2.64942118232386, 2.653132046133819, 2.656842909943778])\n",
              "              .range([&#x27;#ffffccff&#x27;, &#x27;#ffffccff&#x27;, &#x27;#ffffccff&#x27;, &#x27;#ffffccff&#x27;, &#x27;#ffffccff&#x27;, &#x27;#ffffccff&#x27;, &#x27;#ffffccff&#x27;, &#x27;#ffffccff&#x27;, &#x27;#ffffccff&#x27;, &#x27;#ffffccff&#x27;, &#x27;#ffffccff&#x27;, &#x27;#ffffccff&#x27;, &#x27;#ffffccff&#x27;, &#x27;#ffffccff&#x27;, &#x27;#ffffccff&#x27;, &#x27;#ffffccff&#x27;, &#x27;#ffffccff&#x27;, &#x27;#ffffccff&#x27;, &#x27;#ffffccff&#x27;, &#x27;#ffffccff&#x27;, &#x27;#ffffccff&#x27;, &#x27;#ffffccff&#x27;, &#x27;#ffffccff&#x27;, &#x27;#ffffccff&#x27;, &#x27;#ffffccff&#x27;, &#x27;#ffffccff&#x27;, &#x27;#ffffccff&#x27;, &#x27;#ffffccff&#x27;, &#x27;#ffffccff&#x27;, &#x27;#ffffccff&#x27;, &#x27;#ffffccff&#x27;, &#x27;#ffffccff&#x27;, &#x27;#ffffccff&#x27;, &#x27;#ffffccff&#x27;, &#x27;#ffffccff&#x27;, &#x27;#ffffccff&#x27;, &#x27;#ffffccff&#x27;, &#x27;#ffffccff&#x27;, &#x27;#ffffccff&#x27;, &#x27;#ffffccff&#x27;, &#x27;#ffffccff&#x27;, &#x27;#ffffccff&#x27;, &#x27;#ffffccff&#x27;, &#x27;#ffffccff&#x27;, &#x27;#ffffccff&#x27;, &#x27;#ffffccff&#x27;, &#x27;#ffffccff&#x27;, &#x27;#ffffccff&#x27;, &#x27;#ffffccff&#x27;, &#x27;#ffffccff&#x27;, &#x27;#ffffccff&#x27;, &#x27;#ffffccff&#x27;, &#x27;#ffffccff&#x27;, &#x27;#ffffccff&#x27;, &#x27;#ffffccff&#x27;, &#x27;#ffffccff&#x27;, &#x27;#ffffccff&#x27;, &#x27;#ffffccff&#x27;, &#x27;#ffffccff&#x27;, &#x27;#ffffccff&#x27;, &#x27;#ffffccff&#x27;, &#x27;#ffffccff&#x27;, &#x27;#ffffccff&#x27;, &#x27;#ffffccff&#x27;, &#x27;#ffffccff&#x27;, &#x27;#ffffccff&#x27;, &#x27;#ffffccff&#x27;, &#x27;#ffffccff&#x27;, &#x27;#ffffccff&#x27;, &#x27;#ffffccff&#x27;, &#x27;#ffffccff&#x27;, &#x27;#ffffccff&#x27;, &#x27;#ffffccff&#x27;, &#x27;#ffffccff&#x27;, &#x27;#ffffccff&#x27;, &#x27;#ffffccff&#x27;, &#x27;#ffffccff&#x27;, &#x27;#ffffccff&#x27;, &#x27;#ffffccff&#x27;, &#x27;#ffffccff&#x27;, &#x27;#ffffccff&#x27;, &#x27;#ffffccff&#x27;, &#x27;#ffffccff&#x27;, &#x27;#ffffccff&#x27;, &#x27;#d9f0a3ff&#x27;, &#x27;#d9f0a3ff&#x27;, &#x27;#d9f0a3ff&#x27;, &#x27;#d9f0a3ff&#x27;, &#x27;#d9f0a3ff&#x27;, &#x27;#d9f0a3ff&#x27;, &#x27;#d9f0a3ff&#x27;, &#x27;#d9f0a3ff&#x27;, &#x27;#d9f0a3ff&#x27;, &#x27;#d9f0a3ff&#x27;, &#x27;#d9f0a3ff&#x27;, &#x27;#d9f0a3ff&#x27;, &#x27;#d9f0a3ff&#x27;, &#x27;#d9f0a3ff&#x27;, &#x27;#d9f0a3ff&#x27;, &#x27;#d9f0a3ff&#x27;, &#x27;#d9f0a3ff&#x27;, &#x27;#d9f0a3ff&#x27;, &#x27;#d9f0a3ff&#x27;, &#x27;#d9f0a3ff&#x27;, &#x27;#d9f0a3ff&#x27;, &#x27;#d9f0a3ff&#x27;, &#x27;#d9f0a3ff&#x27;, &#x27;#d9f0a3ff&#x27;, &#x27;#d9f0a3ff&#x27;, &#x27;#d9f0a3ff&#x27;, &#x27;#d9f0a3ff&#x27;, &#x27;#d9f0a3ff&#x27;, &#x27;#d9f0a3ff&#x27;, &#x27;#d9f0a3ff&#x27;, &#x27;#d9f0a3ff&#x27;, &#x27;#d9f0a3ff&#x27;, &#x27;#d9f0a3ff&#x27;, &#x27;#d9f0a3ff&#x27;, &#x27;#d9f0a3ff&#x27;, &#x27;#d9f0a3ff&#x27;, &#x27;#d9f0a3ff&#x27;, &#x27;#d9f0a3ff&#x27;, &#x27;#d9f0a3ff&#x27;, &#x27;#d9f0a3ff&#x27;, &#x27;#d9f0a3ff&#x27;, &#x27;#d9f0a3ff&#x27;, &#x27;#d9f0a3ff&#x27;, &#x27;#d9f0a3ff&#x27;, &#x27;#d9f0a3ff&#x27;, &#x27;#d9f0a3ff&#x27;, &#x27;#d9f0a3ff&#x27;, &#x27;#d9f0a3ff&#x27;, &#x27;#d9f0a3ff&#x27;, &#x27;#d9f0a3ff&#x27;, &#x27;#d9f0a3ff&#x27;, &#x27;#d9f0a3ff&#x27;, &#x27;#d9f0a3ff&#x27;, &#x27;#d9f0a3ff&#x27;, &#x27;#d9f0a3ff&#x27;, &#x27;#d9f0a3ff&#x27;, &#x27;#d9f0a3ff&#x27;, &#x27;#d9f0a3ff&#x27;, &#x27;#d9f0a3ff&#x27;, &#x27;#d9f0a3ff&#x27;, &#x27;#d9f0a3ff&#x27;, &#x27;#d9f0a3ff&#x27;, &#x27;#d9f0a3ff&#x27;, &#x27;#d9f0a3ff&#x27;, &#x27;#d9f0a3ff&#x27;, &#x27;#d9f0a3ff&#x27;, &#x27;#d9f0a3ff&#x27;, &#x27;#d9f0a3ff&#x27;, &#x27;#d9f0a3ff&#x27;, &#x27;#d9f0a3ff&#x27;, &#x27;#d9f0a3ff&#x27;, &#x27;#d9f0a3ff&#x27;, &#x27;#d9f0a3ff&#x27;, &#x27;#d9f0a3ff&#x27;, &#x27;#d9f0a3ff&#x27;, &#x27;#d9f0a3ff&#x27;, &#x27;#d9f0a3ff&#x27;, &#x27;#d9f0a3ff&#x27;, &#x27;#d9f0a3ff&#x27;, &#x27;#d9f0a3ff&#x27;, &#x27;#d9f0a3ff&#x27;, &#x27;#d9f0a3ff&#x27;, &#x27;#d9f0a3ff&#x27;, &#x27;#addd8eff&#x27;, &#x27;#addd8eff&#x27;, &#x27;#addd8eff&#x27;, &#x27;#addd8eff&#x27;, &#x27;#addd8eff&#x27;, &#x27;#addd8eff&#x27;, &#x27;#addd8eff&#x27;, &#x27;#addd8eff&#x27;, &#x27;#addd8eff&#x27;, &#x27;#addd8eff&#x27;, &#x27;#addd8eff&#x27;, &#x27;#addd8eff&#x27;, &#x27;#addd8eff&#x27;, &#x27;#addd8eff&#x27;, &#x27;#addd8eff&#x27;, &#x27;#addd8eff&#x27;, &#x27;#addd8eff&#x27;, &#x27;#addd8eff&#x27;, &#x27;#addd8eff&#x27;, &#x27;#addd8eff&#x27;, &#x27;#addd8eff&#x27;, &#x27;#addd8eff&#x27;, &#x27;#addd8eff&#x27;, &#x27;#addd8eff&#x27;, &#x27;#addd8eff&#x27;, &#x27;#addd8eff&#x27;, &#x27;#addd8eff&#x27;, &#x27;#addd8eff&#x27;, &#x27;#addd8eff&#x27;, &#x27;#addd8eff&#x27;, &#x27;#addd8eff&#x27;, &#x27;#addd8eff&#x27;, &#x27;#addd8eff&#x27;, &#x27;#addd8eff&#x27;, &#x27;#addd8eff&#x27;, &#x27;#addd8eff&#x27;, &#x27;#addd8eff&#x27;, &#x27;#addd8eff&#x27;, &#x27;#addd8eff&#x27;, &#x27;#addd8eff&#x27;, &#x27;#addd8eff&#x27;, &#x27;#addd8eff&#x27;, &#x27;#addd8eff&#x27;, &#x27;#addd8eff&#x27;, &#x27;#addd8eff&#x27;, &#x27;#addd8eff&#x27;, &#x27;#addd8eff&#x27;, &#x27;#addd8eff&#x27;, &#x27;#addd8eff&#x27;, &#x27;#addd8eff&#x27;, &#x27;#addd8eff&#x27;, &#x27;#addd8eff&#x27;, &#x27;#addd8eff&#x27;, &#x27;#addd8eff&#x27;, &#x27;#addd8eff&#x27;, &#x27;#addd8eff&#x27;, &#x27;#addd8eff&#x27;, &#x27;#addd8eff&#x27;, &#x27;#addd8eff&#x27;, &#x27;#addd8eff&#x27;, &#x27;#addd8eff&#x27;, &#x27;#addd8eff&#x27;, &#x27;#addd8eff&#x27;, &#x27;#addd8eff&#x27;, &#x27;#addd8eff&#x27;, &#x27;#addd8eff&#x27;, &#x27;#addd8eff&#x27;, &#x27;#addd8eff&#x27;, &#x27;#addd8eff&#x27;, &#x27;#addd8eff&#x27;, &#x27;#addd8eff&#x27;, &#x27;#addd8eff&#x27;, &#x27;#addd8eff&#x27;, &#x27;#addd8eff&#x27;, &#x27;#addd8eff&#x27;, &#x27;#addd8eff&#x27;, &#x27;#addd8eff&#x27;, &#x27;#addd8eff&#x27;, &#x27;#addd8eff&#x27;, &#x27;#addd8eff&#x27;, &#x27;#addd8eff&#x27;, &#x27;#addd8eff&#x27;, &#x27;#addd8eff&#x27;, &#x27;#78c679ff&#x27;, &#x27;#78c679ff&#x27;, &#x27;#78c679ff&#x27;, &#x27;#78c679ff&#x27;, &#x27;#78c679ff&#x27;, &#x27;#78c679ff&#x27;, &#x27;#78c679ff&#x27;, &#x27;#78c679ff&#x27;, &#x27;#78c679ff&#x27;, &#x27;#78c679ff&#x27;, &#x27;#78c679ff&#x27;, &#x27;#78c679ff&#x27;, &#x27;#78c679ff&#x27;, &#x27;#78c679ff&#x27;, &#x27;#78c679ff&#x27;, &#x27;#78c679ff&#x27;, &#x27;#78c679ff&#x27;, &#x27;#78c679ff&#x27;, &#x27;#78c679ff&#x27;, &#x27;#78c679ff&#x27;, &#x27;#78c679ff&#x27;, &#x27;#78c679ff&#x27;, &#x27;#78c679ff&#x27;, &#x27;#78c679ff&#x27;, &#x27;#78c679ff&#x27;, &#x27;#78c679ff&#x27;, &#x27;#78c679ff&#x27;, &#x27;#78c679ff&#x27;, &#x27;#78c679ff&#x27;, &#x27;#78c679ff&#x27;, &#x27;#78c679ff&#x27;, &#x27;#78c679ff&#x27;, &#x27;#78c679ff&#x27;, &#x27;#78c679ff&#x27;, &#x27;#78c679ff&#x27;, &#x27;#78c679ff&#x27;, &#x27;#78c679ff&#x27;, &#x27;#78c679ff&#x27;, &#x27;#78c679ff&#x27;, &#x27;#78c679ff&#x27;, &#x27;#78c679ff&#x27;, &#x27;#78c679ff&#x27;, &#x27;#78c679ff&#x27;, &#x27;#78c679ff&#x27;, &#x27;#78c679ff&#x27;, &#x27;#78c679ff&#x27;, &#x27;#78c679ff&#x27;, &#x27;#78c679ff&#x27;, &#x27;#78c679ff&#x27;, &#x27;#78c679ff&#x27;, &#x27;#78c679ff&#x27;, &#x27;#78c679ff&#x27;, &#x27;#78c679ff&#x27;, &#x27;#78c679ff&#x27;, &#x27;#78c679ff&#x27;, &#x27;#78c679ff&#x27;, &#x27;#78c679ff&#x27;, &#x27;#78c679ff&#x27;, &#x27;#78c679ff&#x27;, &#x27;#78c679ff&#x27;, &#x27;#78c679ff&#x27;, &#x27;#78c679ff&#x27;, &#x27;#78c679ff&#x27;, &#x27;#78c679ff&#x27;, &#x27;#78c679ff&#x27;, &#x27;#78c679ff&#x27;, &#x27;#78c679ff&#x27;, &#x27;#78c679ff&#x27;, &#x27;#78c679ff&#x27;, &#x27;#78c679ff&#x27;, &#x27;#78c679ff&#x27;, &#x27;#78c679ff&#x27;, &#x27;#78c679ff&#x27;, &#x27;#78c679ff&#x27;, &#x27;#78c679ff&#x27;, &#x27;#78c679ff&#x27;, &#x27;#78c679ff&#x27;, &#x27;#78c679ff&#x27;, &#x27;#78c679ff&#x27;, &#x27;#78c679ff&#x27;, &#x27;#78c679ff&#x27;, &#x27;#78c679ff&#x27;, &#x27;#78c679ff&#x27;, &#x27;#31a354ff&#x27;, &#x27;#31a354ff&#x27;, &#x27;#31a354ff&#x27;, &#x27;#31a354ff&#x27;, &#x27;#31a354ff&#x27;, &#x27;#31a354ff&#x27;, &#x27;#31a354ff&#x27;, &#x27;#31a354ff&#x27;, &#x27;#31a354ff&#x27;, &#x27;#31a354ff&#x27;, &#x27;#31a354ff&#x27;, &#x27;#31a354ff&#x27;, &#x27;#31a354ff&#x27;, &#x27;#31a354ff&#x27;, &#x27;#31a354ff&#x27;, &#x27;#31a354ff&#x27;, &#x27;#31a354ff&#x27;, &#x27;#31a354ff&#x27;, &#x27;#31a354ff&#x27;, &#x27;#31a354ff&#x27;, &#x27;#31a354ff&#x27;, &#x27;#31a354ff&#x27;, &#x27;#31a354ff&#x27;, &#x27;#31a354ff&#x27;, &#x27;#31a354ff&#x27;, &#x27;#31a354ff&#x27;, &#x27;#31a354ff&#x27;, &#x27;#31a354ff&#x27;, &#x27;#31a354ff&#x27;, &#x27;#31a354ff&#x27;, &#x27;#31a354ff&#x27;, &#x27;#31a354ff&#x27;, &#x27;#31a354ff&#x27;, &#x27;#31a354ff&#x27;, &#x27;#31a354ff&#x27;, &#x27;#31a354ff&#x27;, &#x27;#31a354ff&#x27;, &#x27;#31a354ff&#x27;, &#x27;#31a354ff&#x27;, &#x27;#31a354ff&#x27;, &#x27;#31a354ff&#x27;, &#x27;#31a354ff&#x27;, &#x27;#31a354ff&#x27;, &#x27;#31a354ff&#x27;, &#x27;#31a354ff&#x27;, &#x27;#31a354ff&#x27;, &#x27;#31a354ff&#x27;, &#x27;#31a354ff&#x27;, &#x27;#31a354ff&#x27;, &#x27;#31a354ff&#x27;, &#x27;#31a354ff&#x27;, &#x27;#31a354ff&#x27;, &#x27;#31a354ff&#x27;, &#x27;#31a354ff&#x27;, &#x27;#31a354ff&#x27;, &#x27;#31a354ff&#x27;, &#x27;#31a354ff&#x27;, &#x27;#31a354ff&#x27;, &#x27;#31a354ff&#x27;, &#x27;#31a354ff&#x27;, &#x27;#31a354ff&#x27;, &#x27;#31a354ff&#x27;, &#x27;#31a354ff&#x27;, &#x27;#31a354ff&#x27;, &#x27;#31a354ff&#x27;, &#x27;#31a354ff&#x27;, &#x27;#31a354ff&#x27;, &#x27;#31a354ff&#x27;, &#x27;#31a354ff&#x27;, &#x27;#31a354ff&#x27;, &#x27;#31a354ff&#x27;, &#x27;#31a354ff&#x27;, &#x27;#31a354ff&#x27;, &#x27;#31a354ff&#x27;, &#x27;#31a354ff&#x27;, &#x27;#31a354ff&#x27;, &#x27;#31a354ff&#x27;, &#x27;#31a354ff&#x27;, &#x27;#31a354ff&#x27;, &#x27;#31a354ff&#x27;, &#x27;#31a354ff&#x27;, &#x27;#31a354ff&#x27;, &#x27;#31a354ff&#x27;, &#x27;#006837ff&#x27;, &#x27;#006837ff&#x27;, &#x27;#006837ff&#x27;, &#x27;#006837ff&#x27;, &#x27;#006837ff&#x27;, &#x27;#006837ff&#x27;, &#x27;#006837ff&#x27;, &#x27;#006837ff&#x27;, &#x27;#006837ff&#x27;, &#x27;#006837ff&#x27;, &#x27;#006837ff&#x27;, &#x27;#006837ff&#x27;, &#x27;#006837ff&#x27;, &#x27;#006837ff&#x27;, &#x27;#006837ff&#x27;, &#x27;#006837ff&#x27;, &#x27;#006837ff&#x27;, &#x27;#006837ff&#x27;, &#x27;#006837ff&#x27;, &#x27;#006837ff&#x27;, &#x27;#006837ff&#x27;, &#x27;#006837ff&#x27;, &#x27;#006837ff&#x27;, &#x27;#006837ff&#x27;, &#x27;#006837ff&#x27;, &#x27;#006837ff&#x27;, &#x27;#006837ff&#x27;, &#x27;#006837ff&#x27;, &#x27;#006837ff&#x27;, &#x27;#006837ff&#x27;, &#x27;#006837ff&#x27;, &#x27;#006837ff&#x27;, &#x27;#006837ff&#x27;, &#x27;#006837ff&#x27;, &#x27;#006837ff&#x27;, &#x27;#006837ff&#x27;, &#x27;#006837ff&#x27;, &#x27;#006837ff&#x27;, &#x27;#006837ff&#x27;, &#x27;#006837ff&#x27;, &#x27;#006837ff&#x27;, &#x27;#006837ff&#x27;, &#x27;#006837ff&#x27;, &#x27;#006837ff&#x27;, &#x27;#006837ff&#x27;, &#x27;#006837ff&#x27;, &#x27;#006837ff&#x27;, &#x27;#006837ff&#x27;, &#x27;#006837ff&#x27;, &#x27;#006837ff&#x27;, &#x27;#006837ff&#x27;, &#x27;#006837ff&#x27;, &#x27;#006837ff&#x27;, &#x27;#006837ff&#x27;, &#x27;#006837ff&#x27;, &#x27;#006837ff&#x27;, &#x27;#006837ff&#x27;, &#x27;#006837ff&#x27;, &#x27;#006837ff&#x27;, &#x27;#006837ff&#x27;, &#x27;#006837ff&#x27;, &#x27;#006837ff&#x27;, &#x27;#006837ff&#x27;, &#x27;#006837ff&#x27;, &#x27;#006837ff&#x27;, &#x27;#006837ff&#x27;, &#x27;#006837ff&#x27;, &#x27;#006837ff&#x27;, &#x27;#006837ff&#x27;, &#x27;#006837ff&#x27;, &#x27;#006837ff&#x27;, &#x27;#006837ff&#x27;, &#x27;#006837ff&#x27;, &#x27;#006837ff&#x27;, &#x27;#006837ff&#x27;, &#x27;#006837ff&#x27;, &#x27;#006837ff&#x27;, &#x27;#006837ff&#x27;, &#x27;#006837ff&#x27;, &#x27;#006837ff&#x27;, &#x27;#006837ff&#x27;, &#x27;#006837ff&#x27;, &#x27;#006837ff&#x27;, &#x27;#006837ff&#x27;]);\n",
              "    \n",
              "\n",
              "    color_map_9e29189379c6dff037f4947eaf1f0ccd.x = d3.scale.linear()\n",
              "              .domain([0.8051218687742522, 2.656842909943778])\n",
              "              .range([0, 450 - 50]);\n",
              "\n",
              "    color_map_9e29189379c6dff037f4947eaf1f0ccd.legend = L.control({position: &#x27;topright&#x27;});\n",
              "    color_map_9e29189379c6dff037f4947eaf1f0ccd.legend.onAdd = function (map) {var div = L.DomUtil.create(&#x27;div&#x27;, &#x27;legend&#x27;); return div};\n",
              "    color_map_9e29189379c6dff037f4947eaf1f0ccd.legend.addTo(map_6b937be46f2a1a91b0a218624a6716cc);\n",
              "\n",
              "    color_map_9e29189379c6dff037f4947eaf1f0ccd.xAxis = d3.svg.axis()\n",
              "        .scale(color_map_9e29189379c6dff037f4947eaf1f0ccd.x)\n",
              "        .orient(&quot;top&quot;)\n",
              "        .tickSize(1)\n",
              "        .tickValues([0.8051218687742522, 1.1137420423025064, 1.4223622158307607, 1.7309823893590148, 2.039602562887269, 2.3482227364155235, 2.656842909943778]);\n",
              "\n",
              "    color_map_9e29189379c6dff037f4947eaf1f0ccd.svg = d3.select(&quot;.legend.leaflet-control&quot;).append(&quot;svg&quot;)\n",
              "        .attr(&quot;id&quot;, &#x27;legend&#x27;)\n",
              "        .attr(&quot;width&quot;, 450)\n",
              "        .attr(&quot;height&quot;, 40);\n",
              "\n",
              "    color_map_9e29189379c6dff037f4947eaf1f0ccd.g = color_map_9e29189379c6dff037f4947eaf1f0ccd.svg.append(&quot;g&quot;)\n",
              "        .attr(&quot;class&quot;, &quot;key&quot;)\n",
              "        .attr(&quot;transform&quot;, &quot;translate(25,16)&quot;);\n",
              "\n",
              "    color_map_9e29189379c6dff037f4947eaf1f0ccd.g.selectAll(&quot;rect&quot;)\n",
              "        .data(color_map_9e29189379c6dff037f4947eaf1f0ccd.color.range().map(function(d, i) {\n",
              "          return {\n",
              "            x0: i ? color_map_9e29189379c6dff037f4947eaf1f0ccd.x(color_map_9e29189379c6dff037f4947eaf1f0ccd.color.domain()[i - 1]) : color_map_9e29189379c6dff037f4947eaf1f0ccd.x.range()[0],\n",
              "            x1: i &lt; color_map_9e29189379c6dff037f4947eaf1f0ccd.color.domain().length ? color_map_9e29189379c6dff037f4947eaf1f0ccd.x(color_map_9e29189379c6dff037f4947eaf1f0ccd.color.domain()[i]) : color_map_9e29189379c6dff037f4947eaf1f0ccd.x.range()[1],\n",
              "            z: d\n",
              "          };\n",
              "        }))\n",
              "      .enter().append(&quot;rect&quot;)\n",
              "        .attr(&quot;height&quot;, 40 - 30)\n",
              "        .attr(&quot;x&quot;, function(d) { return d.x0; })\n",
              "        .attr(&quot;width&quot;, function(d) { return d.x1 - d.x0; })\n",
              "        .style(&quot;fill&quot;, function(d) { return d.z; });\n",
              "\n",
              "    color_map_9e29189379c6dff037f4947eaf1f0ccd.g.call(color_map_9e29189379c6dff037f4947eaf1f0ccd.xAxis).append(&quot;text&quot;)\n",
              "        .attr(&quot;class&quot;, &quot;caption&quot;)\n",
              "        .attr(&quot;y&quot;, 21)\n",
              "        .text(&quot;Price per Sqft&quot;);\n",
              "    \n",
              "            var layer_control_49592430262a852654f953c6bb723f63 = {\n",
              "                base_layers : {\n",
              "                    &quot;cartodbpositron&quot; : tile_layer_15898e46c81e053ef3bc22b75cc60862,\n",
              "                },\n",
              "                overlays :  {\n",
              "                    &quot;macro_element_6ace663c92cebf78b372fe2f76d820db&quot; : choropleth_6ace663c92cebf78b372fe2f76d820db,\n",
              "                },\n",
              "            };\n",
              "            L.control.layers(\n",
              "                layer_control_49592430262a852654f953c6bb723f63.base_layers,\n",
              "                layer_control_49592430262a852654f953c6bb723f63.overlays,\n",
              "                {&quot;autoZIndex&quot;: true, &quot;collapsed&quot;: true, &quot;position&quot;: &quot;topright&quot;}\n",
              "            ).addTo(map_6b937be46f2a1a91b0a218624a6716cc);\n",
              "        \n",
              "&lt;/script&gt;\n",
              "&lt;/html&gt;\" style=\"position:absolute;width:100%;height:100%;left:0;top:0;border:none !important;\" allowfullscreen webkitallowfullscreen mozallowfullscreen></iframe></div></div>"
            ]
          },
          "metadata": {},
          "execution_count": 67
        }
      ]
    },
    {
      "cell_type": "markdown",
      "source": [
        "Coastal states have a relatively higher average price per unit area than the central states due to the rapid migration of working class to these states which has probably resulted in the higher demand for accomadation. The central and the northern states due to various geographical and economical factors have lower average prices per unit area."
      ],
      "metadata": {
        "id": "BL6znoDmAdSq"
      }
    },
    {
      "cell_type": "code",
      "source": [
        "jovian.commit()"
      ],
      "metadata": {
        "colab": {
          "base_uri": "https://localhost:8080/"
        },
        "id": "c14Q2RJ9P8uN",
        "outputId": "32c9b846-b176-48f7-8e9d-4ec94e8595ed"
      },
      "execution_count": 68,
      "outputs": [
        {
          "output_type": "stream",
          "name": "stdout",
          "text": [
            "[jovian] Detected Colab notebook...\u001b[0m\n",
            "[jovian] jovian.commit() is no longer required on Google Colab. If you ran this notebook from Jovian, \n",
            "then just save this file in Colab using Ctrl+S/Cmd+S and it will be updated on Jovian. \n",
            "Also, you can also delete this cell, it's no longer necessary.\u001b[0m\n"
          ]
        }
      ]
    },
    {
      "cell_type": "code",
      "source": [],
      "metadata": {
        "id": "XvKd51yviu7C"
      },
      "execution_count": 67,
      "outputs": []
    },
    {
      "cell_type": "code",
      "source": [],
      "metadata": {
        "id": "TRs4jDZNixUe"
      },
      "execution_count": 67,
      "outputs": []
    },
    {
      "cell_type": "code",
      "source": [],
      "metadata": {
        "id": "loHps5LURwvJ"
      },
      "execution_count": 67,
      "outputs": []
    },
    {
      "cell_type": "code",
      "source": [],
      "metadata": {
        "id": "VaN0G8wiRwxy"
      },
      "execution_count": 67,
      "outputs": []
    }
  ]
}